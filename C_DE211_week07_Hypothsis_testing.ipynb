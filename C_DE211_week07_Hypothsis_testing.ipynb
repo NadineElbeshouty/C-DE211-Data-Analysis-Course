{
  "cells": [
    {
      "cell_type": "markdown",
      "id": "3754722d",
      "metadata": {
        "id": "3754722d"
      },
      "source": [
        "## What is Hypothesis Testing?\n",
        "Hypothesis testing is an essential part in inferential statistics where we use observed data in a sample to draw conclusions about unobserved data - often the population."
      ]
    },
    {
      "cell_type": "markdown",
      "id": "60e0783a",
      "metadata": {
        "id": "60e0783a"
      },
      "source": [
        "## 4 Steps in Hypothesis testing\n",
        "### Step 1. Define null and alternative hypothesis\n",
        "Null hypothesis (H0) can be stated differently depends on the statistical tests, but generalize to the claim that no difference, no relationship or no dependency exists between two or more variables.\n",
        "\n",
        "Alternative hypothesis (H1) is contradictory to the null hypothesis and it claims that relationships exist. It is the hypothesis that we would like to prove right. However, a more conservational approach is favored in statistics where we always assume null hypothesis is true and try to find evidence to reject the null hypothesis."
      ]
    },
    {
      "cell_type": "markdown",
      "id": "df1393d4",
      "metadata": {
        "id": "df1393d4"
      },
      "source": [
        "### Step 2. Choose the appropriate test\n",
        "Common Types of Statistical Testing including t-tests, z-tests, anova test and chi-square test\n",
        "\n",
        "how to choose the statistical test\n",
        "\n",
        "T-test: compare two groups/categories of numeric variables with small sample size\n",
        "\n",
        "Z-test: compare two groups/categories of numeric variables with large sample size\n",
        "\n",
        "ANOVA test: compare the difference between two or more groups/categories of numeric variables\n",
        "\n",
        "Chi-Squared test: examine the relationship between two categorical variables\n",
        "\n",
        "Correlation test: examine the relationship between two numeric variables"
      ]
    },
    {
      "cell_type": "markdown",
      "id": "044b21f1",
      "metadata": {
        "id": "044b21f1"
      },
      "source": [
        "### Step 3. Calculate the p-value\n",
        "How p value is calculated primarily depends on the statistical testing selected. Firstly, based on the mean and standard deviation of the observed sample data, we are able to derive the test statistics value (e.g. t-statistics, f-statistics). Then calculate the probability of getting this test statistics given the distribution of the null hypothesis, we will find out the p-value. We will use some examples to demonstrate this in more detail.\n",
        "\n",
        "\n",
        "### Step 4. Determine the statistical significance\n",
        "p value is then compared against the significance level (also noted as alpha value) to determine whether there is sufficient evidence to reject the null hypothesis. The significance level is a predetermined probability threshold - commonly 0.05. If p value is larger than the threshold, it means that the value is likely to occur in the distribution when the null hypothesis is true. On the other hand, if lower than significance level, it means it is very unlikely to occur in the null hypothesis distribution - hence reject the null hypothesis."
      ]
    },
    {
      "cell_type": "markdown",
      "id": "8bcdff20",
      "metadata": {
        "id": "8bcdff20"
      },
      "source": [
        "#### Kaggle dataset “Customer Personality Analysis” is used in this case study to demonstrate different types of statistical test. T-test, ANOVA and Chi-Square test are sensitive to large sample size, and almost certainly will generate very small p-value when sample size is large ."
      ]
    },
    {
      "cell_type": "code",
      "execution_count": null,
      "id": "42399aaf",
      "metadata": {
        "id": "42399aaf"
      },
      "outputs": [],
      "source": [
        "import numpy as np # linear algebra\n",
        "import pandas as pd # data processing, CSV file I/O (e.g. pd.read_csv)\n",
        "import matplotlib.pyplot as plt\n",
        "plt.style.use(\"seaborn-whitegrid\")\n",
        "import seaborn as sns\n",
        "import scipy"
      ]
    },
    {
      "cell_type": "code",
      "execution_count": null,
      "id": "1828f821",
      "metadata": {
        "id": "1828f821"
      },
      "outputs": [],
      "source": [
        "df= pd.read_csv(\"marketing_campaign.csv\", sep='\\t')"
      ]
    },
    {
      "cell_type": "code",
      "execution_count": null,
      "id": "f537599f",
      "metadata": {
        "id": "f537599f",
        "outputId": "5e796caa-57bd-4015-9904-8b28f4036708"
      },
      "outputs": [
        {
          "data": {
            "text/html": [
              "<div>\n",
              "<style scoped>\n",
              "    .dataframe tbody tr th:only-of-type {\n",
              "        vertical-align: middle;\n",
              "    }\n",
              "\n",
              "    .dataframe tbody tr th {\n",
              "        vertical-align: top;\n",
              "    }\n",
              "\n",
              "    .dataframe thead th {\n",
              "        text-align: right;\n",
              "    }\n",
              "</style>\n",
              "<table border=\"1\" class=\"dataframe\">\n",
              "  <thead>\n",
              "    <tr style=\"text-align: right;\">\n",
              "      <th></th>\n",
              "      <th>ID</th>\n",
              "      <th>Year_Birth</th>\n",
              "      <th>Education</th>\n",
              "      <th>Marital_Status</th>\n",
              "      <th>Income</th>\n",
              "      <th>Kidhome</th>\n",
              "      <th>Teenhome</th>\n",
              "      <th>Dt_Customer</th>\n",
              "      <th>Recency</th>\n",
              "      <th>MntWines</th>\n",
              "      <th>...</th>\n",
              "      <th>NumWebVisitsMonth</th>\n",
              "      <th>AcceptedCmp3</th>\n",
              "      <th>AcceptedCmp4</th>\n",
              "      <th>AcceptedCmp5</th>\n",
              "      <th>AcceptedCmp1</th>\n",
              "      <th>AcceptedCmp2</th>\n",
              "      <th>Complain</th>\n",
              "      <th>Z_CostContact</th>\n",
              "      <th>Z_Revenue</th>\n",
              "      <th>Response</th>\n",
              "    </tr>\n",
              "  </thead>\n",
              "  <tbody>\n",
              "    <tr>\n",
              "      <th>0</th>\n",
              "      <td>5524</td>\n",
              "      <td>1957</td>\n",
              "      <td>Graduation</td>\n",
              "      <td>Single</td>\n",
              "      <td>58138.0</td>\n",
              "      <td>0</td>\n",
              "      <td>0</td>\n",
              "      <td>04-09-2012</td>\n",
              "      <td>58</td>\n",
              "      <td>635</td>\n",
              "      <td>...</td>\n",
              "      <td>7</td>\n",
              "      <td>0</td>\n",
              "      <td>0</td>\n",
              "      <td>0</td>\n",
              "      <td>0</td>\n",
              "      <td>0</td>\n",
              "      <td>0</td>\n",
              "      <td>3</td>\n",
              "      <td>11</td>\n",
              "      <td>1</td>\n",
              "    </tr>\n",
              "    <tr>\n",
              "      <th>1</th>\n",
              "      <td>2174</td>\n",
              "      <td>1954</td>\n",
              "      <td>Graduation</td>\n",
              "      <td>Single</td>\n",
              "      <td>46344.0</td>\n",
              "      <td>1</td>\n",
              "      <td>1</td>\n",
              "      <td>08-03-2014</td>\n",
              "      <td>38</td>\n",
              "      <td>11</td>\n",
              "      <td>...</td>\n",
              "      <td>5</td>\n",
              "      <td>0</td>\n",
              "      <td>0</td>\n",
              "      <td>0</td>\n",
              "      <td>0</td>\n",
              "      <td>0</td>\n",
              "      <td>0</td>\n",
              "      <td>3</td>\n",
              "      <td>11</td>\n",
              "      <td>0</td>\n",
              "    </tr>\n",
              "    <tr>\n",
              "      <th>2</th>\n",
              "      <td>4141</td>\n",
              "      <td>1965</td>\n",
              "      <td>Graduation</td>\n",
              "      <td>Together</td>\n",
              "      <td>71613.0</td>\n",
              "      <td>0</td>\n",
              "      <td>0</td>\n",
              "      <td>21-08-2013</td>\n",
              "      <td>26</td>\n",
              "      <td>426</td>\n",
              "      <td>...</td>\n",
              "      <td>4</td>\n",
              "      <td>0</td>\n",
              "      <td>0</td>\n",
              "      <td>0</td>\n",
              "      <td>0</td>\n",
              "      <td>0</td>\n",
              "      <td>0</td>\n",
              "      <td>3</td>\n",
              "      <td>11</td>\n",
              "      <td>0</td>\n",
              "    </tr>\n",
              "    <tr>\n",
              "      <th>3</th>\n",
              "      <td>6182</td>\n",
              "      <td>1984</td>\n",
              "      <td>Graduation</td>\n",
              "      <td>Together</td>\n",
              "      <td>26646.0</td>\n",
              "      <td>1</td>\n",
              "      <td>0</td>\n",
              "      <td>10-02-2014</td>\n",
              "      <td>26</td>\n",
              "      <td>11</td>\n",
              "      <td>...</td>\n",
              "      <td>6</td>\n",
              "      <td>0</td>\n",
              "      <td>0</td>\n",
              "      <td>0</td>\n",
              "      <td>0</td>\n",
              "      <td>0</td>\n",
              "      <td>0</td>\n",
              "      <td>3</td>\n",
              "      <td>11</td>\n",
              "      <td>0</td>\n",
              "    </tr>\n",
              "    <tr>\n",
              "      <th>4</th>\n",
              "      <td>5324</td>\n",
              "      <td>1981</td>\n",
              "      <td>PhD</td>\n",
              "      <td>Married</td>\n",
              "      <td>58293.0</td>\n",
              "      <td>1</td>\n",
              "      <td>0</td>\n",
              "      <td>19-01-2014</td>\n",
              "      <td>94</td>\n",
              "      <td>173</td>\n",
              "      <td>...</td>\n",
              "      <td>5</td>\n",
              "      <td>0</td>\n",
              "      <td>0</td>\n",
              "      <td>0</td>\n",
              "      <td>0</td>\n",
              "      <td>0</td>\n",
              "      <td>0</td>\n",
              "      <td>3</td>\n",
              "      <td>11</td>\n",
              "      <td>0</td>\n",
              "    </tr>\n",
              "  </tbody>\n",
              "</table>\n",
              "<p>5 rows × 29 columns</p>\n",
              "</div>"
            ],
            "text/plain": [
              "     ID  Year_Birth   Education Marital_Status   Income  Kidhome  Teenhome  \\\n",
              "0  5524        1957  Graduation         Single  58138.0        0         0   \n",
              "1  2174        1954  Graduation         Single  46344.0        1         1   \n",
              "2  4141        1965  Graduation       Together  71613.0        0         0   \n",
              "3  6182        1984  Graduation       Together  26646.0        1         0   \n",
              "4  5324        1981         PhD        Married  58293.0        1         0   \n",
              "\n",
              "  Dt_Customer  Recency  MntWines  ...  NumWebVisitsMonth  AcceptedCmp3  \\\n",
              "0  04-09-2012       58       635  ...                  7             0   \n",
              "1  08-03-2014       38        11  ...                  5             0   \n",
              "2  21-08-2013       26       426  ...                  4             0   \n",
              "3  10-02-2014       26        11  ...                  6             0   \n",
              "4  19-01-2014       94       173  ...                  5             0   \n",
              "\n",
              "   AcceptedCmp4  AcceptedCmp5  AcceptedCmp1  AcceptedCmp2  Complain  \\\n",
              "0             0             0             0             0         0   \n",
              "1             0             0             0             0         0   \n",
              "2             0             0             0             0         0   \n",
              "3             0             0             0             0         0   \n",
              "4             0             0             0             0         0   \n",
              "\n",
              "   Z_CostContact  Z_Revenue  Response  \n",
              "0              3         11         1  \n",
              "1              3         11         0  \n",
              "2              3         11         0  \n",
              "3              3         11         0  \n",
              "4              3         11         0  \n",
              "\n",
              "[5 rows x 29 columns]"
            ]
          },
          "execution_count": 3,
          "metadata": {},
          "output_type": "execute_result"
        }
      ],
      "source": [
        "df.head(5)"
      ]
    },
    {
      "cell_type": "markdown",
      "id": "87cc2dca",
      "metadata": {
        "id": "87cc2dca"
      },
      "source": [
        "#####  Therefore, I took a random sample (size of 100) from the original data:"
      ]
    },
    {
      "cell_type": "code",
      "execution_count": null,
      "id": "2e7ba4fe",
      "metadata": {
        "id": "2e7ba4fe"
      },
      "outputs": [],
      "source": [
        "sampled_df = df.sample(n=100, random_state=100)\n"
      ]
    },
    {
      "cell_type": "markdown",
      "id": "47b0b9d9",
      "metadata": {
        "id": "47b0b9d9"
      },
      "source": [
        "## T-Test\n",
        "T-test is used when we want to test the relationship between a numeric variable and a categorical variable.There are three main types of t-test.\n",
        "\n",
        "### one sample t-test: test the mean of one group against a constant value\n",
        "\n",
        "### two sample t-test: test the difference of means between two groups\n",
        "\n",
        "### paired sample t-test: test the difference of means between two measurements of the same subject\n",
        "\n",
        "For example, if I would like to test whether “Recency” (the number of days since customer’s last purchase - numeric value) contributes to the prediction of “Response” (whether the customer accepted the offer in the last campaign - categorical value), I can use a two sample t-test.\n",
        "\n",
        "The first sample would be the “Recency” of customers who accepted the offer:"
      ]
    },
    {
      "cell_type": "code",
      "execution_count": null,
      "id": "10f3aaec",
      "metadata": {
        "id": "10f3aaec"
      },
      "outputs": [],
      "source": [
        "recency_P = sampled_df[sampled_df['Response']==1]['Recency']"
      ]
    },
    {
      "cell_type": "markdown",
      "id": "0fe7b77a",
      "metadata": {
        "id": "0fe7b77a"
      },
      "source": [
        "#### The second sample would be the “Recency” of  customers who rejected the offer:\n",
        "\n"
      ]
    },
    {
      "cell_type": "code",
      "execution_count": null,
      "id": "4fd36ed3",
      "metadata": {
        "id": "4fd36ed3"
      },
      "outputs": [],
      "source": [
        "recency_N = sampled_df[sampled_df['Response']==0]['Recency']"
      ]
    },
    {
      "cell_type": "code",
      "execution_count": null,
      "id": "2b4181c3",
      "metadata": {
        "id": "2b4181c3",
        "outputId": "4688135e-a899-4251-99db-1d2901caa7f6"
      },
      "outputs": [
        {
          "data": {
            "image/png": "[encoded data removed]",
            "text/plain": [
              "<Figure size 432x288 with 1 Axes>"
            ]
          },
          "metadata": {},
          "output_type": "display_data"
        }
      ],
      "source": [
        "plt.hist(recency_P)\n",
        "plt.show()"
      ]
    },
    {
      "cell_type": "code",
      "execution_count": null,
      "id": "89820c9e",
      "metadata": {
        "id": "89820c9e",
        "outputId": "637b1128-4bbd-4574-ec8a-7d01b73f6199"
      },
      "outputs": [
        {
          "data": {
            "image/png": "[encoded data removed]",
            "text/plain": [
              "<Figure size 432x288 with 1 Axes>"
            ]
          },
          "metadata": {},
          "output_type": "display_data"
        }
      ],
      "source": [
        "plt.hist(recency_N)\n",
        "plt.show()"
      ]
    },
    {
      "cell_type": "markdown",
      "id": "a1010398",
      "metadata": {
        "id": "a1010398"
      },
      "source": [
        "It appears that positive response have lower Recency compared to negative response. To quantify the difference and make it more scientific, let’s follow the steps in hypothesis testing and carry out a t-test.\n",
        "\n"
      ]
    },
    {
      "cell_type": "markdown",
      "id": "9c061786",
      "metadata": {
        "id": "9c061786"
      },
      "source": [
        "### Step1. define null and alternative hypothesis\n",
        "\n",
        "null: there is no difference in Recency between the customers who accepted the offer in the last campaign and who did not accept the offer\n",
        "\n",
        "alternative: customers who accepted the offer has lower Recency compared to customers who did not accept the offer"
      ]
    },
    {
      "cell_type": "markdown",
      "id": "7aacc7af",
      "metadata": {
        "id": "7aacc7af"
      },
      "source": [
        "### Step 2. choose the appropriate test\n",
        "\n",
        "To test the difference between two independent samples, two-sample t-test is the most appropriate statistical test which follows student t-distribution. The shape of student-t distribution is determined by the degree of freedom, calculated as the sum of two sample size minus 2.\n",
        "\n",
        "In python, simply import the library scipy.stats and create the t-distribution as below."
      ]
    },
    {
      "cell_type": "code",
      "execution_count": null,
      "id": "811925e5",
      "metadata": {
        "id": "811925e5"
      },
      "outputs": [],
      "source": [
        "from scipy.stats import t\n",
        "rv = t(df=100-2)"
      ]
    },
    {
      "cell_type": "markdown",
      "id": "5db5715c",
      "metadata": {
        "id": "5db5715c"
      },
      "source": [
        "### Step 3. calculate the p-value\n",
        "\n",
        "There are some handy functions in Python calculate the probability in a distribution. For any x covered in the range of the distribution, pdf(x) is the probability density function of x — which can be represented as the orange line below, and cdf(x) is the cumulative density function of x — which can be seen as the cumulative area. In this example, we are testing the alternative hypothesis that — Recency of positive response minus the Recency of negative response is less than 0. Therefore we should use a one-tail test and compare the t-statistics we get against the lowest value in this distribution — therefore p-value can be calculated as cdf(t_statistics) in this case."
      ]
    },
    {
      "cell_type": "markdown",
      "id": "01af34ea",
      "metadata": {
        "id": "01af34ea"
      },
      "source": [
        "#### ttest_ind() is a handy function for independent t-test in python that has done all of these for us automatically. Pass two samples rececency_P and recency_N as the parameters, and we get the t-statistics and p-value.\n",
        "\n"
      ]
    },
    {
      "cell_type": "code",
      "execution_count": null,
      "id": "242ecf19",
      "metadata": {
        "id": "242ecf19",
        "outputId": "1582a9af-9f9a-4cd9-d63c-f6c499c2fe95"
      },
      "outputs": [
        {
          "name": "stdout",
          "output_type": "stream",
          "text": [
            "t-statistics: -2.2792332995612146 \n",
            "P-value 0.024822208644980654\n"
          ]
        }
      ],
      "source": [
        "# TWo sampled t-test\n",
        "from scipy.stats import ttest_ind\n",
        "\n",
        "t_stat,pvalue = ttest_ind(recency_P,recency_N)\n",
        "print('t-statistics:',t_stat, '\\nP-value', pvalue)"
      ]
    },
    {
      "cell_type": "markdown",
      "id": "ff1d4922",
      "metadata": {
        "id": "ff1d4922"
      },
      "source": [
        "### Step 4. determine the statistical significance\n",
        "\n",
        "The commonly used significance level threshold is 0.05. Since p-value here (0.024) is smaller than 0.05, we can say that it is statistically significant based on the collected sample. A lower Recency of customer who accepted the offer is likely not occur by chance. This indicates the feature “Response” may be a strong predictor of the target variable “Recency”. And if we would perform feature selection for a model predicting the \"Recency\" value, \"Response\" is likely to have high importance."
      ]
    },
    {
      "cell_type": "markdown",
      "id": "4908ca76",
      "metadata": {
        "id": "4908ca76"
      },
      "source": [
        "## ANOVA Test\n",
        "Now that we know t-test is used to compare the mean of one or two sample groups. What if we want to test more than two samples?  Use ANOVA test.\n",
        "\n",
        "ANOVA examines the difference among groups by calculating the ratio of variance across different groups vs variance within a group. Larger ratio indicates that the difference across groups is a result of the group difference rather than just random chance.\n",
        "\n",
        "As an example, I use the feature “Kidhome” for the prediction of “NumWebPurchases”. There are three values of “Kidhome” - 0, 1, 2 which naturally forms three groups."
      ]
    },
    {
      "cell_type": "code",
      "execution_count": null,
      "id": "aacfe05d",
      "metadata": {
        "id": "aacfe05d"
      },
      "outputs": [],
      "source": [
        "kidhome_0 = sampled_df[sampled_df['Kidhome']==0]['NumWebPurchases']\n",
        "kidhome_1 = sampled_df[sampled_df['Kidhome']==1]['NumWebPurchases']\n",
        "kidhome_2 = sampled_df[sampled_df['Kidhome']==2]['NumWebPurchases']"
      ]
    },
    {
      "cell_type": "code",
      "execution_count": null,
      "id": "2d5f28e0",
      "metadata": {
        "id": "2d5f28e0",
        "outputId": "d1e2fd71-cc5a-46a4-f3b4-a634c3ab9f67"
      },
      "outputs": [
        {
          "data": {
            "image/png": "[encoded data removed]",
            "text/plain": [
              "<Figure size 720x504 with 1 Axes>"
            ]
          },
          "metadata": {},
          "output_type": "display_data"
        }
      ],
      "source": [
        "# Firstly, visualize the data. I found box plot to be the most aligned visual representation of ANOVA test.\n",
        "\n",
        "kidhome_data = [kidhome_0,kidhome_1,kidhome_2]\n",
        "fig = plt.figure(figsize=(10,7))\n",
        "\n",
        "plt.boxplot(kidhome_data)\n",
        "plt.show()\n"
      ]
    },
    {
      "cell_type": "markdown",
      "id": "b1b445b1",
      "metadata": {
        "id": "b1b445b1"
      },
      "source": [
        "It appears there are distinct differences among three groups. So let’s carry out ANOVA test to prove if that’s the case."
      ]
    },
    {
      "cell_type": "markdown",
      "id": "aaa0d9d7",
      "metadata": {
        "id": "aaa0d9d7"
      },
      "source": [
        "#### 1. define hypothesis:\n",
        "\n",
        "null hypothesis: there is no difference among three groups\n",
        "\n",
        "alternative hypothesis: there is difference between at least two groups\n",
        "\n",
        "#### 2. choose the appropriate test:\n",
        "ANOVA test for examining the relationships of numeric values against a categorical value with more than two groups. Similar to t-test, the null hypothesis of ANOVA test also follows a distribution defined by degrees of freedom. The degrees of freedom in ANOVA is determined by number of total samples (n) and the number of groups (k).\n",
        "\n",
        "dfn = k - 1\n",
        "\n",
        "dfd = n - k"
      ]
    },
    {
      "cell_type": "code",
      "execution_count": null,
      "id": "69c1843a",
      "metadata": {
        "id": "69c1843a"
      },
      "outputs": [],
      "source": [
        "from scipy.stats import f\n",
        "dfn = 3-1\n",
        "dfd = 100-3\n",
        "rv = f(dfn, dfd)"
      ]
    },
    {
      "cell_type": "markdown",
      "id": "616edf10",
      "metadata": {
        "id": "616edf10"
      },
      "source": [
        "#### 3. calculate the p-value:\n",
        "To calculate the p-value of the f-statistics, we use the right tail cumulative area of the f-distribution, which is 1 - rv.cdf(x)."
      ]
    },
    {
      "cell_type": "code",
      "execution_count": null,
      "id": "d8e01890",
      "metadata": {
        "id": "d8e01890"
      },
      "outputs": [],
      "source": [
        "x = np.linspace(rv.ppf(0.0001), rv.ppf(0.9999), 100000)\n",
        "y = rv.pdf(x)\n",
        "pvalue = 1 - rv.cdf(x)"
      ]
    },
    {
      "cell_type": "markdown",
      "id": "bb36429f",
      "metadata": {
        "id": "bb36429f"
      },
      "source": [
        "To easily get the f-statistics and p-value using Python, we can use the function stats.f_oneway() which returns p-value: 0.00040."
      ]
    },
    {
      "cell_type": "code",
      "execution_count": null,
      "id": "ecc10ac3",
      "metadata": {
        "id": "ecc10ac3",
        "outputId": "94427ab3-30c2-448b-8cfb-4c93ace5da4e"
      },
      "outputs": [
        {
          "data": {
            "text/plain": [
              "0.00039808004666969554"
            ]
          },
          "execution_count": 15,
          "metadata": {},
          "output_type": "execute_result"
        }
      ],
      "source": [
        "from scipy import stats\n",
        "f_stat, pvalue = stats.f_oneway(kidhome_0, kidhome_1, kidhome_2)\n",
        "pvalue"
      ]
    },
    {
      "cell_type": "markdown",
      "id": "c94efab8",
      "metadata": {
        "id": "c94efab8"
      },
      "source": [
        "#### 4. determine the statistical significance:\n",
        "Compare the p-value against the significance level 0.05, we can infer that there is strong evidence against the null hypothesis and very likely that there is difference in “NumWebPurchases” between at least two groups."
      ]
    },
    {
      "cell_type": "markdown",
      "id": "42d0bb87",
      "metadata": {
        "id": "42d0bb87"
      },
      "source": [
        "### Chi-Squared Test\n",
        "Chi-Squared test is for testing the relationship between two categorical variables. The underlying principle is that if two categorical variables are independent, then one categorical variable should have similar composition when the other categorical variable change. Let’s look at the example of whether “Education” and “Response” are independent.\n",
        "\n",
        "First, use stacked bar chart and contingency table to summary the count of each category."
      ]
    },
    {
      "cell_type": "code",
      "execution_count": null,
      "id": "034c1e61",
      "metadata": {
        "id": "034c1e61",
        "outputId": "586cd275-3429-4889-9f49-af71ed5f3281"
      },
      "outputs": [
        {
          "data": {
            "text/html": [
              "<div>\n",
              "<style scoped>\n",
              "    .dataframe tbody tr th:only-of-type {\n",
              "        vertical-align: middle;\n",
              "    }\n",
              "\n",
              "    .dataframe tbody tr th {\n",
              "        vertical-align: top;\n",
              "    }\n",
              "\n",
              "    .dataframe thead th {\n",
              "        text-align: right;\n",
              "    }\n",
              "</style>\n",
              "<table border=\"1\" class=\"dataframe\">\n",
              "  <thead>\n",
              "    <tr style=\"text-align: right;\">\n",
              "      <th>Response</th>\n",
              "      <th>0</th>\n",
              "      <th>1</th>\n",
              "    </tr>\n",
              "    <tr>\n",
              "      <th>Education</th>\n",
              "      <th></th>\n",
              "      <th></th>\n",
              "    </tr>\n",
              "  </thead>\n",
              "  <tbody>\n",
              "    <tr>\n",
              "      <th>2n Cycle</th>\n",
              "      <td>13</td>\n",
              "      <td>3</td>\n",
              "    </tr>\n",
              "    <tr>\n",
              "      <th>Basic</th>\n",
              "      <td>2</td>\n",
              "      <td>0</td>\n",
              "    </tr>\n",
              "    <tr>\n",
              "      <th>Graduation</th>\n",
              "      <td>44</td>\n",
              "      <td>5</td>\n",
              "    </tr>\n",
              "    <tr>\n",
              "      <th>Master</th>\n",
              "      <td>9</td>\n",
              "      <td>4</td>\n",
              "    </tr>\n",
              "    <tr>\n",
              "      <th>PhD</th>\n",
              "      <td>17</td>\n",
              "      <td>3</td>\n",
              "    </tr>\n",
              "  </tbody>\n",
              "</table>\n",
              "</div>"
            ],
            "text/plain": [
              "Response     0  1\n",
              "Education        \n",
              "2n Cycle    13  3\n",
              "Basic        2  0\n",
              "Graduation  44  5\n",
              "Master       9  4\n",
              "PhD         17  3"
            ]
          },
          "execution_count": 16,
          "metadata": {},
          "output_type": "execute_result"
        }
      ],
      "source": [
        "ed_contingency = pd.crosstab(sampled_df['Education'],\n",
        " sampled_df['Response'])\n",
        "ed_contingency"
      ]
    },
    {
      "cell_type": "code",
      "execution_count": null,
      "id": "114d4916",
      "metadata": {
        "id": "114d4916",
        "outputId": "b27294b4-a415-404f-d568-7c28290abc15"
      },
      "outputs": [
        {
          "data": {
            "text/plain": [
              "<matplotlib.legend.Legend at 0x26067d85fd0>"
            ]
          },
          "execution_count": 22,
          "metadata": {},
          "output_type": "execute_result"
        },
        {
          "data": {
            "image/png": "[encoded data removed]",
            "text/plain": [
              "<Figure size 432x288 with 1 Axes>"
            ]
          },
          "metadata": {},
          "output_type": "display_data"
        }
      ],
      "source": [
        "ax = ed_contingency.plot(kind='bar', stacked=True, rot=1)\n",
        "ax.legend(title='Response')"
      ]
    },
    {
      "cell_type": "markdown",
      "id": "6b3ca6c0",
      "metadata": {
        "id": "6b3ca6c0"
      },
      "source": [
        "If these two variables are completely independent to each other (null hypothesis is true), then the proportion of positive Response and negative Response should be the same across all Education groups. It seems like composition are slightly different, but is it significant enough to say there is dependency - let’s run a Chi-Squared test."
      ]
    },
    {
      "cell_type": "markdown",
      "id": "f63a5bc7",
      "metadata": {
        "id": "f63a5bc7"
      },
      "source": [
        "### 1. define hypothesis:\n",
        "\n",
        "null hypothesis: “Education” and “Response” are independent to each other.\n",
        "\n",
        "alternative hypothesis: “Education” and “Response” are dependent to each other.\n",
        "\n",
        "### 2. choose the appropriate test:\n",
        "Chi-Squared test is chosen and you probably found a pattern here, that Chi-distribution is also determined by the degree of freedom which is (row - 1) x (column - 1)."
      ]
    },
    {
      "cell_type": "code",
      "execution_count": null,
      "id": "537c989d",
      "metadata": {
        "id": "537c989d"
      },
      "outputs": [],
      "source": [
        "from scipy.stats import chi2\n",
        "r = 5\n",
        "c = 2\n",
        "dof = (5-1) * (2-1)\n",
        "rv = chi2(df= dof)"
      ]
    },
    {
      "cell_type": "markdown",
      "id": "3d0e6680",
      "metadata": {
        "id": "3d0e6680"
      },
      "source": [
        "### 3. calculate the p-value:\n",
        "p value is calculated as the right tail cumulative area: 1 - rv.cdf(x).\n",
        "\n"
      ]
    },
    {
      "cell_type": "code",
      "execution_count": null,
      "id": "cfb118d0",
      "metadata": {
        "id": "cfb118d0"
      },
      "outputs": [],
      "source": [
        "x = np.linspace(rv.ppf(0.0001), rv.ppf(0.9999), 100000)\n",
        "y = rv.pdf(x)\n",
        "pvalue = 1 - rv.cdf(x)"
      ]
    },
    {
      "cell_type": "markdown",
      "id": "744b4c61",
      "metadata": {
        "id": "744b4c61"
      },
      "source": [
        "Python also provides a useful function to get the chi statistics and p-value given the contingency table.\n",
        "\n"
      ]
    },
    {
      "cell_type": "code",
      "execution_count": null,
      "id": "90ebfd1a",
      "metadata": {
        "id": "90ebfd1a",
        "outputId": "89e1e7f8-3298-4edb-a1a1-340e45eb7346"
      },
      "outputs": [
        {
          "data": {
            "text/plain": [
              "3.9488102933481084"
            ]
          },
          "execution_count": 26,
          "metadata": {},
          "output_type": "execute_result"
        }
      ],
      "source": [
        "import scipy.stats\n",
        "chi2_stat, pvalue, dof, exp = scipy.stats.chi2_contingency(ed_contingency)\n",
        "chi2_stat"
      ]
    },
    {
      "cell_type": "code",
      "execution_count": null,
      "id": "e2769f68",
      "metadata": {
        "id": "e2769f68",
        "outputId": "d07a947c-5e83-49c3-ac5d-49768393df63"
      },
      "outputs": [
        {
          "data": {
            "text/plain": [
              "0.4129779495497867"
            ]
          },
          "execution_count": 27,
          "metadata": {},
          "output_type": "execute_result"
        }
      ],
      "source": [
        "pvalue"
      ]
    },
    {
      "cell_type": "markdown",
      "id": "cd412cc5",
      "metadata": {
        "id": "cd412cc5"
      },
      "source": [
        "### 4. determine the statistical significance:\n",
        "the p-value here is 0.41, suggesting that it is not statistical significant. Therefore, we cannot reject the null hypothesis that these two categorical variables are independent.\n",
        "\n",
        "This further indicates that “Education” may not be a strong predictor of “Response”.\n",
        "\n"
      ]
    },
    {
      "cell_type": "code",
      "execution_count": null,
      "id": "8b5c9cad",
      "metadata": {
        "id": "8b5c9cad"
      },
      "outputs": [],
      "source": []
    }
  ],
  "metadata": {
    "kernelspec": {
      "display_name": "Python 3",
      "language": "python",
      "name": "python3"
    },
    "language_info": {
      "codemirror_mode": {
        "name": "ipython",
        "version": 3
      },
      "file_extension": ".py",
      "mimetype": "text/x-python",
      "name": "python",
      "nbconvert_exporter": "python",
      "pygments_lexer": "ipython3",
      "version": "3.8.8"
    },
    "colab": {
      "provenance": []
    }
  },
  "nbformat": 4,
  "nbformat_minor": 5
}