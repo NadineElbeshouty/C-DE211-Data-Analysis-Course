{
  "cells": [
    {
      "cell_type": "markdown",
      "id": "eecd14ef",
      "metadata": {
        "id": "eecd14ef"
      },
      "source": [
        "# what is Numpy?\n",
        "\n",
        "NumPy is a Python library used for working with arrays.\n",
        "\n",
        "It also has functions for working in domain of linear algebra, fourier transform, and matrices.\n",
        "\n",
        "NumPy was created in 2005 by Travis Oliphant. It is an open source project and you can use it freely.\n",
        "\n",
        "NumPy stands for Numerical Python."
      ]
    },
    {
      "cell_type": "markdown",
      "id": "936c93d0",
      "metadata": {
        "id": "936c93d0"
      },
      "source": [
        "# Why use Numpy?\n",
        "\n",
        "In Python we have lists that serve the purpose of arrays, but they are slow to process.\n",
        "\n",
        "NumPy aims to provide an array object that is up to 50x faster than traditional Python lists.\n",
        "\n",
        "The array object in NumPy is called ndarray, it provides a lot of supporting functions that make working with ndarray very easy.\n",
        "\n",
        "Arrays are very frequently used in data science, where speed and resources are very important."
      ]
    },
    {
      "cell_type": "code",
      "execution_count": null,
      "id": "ff809477",
      "metadata": {
        "id": "ff809477"
      },
      "outputs": [],
      "source": [
        "import numpy as np"
      ]
    },
    {
      "cell_type": "markdown",
      "id": "04cbfc2e",
      "metadata": {
        "id": "04cbfc2e"
      },
      "source": [
        "#### Arrays"
      ]
    },
    {
      "cell_type": "code",
      "execution_count": null,
      "id": "26f042ce",
      "metadata": {
        "colab": {
          "base_uri": "https://localhost:8080/"
        },
        "id": "26f042ce",
        "outputId": "8d320e47-25f7-4748-812f-3353c8dcdaad"
      },
      "outputs": [
        {
          "output_type": "stream",
          "name": "stdout",
          "text": [
            "[1, 2, 3, 4]\n",
            "---------------------------\n",
            "\n",
            "[1 2 3 4]\n"
          ]
        }
      ],
      "source": [
        "#.array()\n",
        "ls = [1,2,3,4]\n",
        "array = np.array(ls)\n",
        "print(ls)\n",
        "print(\"---------------------------\\n\")\n",
        "print(array)"
      ]
    },
    {
      "cell_type": "code",
      "execution_count": null,
      "id": "bf3736e6",
      "metadata": {
        "colab": {
          "base_uri": "https://localhost:8080/"
        },
        "id": "bf3736e6",
        "outputId": "7748642d-022e-40e5-e0ea-bcaaeaca29de"
      },
      "outputs": [
        {
          "output_type": "stream",
          "name": "stdout",
          "text": [
            "[[ 1  2  3  4]\n",
            " [ 5  6  7  8]\n",
            " [ 9 10 11 12]]\n"
          ]
        }
      ],
      "source": [
        "ls2 = [[1,2,3,4],[5,6,7,8],[9,10,11,12]]\n",
        "arr2 = np.array(ls2)\n",
        "print(arr2)"
      ]
    },
    {
      "cell_type": "code",
      "execution_count": null,
      "id": "94ce2665",
      "metadata": {
        "colab": {
          "base_uri": "https://localhost:8080/"
        },
        "id": "94ce2665",
        "outputId": "3ff589d8-f604-4b9f-f1b1-d0f23eeb9621"
      },
      "outputs": [
        {
          "output_type": "stream",
          "name": "stdout",
          "text": [
            "2nd element on 1st row:  2\n"
          ]
        }
      ],
      "source": [
        "# accessing element in an array\n",
        "arr = np.array([[1,2,3,4,5], [6,7,8,9,10]])\n",
        "\n",
        "print('2nd element on 1st row: ', arr[0, 1])"
      ]
    },
    {
      "cell_type": "code",
      "execution_count": null,
      "id": "ff6b1f7b",
      "metadata": {
        "colab": {
          "base_uri": "https://localhost:8080/"
        },
        "id": "ff6b1f7b",
        "outputId": "d342a9df-bb03-4cd4-e574-18800e19d5ab"
      },
      "outputs": [
        {
          "output_type": "stream",
          "name": "stdout",
          "text": [
            "6\n"
          ]
        }
      ],
      "source": [
        "arr3 = np.array([[[1, 2, 3], [4, 5, 6]], [[7, 8, 9], [10, 11, 12]]])\n",
        "\n",
        "print(arr3[0, 1, 2])"
      ]
    },
    {
      "cell_type": "code",
      "execution_count": null,
      "id": "58a017ba",
      "metadata": {
        "colab": {
          "base_uri": "https://localhost:8080/"
        },
        "id": "58a017ba",
        "outputId": "f57e1f50-1ca7-4ef1-e8f6-49d8e95b2e69"
      },
      "outputs": [
        {
          "output_type": "stream",
          "name": "stdout",
          "text": [
            "Last element from 2nd dim:  10\n"
          ]
        }
      ],
      "source": [
        "#print the last element of the second row\n",
        "arr = np.array([[1,2,3,4,5], [6,7,8,9,10]])\n",
        "\n",
        "print('Last element from 2nd dim: ', arr[1, -1])"
      ]
    },
    {
      "cell_type": "markdown",
      "id": "343517fb",
      "metadata": {
        "id": "343517fb"
      },
      "source": [
        "### Iterating over elements"
      ]
    },
    {
      "cell_type": "code",
      "execution_count": null,
      "id": "b5db537a",
      "metadata": {
        "colab": {
          "base_uri": "https://localhost:8080/"
        },
        "id": "b5db537a",
        "outputId": "20eb052b-1f94-4434-96b4-6cc9b4c4b1a5"
      },
      "outputs": [
        {
          "output_type": "stream",
          "name": "stdout",
          "text": [
            "[1 2 3]\n",
            "[4 5 6]\n"
          ]
        }
      ],
      "source": [
        "arr = np.array([[1, 2, 3], [4, 5, 6]])\n",
        "\n",
        "for x in arr:\n",
        "    print(x)"
      ]
    },
    {
      "cell_type": "code",
      "execution_count": null,
      "id": "b8fcc084",
      "metadata": {
        "colab": {
          "base_uri": "https://localhost:8080/"
        },
        "id": "b8fcc084",
        "outputId": "b3bb822c-52b8-4796-a7ef-2f946ed3a3f4"
      },
      "outputs": [
        {
          "output_type": "stream",
          "name": "stdout",
          "text": [
            "1\n",
            "2\n",
            "3\n",
            "4\n",
            "5\n",
            "6\n"
          ]
        }
      ],
      "source": [
        "arr = np.array([[1, 2, 3], [4, 5, 6]])\n",
        "\n",
        "for x in arr: #rows x= [1,2,3]\n",
        "    for y in x: #cols y = 1, = 2, =3\n",
        "        print(y)"
      ]
    },
    {
      "cell_type": "code",
      "execution_count": null,
      "id": "7e5dcff4",
      "metadata": {
        "colab": {
          "base_uri": "https://localhost:8080/"
        },
        "id": "7e5dcff4",
        "outputId": "4f664866-9ae0-4811-fa15-c060cb3a7e0b"
      },
      "outputs": [
        {
          "output_type": "stream",
          "name": "stdout",
          "text": [
            "1\n",
            "2\n",
            "3\n",
            "4\n",
            "5\n",
            "6\n",
            "------------------------\n",
            "\n",
            "1\n",
            "3\n",
            "4\n",
            "6\n"
          ]
        }
      ],
      "source": [
        "#using diter\n",
        "for x in np.nditer(arr):\n",
        "    print(x)\n",
        "print(\"------------------------\\n\")\n",
        "\n",
        "#skipping 1 element\n",
        "for x in np.nditer(arr[:, ::2]):\n",
        "    print(x)"
      ]
    },
    {
      "cell_type": "markdown",
      "id": "b81d1a0f",
      "metadata": {
        "id": "b81d1a0f"
      },
      "source": [
        "### Joining Numpy arrays"
      ]
    },
    {
      "cell_type": "code",
      "execution_count": null,
      "id": "98c37e32",
      "metadata": {
        "colab": {
          "base_uri": "https://localhost:8080/"
        },
        "id": "98c37e32",
        "outputId": "b5ad6685-27c4-41da-a1de-e7af1f312600"
      },
      "outputs": [
        {
          "output_type": "stream",
          "name": "stdout",
          "text": [
            "[1 2 3 4 5 6]\n"
          ]
        }
      ],
      "source": [
        "#concatenate()\n",
        "arr1 = np.array([1, 2, 3])\n",
        "\n",
        "arr2 = np.array([4, 5, 6])\n",
        "\n",
        "arr = np.concatenate((arr1, arr2))\n",
        "\n",
        "print(arr)"
      ]
    },
    {
      "cell_type": "markdown",
      "id": "1576b8cc",
      "metadata": {
        "id": "1576b8cc"
      },
      "source": [
        "Stacking is same as concatenation, the only difference is that stacking is done along a new axis.\n",
        "\n",
        "We can concatenate two 1-D arrays along the second axis which would result in putting them one over the other, ie. stacking.\n",
        "\n",
        "We pass a sequence of arrays that we want to join to the stack() method along with the axis. If axis is not explicitly passed it is taken as 0."
      ]
    },
    {
      "cell_type": "code",
      "execution_count": null,
      "id": "1d85e0d6",
      "metadata": {
        "colab": {
          "base_uri": "https://localhost:8080/"
        },
        "id": "1d85e0d6",
        "outputId": "1de1a0fb-d93b-4664-f960-ac3aa58d8793"
      },
      "outputs": [
        {
          "output_type": "stream",
          "name": "stdout",
          "text": [
            "[[1 4]\n",
            " [2 5]\n",
            " [3 6]]\n"
          ]
        }
      ],
      "source": [
        "arr = np.stack((arr1, arr2), axis=1)\n",
        "\n",
        "print(arr)"
      ]
    },
    {
      "cell_type": "code",
      "execution_count": null,
      "id": "2399f079",
      "metadata": {
        "colab": {
          "base_uri": "https://localhost:8080/"
        },
        "id": "2399f079",
        "outputId": "8acf5148-5865-41e6-d357-0472bbff8bbf"
      },
      "outputs": [
        {
          "output_type": "stream",
          "name": "stdout",
          "text": [
            "[1 2 3 4 5 6]\n"
          ]
        }
      ],
      "source": [
        "#a long rows (hstack())\n",
        "arr = np.hstack((arr1, arr2))\n",
        "\n",
        "print(arr)"
      ]
    },
    {
      "cell_type": "code",
      "execution_count": null,
      "id": "b48fc16e",
      "metadata": {
        "colab": {
          "base_uri": "https://localhost:8080/"
        },
        "id": "b48fc16e",
        "outputId": "e645ace0-0576-4703-c956-2344aeb5e109"
      },
      "outputs": [
        {
          "output_type": "stream",
          "name": "stdout",
          "text": [
            "[[1 2 3]\n",
            " [4 5 6]]\n"
          ]
        }
      ],
      "source": [
        "#along cols (vstack())\n",
        "arr = np.vstack((arr1, arr2))\n",
        "\n",
        "print(arr)"
      ]
    },
    {
      "cell_type": "markdown",
      "id": "e8b0a722",
      "metadata": {
        "id": "e8b0a722"
      },
      "source": [
        "### Slicing arrays"
      ]
    },
    {
      "cell_type": "code",
      "execution_count": null,
      "id": "fbbb15af",
      "metadata": {
        "colab": {
          "base_uri": "https://localhost:8080/"
        },
        "id": "fbbb15af",
        "outputId": "d867f4bb-8f9c-4340-f085-6c5afeb12115"
      },
      "outputs": [
        {
          "output_type": "stream",
          "name": "stdout",
          "text": [
            "[2 3 4]\n"
          ]
        }
      ],
      "source": [
        "#find the elements from index 1 to index 5\n",
        "arr = np.array([1, 2, 3, 4, 5, 6, 7])\n",
        "\n",
        "print(arr[1:4])"
      ]
    },
    {
      "cell_type": "code",
      "execution_count": null,
      "id": "272398be",
      "metadata": {
        "colab": {
          "base_uri": "https://localhost:8080/"
        },
        "id": "272398be",
        "outputId": "1fdab8a7-c625-425f-884e-0684a5c6b71e"
      },
      "outputs": [
        {
          "output_type": "stream",
          "name": "stdout",
          "text": [
            "[5 6]\n"
          ]
        }
      ],
      "source": [
        "#Negative slicing\n",
        "# slice from the index 3 from the end to index 1 from the end:\n",
        "arr = np.array([1, 2, 3, 4, 5, 6, 7])\n",
        "\n",
        "print(arr[-3:-1])"
      ]
    },
    {
      "cell_type": "code",
      "execution_count": null,
      "id": "64b6e586",
      "metadata": {
        "colab": {
          "base_uri": "https://localhost:8080/"
        },
        "id": "64b6e586",
        "outputId": "4ec3c2b7-1b2a-45a8-b80a-85f9064187e1"
      },
      "outputs": [
        {
          "output_type": "stream",
          "name": "stdout",
          "text": [
            "[2 4 6]\n"
          ]
        }
      ],
      "source": [
        "# step\n",
        "arr = np.array([1, 2, 3, 4, 5, 6, 7])\n",
        "\n",
        "print(arr[-6:-1:2])"
      ]
    },
    {
      "cell_type": "code",
      "execution_count": null,
      "id": "9c1577f9",
      "metadata": {
        "colab": {
          "base_uri": "https://localhost:8080/"
        },
        "id": "9c1577f9",
        "outputId": "09707f33-c87d-4c7b-ba3f-a3f2ff1e8657"
      },
      "outputs": [
        {
          "output_type": "stream",
          "name": "stdout",
          "text": [
            "[7 6 5 4 3 2 1]\n"
          ]
        }
      ],
      "source": [
        "#reversed array\n",
        "arr = np.array([1, 2, 3, 4, 5, 6, 7])\n",
        "print(arr[::-1])"
      ]
    },
    {
      "cell_type": "code",
      "execution_count": null,
      "id": "4fea3bfa",
      "metadata": {
        "colab": {
          "base_uri": "https://localhost:8080/"
        },
        "id": "4fea3bfa",
        "outputId": "1102b4a1-968e-4932-9c42-59ad5eb551ba"
      },
      "outputs": [
        {
          "output_type": "stream",
          "name": "stdout",
          "text": [
            "[1 3 5 7]\n"
          ]
        }
      ],
      "source": [
        "#return every other element from the entire array (all except 3)\n",
        "arr = np.array([1, 2, 3, 4, 5, 6, 7])\n",
        "\n",
        "print(arr[::2])"
      ]
    },
    {
      "cell_type": "code",
      "execution_count": null,
      "id": "f57f7f5b",
      "metadata": {
        "colab": {
          "base_uri": "https://localhost:8080/"
        },
        "id": "f57f7f5b",
        "outputId": "1ae0e7cb-1b73-4e74-d1cb-0bfde8bd863f"
      },
      "outputs": [
        {
          "output_type": "stream",
          "name": "stdout",
          "text": [
            "[[2 3 4]\n",
            " [7 8 9]]\n"
          ]
        }
      ],
      "source": [
        "# 2D slicing\n",
        "arr = np.array([[1, 2, 3, 4, 5], [6, 7, 8, 9, 10]])\n",
        "\n",
        "print(arr[0:2, 1:4])\n"
      ]
    },
    {
      "cell_type": "markdown",
      "source": [
        "###Boolean array indexing:\n",
        "Boolean array indexing lets you pick out arbitrary elements of an array. Frequently this type of indexing is used to select the elements of an array that satisfy some condition. Here is an example"
      ],
      "metadata": {
        "id": "Owf5bjOkDcn4"
      },
      "id": "Owf5bjOkDcn4"
    },
    {
      "cell_type": "code",
      "source": [
        "my_arr = np.array([[1,2], [3, 4], [5, 6]])\n",
        "\n",
        "bool_idx = (my_arr > 2)   # Find the elements of a that are bigger than 2;\n",
        "                     # this returns a numpy array of Booleans of the same\n",
        "                     # shape as a, where each slot of bool_idx tells\n",
        "                     # whether that element of a is > 2.\n",
        "\n",
        "print(bool_idx)      # Prints \"[[False False]\n",
        "                     #          [ True  True]\n",
        "                     #          [ True  True]]\"\n",
        "\n",
        "# We use boolean array indexing to construct a rank 1 array\n",
        "# consisting of the elements of a corresponding to the True values\n",
        "# of bool_idx\n",
        "print(my_arr[bool_idx])  # Prints \"[3 4 5 6]\"\n",
        "\n",
        "# We can do all of the above in a single concise statement:\n",
        "print(my_arr[my_arr > 2])     # Prints \"[3 4 5 6]\""
      ],
      "metadata": {
        "colab": {
          "base_uri": "https://localhost:8080/"
        },
        "id": "YKoxr7feDgMb",
        "outputId": "4528251c-12e0-4bf6-cf72-45e7daab05a6"
      },
      "id": "YKoxr7feDgMb",
      "execution_count": null,
      "outputs": [
        {
          "output_type": "stream",
          "name": "stdout",
          "text": [
            "[[False False]\n",
            " [ True  True]\n",
            " [ True  True]]\n",
            "[3 4 5 6]\n",
            "[3 4 5 6]\n"
          ]
        }
      ]
    },
    {
      "cell_type": "markdown",
      "id": "e6bbfbef",
      "metadata": {
        "id": "e6bbfbef"
      },
      "source": [
        "### Splitting NumPy Arrays\n"
      ]
    },
    {
      "cell_type": "code",
      "execution_count": null,
      "id": "d2ffdad2",
      "metadata": {
        "colab": {
          "base_uri": "https://localhost:8080/"
        },
        "id": "d2ffdad2",
        "outputId": "bee330ec-428f-4518-c1bf-33b8169e2912"
      },
      "outputs": [
        {
          "output_type": "stream",
          "name": "stdout",
          "text": [
            "[1 2 3]\n",
            "[4 5 6]\n"
          ]
        }
      ],
      "source": [
        "arr = np.array([1, 2, 3, 4, 5, 6])\n",
        "\n",
        "newarr = np.array_split(arr, 2)\n",
        "\n",
        "print(newarr[0])\n",
        "print(newarr[1])\n",
        "\n"
      ]
    },
    {
      "cell_type": "code",
      "execution_count": null,
      "id": "7839096d",
      "metadata": {
        "colab": {
          "base_uri": "https://localhost:8080/"
        },
        "id": "7839096d",
        "outputId": "c7e90362-10f8-45f8-ffdc-263db0aa3364"
      },
      "outputs": [
        {
          "output_type": "stream",
          "name": "stdout",
          "text": [
            "[array([[ 1],\n",
            "       [ 4],\n",
            "       [ 7],\n",
            "       [10],\n",
            "       [13],\n",
            "       [16]]), array([[ 2],\n",
            "       [ 5],\n",
            "       [ 8],\n",
            "       [11],\n",
            "       [14],\n",
            "       [17]]), array([[ 3],\n",
            "       [ 6],\n",
            "       [ 9],\n",
            "       [12],\n",
            "       [15],\n",
            "       [18]])]\n"
          ]
        }
      ],
      "source": [
        "#Split the 2-D array into three 2-D arrays along rows.\n",
        "\n",
        "arr = np.array([[1, 2, 3], [4, 5, 6], [7, 8, 9], [10, 11, 12], [13, 14, 15], [16, 17, 18]])\n",
        "\n",
        "newarr = np.array_split(arr, 3, axis=1)\n",
        "\n",
        "print(newarr)"
      ]
    },
    {
      "cell_type": "markdown",
      "id": "436e527c",
      "metadata": {
        "id": "436e527c"
      },
      "source": [
        "### arange"
      ]
    },
    {
      "cell_type": "code",
      "execution_count": null,
      "id": "d6f21463",
      "metadata": {
        "colab": {
          "base_uri": "https://localhost:8080/"
        },
        "id": "d6f21463",
        "outputId": "de451851-7528-4055-8c87-3895f160af77"
      },
      "outputs": [
        {
          "output_type": "stream",
          "name": "stdout",
          "text": [
            "[ 1  4  7 10 13]\n"
          ]
        }
      ],
      "source": [
        "#.arange() ----> returns integers within a range of numbers\n",
        "#arange = np.arange(1,15)\n",
        "arange = np.arange(1,15,3) #-----> (_start,_end,_stepsize)\n",
        "print(arange)"
      ]
    },
    {
      "cell_type": "code",
      "execution_count": null,
      "id": "948b7466",
      "metadata": {
        "colab": {
          "base_uri": "https://localhost:8080/"
        },
        "id": "948b7466",
        "outputId": "1d2cdf8d-0bb4-4e65-cdb8-c5fa097f19a1"
      },
      "outputs": [
        {
          "output_type": "execute_result",
          "data": {
            "text/plain": [
              "array([-0.84899684, -0.02644833, -2.10512384, ..., -0.87638699,\n",
              "        0.09687333,  0.67587787])"
            ]
          },
          "metadata": {},
          "execution_count": 25
        }
      ],
      "source": [
        "# Generate normally distributed random numbers:\n",
        "rng = np.random.default_rng()\n",
        "samples = rng.normal(size=2500)\n",
        "samples"
      ]
    },
    {
      "cell_type": "code",
      "execution_count": null,
      "id": "6f75b0f8",
      "metadata": {
        "colab": {
          "base_uri": "https://localhost:8080/"
        },
        "id": "6f75b0f8",
        "outputId": "2825f892-3e4b-42b6-b215-7da69d9764a0"
      },
      "outputs": [
        {
          "output_type": "stream",
          "name": "stdout",
          "text": [
            "[[0. 0. 0. 0.]\n",
            " [0. 0. 0. 0.]\n",
            " [0. 0. 0. 0.]]\n"
          ]
        }
      ],
      "source": [
        "#np.zeros()\n",
        "z= np.zeros(3)\n",
        "zz = np.zeros((3,4)) #(rows,cols)\n",
        "print(zz)"
      ]
    },
    {
      "cell_type": "code",
      "execution_count": null,
      "id": "729be2ee",
      "metadata": {
        "colab": {
          "base_uri": "https://localhost:8080/"
        },
        "id": "729be2ee",
        "outputId": "efe50a56-d11a-4552-d905-1874444e9cfb"
      },
      "outputs": [
        {
          "output_type": "stream",
          "name": "stdout",
          "text": [
            "[[1. 1. 1. 1.]\n",
            " [1. 1. 1. 1.]\n",
            " [1. 1. 1. 1.]]\n"
          ]
        }
      ],
      "source": [
        "#np.ones()\n",
        "o= np.ones(3)\n",
        "oo = np.ones((3,4)) #(rows,cols)\n",
        "print(oo)"
      ]
    },
    {
      "cell_type": "code",
      "execution_count": null,
      "id": "ef111b9a",
      "metadata": {
        "colab": {
          "base_uri": "https://localhost:8080/"
        },
        "id": "ef111b9a",
        "outputId": "ef25305f-33f1-4daf-84ee-5eb7b2101ef7"
      },
      "outputs": [
        {
          "output_type": "stream",
          "name": "stdout",
          "text": [
            "[[0.89731252 0.14520751 0.76690087 0.24597562]\n",
            " [0.44508146 0.78410968 0.19430219 0.31059256]\n",
            " [0.37340449 0.56574282 0.89286512 0.12239681]]\n"
          ]
        }
      ],
      "source": [
        "#random.rand\n",
        "r = np.random.rand(3,4)\n",
        "print(r)"
      ]
    },
    {
      "cell_type": "code",
      "execution_count": null,
      "id": "e2b26eca",
      "metadata": {
        "colab": {
          "base_uri": "https://localhost:8080/"
        },
        "id": "e2b26eca",
        "outputId": "d0eed5ce-4e6e-40fa-c785-541d1b1f7d7d"
      },
      "outputs": [
        {
          "output_type": "stream",
          "name": "stdout",
          "text": [
            "90\n",
            "---------------------------------\n",
            "\n",
            "[[145 183 101 131]\n",
            " [123 102 132 143]\n",
            " [189 185 103 163]]\n"
          ]
        }
      ],
      "source": [
        "#random.randint ----> positive random number less than the seeling\n",
        "r2 = np.random.randint(30,100) # (floor,ceil)\n",
        "print(r2)\n",
        "print(\"---------------------------------\\n\")\n",
        "#return a matrix\n",
        "u = np.random.randint(100,200,(3,4))\n",
        "print(u)"
      ]
    },
    {
      "cell_type": "code",
      "execution_count": null,
      "id": "121d187c",
      "metadata": {
        "colab": {
          "base_uri": "https://localhost:8080/"
        },
        "id": "121d187c",
        "outputId": "e9a2d488-4543-4013-b327-ca40a276ea28"
      },
      "outputs": [
        {
          "output_type": "stream",
          "name": "stdout",
          "text": [
            "[161 140 187 199 167 147 141 140 121 188]\n",
            "------------------------------------------\n",
            "\n",
            "[[161 140]\n",
            " [187 199]\n",
            " [167 147]\n",
            " [141 140]\n",
            " [121 188]]\n"
          ]
        }
      ],
      "source": [
        "#.reshape()\n",
        "np_shape = np.random.randint(100,200,10)\n",
        "shape = np_shape.reshape(5,2) #rows * cols --> = to the number of items\n",
        "print(np_shape)\n",
        "print(\"------------------------------------------\\n\")\n",
        "print(shape)"
      ]
    },
    {
      "cell_type": "code",
      "execution_count": null,
      "id": "e71058f2",
      "metadata": {
        "colab": {
          "base_uri": "https://localhost:8080/"
        },
        "id": "e71058f2",
        "outputId": "25b8fecf-a3fc-4310-b2c0-ea8a6fc18643"
      },
      "outputs": [
        {
          "output_type": "stream",
          "name": "stdout",
          "text": [
            "[116 110 139 129 114 148 141 192 178 109 181 132 170 196 103]\n",
            "------------------------------------------\n",
            "\n",
            "[[116 110 139]\n",
            " [129 114 148]\n",
            " [141 192 178]\n",
            " [109 181 132]\n",
            " [170 196 103]]\n"
          ]
        }
      ],
      "source": [
        "np_shape2 = np.random.randint(100,200,15)\n",
        "shape2 = np_shape2.reshape(5,3) #rows, cols --> = to the number of items\n",
        "print(np_shape2)\n",
        "print(\"------------------------------------------\\n\")\n",
        "print(shape2)"
      ]
    },
    {
      "cell_type": "code",
      "execution_count": null,
      "id": "3d1ce5e4",
      "metadata": {
        "colab": {
          "base_uri": "https://localhost:8080/"
        },
        "id": "3d1ce5e4",
        "outputId": "7b13ef3a-ff34-405c-9017-2017352ad5fb"
      },
      "outputs": [
        {
          "output_type": "stream",
          "name": "stdout",
          "text": [
            "[1 2 3 4 5 6 7 8 9]\n",
            "------------------------------------------\n",
            "\n",
            "[5 1 7 4 8 6 2 9 3]\n"
          ]
        }
      ],
      "source": [
        "#shuffle(np_list)\n",
        "numbers = np.arange(1,10)\n",
        "print(numbers)\n",
        "print(\"------------------------------------------\\n\")\n",
        "np.random.shuffle(numbers)\n",
        "print(numbers)"
      ]
    },
    {
      "cell_type": "code",
      "execution_count": null,
      "id": "2751d60b",
      "metadata": {
        "colab": {
          "base_uri": "https://localhost:8080/"
        },
        "id": "2751d60b",
        "outputId": "f7379e10-8f4a-4728-add7-d3884b3f6423"
      },
      "outputs": [
        {
          "output_type": "stream",
          "name": "stdout",
          "text": [
            "[[ 1  2  3  4]\n",
            " [ 5  6  7  8]\n",
            " [ 9 10 11 12]]\n",
            "------------------------------------------\n",
            "\n",
            "[[ 1  2  3  4]\n",
            " [ 5  6  7  8]\n",
            " [ 9 10 11 12]]\n"
          ]
        }
      ],
      "source": [
        "numbers2 = np.arange(1,13)\n",
        "numbers_re = numbers2.reshape(3,4)\n",
        "print(numbers_re)\n",
        "print(\"------------------------------------------\\n\")\n",
        "np.random.shuffle(numbers_re)\n",
        "print(numbers_re)"
      ]
    },
    {
      "cell_type": "code",
      "execution_count": null,
      "id": "889c6f4d",
      "metadata": {
        "scrolled": true,
        "colab": {
          "base_uri": "https://localhost:8080/"
        },
        "id": "889c6f4d",
        "outputId": "184a3eef-6b79-402b-c77f-8d8798e2af0b"
      },
      "outputs": [
        {
          "output_type": "stream",
          "name": "stdout",
          "text": [
            "12\n",
            "------------------------------------------\n",
            "\n",
            "1\n",
            "------------------------------------------\n",
            "\n",
            "6.5\n",
            "------------------------------------------\n",
            "\n",
            "11\n",
            "------------------------------------------\n",
            "\n",
            "0\n"
          ]
        }
      ],
      "source": [
        "#max\n",
        "print(numbers_re.max())\n",
        "print(\"------------------------------------------\\n\")\n",
        "print(numbers_re.min())\n",
        "print(\"------------------------------------------\\n\")\n",
        "print(numbers_re.mean())\n",
        "print(\"------------------------------------------\\n\")\n",
        "print(numbers_re.argmax()) #----> location of the max\n",
        "print(\"------------------------------------------\\n\")\n",
        "print(numbers_re.argmin()) #----> location of the min"
      ]
    },
    {
      "cell_type": "code",
      "source": [
        "a = np.array([1, 8, 9, -3, 2, 4, 7, 9])\n",
        "\n",
        "# Get the index of the maximum element in a\n",
        "print(np.argmax(a))\n",
        "\n",
        "# Get the index of the minimum element in a\n",
        "# (this array has two elements with the maximum value -\n",
        "# only one index is returned)\n",
        "print(np.argmin(a))\n",
        "\n",
        "# Get sorted list of indices\n",
        "print(np.argsort(a))\n",
        "\n",
        "# Get sorted list of indices in descending order\n",
        "# [::-1] is a special slicing index that returns the reversed list\n",
        "print(np.argsort(a)[::-1])\n",
        "\n",
        "# Get indices of elements that meet some condition\n",
        "# this returns a tuple, the list of indices is the first entry\n",
        "# so we use [0] to get it\n",
        "print(np.where(a > 5)[0])\n",
        "\n",
        "# Get indices of elements that meet some condition\n",
        "# this example shows how to get the index of *all* the max values\n",
        "print(np.where(a >= a[np.argmax(a)])[0])"
      ],
      "metadata": {
        "id": "R6l8tvf6Ft9a"
      },
      "id": "R6l8tvf6Ft9a",
      "execution_count": null,
      "outputs": []
    },
    {
      "cell_type": "code",
      "execution_count": null,
      "id": "8c14769e",
      "metadata": {
        "colab": {
          "base_uri": "https://localhost:8080/"
        },
        "id": "8c14769e",
        "outputId": "d7847c4e-e26e-451b-9d4f-6063d604a1df"
      },
      "outputs": [
        {
          "output_type": "stream",
          "name": "stdout",
          "text": [
            "(3, 4)\n",
            "3\n",
            "4\n"
          ]
        }
      ],
      "source": [
        "#.shape\n",
        "print(numbers_re.shape)\n",
        "print(numbers_re.shape[0]) # -----> number of rows\n",
        "print(numbers_re.shape[1]) # -----> number of cols"
      ]
    },
    {
      "cell_type": "markdown",
      "id": "4f6c7528",
      "metadata": {
        "id": "4f6c7528"
      },
      "source": [
        "### let's play with some Maths"
      ]
    },
    {
      "cell_type": "code",
      "execution_count": null,
      "id": "f12f9553",
      "metadata": {
        "colab": {
          "base_uri": "https://localhost:8080/"
        },
        "id": "f12f9553",
        "outputId": "d3a6385c-32e4-4932-b6fc-131e5e2e3469"
      },
      "outputs": [
        {
          "output_type": "stream",
          "name": "stdout",
          "text": [
            "[[2 3 4]\n",
            " [0 1 5]]\n"
          ]
        }
      ],
      "source": [
        "#sorting\n",
        "arr = np.array([[3, 2, 4], [5, 0, 1]])\n",
        "\n",
        "print(np.sort(arr))"
      ]
    },
    {
      "cell_type": "code",
      "execution_count": null,
      "id": "b92eb2c2",
      "metadata": {
        "colab": {
          "base_uri": "https://localhost:8080/"
        },
        "id": "b92eb2c2",
        "outputId": "431c8515-f0c8-4a86-838e-198c068f4e72"
      },
      "outputs": [
        {
          "output_type": "stream",
          "name": "stdout",
          "text": [
            "5\n",
            "------------------------------------------\n",
            "\n",
            "[[ 3  4  5]\n",
            " [ 6  7  8]\n",
            " [ 9 10 11]]\n",
            "------------------------------------------\n",
            "\n",
            "[[ 2  5  7]\n",
            " [ 8 10 12]\n",
            " [ 8 10 12]]\n"
          ]
        }
      ],
      "source": [
        "#np.add\n",
        "add = np.add(3,2)\n",
        "print(add)\n",
        "print(\"------------------------------------------\\n\")\n",
        "\n",
        "matrix = [[1,2,3],[4,5,6],[7,8,9]]\n",
        "madd = np.add(matrix,2) #----> adding a scaler to each element\n",
        "\n",
        "print(madd)\n",
        "print(\"------------------------------------------\\n\")\n",
        "\n",
        "mat1 = [[1,2,3],[4,5,6],[7,8,9]]\n",
        "mat2 = [[1,3,4],[4,5,6],[1,2,3]]\n",
        "mat_add = np.add(mat1,mat2)\n",
        "print(mat_add)"
      ]
    },
    {
      "cell_type": "code",
      "source": [
        "x = np.array([[1,2],[3,4]])\n",
        "y = np.array([[5,6],[7,8]])\n",
        "\n",
        "v = np.array([9,10])\n",
        "w = np.array([11, 12])\n",
        "\n",
        "# Inner product of vectors; both produce 219\n",
        "print(v.dot(w))\n",
        "print(np.dot(v, w))\n",
        "\n",
        "# Matrix / vector product; both produce the rank 1 array [29 67]\n",
        "print(x.dot(v))\n",
        "print(np.dot(x, v))\n",
        "\n",
        "# Matrix / matrix product; both produce the rank 2 array\n",
        "# [[19 22]\n",
        "#  [43 50]]\n",
        "print(x.dot(y))\n",
        "print(np.dot(x, y))"
      ],
      "metadata": {
        "colab": {
          "base_uri": "https://localhost:8080/"
        },
        "id": "sZf3jvIREIVp",
        "outputId": "cdc863f1-eebf-45c4-e07c-ac31cc874d76"
      },
      "id": "sZf3jvIREIVp",
      "execution_count": null,
      "outputs": [
        {
          "output_type": "stream",
          "name": "stdout",
          "text": [
            "219\n",
            "219\n",
            "[29 67]\n",
            "[29 67]\n",
            "[[19 22]\n",
            " [43 50]]\n",
            "[[19 22]\n",
            " [43 50]]\n"
          ]
        }
      ]
    },
    {
      "cell_type": "code",
      "execution_count": null,
      "id": "77761bd8",
      "metadata": {
        "colab": {
          "base_uri": "https://localhost:8080/"
        },
        "id": "77761bd8",
        "outputId": "8e3e500e-c6ed-49f8-f22d-c4264ea04c03"
      },
      "outputs": [
        {
          "output_type": "stream",
          "name": "stdout",
          "text": [
            "3.0\n",
            "2.0\n"
          ]
        }
      ],
      "source": [
        "#np.ceil\n",
        "c = np.ceil(2.2)\n",
        "print(c)\n",
        "\n",
        "#floor\n",
        "f = np.floor(2.2)\n",
        "print(f)"
      ]
    },
    {
      "cell_type": "code",
      "execution_count": null,
      "id": "0571468f",
      "metadata": {
        "colab": {
          "base_uri": "https://localhost:8080/"
        },
        "id": "0571468f",
        "outputId": "a6b34592-a0b3-4645-d048-a3d0d1562edd"
      },
      "outputs": [
        {
          "output_type": "stream",
          "name": "stdout",
          "text": [
            "6\n",
            "------------------------------------------\n",
            "\n",
            "[[ 3  4  5]\n",
            " [ 6  7  8]\n",
            " [ 9 10 11]]\n",
            "------------------------------------------\n",
            "\n",
            "[[ 1  6 12]\n",
            " [16 25 36]\n",
            " [49 64 81]]\n"
          ]
        }
      ],
      "source": [
        "#np.multiply\n",
        "mul = np.multiply(3,2)\n",
        "print(mul)\n",
        "print(\"------------------------------------------\\n\")\n",
        "\n",
        "matrix = [[1,2,3],[4,5,6],[7,8,9]]\n",
        "mamul = np.add(matrix,2) #----> multipling a scaler to each element\n",
        "print(mamul)\n",
        "print(\"------------------------------------------\\n\")\n",
        "\n",
        "mat1 = [[1,2,3],[4,5,6],[7,8,9]]\n",
        "mat2 = [[1,3,4],[4,5,6],[7,8,9]]\n",
        "mat_mull = np.multiply(mat1,mat2)\n",
        "# M = A X B\n",
        "#M2 = B X C\n",
        "#M3 = A X C\n",
        "print(mat_mull)"
      ]
    },
    {
      "cell_type": "code",
      "execution_count": null,
      "id": "492169e9",
      "metadata": {
        "colab": {
          "base_uri": "https://localhost:8080/"
        },
        "id": "492169e9",
        "outputId": "f6b49eda-b80b-4551-f6bc-0024f949e859"
      },
      "outputs": [
        {
          "output_type": "stream",
          "name": "stdout",
          "text": [
            "1.5\n",
            "------------------------------------------\n",
            "\n",
            "[[0.5 1.  1.5]\n",
            " [2.  2.5 3. ]\n",
            " [3.5 4.  4.5]]\n",
            "------------------------------------------\n",
            "\n",
            "[[1.         0.66666667 0.75      ]\n",
            " [1.         1.         1.        ]\n",
            " [1.         1.         1.        ]]\n"
          ]
        }
      ],
      "source": [
        "#np.divide\n",
        "div = np.divide(3,2)\n",
        "print(div)\n",
        "print(\"------------------------------------------\\n\")\n",
        "\n",
        "matrix = [[1,2,3],[4,5,6],[7,8,9]]\n",
        "madiv = np.divide(matrix,2) #----> multipling a scaler to each element\n",
        "print(madiv)\n",
        "print(\"------------------------------------------\\n\")\n",
        "\n",
        "mat1 = [[1,2,3],[4,5,6],[7,8,9]]\n",
        "mat2 = [[1,3,4],[4,5,6],[7,8,9]]\n",
        "mat_div = np.divide(mat1,mat2)\n",
        "print(mat_div)"
      ]
    },
    {
      "cell_type": "code",
      "source": [
        "x = np.array([[1,2],[3,4]], dtype=np.float64)\n",
        "y = np.array([[5,6],[7,8]], dtype=np.float64)\n",
        "# Elementwise product; both produce the array\n",
        "# [[ 5.0 12.0]\n",
        "#  [21.0 32.0]]\n",
        "print(x * y)\n",
        "print(np.multiply(x, y))\n",
        "print(\"------------------------------------------\\n\")\n",
        "\n",
        "# Elementwise division; both produce the array\n",
        "# [[ 0.2         0.33333333]\n",
        "#  [ 0.42857143  0.5       ]]\n",
        "print(x / y)\n",
        "print(np.divide(x, y))\n",
        "print(\"------------------------------------------\\n\")\n",
        "\n",
        "\n",
        "# Elementwise square root; produces the array\n",
        "# [[ 1.          1.41421356]\n",
        "#  [ 1.73205081  2.        ]]\n",
        "print(np.sqrt(x))\n",
        "print(\"------------------------------------------\\n\")\n"
      ],
      "metadata": {
        "colab": {
          "base_uri": "https://localhost:8080/"
        },
        "id": "PeytgUVQEWcZ",
        "outputId": "b56db3e0-0b07-4835-9bd9-734adacaa650"
      },
      "id": "PeytgUVQEWcZ",
      "execution_count": null,
      "outputs": [
        {
          "output_type": "stream",
          "name": "stdout",
          "text": [
            "[[ 5. 12.]\n",
            " [21. 32.]]\n",
            "[[ 5. 12.]\n",
            " [21. 32.]]\n",
            "------------------------------------------\n",
            "\n",
            "[[0.2        0.33333333]\n",
            " [0.42857143 0.5       ]]\n",
            "[[0.2        0.33333333]\n",
            " [0.42857143 0.5       ]]\n",
            "------------------------------------------\n",
            "\n",
            "[[1.         1.41421356]\n",
            " [1.73205081 2.        ]]\n",
            "------------------------------------------\n",
            "\n"
          ]
        }
      ]
    },
    {
      "cell_type": "markdown",
      "source": [
        "### Datatypes\n",
        "Every numpy array is a grid of elements of the same type. Numpy provides a large set of numeric datatypes that you can use to construct arrays. Numpy tries to guess a datatype when you create an array, but functions that construct arrays usually also include an optional argument to explicitly specify the datatype. Here is an example:"
      ],
      "metadata": {
        "id": "EPAYISuTD6eJ"
      },
      "id": "EPAYISuTD6eJ"
    },
    {
      "cell_type": "code",
      "execution_count": null,
      "id": "fdffc605",
      "metadata": {
        "id": "fdffc605"
      },
      "outputs": [],
      "source": [
        "x = np.array([1, 2])   # Let numpy choose the datatype\n",
        "print(x.dtype)         # Prints \"int64\"\n",
        "\n",
        "x = np.array([1.0, 2.0])   # Let numpy choose the datatype\n",
        "print(x.dtype)             # Prints \"float64\"\n",
        "\n",
        "x = np.array([1, 2], dtype=np.int64)   # Force a particular datatype\n",
        "print(x.dtype)                         # Prints \"int64\""
      ]
    }
  ],
  "metadata": {
    "kernelspec": {
      "display_name": "Python 3",
      "language": "python",
      "name": "python3"
    },
    "language_info": {
      "codemirror_mode": {
        "name": "ipython",
        "version": 3
      },
      "file_extension": ".py",
      "mimetype": "text/x-python",
      "name": "python",
      "nbconvert_exporter": "python",
      "pygments_lexer": "ipython3",
      "version": "3.8.8"
    },
    "colab": {
      "provenance": []
    }
  },
  "nbformat": 4,
  "nbformat_minor": 5
}