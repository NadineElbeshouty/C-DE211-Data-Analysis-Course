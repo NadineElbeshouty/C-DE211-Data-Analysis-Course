{
  "nbformat": 4,
  "nbformat_minor": 0,
  "metadata": {
    "colab": {
      "provenance": []
    },
    "kernelspec": {
      "name": "python3",
      "display_name": "Python 3"
    },
    "language_info": {
      "name": "python"
    }
  },
  "cells": [
    {
      "cell_type": "markdown",
      "source": [
        "# **Confidence Intervals and Bootstrapping**\n",
        "\n",
        "### Bootstraping and confidence intervals are statistical techniques used to estimate population parameters from sample data. Let's break down both concepts:\n",
        "1. Bootstraping:\n",
        "- Bootstraping is a resampling method where multiple samples (called bootstrap samples) are drawn with replacement from the original sample data.\n",
        "- Each bootstrap sample is the same size as the original sample, but it's created by randomly selecting data points from the original sample, allowing some data points to be selected multiple times while others may not be selected at all.\n",
        "- This process creates multiple datasets that simulate the population distribution.\n",
        "- Statistical inference can then be performed on these bootstrap samples to estimate parameters or calculate confidence intervals.\n",
        "\n",
        "2. Confidence Interval:\n",
        "\n",
        "- A confidence interval is a range of values that likely contains the true value of a population parameter.\n",
        "- It's calculated from sample data and provides an interval estimate of the parameter's value along with a confidence level that quantifies the uncertainty associated with the estimate.\n",
        "- The confidence level is often set at 95% (but it can vary), meaning that if the sampling were repeated many times, 95% of the intervals would contain the true parameter value.\n",
        "- Confidence intervals are calculated based on the distribution of sample statistics, often assuming normality or using resampling methods like bootstrapping.\n",
        "\n",
        "\n",
        "Now, let's demonstrate how bootstrapping is used to calculate a confidence interval:\n",
        "\n",
        "Suppose we have a sample dataset of values, and we want to estimate the mean of the population from which this sample was drawn.\n",
        "\n",
        "1. We start by randomly drawing a large number of bootstrap samples (with replacement) from the original sample dataset.\n",
        "2. For each bootstrap sample, we calculate the sample mean.\n",
        "3. We then collect these sample means from all the bootstrap samples to form a distribution of sample means.\n",
        "4. From this distribution, we can calculate the desired confidence interval, typically by taking percentiles (e.g., 2.5th and 97.5th percentiles for a 95% confidence interval).\n",
        "5. The resulting interval gives us a range of values within which we can be confident that the true population mean lies.\n",
        "\n",
        "\n",
        "In summary, bootstrapping allows us to estimate the sampling distribution of a statistic (such as the mean) from a sample dataset, and confidence intervals provide a way to quantify the uncertainty associated with this estimate.\n"
      ],
      "metadata": {
        "id": "AE-9dajXEKWw"
      }
    },
    {
      "cell_type": "markdown",
      "source": [
        "### Step 1: Importing all the required libraries"
      ],
      "metadata": {
        "id": "cCNCU9QjTqiO"
      }
    },
    {
      "cell_type": "code",
      "execution_count": null,
      "metadata": {
        "id": "-pJjfugnKYjX"
      },
      "outputs": [],
      "source": [
        "import numpy as np\n",
        "import pandas as pd\n",
        "\n",
        "import matplotlib.pyplot as plt\n",
        "import seaborn as sns\n",
        "\n",
        "from sklearn.linear_model import LinearRegression\n",
        "from sklearn import preprocessing, svm\n",
        "from sklearn.model_selection import train_test_split"
      ]
    },
    {
      "cell_type": "code",
      "source": [
        "from google.colab import files\n",
        "upload = files.upload()"
      ],
      "metadata": {
        "id": "gaN0eW9Mp1D0"
      },
      "execution_count": null,
      "outputs": []
    },
    {
      "cell_type": "code",
      "source": [
        "df = pd.read_csv('pa_towns_pop.csv',on_bad_lines='skip')\n",
        "print(df.head())"
      ],
      "metadata": {
        "colab": {
          "base_uri": "https://localhost:8080/"
        },
        "id": "__dIRSKB6kx5",
        "outputId": "e63b8285-c724-4ebb-902c-86c971b03e19"
      },
      "execution_count": null,
      "outputs": [
        {
          "output_type": "stream",
          "name": "stdout",
          "text": [
            "             Town  Residents\n",
            "0      Aaronsburg        613\n",
            "1   Ackermanville        610\n",
            "2         Addison        202\n",
            "3  Albrightsville        202\n",
            "4      Alexandria        333\n"
          ]
        }
      ]
    },
    {
      "cell_type": "code",
      "source": [
        "df.info()"
      ],
      "metadata": {
        "colab": {
          "base_uri": "https://localhost:8080/"
        },
        "id": "3VBwoN6q-XI-",
        "outputId": "c3e05097-c0a9-45f9-e3fb-1fd4a73dbbf2"
      },
      "execution_count": null,
      "outputs": [
        {
          "output_type": "stream",
          "name": "stdout",
          "text": [
            "<class 'pandas.core.frame.DataFrame'>\n",
            "RangeIndex: 640 entries, 0 to 639\n",
            "Data columns (total 2 columns):\n",
            " #   Column     Non-Null Count  Dtype \n",
            "---  ------     --------------  ----- \n",
            " 0   Town       640 non-null    object\n",
            " 1   Residents  640 non-null    int64 \n",
            "dtypes: int64(1), object(1)\n",
            "memory usage: 10.1+ KB\n"
          ]
        }
      ]
    },
    {
      "cell_type": "code",
      "source": [
        "df['Residents'].describe()"
      ],
      "metadata": {
        "colab": {
          "base_uri": "https://localhost:8080/"
        },
        "id": "AY9LwjSL7gIY",
        "outputId": "eef13d89-62ed-4efa-e439-ec1cad1a0d0b"
      },
      "execution_count": null,
      "outputs": [
        {
          "output_type": "execute_result",
          "data": {
            "text/plain": [
              "count    640.000000\n",
              "mean     549.137500\n",
              "std      223.356876\n",
              "min      201.000000\n",
              "25%      357.000000\n",
              "50%      522.500000\n",
              "75%      724.250000\n",
              "max      999.000000\n",
              "Name: Residents, dtype: float64"
            ]
          },
          "metadata": {},
          "execution_count": 11
        }
      ]
    },
    {
      "cell_type": "markdown",
      "source": [
        "Getting the confidence intervals from the sample:"
      ],
      "metadata": {
        "id": "w19Tn7CiE1Rs"
      }
    },
    {
      "cell_type": "markdown",
      "source": [
        "### Standard Error of the Mean (SEM):\n",
        "\n",
        "- SEM is a measure of how much the sample mean is likely to vary from the true population mean.\n",
        "- It quantifies the precision of the sample mean estimate.\n",
        "- SEM is calculated as the standard deviation of the sample divided by the square root of the sample size.\n",
        "\n",
        "st.sem typically refers to the standard error of the mean (SEM).\n",
        "\n"
      ],
      "metadata": {
        "id": "ba37rTw03GDa"
      }
    },
    {
      "cell_type": "code",
      "source": [
        "st.t.interval(confidence=0.95, df=len(df['Residents']-1),\n",
        "              loc=np.mean(df['Residents']),\n",
        "              scale=st.sem(df['Residents']))"
      ],
      "metadata": {
        "colab": {
          "base_uri": "https://localhost:8080/"
        },
        "id": "j4uRym7P-dc0",
        "outputId": "cf707a33-679b-4d1d-a730-80f9b1562c8d"
      },
      "execution_count": null,
      "outputs": [
        {
          "output_type": "execute_result",
          "data": {
            "text/plain": [
              "(531.800277744372, 566.4747222556281)"
            ]
          },
          "metadata": {},
          "execution_count": 26
        }
      ]
    },
    {
      "cell_type": "markdown",
      "source": [
        "Applying the bootstraping technique:"
      ],
      "metadata": {
        "id": "eKadsb9fE9oh"
      }
    },
    {
      "cell_type": "code",
      "source": [
        "df2 = df.sample(n=100,replace=True)"
      ],
      "metadata": {
        "id": "uwBUgl6C-R9Z"
      },
      "execution_count": null,
      "outputs": []
    },
    {
      "cell_type": "code",
      "source": [
        "np.mean(df2['Residents'])"
      ],
      "metadata": {
        "colab": {
          "base_uri": "https://localhost:8080/"
        },
        "id": "oi0buozG_GMY",
        "outputId": "3f5172a4-e9a6-45a3-c1a6-e2f46c03f31e"
      },
      "execution_count": null,
      "outputs": [
        {
          "output_type": "execute_result",
          "data": {
            "text/plain": [
              "524.0"
            ]
          },
          "metadata": {},
          "execution_count": 16
        }
      ]
    },
    {
      "cell_type": "code",
      "source": [
        "st.sem(df2['Residents'])"
      ],
      "metadata": {
        "colab": {
          "base_uri": "https://localhost:8080/"
        },
        "id": "qnGn7-s8_K5i",
        "outputId": "7d04b602-b9ca-475c-e4ee-154f517ecbff"
      },
      "execution_count": null,
      "outputs": [
        {
          "output_type": "execute_result",
          "data": {
            "text/plain": [
              "20.233820073023157"
            ]
          },
          "metadata": {},
          "execution_count": 17
        }
      ]
    },
    {
      "cell_type": "code",
      "source": [
        "bootstrap= pd.DataFrame({'mean_rating':[df2.sample(100, replace=True)\n",
        "                         ['Residents'].mean() for i in range (0,1000)]})\n",
        "bootstrap"
      ],
      "metadata": {
        "colab": {
          "base_uri": "https://localhost:8080/",
          "height": 423
        },
        "id": "BQTOTcfF_ztS",
        "outputId": "a40e2ab1-04da-430c-dd21-daf9a0fccece"
      },
      "execution_count": null,
      "outputs": [
        {
          "output_type": "execute_result",
          "data": {
            "text/plain": [
              "     mean_rating\n",
              "0         528.91\n",
              "1         518.21\n",
              "2         533.25\n",
              "3         539.69\n",
              "4         546.79\n",
              "..           ...\n",
              "995       515.56\n",
              "996       529.79\n",
              "997       521.45\n",
              "998       543.23\n",
              "999       576.87\n",
              "\n",
              "[1000 rows x 1 columns]"
            ],
            "text/html": [
              "\n",
              "  <div id=\"df-ebe132fa-a33b-4ec6-9230-9acc68465b8b\">\n",
              "    <div class=\"colab-df-container\">\n",
              "      <div>\n",
              "<style scoped>\n",
              "    .dataframe tbody tr th:only-of-type {\n",
              "        vertical-align: middle;\n",
              "    }\n",
              "\n",
              "    .dataframe tbody tr th {\n",
              "        vertical-align: top;\n",
              "    }\n",
              "\n",
              "    .dataframe thead th {\n",
              "        text-align: right;\n",
              "    }\n",
              "</style>\n",
              "<table border=\"1\" class=\"dataframe\">\n",
              "  <thead>\n",
              "    <tr style=\"text-align: right;\">\n",
              "      <th></th>\n",
              "      <th>mean_rating</th>\n",
              "    </tr>\n",
              "  </thead>\n",
              "  <tbody>\n",
              "    <tr>\n",
              "      <th>0</th>\n",
              "      <td>528.91</td>\n",
              "    </tr>\n",
              "    <tr>\n",
              "      <th>1</th>\n",
              "      <td>518.21</td>\n",
              "    </tr>\n",
              "    <tr>\n",
              "      <th>2</th>\n",
              "      <td>533.25</td>\n",
              "    </tr>\n",
              "    <tr>\n",
              "      <th>3</th>\n",
              "      <td>539.69</td>\n",
              "    </tr>\n",
              "    <tr>\n",
              "      <th>4</th>\n",
              "      <td>546.79</td>\n",
              "    </tr>\n",
              "    <tr>\n",
              "      <th>...</th>\n",
              "      <td>...</td>\n",
              "    </tr>\n",
              "    <tr>\n",
              "      <th>995</th>\n",
              "      <td>515.56</td>\n",
              "    </tr>\n",
              "    <tr>\n",
              "      <th>996</th>\n",
              "      <td>529.79</td>\n",
              "    </tr>\n",
              "    <tr>\n",
              "      <th>997</th>\n",
              "      <td>521.45</td>\n",
              "    </tr>\n",
              "    <tr>\n",
              "      <th>998</th>\n",
              "      <td>543.23</td>\n",
              "    </tr>\n",
              "    <tr>\n",
              "      <th>999</th>\n",
              "      <td>576.87</td>\n",
              "    </tr>\n",
              "  </tbody>\n",
              "</table>\n",
              "<p>1000 rows × 1 columns</p>\n",
              "</div>\n",
              "      <button class=\"colab-df-convert\" onclick=\"convertToInteractive('df-ebe132fa-a33b-4ec6-9230-9acc68465b8b')\"\n",
              "              title=\"Convert this dataframe to an interactive table.\"\n",
              "              style=\"display:none;\">\n",
              "        \n",
              "  <svg xmlns=\"http://www.w3.org/2000/svg\" height=\"24px\"viewBox=\"0 0 24 24\"\n",
              "       width=\"24px\">\n",
              "    <path d=\"M0 0h24v24H0V0z\" fill=\"none\"/>\n",
              "    <path d=\"M18.56 5.44l.94 2.06.94-2.06 2.06-.94-2.06-.94-.94-2.06-.94 2.06-2.06.94zm-11 1L8.5 8.5l.94-2.06 2.06-.94-2.06-.94L8.5 2.5l-.94 2.06-2.06.94zm10 10l.94 2.06.94-2.06 2.06-.94-2.06-.94-.94-2.06-.94 2.06-2.06.94z\"/><path d=\"M17.41 7.96l-1.37-1.37c-.4-.4-.92-.59-1.43-.59-.52 0-1.04.2-1.43.59L10.3 9.45l-7.72 7.72c-.78.78-.78 2.05 0 2.83L4 21.41c.39.39.9.59 1.41.59.51 0 1.02-.2 1.41-.59l7.78-7.78 2.81-2.81c.8-.78.8-2.07 0-2.86zM5.41 20L4 18.59l7.72-7.72 1.47 1.35L5.41 20z\"/>\n",
              "  </svg>\n",
              "      </button>\n",
              "      \n",
              "  <style>\n",
              "    .colab-df-container {\n",
              "      display:flex;\n",
              "      flex-wrap:wrap;\n",
              "      gap: 12px;\n",
              "    }\n",
              "\n",
              "    .colab-df-convert {\n",
              "      background-color: #E8F0FE;\n",
              "      border: none;\n",
              "      border-radius: 50%;\n",
              "      cursor: pointer;\n",
              "      display: none;\n",
              "      fill: #1967D2;\n",
              "      height: 32px;\n",
              "      padding: 0 0 0 0;\n",
              "      width: 32px;\n",
              "    }\n",
              "\n",
              "    .colab-df-convert:hover {\n",
              "      background-color: #E2EBFA;\n",
              "      box-shadow: 0px 1px 2px rgba(60, 64, 67, 0.3), 0px 1px 3px 1px rgba(60, 64, 67, 0.15);\n",
              "      fill: #174EA6;\n",
              "    }\n",
              "\n",
              "    [theme=dark] .colab-df-convert {\n",
              "      background-color: #3B4455;\n",
              "      fill: #D2E3FC;\n",
              "    }\n",
              "\n",
              "    [theme=dark] .colab-df-convert:hover {\n",
              "      background-color: #434B5C;\n",
              "      box-shadow: 0px 1px 3px 1px rgba(0, 0, 0, 0.15);\n",
              "      filter: drop-shadow(0px 1px 2px rgba(0, 0, 0, 0.3));\n",
              "      fill: #FFFFFF;\n",
              "    }\n",
              "  </style>\n",
              "\n",
              "      <script>\n",
              "        const buttonEl =\n",
              "          document.querySelector('#df-ebe132fa-a33b-4ec6-9230-9acc68465b8b button.colab-df-convert');\n",
              "        buttonEl.style.display =\n",
              "          google.colab.kernel.accessAllowed ? 'block' : 'none';\n",
              "\n",
              "        async function convertToInteractive(key) {\n",
              "          const element = document.querySelector('#df-ebe132fa-a33b-4ec6-9230-9acc68465b8b');\n",
              "          const dataTable =\n",
              "            await google.colab.kernel.invokeFunction('convertToInteractive',\n",
              "                                                     [key], {});\n",
              "          if (!dataTable) return;\n",
              "\n",
              "          const docLinkHtml = 'Like what you see? Visit the ' +\n",
              "            '<a target=\"_blank\" href=https://colab.research.google.com/notebooks/data_table.ipynb>data table notebook</a>'\n",
              "            + ' to learn more about interactive tables.';\n",
              "          element.innerHTML = '';\n",
              "          dataTable['output_type'] = 'display_data';\n",
              "          await google.colab.output.renderOutput(dataTable, element);\n",
              "          const docLink = document.createElement('div');\n",
              "          docLink.innerHTML = docLinkHtml;\n",
              "          element.appendChild(docLink);\n",
              "        }\n",
              "      </script>\n",
              "    </div>\n",
              "  </div>\n",
              "  "
            ]
          },
          "metadata": {},
          "execution_count": 27
        }
      ]
    },
    {
      "cell_type": "code",
      "source": [
        "bootstrap['mean_rating'].quantile(0.025)"
      ],
      "metadata": {
        "colab": {
          "base_uri": "https://localhost:8080/"
        },
        "id": "zM3YYZRXCVaC",
        "outputId": "fa349f9d-d2d8-4088-8858-e1824568bb10"
      },
      "execution_count": null,
      "outputs": [
        {
          "output_type": "execute_result",
          "data": {
            "text/plain": [
              "485.3185"
            ]
          },
          "metadata": {},
          "execution_count": 28
        }
      ]
    },
    {
      "cell_type": "code",
      "source": [
        "bootstrap['mean_rating'].quantile(0.975)"
      ],
      "metadata": {
        "colab": {
          "base_uri": "https://localhost:8080/"
        },
        "id": "1nmRgDdSCjVl",
        "outputId": "dc1f0da6-3a1c-4f3f-c77d-456ab98e26b2"
      },
      "execution_count": null,
      "outputs": [
        {
          "output_type": "execute_result",
          "data": {
            "text/plain": [
              "561.9325"
            ]
          },
          "metadata": {},
          "execution_count": 29
        }
      ]
    },
    {
      "cell_type": "markdown",
      "source": [
        "### Categoricals\n",
        "pandas can include categorical data in a DataFrame."
      ],
      "metadata": {
        "id": "McaWpJ9UMZbW"
      }
    },
    {
      "cell_type": "code",
      "source": [
        "df = pd.DataFrame(\n",
        "    {\"id\": [1, 2, 3, 4, 5, 6], \"raw_grade\": [\"a\", \"b\", \"b\", \"a\", \"a\", \"e\"]}\n",
        ")\n"
      ],
      "metadata": {
        "id": "4A3-eIL8MbXM"
      },
      "execution_count": null,
      "outputs": []
    },
    {
      "cell_type": "code",
      "source": [
        "df[\"grade\"] = df[\"raw_grade\"].astype(\"category\")\n",
        "df[\"grade\"]\n"
      ],
      "metadata": {
        "colab": {
          "base_uri": "https://localhost:8080/"
        },
        "id": "eSvw8GA8Mizb",
        "outputId": "aff1c0d4-4860-44da-c6cc-7994aa19c9fa"
      },
      "execution_count": null,
      "outputs": [
        {
          "output_type": "execute_result",
          "data": {
            "text/plain": [
              "0    a\n",
              "1    b\n",
              "2    b\n",
              "3    a\n",
              "4    a\n",
              "5    e\n",
              "Name: grade, dtype: category\n",
              "Categories (3, object): ['a', 'b', 'e']"
            ]
          },
          "metadata": {},
          "execution_count": 5
        }
      ]
    },
    {
      "cell_type": "code",
      "source": [
        "new_categories = [\"very good\", \"good\", \"very bad\"]\n",
        "\n",
        "df[\"grade\"] = df[\"grade\"].cat.rename_categories(new_categories)"
      ],
      "metadata": {
        "id": "CDNrGd6lMjys"
      },
      "execution_count": null,
      "outputs": []
    },
    {
      "cell_type": "code",
      "source": [
        "#Reorder the categories and simultaneously add the missing categories (methods under Series.cat() return a new Series by default):\n",
        "\n",
        "df[\"grade\"] = df[\"grade\"].cat.set_categories(\n",
        "    [\"very bad\", \"bad\", \"medium\", \"good\", \"very good\"])\n",
        "\n",
        "df[\"grade\"]"
      ],
      "metadata": {
        "colab": {
          "base_uri": "https://localhost:8080/"
        },
        "id": "jKGtQQejMsxU",
        "outputId": "338feddc-dbcb-4b26-b5ee-7d62d7025be3"
      },
      "execution_count": null,
      "outputs": [
        {
          "output_type": "execute_result",
          "data": {
            "text/plain": [
              "0    very good\n",
              "1         good\n",
              "2         good\n",
              "3    very good\n",
              "4    very good\n",
              "5     very bad\n",
              "Name: grade, dtype: category\n",
              "Categories (5, object): ['very bad', 'bad', 'medium', 'good', 'very good']"
            ]
          },
          "metadata": {},
          "execution_count": 7
        }
      ]
    },
    {
      "cell_type": "code",
      "source": [
        "df.sort_values(by=\"grade\")"
      ],
      "metadata": {
        "colab": {
          "base_uri": "https://localhost:8080/",
          "height": 237
        },
        "id": "RFkIyemkMvY6",
        "outputId": "104f746e-7227-42a3-9611-acb39efff64f"
      },
      "execution_count": null,
      "outputs": [
        {
          "output_type": "execute_result",
          "data": {
            "text/plain": [
              "   id raw_grade      grade\n",
              "5   6         e   very bad\n",
              "1   2         b       good\n",
              "2   3         b       good\n",
              "0   1         a  very good\n",
              "3   4         a  very good\n",
              "4   5         a  very good"
            ],
            "text/html": [
              "\n",
              "  <div id=\"df-5339628c-b078-4d8c-9284-4dcb409f13cf\">\n",
              "    <div class=\"colab-df-container\">\n",
              "      <div>\n",
              "<style scoped>\n",
              "    .dataframe tbody tr th:only-of-type {\n",
              "        vertical-align: middle;\n",
              "    }\n",
              "\n",
              "    .dataframe tbody tr th {\n",
              "        vertical-align: top;\n",
              "    }\n",
              "\n",
              "    .dataframe thead th {\n",
              "        text-align: right;\n",
              "    }\n",
              "</style>\n",
              "<table border=\"1\" class=\"dataframe\">\n",
              "  <thead>\n",
              "    <tr style=\"text-align: right;\">\n",
              "      <th></th>\n",
              "      <th>id</th>\n",
              "      <th>raw_grade</th>\n",
              "      <th>grade</th>\n",
              "    </tr>\n",
              "  </thead>\n",
              "  <tbody>\n",
              "    <tr>\n",
              "      <th>5</th>\n",
              "      <td>6</td>\n",
              "      <td>e</td>\n",
              "      <td>very bad</td>\n",
              "    </tr>\n",
              "    <tr>\n",
              "      <th>1</th>\n",
              "      <td>2</td>\n",
              "      <td>b</td>\n",
              "      <td>good</td>\n",
              "    </tr>\n",
              "    <tr>\n",
              "      <th>2</th>\n",
              "      <td>3</td>\n",
              "      <td>b</td>\n",
              "      <td>good</td>\n",
              "    </tr>\n",
              "    <tr>\n",
              "      <th>0</th>\n",
              "      <td>1</td>\n",
              "      <td>a</td>\n",
              "      <td>very good</td>\n",
              "    </tr>\n",
              "    <tr>\n",
              "      <th>3</th>\n",
              "      <td>4</td>\n",
              "      <td>a</td>\n",
              "      <td>very good</td>\n",
              "    </tr>\n",
              "    <tr>\n",
              "      <th>4</th>\n",
              "      <td>5</td>\n",
              "      <td>a</td>\n",
              "      <td>very good</td>\n",
              "    </tr>\n",
              "  </tbody>\n",
              "</table>\n",
              "</div>\n",
              "      <button class=\"colab-df-convert\" onclick=\"convertToInteractive('df-5339628c-b078-4d8c-9284-4dcb409f13cf')\"\n",
              "              title=\"Convert this dataframe to an interactive table.\"\n",
              "              style=\"display:none;\">\n",
              "        \n",
              "  <svg xmlns=\"http://www.w3.org/2000/svg\" height=\"24px\"viewBox=\"0 0 24 24\"\n",
              "       width=\"24px\">\n",
              "    <path d=\"M0 0h24v24H0V0z\" fill=\"none\"/>\n",
              "    <path d=\"M18.56 5.44l.94 2.06.94-2.06 2.06-.94-2.06-.94-.94-2.06-.94 2.06-2.06.94zm-11 1L8.5 8.5l.94-2.06 2.06-.94-2.06-.94L8.5 2.5l-.94 2.06-2.06.94zm10 10l.94 2.06.94-2.06 2.06-.94-2.06-.94-.94-2.06-.94 2.06-2.06.94z\"/><path d=\"M17.41 7.96l-1.37-1.37c-.4-.4-.92-.59-1.43-.59-.52 0-1.04.2-1.43.59L10.3 9.45l-7.72 7.72c-.78.78-.78 2.05 0 2.83L4 21.41c.39.39.9.59 1.41.59.51 0 1.02-.2 1.41-.59l7.78-7.78 2.81-2.81c.8-.78.8-2.07 0-2.86zM5.41 20L4 18.59l7.72-7.72 1.47 1.35L5.41 20z\"/>\n",
              "  </svg>\n",
              "      </button>\n",
              "      \n",
              "  <style>\n",
              "    .colab-df-container {\n",
              "      display:flex;\n",
              "      flex-wrap:wrap;\n",
              "      gap: 12px;\n",
              "    }\n",
              "\n",
              "    .colab-df-convert {\n",
              "      background-color: #E8F0FE;\n",
              "      border: none;\n",
              "      border-radius: 50%;\n",
              "      cursor: pointer;\n",
              "      display: none;\n",
              "      fill: #1967D2;\n",
              "      height: 32px;\n",
              "      padding: 0 0 0 0;\n",
              "      width: 32px;\n",
              "    }\n",
              "\n",
              "    .colab-df-convert:hover {\n",
              "      background-color: #E2EBFA;\n",
              "      box-shadow: 0px 1px 2px rgba(60, 64, 67, 0.3), 0px 1px 3px 1px rgba(60, 64, 67, 0.15);\n",
              "      fill: #174EA6;\n",
              "    }\n",
              "\n",
              "    [theme=dark] .colab-df-convert {\n",
              "      background-color: #3B4455;\n",
              "      fill: #D2E3FC;\n",
              "    }\n",
              "\n",
              "    [theme=dark] .colab-df-convert:hover {\n",
              "      background-color: #434B5C;\n",
              "      box-shadow: 0px 1px 3px 1px rgba(0, 0, 0, 0.15);\n",
              "      filter: drop-shadow(0px 1px 2px rgba(0, 0, 0, 0.3));\n",
              "      fill: #FFFFFF;\n",
              "    }\n",
              "  </style>\n",
              "\n",
              "      <script>\n",
              "        const buttonEl =\n",
              "          document.querySelector('#df-5339628c-b078-4d8c-9284-4dcb409f13cf button.colab-df-convert');\n",
              "        buttonEl.style.display =\n",
              "          google.colab.kernel.accessAllowed ? 'block' : 'none';\n",
              "\n",
              "        async function convertToInteractive(key) {\n",
              "          const element = document.querySelector('#df-5339628c-b078-4d8c-9284-4dcb409f13cf');\n",
              "          const dataTable =\n",
              "            await google.colab.kernel.invokeFunction('convertToInteractive',\n",
              "                                                     [key], {});\n",
              "          if (!dataTable) return;\n",
              "\n",
              "          const docLinkHtml = 'Like what you see? Visit the ' +\n",
              "            '<a target=\"_blank\" href=https://colab.research.google.com/notebooks/data_table.ipynb>data table notebook</a>'\n",
              "            + ' to learn more about interactive tables.';\n",
              "          element.innerHTML = '';\n",
              "          dataTable['output_type'] = 'display_data';\n",
              "          await google.colab.output.renderOutput(dataTable, element);\n",
              "          const docLink = document.createElement('div');\n",
              "          docLink.innerHTML = docLinkHtml;\n",
              "          element.appendChild(docLink);\n",
              "        }\n",
              "      </script>\n",
              "    </div>\n",
              "  </div>\n",
              "  "
            ]
          },
          "metadata": {},
          "execution_count": 8
        }
      ]
    },
    {
      "cell_type": "code",
      "source": [
        "#Grouping by a categorical column also shows empty categories:\n",
        "\n",
        "df.groupby(\"grade\").size()\n"
      ],
      "metadata": {
        "colab": {
          "base_uri": "https://localhost:8080/"
        },
        "id": "k779xLCvNFnr",
        "outputId": "43f903a1-c4f7-430e-8e39-5d28bc8c7f45"
      },
      "execution_count": null,
      "outputs": [
        {
          "output_type": "execute_result",
          "data": {
            "text/plain": [
              "grade\n",
              "very bad     1\n",
              "bad          0\n",
              "medium       0\n",
              "good         2\n",
              "very good    3\n",
              "dtype: int64"
            ]
          },
          "metadata": {},
          "execution_count": 9
        }
      ]
    },
    {
      "cell_type": "markdown",
      "source": [
        "\n",
        "Every dataset you work with uses variables and observations. For example, you might be interested in understanding the following:\n",
        "\n",
        "- How the height of basketball players is correlated to their shooting accuracy\n",
        "- Whether there’s a relationship between employee work experience and salary\n",
        "- What mathematical dependence exists between the population density and the gross domestic product of different countries\n",
        "\n",
        "In the examples above, the height, shooting accuracy, years of experience, salary, population density, and gross domestic product are the features or variables. The data related to each player, employee, and each country are the observations.\n",
        "\n",
        "When data is represented in the form of a table, the rows of that table are usually the observations, while the columns are the features."
      ],
      "metadata": {
        "id": "P5a_o5uz39I1"
      }
    },
    {
      "cell_type": "markdown",
      "source": [
        "# Correlation\n",
        "Statistics and data science are often concerned about the relationships between two or more variables (or features) of a dataset. Each data point in the dataset is an observation, and the features are the properties or attributes of those observations.\n",
        "\n",
        "### Correlations Coefficients\n",
        "Correlation coefficients quantify the association between variables or features of a dataset. These statistics are of high importance for science and technology, and Python has great tools that you can use to calculate them. SciPy, NumPy, and pandas correlation methods are fast, comprehensive, and well-documented.\n",
        "\n",
        "### In this tutorial, you’ll learn:\n",
        "- Pearson r\n",
        "- linear regression\n",
        "\n",
        "You’ll start with an explanation of correlation, then see three quick introductory examples, and finally dive into details of NumPy,Ccipy, Sklearn and pandas correlation.\n",
        "\n"
      ],
      "metadata": {
        "id": "Ggy5Ms-u3d-6"
      }
    },
    {
      "cell_type": "markdown",
      "source": [
        "If you analyze any two features of a dataset, then you’ll find some type of correlation between those two features. Consider the following figures:\n",
        "\n",
        "![image.png](data:image/png;base64,iVBORw0KGgoAAAANSUhEUgAABN4AAAF/CAYAAACWiQTKAAAAAXNSR0IArs4c6QAAAARnQU1BAACxjwv8YQUAAAAJcEhZcwAAFiUAABYlAUlSJPAAAP+lSURBVHhe7J0HnFTV+bDf7QWW3nvvvYOiIvaG2EvUqFFji5qoSUzyJX+NmkSjxpJmjL1hiV1QEVEQBOm9997bwvbvPoc5eBmm3Jmd2Z3ZfR+4v929c+eWc89523nPOSllDqIoiqIoiqIoiqIoiqIoSkxJ9f1UFEVRFEVRFEVRFEVRFCWGaOBNURRFURRFURRFURRFUeKABt4URVEURVEURVEURVEUJQ5o4E1RFEVRFEVRFEVRFEVR4oAG3hRFURRFURRFURRFURQlDmjgTVEURVEURVEURVEURVHigAbeFEVRFEVRFEVRFEVRFCUOaOBNURRFURRFURRFURRFUeKABt4URVEURVEURVEURVEUJQ5o4E1RFEVRFEVRFEVRFEVR4oAG3hRFURRFURRFURRFURQlDmjgTVEURVEURVEURVEURVHigAbeFEVRFEVRFEVRFEVRFCUOpJQ5+H5XFEVRFEVRFEVRFEVRFAMho507d/r+UmrVqiUZGRm+v7yhgTdFURRFURRFURRFURTlGAgZbdq0yfeX0rBhw4gDbzrUVFEURVEURVEURVEURVHigAbeFEVRFEVRFEVRFEVRFCUOpP3Bwfe7oigJwP79+2XKlCkyefJkadmypWRlZUlKSorvU6WiKS4ulg0bNsgnn3xi3k2zZs0kNTW+fRakcvP+N27cKDVr1pTc3FzfJ4qiVAVWr159pI03adJE0tPTfZ8oXsjPz5eFCxeaMkxLS5MGDRr4Pokfixcvlq+//loKCwujmttFURSlKlBaWiqrVq2Szz//XIqKiiQvL08yMzN9n4bn22+/le+//97Y0hUhu5XQ8C7RpczfVrt2beN3BgM/qLzs27fPXG/27NnSsWPHuPtU8aJGjRrG/ogEDbzFGOukL1u2TJYuXWp+rlmzRtavXy/bt2+XQ4cOmQqWnZ1tjkd44WQjgEpKSoyDXV0NcIxZGuKSJUuMEKBCUx7+QacDBw7IrFmzjNFtx1cnU2CKZ0PYUA94Pv9GS1158MEH5dFHH5XLLrtM6tevH3HDrigOHjxo6u/y5cuP1Heejzawe/duMx8AyjiZ6zRtlnp57bXXmvZ92mmnlcvhosxsefFeceD8mTp1qjzwwAPG0evatas0b97c94miVF+QJxhsGO3IHdqO1aWWgoICWbt2rUybNk1WrlwZUEdwHmTUd999Z/QywfSK1iFjx441ch59h0xB38UCW0aUAXIGmcxPAn2bN282nyF3KJNkNXZhy5Yt8vrrr8uf/vQnadq0qQwaNMj3SXTs2rXL2BTUK/Syf70Crnf//fcbnda9e/eAsltRlGPBbl+3bp2xe6ytiIyi44G2R/CGdmVtK+wuZNacOXNMW6QDsrp2QG/btk2mT59udMWKFSvMhm6zMp1OCMqOraLKCFsYHXbHHXcYeYmdSsAGeKf4aPgAdCoF4ve//738+9//Np+XV3bHE+olOoEyt/qUssdPI0hFOeTk5CSsj+YVEguwR6hrvXv3lnr16vk+OZZwgTdsEMpq0aJFpu2y+dsaxEUIP6FTf/KTn5i6m4xEE3jToaYxBId63rx58s9//lN+9rOfyfXXX2+cdSrVLbfcIvfee6889dRTRoBaaLTjx4+Xiy++WF5++WVT6asre/fulauvvlrOOussOffcc+XDDz+UPXv2+D79ARymO++8U84++2wjBCnDZIFA61tvvSWXXnqp/O9//zOKyR8EUIsWLaRLly4Jm+1GkJi6OmnSJHnmmWfkF7/4hdx4441y3XXXmXp/6623ym9+8xt54YUXZO7cucboUg6DofSPf/xDbrrpJtNbGAiEeZs2bUzADaWuKMph+Yn8v/LKK+XHP/6x0bcYeW6QS88//7ycccYZcuaZZxoHgE4dN+jq9957T84//3z57W9/a+RZVQAnAef2008/lUceecQ4RTfccIORy/zELiFw9Pbbbxunzb9cqjPoKerC7373O1mwYIFv79HgjHTo0CGqCZUVpbpCgIJMUTqT8YWQR/hG2IzYivfdd5+xFem0tWzdulVefPFFYyvjI1UVGR0NdMTSCY/Pc9VVVxndx2bLkIDJF198ITt27PB9I/7glxBo69Sp0zHyELsWX+6hhx7y7TkWOkuQpXXr1vXtSSywK/BJZ8yYIf/617+M//7Tn/7U+Dds1ONf//rXxt+nAw/dqxwGOw0bjNgHdZfOUH/wbRnRRR1I5g7AaNDAW4wg+ENvKUoE5YIAHDFihDF2L7/8chk8eLAxclE+9MQroUGIjRkzRubPn28acXWicePG8qtf/UreeecdE3xJtJ4UFBJGEYIV5fPss88aBTVy5EijmKjzw4YNMwGmxx9/3Gw4NYp3+vTpI3/+85+NsicNW1EUMbKwc+fO0qhRI5MtQU+0v1FH9gQZxbbTAqOYjAA3NkuX4TE9e/asEkEU9CTPhLNDx9RHH31kgvbnnXee3HzzzcZhozOHskG/vPLKK6YcFO+cc845Rt9dccUVITMCFEU5DPL5gw8+kLvvvttktyBr6fDAV7rgggukR48eJnvos88+M1lFSnAIUtFhS1neddddJmEDGU8nPh3d+AwVlYiALj7ppJNMwsiPfvQjE3yLBDqFkKUEExMNfBySBai3+O9PP/208XkGDBhwJJnmxBNPNMf85z//kWuuucZ8Xp2Dw5HCKIP/9//+nwlqBsour8po4C1GEGQgQ4voeL9+/eSrr74yabSk09IbQeP88ssvjWAcNWqU71uHM4dsY8Vw5ncEJ5sNOCEE+J19/M4W6DiL/3n4nX18zx/22WMg0HcDfc/ify/ua7nPGylkfDHPGdFyHKlI8b8vey/RPgu/B/o+f/uXWahr2XPa393fsfsZlokSa926tTFScB5D3YMbe85AxwS6T/t8kYAhRdDtiSeeMN/FCJg4caLJ4kL5kzVALxBBZo7p1q1bwN4g//vh92D3wz73/bq/y+/uY9gP7mP46T6v/znsMfb8kWDP4+Vc9lj7GT/td9js8RhTpOBTDwKlYHNcoGsGu3d7HT6333V/j88VJRmgd3TgwIGmjdDZ5Z8ljr4gE5rOLoIjdHT5B97ICuMYPifI7Q9txLZVL+0k0PHlaVvuNur1+2SVMOzy1VdflXbt2pkOj3Hjxsljjz1mMkr+7//+zwTbGDZ/zz33mCkM/OWyv2ywz8D+QHBvHMPn/t+1922P4SfH2L/d+yz2c/d5+J19kRDoPKHOxT62YN+zEKjFNqlTp07A6RP4fqBrup/RjT022HMH+56iJAtkJZOBy9BwAtZkr2EXIpPoXEQmIaMZOYHvBLYd2bbKT9su2Ox+e5xtK/5tyN1+An3uvoY/9pruc9vvsfG3+/z+BLqW+zz8jBQCb3RsM8IEGf7Xv/7V+JRkdhO0nDBhgtFrbrim+z7c9xIM/3u333HfM34Jw3/JWrLy0F7LHsff/uewMK8bshSZCu77DHdvHBOo/NzncF8z1PkCQUY8PjyJBATUCHLSkUUGJsMjyYqmvjLUFn3L0Ez/7HGu6V+O/B7ovsHeu71f93f5Ge4YNn+CXZ/vRoL7ul7OxWd2v//3+A5QX+hAZVRPoIy3QM9nrxkI9tvz2/v1/16ge60MNPAWIxgyiBOAIKIXAoPevzIRRGnVqpXpdQbGwV944YVm+AdGM0K0b9++JuOJjR4BMufo2f/lL39pMl+++eYbM0SGoTb0FNFbT4+DxWYiMVyTFE6CN0OHDjXBEO6PCuiGfUTxOQYHhqGwp5xyivku50fII8wDVVj2cS/0CBBcIROB3vWXXnrJBF04L1l/VPxIIX2ae0epEHyLBMqSHiBbRpR5r169zDkJjDJ3hD+MWUfQ8iyUM5lmzLuDUH333XdNsJReDoYtWXDmCKaiBHlO3ivf69+/v8kwwMBwOzaUL2VCIJZ5hYj2M0+Mfd8Id+B9cy0UGmPkKT/m+qJ38OSTTzbPFoyLLrpI2rdvb45xZ4JQL1577TVzDu6Tc3MvP//5z002WiRDjnhmUsmp35Qx2RXUe39wjLkf6rF7DgfqII4vjuDw4cOlbdu2pr6dfvrpJnjH87tBCdIbipJG4RHkoz6TVce75fq0E4w3nonMO4YoY9TxXnBCGdpgh3hTb7k+jumpp55qyov3xr2QLYIB41VAE3B/8803j2T5UXe43nHHHWfS0LmOu83R40vv2HPPPWfm66Dt2/fPRvCeusgzMtyaOkuGihvqA/Oe3Hbbbaauce/UI+ouQ8jIPnTD9ZEflPH7779vjGDqJ8YCz04ZYQjHYsJURakICKoxHJuMaGSbhR5o5AfzmB1//PEyZMgQI7P9A29kWNjAGzrXH9ofbZPrIJ/Qbwx5oq0H6kRgjtaHH37YZHKga+x30O84lpHqQOQ9mQAM42HIKMNrw4EdQGcV36F9jx49OmDQnmdGZtJzj461oBfRj8gVHGB0BPP2XHLJJUZuoFfdIPuwWZAhZKejE9BbBDKRy8hyjF3KDJ2DHkC2Uq7ILeQ58hYZCZQr7wq5iSxFriFLGTKMTRHJMCreLY4R74xrcR7sE8oUG8dfRuJMce/oNjZkr5XJvEdsNZ4FuY2O+ctf/nJMtiB1DueM8qLcKFuuTXkyJYN/ZiaBCO6HcqBc3njjDVNfuE82dOdbb70Vlf2kKIkC8hh5i0zEfg00lyVyChuG4YdAhwFBOmw0bGVGVuCg2zaJrMNeoV1xHLIO+x3fB5uO9o4Mw3628DvyhkwlPscewsb/29/+dmQ+YjfIHNo6mXkMyydLmHMi22jX2KD+QS4L8gX5Z+1Png15yz0ifzgvgbNYgPzgfGQQIVOYO8tiR1lxbew9ZCrymaGSBI2wrd1QBryvP/7xj6YckUPId54Xv9aObgHkEvYmz0aHD+8YOXb77bebDbmO3rDvjA0Za+179AEdaP/973/N35Qln2NDc2/+8hLQOdj1+L1MmeAG/YUeIrObZ6W+8b7QhZR7JGBT4GtQPiQWUH6B5llmbjvqE8Ok/Rdd4/nRQegvnoly5Fjum/eEPnGDr0uZ40ugh3lObBjeGfoIHYS9g42B30XZc118ffuOeAe2HtNueF8cjz6iPPDz0a/udhEO9Bp+Pu0AHwn7AruKe+JZ0NnutsOzYVOhz2ij+B7YUbwTnof2BsyTR6Ykn/lPRcT5eFbKgJgC1+Pa+E72vP7gq9PesMOoh7w/YhnUMTLV//73vx+xNSobXVwhRljHn0AWRiYKJlCPKL0EtnHiENM7j4DBsEaYULloQPxOZSNwRKXEEUCAcixRd1IzMQgRulQsGjbXRlHR2Ak8YLxyLwgRFBTOARFmGin3AQgylBWNC2eea9hjuC4CgHkX6B3nGm5QIFyPiVJRYjgc3B896jgACFjSkQkeBIpo+4NzRJYggp2gDIY+90yPiHviTsoaQYAgQlAj0O1wTBocacH08vNslBFlybAjhC8KHYMYIWpXbeF6BDwQEAgkvkPZU0Zch+cnSEIZILisAEbA0Mh5VvZR1gg3lB3CiP2A8OdcCFruHWFOEI73jCBCSNn3TRny3B9//LEJiPF89AzRo0TQlUnFcYgIZLmHR3Fu5qXhfaAACLAhsLku57H1gvqG4uU6ODq8b+oG3+HevQxrRVGiGLkHAlp8z9YnN+zjfBhVtAX+tkEjhDhOCkaYLVOGSTFPBQ4Nf3NPwH3yXlEyvDOcEY7hPXJtnoVn4n0gfDGiGF5GWXEe6g4GBAYCGWTUT4QyAVXgPVC3aSe0M94118bAAq6PkuB43hO9i7bsKTvaI/fH/aCUaJPUKRxRnofnw9mlLKjjGAi8Y+oJbRdlwXnZSN0n0406R7CRdk69sHUOhUMdtkFk2in1BwMARUWwl7aPkmMfUDdImUc+0c55d9QD7pV6hVFJedFeCH4qSqKDPMGoR44iQ61uQicQWEYnYXAje2hHBONpQ7RbdBRtgONoJxi6bl3NVBEEu8jUoC3SLmknnJOgDLqa87ll3pNPPmnORxvnXpA3tD/0CdfnPmnr7iEVtFdkFOfGiEUWImvoaCJYg8xBThKAQR6Fks3IFIJB6B2CTcwHFGzuHO6bcmCz50SuoHNwBtG5yD7kFosH8DfPgDGMTrF6GBmHTKEs0e9k9QN6kPvl+/w+c+ZM41Sg95D52AXIYmwGyp/y4l6Q65ij6E3uHb2JLMUh4xpcDycWWQr8zfOy0dHh7tyhk4nzcU1kJLKOc2J4I5PRQcg66gflgc5ANqOfsTeoU9w/7557REbz7nhf2BHYCNyfXVyBeocdxQgH5CmOMHqJ90IZobv5PrrI1jVkMQEE3jP6gGekHLhX7gl9Th3kHXEtRUlGqN/YF7Qx2hJtwx/qOzLEylTaLe0DuYStgi9zwgknmDZFmySAgR1MW6M9IksJOGHnsJ/rYOsRyKDdI7+Qj9jz2JDIYmQLNief0c7Yhyy298A98xl2IZ22yAzkFjIQGYacxtbievggFvQDAQP8EGQU9httmvvD9kSeog+wXQkIeAHdg4/CvTN3mpXBwP1yL5yX/ZQVMpXypqOXDn1sWmQW5QLITGxd5BP2I3IHOxEbkEAmNibnoqy5dzrWkZ3IKd4D5YT/SpmghzkvMgodxjmRozwjOpfAD+dhswEYOuUJHNHBhNy2spvyRFfwTLw766NZsHkJvCCrCcJYvU9dYVoWAk28L8oWWUudQv8gf3nGQJ1s/nAujscXRdfwLoP5Rtwn+5Ht/LR1B5+L4CXynXLlupyDMqFOYafznihHe1462ElywZewq2eju6jzBKTxDXin1HHeBc+FPsIv5VnR2cQd0F/Ua3Q5/hA2BZ9TVrQrzks9xEahDdh7pg1Ynwl9avUswTzKlrbGZ7QBYgSUE/UIPcXzcz7geQn68Y54n9R/2hb1j42y4Lk4hjpNeyGz0N1JyEIP+Ku8B+oedQs/mHKh3uL/cS6bLQnoWewzZAbf47wcgw3HvfM598YzB7ONooE6H6huhCJ5lxpMMKgUOPAIhTFjxhijm4aF0KLR+AsQoEJhJPPSEJoYemStUFHs5wgoCw2IBksj4Ny28tDwqMQYlAQHuB6NnsrNuRGWBMlQUAg1PncLIAQo3+c4hgrSQGkECAmMaRwKNnqHOB+VlyAfgRC+Q88FkWWMUBobjZreHhRmtMtEU344D1yHAAbCmuh4KBAqCHOekQbHXAj2WVAGCDZ6qbg3BAjCABBgBE+4dxwdep1pTDhoNGB6uRE+/kIboUnPEc/NxjvGOeE+EADUA4xpBA+BIZ4JJ4/3iADBmCeTjvcHbiHiD+dGaWEMIOhw6KhvFgJaCDEEM3WI50OgIqAQ1NwHwotMB5wilBDPi4Dj2XFSqBfucwaC8yPEEKhWuYXDCnYgoES9QWFjPKEcqCOUGwqHekpdw2ii/lLGbnh+ejfpfeNzFCvtxJYddZl7pO6xKij3SNmhGDgXZYcxwk+c3Wuvvda0I+6RZyKoyLujXDCo3BkhgaB90x5xpqgD1oChXdAe7dAvsjwodwLp9r1QJ+kNw7G2oNA4RyA4L8YbGZOUI89Hu+P+CeLRvlH0vG/eP4EHf1CUBEsJHFDu1BuChwSqqSME9GgzXgLlilJZUEfRk9Rngh7Iato5RjeykTaBLEOO096QN8hg9CmynHaEzMBYRDYA7QtdQxtiHx0xyG7OQTvBuXvppZeMo0Fghmwla3AhkwjIY6xyDdoP94TTSdtCxuJk4XTa6/mDIYvDQ1YGxiNDsejNRi67A4OBQHYiU7g2AS1rQ4TCLZdxaJB9yC0cGnQtz41cwWAls41n4F7IKHDfD/qMciPLAWfJynOr14BOPModuYMsRBZTRshMfkfmIieRiWS3IBe5PuehQwWZRxY3eh3dwPdCQQcm+ppzsPGeuE/eO3qZACDvkQ4q9DJODbqDzykXnE+rC/kudcVdXm7Qo5QR0ysAPfo4mbxn3iP6hnvHNsHox46y8HxcFzsHec09o8+oC9gx6ErkOXZiKPtAURIV5BEbMgYZQhvH9iaIjr0TqF1h22GH036wdZC12GtW3iJb3HYSch9/hcA3vgJtj3aFvCJIRpvHdsTmxsbBFkPeE8Bg5Anyh8xcZB/fsSDD8Y2wnWnXyB7ul3Min7FV8duw65BnBNoIXtDmkTuMJODZ8UGwS/EPade071iBfER+UAbID2w/5Db77HzjyG/8B2QI/gnyj3tBBmIjY0/zXvAvCRrhlyDnsX95LmQnz8azhwpa8Bk6izLDx0G/kjFmoUyCyW4CfdQL9Ad6kHNY2Q28T85JgAhdjm4G3iPzhNFxxPMjuwkOUebIZjpy+Bz5TNCQ5w1l3/Ju8BW5HjqAOhpO/4Ktx9QZfEYCbPjp+BiUA59T35Dp1EfeCTa8u74B75MOK5I6aAc2doCeRIcCgTWenwU2uAbHcH7KjvIgWEiAjWwxbBPeI+VIHcRPoKOQ83MftBV774GgzmMLYVOgmyhX7pG2yTPiN+Dr0Eaoe7wzfG+r8/FRsJe4DuXOOUKB/Yb/hU1DIJH3iV2FDUa7o8y4Ju+YumYDhMA1kQPoX+IHlBnlQeAZO4z7JJBJHahM1LuKEbxgKgmCGwFF7ydZNURycXQR0hheVBwLjZmeEhoLFZJzUHHpUWFjvxU6wPEIAoQildwqNIQdDZEgEccz1AEFg3OCcuM73AMRcZxsAk1urPHHvfM9jFu+Sy8EBiwVm0ZAhQYaAIKbAAzPjJGMskNIoIBoaBjYCOvywH0jKGlMCAt6fUJhMwgoDxQJ90FgiPvimVDcOAYIb5QS50UwI8hxzBB2CDKegYbJ3xjmNGKMc3/Yh0BBAHJ+rsP74Hh6eXhHlBvOIfBueL/cH++bciW4Y9+321EJBAKWa3DvGDEW3h9KEyXKNbgnlAWgROlF4dwY9rxPlAD1gufEweJ+qRMEo8KBY0b9pi7yHJE4A9wnjg0Kku/RE4eipcyobzg/OKec1/Yw+sP3qN8cy3PwPbdjyjUoW5QdgT37/il33pftVeL5cRS5PufgHnhfGGUci5FGOYcDR4pzsFFfuBbnw8EmAIqBh1FHIBBQOrwbG6Sjjdv3z8Y9BjMKUJr0bHJfGHvUcQwNrslzomBpjyhFnpHj/aFNk+nBT4KGfI86QQ8Xhg5ljqJSlESGABMylzaEjMXpAH4iY6jbyFdkG/KEdk9gHXDkOAbdi/FmQQcyLJTPGMpBe0Kv0Z5pJwRMMOZoy3RwoQctOAK0IYw6jqdNcn+0Lb6D7qTtYqwGgs/J0sJgRm9iO3B95IcXo5/gIzqAZ2Xz8h0LehA9gQ6g3OgcotyQkcg0jHfsAo5DLqL33SCvkJ/IZStPOY9bnyFTsG/QQRzD53wHWUg5Yrug3ylDdBLlbvUCso57wjlAv+O8hIP7Ri8jH7kW74N92BMEsXA+Md4pM6DMcDCoV2w4GVYmo6Pddpg/lD1ODvUL/UWQgPpC+VEf7NAn7ADsr0DylaAttomtb9Qn9BdlwPMSwFWUZAS/A1mGzUb2Kp2rdLjSaY2dRlCdgI+1kQA7CNmAzEC+YCcRPLBtEjvQbSfRfpEdtD3kLm2PdoSzT+CFtodNz30gT2hXyAVsauxQ2iTBcbJk3KATkAXIJOQJ3+G81mYiwIU8xCYGMsZw7pGV6BDkprULsS/xQdA5nDcaCAphPxMwIVBIEgFDYLkmZYRdx7MTbMNnQnbYoCWyiPvA7kdWc//IXDpNkMHcEzYgz0RZcZ88q5WdyG2eIVTgxNq0yH50EEEY+87YkLHBdBP7KWvKDBsWWUk5WngWfDyuwXNSN7D3kbt02vB9yhx/lDrAO0aPIVvxmbETeNZwZU/gjHpA/aIcItGlgD+J/0KdJDCETW7rDfUNXYb9jw+NreHvJ6Pz8V35HuXOPbC5A83oKN4f9Zn3xLPyntBT1HWywvguwWv0CL9zfd4f94QepLMIez+cn8775l54/1av8S6pR/gSPBs2FcEt4B7wi3j36GzqAj4VepSf7mzNQHBf+KI8k623tH2uSxukLfKOkBm0Nze0Y+QGwTp0KffJ9ygDzoP/SjDQbbtVBhp4ixE0Cio+zjzGM4EXhAiCDAH40ksvmeErRLlpFNHANRBKCC9/Q5DKRMWn0tFIbJQcqPwEsbg/HBMUBcLVwuc0Es6NQrPRbwQOQQ2egwAVlRYQXCgzjFYaP43JKkG+y9/sdyvGaOBeMGQRGlwvnNCksSLIuG+EMcEHlBQbEXSMe+6PZ+E4AhMoKH4HBJgdXmhBaGAEU67+cC4aOr0zRNNRgPTmM0yIrAUECArZi6PgBYQI92gdJWuo8C4RoAQUuVcEDQYHEJBFufIueF7u1ZYJG0IaIUS9IGPCXS8Cwee8A8qY+hjJO6bcKQucTOoigtxdj7lnFAMCF2eG5/EHhYoCCRQItVCXUbYcY+sy4PTiwKDUuX9+p1646whtg+fjPm3vUijo/UFJM4SBHiR695ABZIEiByhz3oF18MoDdZr3zjMR2KZdusvPBhIwfLgnW6/dYLCgxKwxwbkwYFCe1AO+hzGjKIkOQRWMW+QbbRW5yE/kDHKQtoGBi8wgWG0D0bR72jntB+MRqPMEY8jWpk3QXjGe3fIBRwDZxed0fPgHUAjuMTyFoBmZxegBeor5LufH8Mdg9Id2in1AxhkGNVkbOAqB9HwwOC9yC71v27ZX0IGUB89lnTM3yAfkBjqQ4/zlCnoAhyJUkJD7wvCmQ4LruEHv8E7sM1COtszZCJChRylDZKkNsoYCuUzPORk2TFuBc837QD6zD2cDeykWBjj6BNuDuobDhKPifkb0FQ4L9YXycwcYLNhsvG+rT/nJ38hqyoVrKEoygkwj2MXIAOaXws/ARkOOEHxgeCAjdJiDKZDN5wVkE/ZkoGwq2ibtB9sIZ9wdwMDmpM3yfeQB8t3tYyDPkGvcv1sWI1+ws2nr2GW2QwUfCVucZ8YG5aeVBVa+2uynaECHkb1FJhsbv+MbIWPIFKaTBL8JGYNtz33arCC3rY6fg+5DLhM0wU/lWPZhN5PJRPIIGX2UCwE/7pkyiMTmjxSCMug+YAQPZWshoIX9S1CHwCf3g/wmmItcpazRDXSCWN2B/kZXcxxylJFl7vcbCOQ0x3L+UB3hweA+KU9kPrYHdd1CfWM/9ZB3hD7DXnGD/0xd5nmCwTGcB1vfDfdOBx/1kLpJGyNA5dal6FfaAPYS9+olQQa/j8QOhmtj0zByjNFxtF3aLPUDPR4LsOdor/gkBE5tu+N9UF8JrPJeCMJam85C+VK3KXd3G+N4yoz2zL3yfiuT+LWgaggvHcFFLw6ON5PuU0kx9ggg0cDopSAN2Z355hUqIMI+kDFOZaKx0ciJjvtDI7SGPEasOxCAYEFhIfT8hQwVnedCWNmgDI0bBx1hZiPbbjiea4USHF5BQNFTxjXJHAqVhYTQ5dlQJJSzVU7ujeAbAgeBjqPF8TRenoGG6W6sFhSvv0LHCcBhIaWY89LjQoAVZYcwQ1nZ3iN/wRotlCvOJmXO+W2GGs+DUOU6KHuEsX0OhDv3SZm4FbZ7454pB4yHcAEi3ilCG2GN8OK9eIX7o44i/HDCqFv+4Axz/9wL9+0PQjXQ9yzUb94V5/Cvyzwj5cF94JQRBPcvC4YGIPhpT8GyU9ygxKgD9OKS0Yrjzj6UAnWVcuI84ZS9F3g3NmhIMNpfDvDOCRRThtTtQA4qwTmUkBvOR/2nTsciQKgoFYENvCELCbjRNjBkkVEE3oA2QdAIWcIxyHqMdGQzct3qSuQY8gH5hMxm6H0g+UBWGvKDtkV7AeQgwwGRHQTP6NwgaIeTgAzguhyLTAkkB7gfhh/xEyeJTjtkWCBdFAzaNO2Ydm/1tFfQhZQLNgJyOdB10TnYB1ZfurF2CdcPBjIb2RNIduPscl42nCb/MmejXClzru1Fn5IBgkxG5+HA0QnG+0BnUkd4Rq4Xif4KBvqX+oR+ptPIH/Qljj3vFF3gLj/ugw2Z7V82OMK8V+6xsh0FRSkPNiONbB86JfCJ8I3wkRihgfNuZSdtKVKs/R4IzkcbxSdBBrmh7dGxwH7aGDLBHYig7dJukY3+WJnL8TaAb+0uvkcHhr8NigwlCBbKhg0F18QfIviArmCaEtuhQCYQdiHwLOhDZHMgW5H7xkbGXuSeKSPumY5v5pVG5qADSSigQ5mkEfzWYItJxAp0N0ki6BMCSHSAW18D+c3fNiADlDvBJX6iR1566aVjdAfDKvGP0L1uvR0Myopytjo7Uh1BuXO/JK3wrv2hnAmUch17rBsCp+iDUPDuaFP+cK/YEZQHuo7gqX95MOSWsuVYrh/q+fiMJAh0Kd/Fr8aH5ty0WfxK7AfekRe97AV8NO6fsvPPjqM9UTa0R2w1f3+FdkV7DmSLWN+VemDba2Whgbc4wEtHcJDOyXAwFA09PaT30qAxAt1DBb2CkqDC+QtzQEiwcUygz4H9fA5u4cM+jEb7mRv2sXG8u4Ha393ntNjvBLuPSKC86A2mp5yAFka0v6CycE/cJw0PpYfC8d9IOWVIrZ3vwEu52edxg7IiwMK8DygDUm4ZpkjPOkqQzDeyADh3LIIuFhxKgrsIV4I8nBunkp4phBQ9Qe4goX1PlEmg8mBjCBVDbFF4oZwnQBhyLp4LZR0oOBYKr2XNce76ZqH++xsRbjivfyDYwvnYEL4YYYHKgo1eQ1KVbTZMMKiHDDkbM2aMuWfSvpkjEGOSOkDwHYeLZ2GLBfY8lIF/nQRbfhCo/HDm/Mve/zuxuldFiScY4DhM9LQS3CJriqAKRqm77RJ4o70QbCcQRqcXBhpBN7esRJZS99GFZBcHkg3ISBwchrRYWUngj3lb0On0QiNLrXPJT5wj2pw9vz/cA/YC90SHFplxkRqGdEigKzFGkcvBdGQwuC9kQDDZamUEx/k/A/uRy1aGBILzcn+BsHKZz3GeA5U72SoM3UfGEhwMBc+PE09PP8fyvshCtnKZjlHuJ5Z62ZZJuPIDf7lM3UAu+5ef+zuB6o2iJBPUZeQE2SgMq6ZdEnxjpAh/48AzlBw5HinI4mAd/bbtuNuTP7bd+ss39tM2A0G75Xz+37G/+9tZFvu9aCBQ9vOf/9ysJkkmL5lHBN4IxNGRZM9r74m/eYZA12Mfmz2W+8K+x4fBdqUTnyAHupWOITqi7FQM8YJ75Rl5HnQZHVh0VHBNgj28Y9vhZrFyHL8EPRpIf+DvMbSZehZMRlus/kdOo9sj7chyl2ewcrf3EMjexj8JVpct3GOw4K0tD3wPOoL8ywLbiKxTAqz+GaD+EHgk0MZCBwS58I2YPgtfl59Mo8D57DPHAnseWz8DQdkGul6o9mrPFav7LA/lj4woYeGFM2SAoAhKh8rszniLpEIEq4gEGxA8RJ0RlP7YXg0i0yg/Gm60cA84PFRynB7/SDdGP0KTXqZYgNFN8I3rkQIdLOsNpUE54BzZRRSCbQRBeQbKAseHZ2C8eKB3QK+Af/YTRgIBVD5jHjgCq8yjx++MSyc1HcHnD2UXyfv2B0eC8sAxY04e3jXlgYJAuaAw3IKHZ0NJ0ZOF4gxUFnYj0yKYc2QhWEmqPIErer8CzcPmD8/JRp2jjlIH6UXhpz/0WlF3eI+BenTKg33XBCjpNWRoQ6ByYKOsUNKh4D5JXUcJEKjDiMSYpByZV4MgL+8p1HuOpA6gaAkqoFhxzv0dR86FkUIZ2mMVpapCW8awpP1hmNMRQuAKGWl7jJG1GJe0eeQkw0WRPRxD4M7COTgf8g25Q4AGYzOQbGAjE8DKWYb60B6ZfwSHhSE/dLhhpCJDyBYLBcE6AvYMLyGIz2p49CZHYvATeCOQiAzAQaFjJhzW6LdyEX1N2QSSSeh57BbKh2P9CWaXWEJ9TnlzD7wzgmuByttu6HWGa4UCXUh2BOXBnHK8E+bZYwgTHWR8n7L1f063Xg5UBsHAScL2wO4J5JSiA+igovzQr/69+IpSXUHu4rhj39P+safxU/yJpD36g3yhjWKv+XcUc17kHtcleId8CxWICAd2F4Ej2jyywD/IzrXI6In3yAJr/3EfgWxF/uY+2LDLra2NDMQvQg4z/JdMNxafwF/iO2TBMYVPONyyNFK4d7vAHf4efhm+FiNR8D3QkxZ8QjLLqEcElbjXQHqDjawtOmCCBWYs1AH8JeoMyR7Bpohww3Pad0258ww2Q9sf/B6Cy5QnfhTHxgrKnQAs5cJ0NCxEEKgs2MgExFcNFQugvRB4o74SbGO4OKvqEpTFtiHzMJg+i7YOcD7uHx/b3+/mXFaXclwsy64i0cBbjMCQQ2GQqhwIGhnBHSowAt4GOKicCAJ+0rj9BbVXaGxkeXEPOBcIXAuVFacDYxwBi9NRngpLo0D4cQ4EojtgxU/+JiAR7bP4Q/ng1CBISG0l5TmQU4LgxcnhGJwwgo2BoDHboA+CD6eF81FGBC3c0MAZNogQdUP5IhgoCxwnd6YY5+Y7OE+B4HlQFLxvf4UYDq5D4I1rIrxJzWfcPuezK7S5wfkgGEegl4yMQMEu3hNl5dXRI5OTzDuejzk6yPgL9Bycl/qIAYICQpHyfnDcyEzh++46wvVRdLw/jDDSsWMJgtoGJnnXgQwj4N3STgOVlRvqEfeMoUU9sgYbbQADi946HFb/suEdsrHfa5kD5ca753sMa8aQdN8/ZYxxQvvDeLLD6BSlqkJ7sPPzYCAix9hnjT7AMKfjC5mDbiQ4hxxyB944nuAPBjcyC/mNU2L1moW/kQvuTiV0BPu4DnLAQjtFn+Co+J/HDYYvGd04DXSeMDyE4SDIx3AGvwWZRlAJG4CsERwWniPQdZFvdNhQDtgkbh3Ic+OEuuFZmY6A/dgOHBtLeBecE33K9YPdN/eHXA6ka9xwHp6R7DnsHVsXkJXocYazuu0jCzIZfc5n4WS/G8oPh5B6wPy9vDP3/VPWyGXOy7OiLxSluoD8wFbx76C30NasTY4stL4JNi02FW2Jdh9KhoYCv4A2ShvE7nPLD2QKHSfINrKlOM5ty0cK8gb9w/2SceuW39w/1yeQE+2zeAVbl4AmZcqwe2ST+5o8LzqTckcmYW/zubVp+Z3yZz/2PsEWsqTQiWSOhwM5yve5fiAbOxS8cxIXsNXxWbhPdBr3jN/DZuFdkczCfdqyDVTPuAfeiRd9ip9C5wwjlrCp8TepO4Fsdc7LMZQJ16XcuB/qAfeNzeG+JufAF8M/5Trh5quOFMqdDH98BRIz8PkDPTP3zbsOp0vRWcQ0KGd/P5dn4RmDZajyHtG91IFw13GDDYOO5Lyc311/uCY6lrLmfgJ1AiYDGniLETi7DINkMkcaPw43RjdGJAIDIxpBjGGJQWjHqFMxcRyo0AQCMIaJ6KKoUFheBTROBHMoYHQyDw0BDIxMrk9Dx5gnQ4kAlp3/Jlq4V3rzEXaMnceZ4Ro8Lz3mDIFkzhuEQKzAsCXCjpDCqeA6/pDphtDB0GUsOgqV47gvNt4JQR3miuN9AcIPQcn5eTeUHcfxDjiGBR1surMbekNw5gDHinfHNXjXlD0TUfK9QNj3jVDkXt3v2wsIHJ6V+2NeMZ4HQY/j5S/EScsm84r3QyYFGWp8j3pB/eBZqRcEULkXL1CHmF8C5U7gjeG2KB57XjZ+R1mRms4caJQJipgy4z3yzMyJxPug3LgXshSoT5Qlio9njCVcn7pP5ilKmh4fnp13ZsuD9kc9oJzYHwqMNDId+A5ZJpSfbQMEnuktpP26gwDAO6JXDeXB83Nd3j8biiVYm+cdYwwgPzCmaAfUIa5JeROERcbwXpAF3JuiVGVwLpCnGOjIe9oVjo8/yEHaCaty0t4I9OBouUFfMUyU8yGzGL5v26dtY7Q3jGYCUdYg5FxcF5li5QbfweimjSIj3cZjIDBSeRZkIvKJuWrIuEOuIhO8wDBMOqeQrXwfhwHj1co3K5uQs8hshg8h/wk4cm30CnLs5ZdfNsfxHb5LoAp5wzMgkzGMYwllh7yiHNGl3Dc6gDK094BsRZ9iR+FEhoLgIAY5x/JOeG88O++O86OT3A6Ehe9QFjiXvHeujUxG94d6f1zPTvaNPqaOWV2IbnjjjTeMPqBe+k/SrihVHWQK/gAOM23Qtg02frd2H39jh9vAPgE4bBicfxxwt53kH9wOBbIFGx8bFB8NuxR5wPk4r11JmuwfOk/KA99HBgPD3bmmfV5scHQBugpbNJ5gm3IfyLQxY8YYH40Ocu4Dmc/7oPMWe5yAGvKQMkV2cX/IX6s3KCf73vB7vHQcYOPiW1HOnMv6OAR7wulC5CjvnqwqAjboKXQQncn4BZzXQjlSR8jI49wsnMOx1hZn43nxyZnXjOcId30ga40h0AT/OCfvknKx/qStu9Ql6hTTGLDf6kj0Ke8b/U8AjDLkc/S5na+ULE/Kn06zWIFuob7jB3O/TIXD9SkDrs91eQbuG51ug4XB4D1yj7RBnoVnsnUCW4dz0IYCYYPYlDnXR68SnyAAGgqSegiW03aIp1BvqT9ck2thm1HO1FtiEMlI9KF95Sho9AgyhASCgJ5zehKoeFR4Kj8ViIbMQgv0bAMNhWAAQoWKTUMgiEbPD+dgrLsX+D7HYmjS2Mh+IsCBoESY0tC4Nim87lTdaOCe6aFneB1ChNVNWIqbDBsaNQ2N+0dAx0rBcB6cJ4bwsGIoQs/feEYg0zNDhB7nAUFLGaLIEeZ8h8aMAGBOHgxmQEjhcDGM5Q9/+IMRJhgAHI/C4rl4l5zDPg9BEHqCEEosrICThXLn/fGueXY+45274RyUP5/znrgG7xvhi8DGeQoHyh3Bzr3gSFDWDKNBWfiXN8+OUkJooYDJCrHBG7JDUK6UCfWHNGJ/ZzQQ3CtDKvlpJ7AmBZ3nokwR5DgclANC2j2ElaFhpCzjuOJgYXTxPZxLerX4HgHESy+91JOCjxTqA+8axfyf//zHGCC8f5xt6g37aUM4SAxR4r0Hg2GzBDVRppQD7Z/yo0wJ3uFQokAwPN0gHzgO5YFTRhlZBUKKf7BMP9od36OOMq8H8whyfeon10TR4pQyrIp2oChVHdvbjVOH3KHdss8fdAdBEXQTxyMX/XtLkZ3oTWsc0/4JRqELkLEYfwRkkFHMbYLcQAZiANLRgvNIoItr4Tigc9ELOEDI3nDQvtHR6BPmIUU+YqRyHwyX5fNQII8YIsu9cg5WV2WVVe4HWYqM5f6Qy5wXec+xQGcKc+CgAx988EGjAwkUIVeQa3QKMacLNobN7I0ldOQQ4GIIL/IN/UznJHoW+Wh7v9EdTNDOswaD++Z5sMVYIRY9i8zlHDiB6CjeJbrYDWXPRmcb8pwAK3UEu4KhwMjzQPA5OpX7InBKHUKHoY+pS+g4jmE/86kqSnUCGUKwG/sEuxPbFRmMvMbeoqMeuwU7kCk6rP1DG6ctY+cT/EA+YKchp7Epww05t9BRgD2JrY1MpZMZ/4VgAjYnMh29gc3E/ZUHaxNix3Mt/C0CLHSGYhNicyNHCCj52+qxBP1D+aAPyKS+9tprjZ7i+dCByDZAzzAHKaAT0GHIXuxW7ErkJu+GIAvlRAcD/ms4uA7vDj1y0003GR8XXcm7R4eEkt8WkjsoQ/Q2tjJ2u01YcYNeZJoXfC1G/9ABh97m/iljG3gj6EOHE/UhXNmjF1n0g+lo0JP4CugRro+O4JrUa2x7ygV7Al8bncJ30ZXoLfxifB3qG/UYX4uy5N7Qz/hdsYbrMEyYuQBpNwSvsInwG6l3lBO6lPdNZxa6yV8XWgie8b44DwFq2g7lhw2EXkPH4ZP4j/SjfPFnqfckwWAHUUZci7pAGwkGn3NN3ht2E51W1BvaDj49viyxDXQs92ehThF0xF6zWbNuKHPeQzg7qiJIc4ycP/h+V8oBFYqgAgKH3hObRUTQiygxDQwhjCBEKNuXT4WnkqBsqFBUMiL2BEg4J8EdG5Sg0aJAqMCBKg9KCeXFtRAGnAdlR0MkMENDp8K7DWeEB8KNYzBq/SssQppr0xtCD4S7RwhlxTU5B8Y890eABQWG0CQYQ+AC4e5FyRC0wlGgEXMvKGe3QMAIRnjbrAXOyQSRPK8tDwx1ygClg6BFwSCIMYA5P4ITA5lytY4XghJhQoNHoNheH2BOAIQWThT3Q/lxPa5tlSxGPOfnfdOrw7kRepQF58Jpchvc3CPn4hn4Dk4j75vednrdCAxi/HNNygHh5v++EZoIUMoc5Ui94j4DlTPvCCcRZcS9UscwdnBEqFt8xmThKJpgzoU/VrHjVDLMGaMIBUNd4SeBaMoTp5F3hDDkXfIcPDuCE2VKuXEvZCdQrjwvTg5lZt897Yn6jADnXhGuge6T8kA5ogA5TyBlwj7aD3O8IbTt+0agYwTSDjCUCF4RpONcXJ+ysoqXdmDbkDUiKVfqGkqV58IwZDUoMtC4L4wGG8TjHnhWNhQgwV2cW35yXygI7oV6QR21gVKwsoJ6R/2mrKnfKCnePxPj8uw8m31+7ofsHeoK7dIGei20CwwIgrhci/INJF8UJdGgPaB7CJbjyOEYELz2b/u0Y7INaFfILRw8nItA0AaQXZyD9ol8oO0g49B/dP5wDdvGkPMcjx5B7yNfkVe0Y+QfjgoZ57TPU0455YjTgSOGvORv5L41gDkP+gL5T7vFYaQTJ1QngAUdQvvlGfid72Jccx1kLSDfCEhhh6AbuCbliP2CTkf/UqbYD8guZBxzmKIjbAcU4JBxHOcmcIaj5R+U450gE+lU5Pl5zkAgd/k+1+ccOEqUO/eOA4POJHCFDYWhz/HcJ/KPzfbyA/fH77wXbC90Oe+R4CPBRTY6PDgH87JSToBM5P3yk/eN/GXjd2wYdA73g65AP+FYWBuCnwQ40bHoFI5BtyNbkdX33XffMXOooiNxLJDddKTwjG7osOUc2GDoS3SooiQbyElkoQ3iIKuRGbZtI4exEQlw0KasDYsNguPOd5Gr2Ee0R37iQPM9Ovo5FzYazrrbP3GDzYTthpzD1rQ2J/fGtbHVkG1uuwe5wbUItATqEMfe49rcH3LLtl/uGfmLvCDggBzjJ/LV+gXITXQGwQMvoAvIrOL+8a+4RjjQI1wDOxZZwvNwL/gXlN8999xzRK4BcpPz8tMGVnhH6EzsT+Qm9iX2I8dgV2I3MtKC89lAC1Cu+AX4hlwX+xYfh3eLjkbn0VmFbKOsrOx2g13NudFB6AQSPbC9A/k4yGx0JroBucp98ay8Y3wc7pln5fuhAk1uuA7vFr3Ds3Be6i6yHZ1DOVKv8Cf/9Kc/mbpn743fKRPqBLqMeoK+553gwzP6iPrg1pfoGWx52gn3afWSG/Q5ZcLzUm7cXyA4B7YG9827p65il3AvPDs+MvOf8pM6zz6uz33yrtGnnAMdiY3A3+gpjuE86DXOj01APaB+U9eoA8D5uDZ2F9+zfgplgB7G18Rn4lmQAQQq3T4Juo72zbmp+9RD6grnRGdjV1nbBSh37ge/jXKhjflv6GeSUPCnuRbvIhZQnyL1l1Icw8hbvq4SEoqRHhSisgSp+J3oMvupHFRgXjQVwF3BLHwHpcRPKhvf44XScPkbI5PKTqVB+NoK5w/X5Dh6qLkHzkOloAFwPv9ro7BomJzPBpTccD9cm3vgXvy/z7UQSAg3sIKE4Y80bIxNUkO9VEyugWDhvhG6wcqJ4Bb3be+Za7rLg/NwHGXAfVEmfM49cCzvgfJw3xPf4VielZ+UG8ci/MjoYsO5oGfFKnf7zvkO1+M6nJPzU9bs453yu3W2LNQTW25cm3NxLYQd58TJ4xjKgbrj/775HufmGbkm3+OZgsE1CNbZMuFvWyaUM9+lXrnLxAvcK/fJxjvhvOA+L+Xhf16+x/PzPX7nXnhOKyT53ULZcO8IaMoIJyfQfVLeCHPqMOUWCttO2LhvrsH3OC/lwH1z/+xzX9+2Sfs++IxnsOXK39w73+deuR/ui3rqrs9cn+9RBjy/LTfaN9/lOwTWuB+e1/1drsE9W3nBubhP6iv3x/f92zFthme19cRdn7g2n1HnuBaGmH99U5REhXpL+6MeU/+p4/7QxmxbpH1Tz2kHweA42gTtnvZFm6MtuvW4W0Zxfu7BLc9os9wPx+GAcD30gP0e50d38Df37G6zPAttlutzPdok9+0VZBHn5zmsfOOerHyzdoj7mhzD95BJXJd7sM+BLOM+3MdTLhyLHEImcs5AcoNywUnh80Dvxg33yvFcn3LknrimLXfK0Op7e32O531yjxbunf2UAecEnoN74Pnp9OIcyGW3LuFYvsNmr8/n6BN+8qxWp3M993e5JvfNPVldwL1z3xzPdd3lw/2jUzgWm8Jdn8At46k3oeqroiQqtAvqOG2Dn7Qr9tn2QXumbrP5twHbppCT9nuAHKEtcz7aCOeijbjtJH+sbAlkc9KW3bINaMdcl3YbaPQF5+JzK5/d9859WtnEtTg398b9MgUJnUAEG+gw9wL3jD4IJLNCQbkgPygjrs19cS88EzKJe7cyiWM5Btnnfk/B3hHHcyz6l/Jzy0N7Liu/kHVAWVsdaPUxZWeDf/7gm/L+ge8FOw64JuVk759r8mzcE/fPs3J9//ccDsqAc3Ju6pB9Fvd5KUv/81J+fI+N37k/npsy5Dn83yF1hfLiGPRpoHfMc6FLuRbn4NrBcN833+NvW+fd79O+f3t96in61P2eeW78Ec7D3+gtrs3G++EaVie6sc/P921d4jjOT5nwLHyGfvUvP/bzXc5v36UtP//3yGf4TjxXODgnbcn/etFCkNnLdd1o4E2JGhoNDc1d6WggRKcZDspPegIYlhOrSh4PaAIIFBq4f08SPRz0DBHp5yfBRCuQFEVRFEVRFEVRCCgQwMCXcPs9BBLItGVuYYIPTNFDJquiJBP4y2SxJQsEMQnWWQj2EvSNFRp4UyoUFiIgNZXeIHpsqUoM7SDgRnooaacsW0wPjY2qJyIECxlWQ/ov6ei2d5t0a56PNFmy3ZhTy6bSKoqiKIqiKIqiANm0TN/D8D6G15OdRzYRPhHD7QjKMSSOYZsEBRQlmUimwJs76Iafj1+vgTclqWHiSCZdJEBFpaanh42eHsbsM2kn4/kTHVJgCbzdf//9RinyN71TPBONlvkbeBbG7NNTpSiKoiiKoiiKYmEY3pgxY8wCb3aInfUnmKOKeZGZa5c5LRUl2UiWwJs76Gan7WGEngbelKTGTsDJ5Jv06NhAFRljdjW4RB5iaqEJ0EtFph4ChWdBUfIsZOsxGbddtUZRFEVRFEVRFMUNjj2rJ5PxRhCO+a8Y8YPTjx/BYjVMYJ/Io4AUJRjJEHjzD7rh09t5YDXwliRQRLy4aGGyQno9yAZTAkOAjnKyE2kqgaGBUx+1LgUHg4bJYxGwKt6Cw1yFlBVB5kihvTLBqRJ/qMNMCBtNXUam0iHCpgRHZYY3rIEZjcyoTjDptJ3QWgkM+gc9QjlFguqeigf9E01dVt8nPKp7vFMem7U6QX2ijOKlfxI58EayDEE2IPDNXPRAgIwFOgiEkyxEBhxbNPrHnYSjgbc4gdPCqmTRwuojNAINKgWHBkBjsY1ECQxDXRGmCA8lMAhGejyoS+r4BAflQVlF06mAAcRy3kr8QUWz2nM0qhrdg2GBUa8Eh3aAUYbMUJMoOAQ8cHzK0xFZHUD/sOKhBryDQ3ASPcLqj5GAk4Ozo1Qc+D/R1GUyTAi6qe8THHwfpudR3RMebFbKK1KZUd3AlqGM4hXwLk88JJ6QUWpXIN64ceNR90mWKT4L5bJs2TLTKcAWaV3CVnTrn2gCb4k/DrAKgKGqhIYy0nIKj5aTN7SMwqN1qeqj79g7Wk5KrMA4V0Kjsqnqo+/YG1pGSiypjvXJHXSjozpRg4Og1oGiKIqiKIqiKIqiKIqSFLRs2fJI0I2AW6ChsHb0UyJkoWvgTVEURVEURVEURVEURUl4GOrZoEED8ztBN4aYBoL53lhUIRHmp9PAm6IoiqIoiqIoiqIoipI0hAq6AfPsr127NiHmR9fAm6IoiqIoiqIoiqIoipLwbNu2TebPnx8y6JZoaOBNURRFURRFURRFURRFSQrIZksmNPCmKIqiKIqiKIqiKIqiKHFAA2+KoiiKoiiKoiiKoihKQlG3bl1JT0/3/ZW8aOBNURRFURRFURRFURRFSRhatmwpbdq0kbZt2/r2JC8aeFMURVEURVEURVEURVHiTu3ataVXr17SqFEj355jIejWoEED8/vevXvNz2QmpczB93uFwSW3b98uu3fvlv3795utsLBQcnNzpXXr1tKsWTPfkcdy4MAB2bRpk1nJ4tChQ5Kamip5eXnSpEkTadq0qaSkpPiOjB0lJSVmqdpoqVWrlnk+7lcJDOmjlNPOnTt9e5RA1KxZU0pLSyU/P9+3R/EHmVCvXj1TlygrJTDIW8oK+RsptNdQijLR8dc/BQUFkpOTYxQ8WzBod5s3b5atW7eaZckpvxo1ahjdg96Kh/5BX3LNaFS16h5v8B4ZxoDMqASTKGlAZlDHscOU4NSvX9/IF2xHJTDIW/TIvn37fHu8kZGRIQ0bNvT9lXxY3cNz047QPbQr9E6LFi18Rx0Lusf6Plb3YA/i+8RL91jwf6Kpy/hmxcXF5n6VwKSlpUmdOnVU93gAmUF5RWOzViewZZAvtL14UJ54iD/Nmzc3vgT3u3z5ct/eH3AH3bhurFYvzczMNFukdQm569Y//I5OioRKCbzhDH/88ceydOlSo4T27NljopgokLPPPltGjBjhO/JoeDFz5syR77//3hS+rVQorU6dOslxxx0n7dq1i7kC0sBb/NHAmzc08BYeBKMG3sJTnQNvY8eOlcWLF5sAmtU/OMtnnHGG2QJBObFs+fTp02XdunVH9E9WVpZ07NhRhg8fbvQPhmEsQUVr4C2+aODNGxp484YG3sJTXQNvn3zyiSxZsuSI7uH5eZ4zzzxTTj31VN9RR4PumTt3rtE9GzZsOKJ7srOzje9z/PHHG92DHIsHGniLHxp4844G3ryRTIE3OhuQf4ECb+6gG/IS2RcrKjPwVilDTREuq1atkh07dhinhYIn3TAUONAE3d5//31ZsWKFyYwjQDdkyBBzjq+//lrefvtto8hUeCmKoijBWLNmjckcQGHS44ahEgr0D0G3Dz74wATs0FknnXSS6ezBuZg0aZK8/vrrpiNJg72KoihKIFavXm10D04feoSgSyjQJwTd0D3Lli0zzii6Z9iwYSbb+ptvvpE333xTOxoVRakyYJfHK+hW2aT9wcH3e4VBjylRQjIETjvtNGnfvr2sX7/e9KLSexNo8jwCajg2pFqTkTBq1CgzLrhr164mCIcywyGipxFlRk9arCCQV54eXgKD9BbFK/pcFSCKTDlpz1hoMNaoj0VFRb49ij/IF3rGqEsahA8OQSfKioyoSKG9YvQnK+gJHBf0DzoHxb5r1y7p0KGD2fyhN46OHQJ2J598slx44YXSu3dvo384Hv1DYM7qH9ppLIm2h1d1jzfcMkMJjpUZqn9CQ2YgWaaqf4JDXUKPRKp/yHhJdt1Dhhq6h0xpspnxb/gdX8gfsrHfeustk2V9yimnyOjRo43u6dKli8lyI4lh0aJFR3RPpNkXXsD/iaYuo38IBqr+CQ5tgMxF1T3hiVZmVDewZSijeAXiY5nxzqgM5Dn3a0e82eGnEK+gG3qELdK6hP3j1j/8znkioVIy3rhxFAxDS706KDg19BIRlOvcufORDDkaYePGjU32G8Kd3h/mTFAURVGUQKBHmJcNxwB9FA4cGwwAsg1weGyWAt9lWDNOFEyZMkWH4SmKoigBIViG7+NV9yxcuNDonlatWh2le/B9yAhheCoO9uTJkzV4oyhKUlMRQbfKJmlWNV25cqVRKigf/2FBRHdxpMhy4zgCb9rTqCiKosQCsgrIOnOnv1twoOhIohOJjDjNtFQURVFiAT4Nc/rS6UMnjxsypfB9yARCR6nuURQlmXDLKxaJqepBN0iawBvZbgxvIOhGGr8beo1welBKDKth7jhNbVYURVFiATqFlHSyDfyHOaF/cHwY6oP+IV1eh0IoiqIo5SWc7rG+D1lv6B4dBq4oSrJgs36RbYxeBOI9VTXoBpWyqqk/zF3wxhtvmJUygq1q+sADD5iVgK6++mozP4J/8I0X9de//tX0+tx7773So0cPk4ngBgU2a9YsMxcc37/uuut8n4SGImL4EKnd0YBThlKMZlWg6oI1IHSYcGjs3IUaWA4NbR9jVXt/g8O8BLS7aOoS3yPTuCrACtnvvPOOWbQn2Kqmjz76qJngmrndRo4caVYXdkM23MMPP2yyE2677Tbp16/fMeXDKofonwULFpiyR//466hAUIfJeLAGSiSo7vGG6h9vqP7xhuqf8CADsakjDRTxHTK9qgI4l8zftnbt2qCrmv75z382U+1ceumlxjfyD76hV/7yl78Y3XPXXXeZ+d8ClQ86aubMmUaPwTXXXGMWBvJCtKvoq/4Jj+oe75THZq1OUJ+Qq/HSP8y1HysYQeJeXJO5Ue1cb26QIbHs0I5W/1D/3PI1mlVNkybwdv/995vA249//GOzklygwNvjjz9unKd77rnHBN78lQ+CjeAbk5VS6Exm6gUUB9+LxvEB7hVBoVkQweF9YFDwbpTg4MzTZBFOSmBop0zYSV1Sxyc4OIconmjmhaG9hlsJNFnwEnh75JFHjMNy8cUXm8Cbv/ODU/OnP/3JnOOWW26R/v37H6OjkP8YFDhK1FEWZaAcw0EdRv9EA/eJYaG6JzS0A5xQlRmhwaai7upcUqFB/yATsB2VwOAcEsiNNKjDd8KtBJoseAm80aFDZ80VV1xhVjP11yvoE/QTuueOO+6QPn36BOwUQw+gf1hECJgewavDyPeiqcvcKw6zBpWCg+6hI099n/CUx2atTmDLIFfjFfBmQZhYwVzLjBbxAolVsZpDGdnHFqn+of659U+VDryhfJhkFOXDaqj+GQcE3ugZ4lz33XefWW0OxR4LqLzcW7RghOH4aLAkOBhTlFOgSLfyA9R7DKBoeyCrAwhGhl5EayxWFzCKKSscxEihvdq5GJIdL4G3J554wmSrsZo2K8shq9yw6ilZ2egf6/zEKisDFY2hE42qVt3jDdoBgWRkhgbegoPMIPCmC4iEBkeCgIhm+gSH4BB6BNkZCTg5ODtVAS+BN5ttfdFFFxnfyD9LjUDaQw89ZHTP3XffLT179vSUSR0J+D/R1GXulaQDDZQEh843HHnVPeFBZlBe0dis1QlsGeRqvDIDyxMP8QdfrXXr1r6/gsOzLF++PGayhPgQW6R1CVvRrX+iCbwlzRxvpCJaJR2o94SXQo8BRiHHeskkUBRFUZRwEMBCuRJwCBTEwinZs2eP+Z1j0VWKoiiKUh6sPsFBDKZ7bLYUx6rvoyhKskDAmU7tcNu8efOqTAA/aQJvrCZHdJJIq38PGSnUDMXBKSLSSy8LUUlFURRFKS+kw5PBRma1DbBZ6PRB/6CX6PRR50dRFEWJBaz0h+5hlT//4Yhu3YPvo7pHURQlsUma6FTnzp2NUlmzZo1Jz7Zz1pCaiyNEKja/9+rV68g8JIqiKIpSXpiPjeEg69evN0N6bNY1OodMBHrkyDzo1q3bkeF4iqIoilIemIuaDh30jr/vQyBu9uzZZkqN7t27m6F4qnsURVESl0oLvKEwUCIoE+avIYXQTv7JPhwcengs7dq1M84PQTacHOZ74/vMjYDimTZtmplXg4UXYjW3m6IoilL1IEOAud3QNazQxJyJZA8wX47VP+55LJiDAgeIrGr0DavMWf1FCvzkyZONczR06NBjFl5QFEVRFAike/B9gumetm3bGt3D9/B93LqHhIMpU6aYbDd8n0CLKiiKoiiJQ6UsrkDvDIEyNuYsIOiGIiGLoHHjxmZ5WdKlGd7DYgoWJr9+//33ZdmyZUbRNGnSxHwfRcXQ0iFDhphV52Kdak0mQ3kmEyRTTye4Dg1zWFBOBF6V4OjiCuFBFujiCuGpzosrTJ8+3Wx23hwcIIJqPBMb5YIeuuaaa45kEKxevVo++ugjs8IcsoohQDhMOEDoiMGDBxv9E6tFFSyoaF1cIb7wvrEpdILr0OjiCt7QxRXCU10XV7C+DzYcvg9BOOQzeofnQhbhB1111VW+bxxeze/DDz+URYsWmcxrfCP8JXwf5JXVPfFKOsD/iaYu6+IK4cFf1cUVvKGLK3gDWwa5StuLB+WJhyQKlbm4QtofHHy/VxgIF3ptZsyYYV6gVbwoYRQQAojMNhoYvTgWnOk2bdoYx2b79u0mWIfyIhvh9NNPN1usg27A/ZbH0GSFIZRWvBpBVYDKTDmpgg4NgoL6iMOvBAbHEAVNXVJDJjgoC8rKDl2JBNprMmd2kTE9c+ZM4/SQfU09Qf/gzKB/cJrZxwraNvCGcYyu4bk5BqcH3dWiRQs57bTT5JxzzolYAXslWkNTdY833DJDCY6VGap/QkOAEltW9U9wqEvokUj1DzZ+MusefB90D509bt/H6h58H9oYuseCI43uoV4xpxu6B5+kZcuWRvecddZZ5hzxgmtFU5fRP3R+qv4JDm0An1Z1T3iilRnVDWwZyiheiQdVoeMNPcIWaV1CNrv1D79HGneqlIy3ZAPHRTPe4gtGg2a8hUcz3sKDYtaMt/BU54y3ZAIVrRlv8YV2oBlv4dGMN29oxlt4qmvGWzKiGW/xA6ddM968oRlv3tCMt/BUZsabLv2pKIqiKIqiKIqiKIqiKHFAA2+KoiiKoiiKoiiKoiiKEgc08BZHUvbskczJkyXtrbck4/33JX3ePEnRIYKKoiiKoiiKoiiKoihx5+DBFFm6NE0++yxDPvooXaZOzZA9ew7P41xR6BxvHohojrfSUknds0dy3ntPMr7/XtLXrZO0ggIpS0mRklq1pLhjRykYPlwKTjhBynJzfV9SdI43b+gcb+HROd68oXO8JQeoaJ3jLb7oHG/e0DnevKFzvIVH53hLHnSOt/ihc7x5R+d484bO8XYshw6lyPTpmTJlSoasWkWwjbyzFMnMLJWmTUukV68iOf30g05bLHPswcPfCYTO8ZZoOE5+muMg1XzmGanxwguS88knkjljhqTNn2+y3bK+/VZy/vc/qfHcc5Lz1lua/aYoiqIoiqIoiqIoihJDCLp98km2vPpqrvMzR6ZNy5TFi9OdLU3mzs2Q8eOzZMyYHHnhhRqyaVOqxLu/TANvMSR1927J/vhjyX39dUlfsUJS/JepLSsz2XCZ06dL7ptvStY33/g+UBRFURRFURRFURRFUcoLmW4ffpgjs2ZlyN69qYRijqK4OEXWrEmX99/Pkc8/z5Zdu+I79FQDb7GipETS1q2T3DFjTADumDfrIqWoSDKWLz+c9aYp2IqiKIqiKIqiKIqiKOWGbLdPP82WFSvSpKgodEBt375UkxG3fn16XLPeNPAWI1IOHJD0JUskffFi357QMMw0Y8ECSVu5MmSQTlEURVEURVEURVEURQnP2rWpsmRJuhw44C3ctXJlmqxYkS7798cv600DbzGCLLeMhQslxetk7gw7PXDAzAHH3HCKoiiKoiiKoiiKoihK9CxYkCEHDqR4zm8qLU2RZcvSZNeu+IXHNPAWI1JKSiQl0pXjnJqgQ00VRVEURVEURVEURVHKz6FDqRHnNhUWpsQ1H0oDbzGiLCNDSmvV8v3lkVSnQtSp4/tDURRFURRFURRFURRFiZa8vFJJS/P94ZEaNcokIyN+U4Bp4C1GlDZoIIUDBkiZ1zeckiKleXlScOKJJgCnKIqiKIqiKIqiKIqiRM+gQQVSq1YZIRdPpKWVSa9eRdKwoQbeEp6yrCwpadNGCocM8e0JTWnt2lIwbJiUNmxognCKoiiKoiiKoiiKoiiJRo0aNZJma906V4YMyZK6dWs4d54XduvXL0s6d86RevVyA56vZs2akpeXd2SLBg28xYqUFClp3lz233ijlDRpEjKYVpadLUW9esmBa68lvOrbqyiKoiiKoiiKoiiKklgQfEqWrVatmnLttSkmoJaTU9O5+2ODbXZr3DhXbrwxVbp2zZa8vMDnY3MH3jIyMpzvRoYG3mJIWW6uFA0cKHv+8AeTzcbfRwXgCM41aSIHR42SfT/7mZR06OD7QFEURVEURVEURVEURSkv7doVyy237JcLLsiXZs1KjprdixBNdnaZDB5cKL/73V4ZOrRQcnPjN8wUUsocfL8rQSgpKZEtW7b4/gqDb6XSjLlzJX3xYslYtEgy9++XUuftFjVpIkVdukhxt25S3KGDlGVm+r50NHw/bd06Sdu0ibVtpbRePSlu317KahKtrZqkp6dLrVq1ZOfOnb49SiCItpc6dSI/P9+3R/En1ZGq9Zw2Q12irJTA5ObmmrLa78inSKG9NmrUyPeXEk9Q0Zs3bzY/IwWZWlhYKIciXXG7mkE7qFu3rpEZahIFB5mR4tgyBw4c8O1RAlG/fn3ZvXu3sR2VwOTk5Bg9sm/fPt8eb5Bh0JApWpQKA/8nmrpMRkhxcbEcdHwaJTBpaWlSp04d1T0eQGZQXtHYrNUJbBnkKm2vKrJvX4osW5bu6NhUM2iwefMSadGixATQgsFKpStXpsnChRmyaFG6bNqU6bS3NMemKZBu3Yqkc+cS6dWrUFhYwZ0v5Q/1r3Hjxr6/okMDbx6IKPDmIiU/X9LWr5eajvNf5GyHHCeo1HFWgwbcHOcoc8YMyXC29KVLJW3btsOBt9q1TeCtqHdvsxjDMZl0VQANvHlDA2/h0cCbNzTwlhygojXwFl808OYNDbx5QwNv4dHAW/Kggbf4oYE372jgzRtVMfCGK7dvX6pMnJgl8+aly4oV6I5Ux3YTxxcpkS5diqV//0Lp06cobABu27ZURz9nO3Upw7Fn9kvLliWObeOt7WngrYKINvBm8eL8EHTLHjdOcv73PxN8S921y2TPHf4w5fC8cF27ysHRo81GMM7UuCqCBt68oYG38GjgzRsaeEsOUNEaeIsvGnjzhgbevKGBt/Bo4C150MBb/NDAm3c08OaNqhZ4w43bvj1V/ve/HHnvvVxZsiRdCgp+SD4iD6l+/RIZNKhQzj//oJxySoFkZYVuS1lZWWbbu3evb483YhF40zneEoSMmTOlxn/+I1kTJ0oqwSe3AHZ+Z/hp5uzZUvPJJ80xZNMpiqIoiqIoiqIoiqJUJfbuTZUJE7Ll73/Pk3nzMo4KugHhku3b02T8+Gx5/vkaMnt25AseVCQaeEsAUgoLpcbLL0vG0qXm96CUlprhpzWef/7I/G+KoiiKoiiKoiiKoihVAcIca9emycsv55qst1BJoQTkmMPtjTdyJVQopbJJysBbUVGR7Nmzxwy/2bBhg6xfv142bdokO3bscAq+IGHSdRnmtnXrVnOvQVM+nWNS166VzO+/lxSPwzcyZs2StJUrzfBURVEUpeIIpn+2b99uhnTqcBFFURQlHuBLMDyK4Z/on3Xr1snGjRuN/mFIp06voShKVSE/P0WWL0+XuXO9ZbGRHTdjRqYjG9N8e44G+5yhysSLKmvKprQ/OPh+TwqYr2blypUyfvx4+eijj+Tzzz+XCRMmOAU9w+xnDhLGyzN3BHORxAJeVDRzmvBS//a3vxmFyFw72dnZZi4Z932lOE5c9qefSvZXX3kOpKU491PSooUUd+4sZc55qwKUC+OtdS6I0GRmshJLmXH+lcDQvpgLgrqkQZDgMFcOZYVMjRTaa40aNXx/VR9od6tXrzY6B/3z2WefyZdffinff/+9YxwsNzK+du3app3GSv9AtHOaIFOZm6cqTbIbD9wyQwmOlRmqf0KDHapB+NBQl9Ajkeof5tipjroHaHcE2iZOnCgffPCB0T/4QuifpUuXmjKNh/7B/4mmLqN/CASq/gkObQC7QXVPeKKVGdUNbBnKqCoE4TduTJOxY7Nlxows357wZGSUSatWxdKjR7EjB307HZBDzL2K/MRuRz41adLE96k3qH/MtV4eki7j7dtvv5XnnntOvvjiC1MAAwYMkGHDhpnJ1KdPny5/+ctf5KuvvkqIyX/JgliyZIn8+te/lp///Ofmvo4RGI4yS2VyvwgbSCrPp8pMURSlwkDHPP/88/Lpp5+agFb//v1l+PDhRnnPmjVLHnvsMaObyIhTFEVRlFgxe/ZseeGFF0zQjcBu37595cQTT5QWLVrI/Pnz5amnnpJx48bpImWKolQJiopYzCmyToTS0hTZv//Y8NbixYvlwQcfNDEZOi3oxKgMkirjjWDa+++/L2vWrJHTTz9drrrqKunXr5/07NnTKKBWrVqZnh9SsNlPllksiDbjjZ4nnLIGDRrIzJkz5eOPPzYvulmzZkdWZUopLZX0Zcsk69tvIxo6WnDccVLkPKNmvFUvNOMtPO7sFc04CI5mvEUGOoCAG5kFJ510klx77bWm46dHjx5G33To0ME4RnS4sI+VDWOFZrzFF7fMUIKjGW/e0Iy38GjGW2QwgobsNgJsQ4YMkRtvvFEGDhxodA0dQOifhQsXmuGnnTp1KvfKe2404y1+0AY0480bmvHmjaqU8bZvX4osWJAhM2dm+vaEp2bNUhkx4pD07Hk4440sNzrMn3jiCVm2bJmceeaZ8stf/tI5ZkTEqzVT/6pVxhtZBCgAlsqlh4csNyoYQovhpSggfqeQE0HQYyA0atRIrrvuOnnooYeMs0aKI9FWsvZ4nrL0dBNEK3MMNVNDPFDmnLfQUbSlTjkoiqIo8Yfl2dE/dOi0bNnSBNas/snLy5NevXoZh5v5dzQwoSiKosQKOl/YCDqif+jQt/qHfSQgoIfQUxqYUBSlKtCgQan06VMkaWneAv+EUfLyymToUGRgmemsuOOOO0zgjaQn4i8/+9nPpFu3bqZjoDJIqsAbUUYKCuXj79wQaGMhA/Y1b97cZAYlAkRHCRCSGXHzzTfLLbfcYpTjiy++KPfdd598M3myFDmVodD5vMxjL15R375S0q6dlDkKV1EURYk/ODfoHzIP6DRx6x96Fsm0xuFp2rSpcYYURVEUJRbQqYNeIZPSX/+QjYb/w2d09nOsoihKspObWyYdOhRL797eOrNr1Sp1js13bPHlcv/998uf/vQnMwrliiuukDvvvFNGjhxppoYhe7KySHEEdtLkwpMSOHbsWDMpHoE1eniIYDL0gRUqFi1aJLt27ZLzzz/fDP3xVz5kwjHGd9WqVUaBjR492vdJaHCqCPZxnWiww31QlNzfggULzDMwxpgeK9Idr2rVSjo895xkOZ9JQYHvm36kpkpZw4ZS9Oc/S+Gpp0pZXp7vg+SHACXlpOnWodGhpuFxDxtLIvFW4ehQ08hAhiO3WdAHyHCjk4fMZivX+UkaO0OA6GBxQyYC+odFGPgOespLBxF1mO9Go3+s7tGhPqGhbK1TqzIjONZYVf0TGvQPK+xXhaE+8YIF0KIZNlYddQ8gxydNmmTmcKNuoX+YXodyJBDHEFT0z8knnyyDBw82o4Dc0GGEj8RUCXDeeed5Lkf0TzSg33SoaWis7lHfJzzRyozqBvWJMqoq+mf37hT55JNM+d3vMmT79hTHRvN94Ed2dqm0b7/FkX8fybp1b5k59pnu66yzzjLD8Zniy9ow1CXscGRpJMRC/yRV4A3o1WGC66lTp5rVQsmCQ3AhtFBMtpAZDuTvqKB4mP+Ac1D4gwYN8n0SGiovQbtoHB/ACEPxWGOVBrF+/Xr55ptvzETcVI6BjhI907nOCOf+mq5YIWmOAj1Su5zrkt1W1K2bHBo9WkouvVSEYaZOBagqUJkJlEY7l1F1AUeaJquKJzi0U+QCdUmd6OBgFFNWkSoeoL0yh2V1A53DCtpTpkyRzZs3m+AaZYFuoRzRPwTeyHJmvxt01MaNG833+IzgHMo/HNRh9E80+OseJTC0A4wp1T+hQf9ANDKjOoH+QSZo4C042OA4PgS7I4HvxGr+5mSDBAPmEWWROXwI9A/lgW6hHIcOHWrmvyajw1//0Gbxf8j+AEbh2PYcDvQPdTlSH4gAgE06UALDe1LfxxvYrJRXpDKjuoEtQxnR9qoCPMa2bSJjxqTJu+/myJIl6Y48+0EWIZZq197t2N0zHL3yofP8U516UmJkIYlNXbt2NbLILb+wvdFBkQa8qX/l9X2SLvCG4/Ldd9+ZXhsUDvPsUBAMPcWhYd4DnJ/u3bsbpyMWUHkZRhQtGAkESvyFBX/PmzfPBN/oycp1hMqJTmU4zVGm3Z3PazmGm6PtpNT5fnGHDlLUq5cUnHhi8PngHAcrddcuSXOUa4qj6MocpVrcpo2UMRGgnxJONGgElJOuxhQaDHoMIIx6JTDIAwIf1CV1fIKDsUdZRWPw0V4Z0lLdQMewgA+TWAM9aOgh9A9ODfrnuOOOM/ON0lZjASqa60ajqoPpHuVoaAfMHYvMSDKTqEJBZmC8RrPYVHUCu5RgRVVxfOIB9jl6JNJsKpwluzhZdYOkARZqI7uNDhV0MOVBGaJ/kGEsvEA2XCyDk/g/0dRlAoPcp2ZzBQf7gexE1T3hQWZQXhqkDA1yAJmQyJmmiBMWTli79nAQLTOzTFq0KJHatUsdveA7yAWu3P79KTJxYrbMnZsuK1akO38T1yh2vr/COddXjp37hdSosUp69+5pAm6s+EwQMlCHAZ0ObNjukUD9K+/CNUm1qikV6auvvjIZB8yjc9ppp5keHoacMtkoQovFC8hKYIUfm41QXjhveQxNXi5Ky78RYHQwVLZ3797mXjc5ym3qpk2ysl49OdSpk2T27y9ZTuUpcrZDZ5whxd27E/I/NujmnDdt7VrJmjJFssaPl+wvvpDM776TjHnzJM05X6pTbgxLNXPCJWgAjvdEOamCDo0ONQ0PQhYFTV1SQyY4GOyUVTTZk7TX8qZbJxsYe3SQkG2NY01vGkE2nJw2bdoYhTx58mTjpPA3xk8s9A9Ea2gG0z3K0bhlhhIcKzNU/4SGACXBbtU/waEuIR8j1T/I2eqmewAfBN1DtjX16wzHJzj++OON/9C2bVtTLiQlkJzAFAg2KSEWcO1o6jL6h85P1T/B4R3pUFNvRCszqhvYMpRRIiYeEHDbuhVZlSUTJmTLuHHZjlzLlDlzMmTdOjqxaQ9ljowvc96170sOhD0ccSKdOxdL375F0rFjsTRrttmRe986uvYNKSgYKw0bFjt2+Wly+eWXm+H2dlRPIIi/sEUz1LS8nepJFXhjSCbzG9D4mMeAgBsFS+HRu8NKp/QGMYdb586dj/QGlZd4Bd6ASsHnZOh17NjRHDN34UKZuXat7KhdWzK7dpWc9u0lK1jvlXN8hlMuOe+8IzWff16yx46VzMWLJWP5cslYtEiyvv1WMpYtw1qRUqc8EjX7jcqsgbfwaOAtPG4nWh2f4FgnWgNv3mBuNuZ3Q5bTm9a3b98j+oeOE5yfWbNmycqVK83vDPfh81iggbf44pYZSnCszFD9ExoNvIUnWie6ugbeVq9ebeYYRReQycFUOegXygNHEJ3DPKPoKXwhgm/I/1iggbf4QRvQwJs3opUZ1Y1EDbwRdCPD7aOPcuQ//6kh77+fI4sWZToyK0MWL84wAbiFCzMdeZFiVjOtU6fUed++L7tISSmU/PxlzvfGypQpr8rWrUulV68ecuWVV5q5K71kRFdm4C3xIjAhYE4DFACZBDg6bjAGUUIUOAVD2m6yNc4uXbqYZW/ZmDT1008/lccee8wswsCzB1JeDCvNfe01qfHSS5LuOHwpfg0txanpZL7lPfmkZDvnS9WhnIqiKBFDJgFZ18zvEGgYD0ahHXrKMDOdB0tRFEWJBUw3gF7B98EH8gf9Q5YbP1lsQQM5iqIkEtu2pcmHH2bLM8/UlIULM6S09OhsNP5etixdnnuuhowZkyubNqX5PjkMwX/muWSe/6efflpeeOEF07F81VVXyS9+8QvTIRGrzoZ4klSBN4JrbPT4+PfA8DuOjp0ElMInAJdscN+nnHKK/O53v5NrrrnGPM9f//pXefzxx03GH89+5Lmd58wZO1ayJkyQ1DDjlFOdypr77ruSOWPG4cHSiqIoimes/kH3BNI/dPTg8KB/6ARKRv2jKIqiJB5W/xBQowPIP5sF/cN8RTiiBN/I5lAURUkEEFdktH3wQY7s2hXaNt6zJ1U+/zxbxo/PNt+z8R3msRwzZozce++9Zlg9I0/uv/9+k+lW3nnXKpKk8gzIAqO3h1TqxYsXGyeHLDA2AlJz5swxw3xQOMz5Rrp/ssIwpWuvvdZkvJ100kkm+42/33nnnSOT9qbs3CkZs2ZJ+rp1vm+FJn3hQklftEhSohy2pCiKUl1h6A7ZbmvWrDFDepDDVv/gDLHaHLoJ54ihPv5Z2YqiKIoSDcxrTaYbo19YlM2tf3BK2Yf+ISDH3NGxXFxBURSlPOzdm+LYzelmRVIvrF6dbuZ927Xr8Pz+BNpuvfVWefTRR40sfOSRR0wAjhVLk62TO6nmeCONetu2bSbqyapyrOyzbt064wSxMujYsWONEmKML/PvxCrwRrSVDIdoIYstmnl2cOB4ZuZy4HlQrG+99ZaZR4jAYrNlyyRvwgRJ27jR943QpDjPUeqcr7hdOyl1Km4iQcOhnDQ9PjRk0lAfdY6d4NBudI638NArTllFMySf9lrd5tnB6cHZQefQ8TN37lzz+6JFi2T8+PHy4YcfGgeISa8HDBgQ08CbzvEWX9wyQwmOlRmqf0Kjc7yFh7qEHolU/1TXOd7o9EEPoHOWLl1qOnoIwjESxuofPh85cqTxGVgpM1b4Z3h7Bf1DIFD1T3BoAzrHmzeilRnVjUSc423evEwZNy7HzOfmBcRNzZrFjv26WD7++CkTaKON3HXXXXL33XdLp06djHyJlsqc4y2pAm88cOvWrc2iCSgBgnBkuJGBgJHTrl07GT16tAwfPtz09mAgxgKuVRmBN+AZ+D49WCeccILUq1fPrKzHIhM7nedu7Sjhhvv2idcnLWnZUor69jU/j8J5RoajZn31lWROmXI4M8655zJ6zRxhF294tzynKp/QaOAtPG4nWh2f4GjgLTJ4ZjLZ6G0DVs9G/7CYD/oB3TRq1Cgzz0QsVzQFDbzFF7fMUIKjgTdvaOAtPBp4iwzKCt1D5jW/M9cR+oeNjBB007nnnmtGyNi5rmOFBt7iB+9JA2/e0MCbNyoy8Jafn2Ky2CZMyJKZMzPNyqT16pU691Dm2Aq+gxyWL0+XKVOyzOIK3tjsyLXXZcGCBx0ZN8/Y1QwrZSVnOiHQA+WhMgNvKY4wTSrLgNtFQKFo+GkFOi8B4UXADaMH4zBW4Lhs2bLF91fkcE80Agyx8kAjYtEIMizeeOMNmT9tmrTetk0ud4zgc5zPvYxwPnjmmbL/pz+VogEDDu9wni1t0ybJffllyZo6VVIdZzIFoeZUrlKnchV37iyHnO8cOvlkKYujsUMDoJx4PiU4NHjqQX5+vm+P4g+CkQA1dSmRenwSDeQkZRVNUIf2SgdIdQP9gxy3+scGINA/OBlW/1CusYJrMrF2NKo6VrqnqsP7IliKzEgyk6hCsbZVeToiqwOMVLBTgiiBwTlEjyBLIwHn28uqdVURZBOOImWGDWj1D/LL6h+CkrHUP4D/E01dJusbH02DSsHBdiA7UXVPeJAZlFe0HZHVBWwZZEQ8A94E3CZOzJKPP842K5Lu25fq+FvI5zITeBs6tFCuvPKAtGhR4sh5kSlTMuUf/6hp5m0LDYGwCc72qiPTpknPno3l8svPl+OOO85MwYX8jwXISzbmxYwE6l9555NLqow3wOij4AlAIKxwsNmoaAh5MoJiGXQDhGFlZby54bkwfOn16ty5s9RzlOzSDRtkkiOwlzuf5zhbc2cLGk92lHHBKadIwUknSRkRW+d+0pctk1p//atkjxsnGStXSuquXZLqNFgWa0jbsUPS1q+X9FWrTDCuuEsXUq58J4st1nBQBR0azXgLD+1EM97CgxylrKLpPaS9VsesA6t/ePaK0j+gGW/xxS0zlOBYmaH6JzTYaZrxFhrqEnokUv2D41MddQ/Q9ghWBtI/BN2Q9/HQP5rxFj9oA5rx5o1oZUZ1I94ZbwTd3nwzV15+uYZMn54pGzemy969qSb4xsIIW7emyerVabJqVbq0bVviyKhS592JLFmSIXPn4sP6TnQMi5ztn872vLNtl8GDR8itt14hJ5ww2AS7kP2xAjnKVhkZb8k1I51iwLkj8HbeBRfI7SeeKEMaNJDZzv4/O9vTzraMgwJQzDDTLl3MPG/A3HC577wj2V98IWlbt5rst6NwWkeq4/BlzJ8vOR98INlffun7QFEURVEURVEURVGU6gCZbqxOOm/e4Uw3/0Aa8T6CbxMmZMs77+TIunXp0rBhiXTtWiTNm/sH4fkyWWevOtsDzva+s7WUJk1ukOOOu1qGDesX0/kqEwENvCUxDZo2leHnnCM3DBokV+TkCEtJvOZsjzjbe85GjoRtDwwbPXTaaVLUpw/dBiJFRZK+YoVkf/KJpITJ5kvh2GXLJPvTTyVFhzgqiqIoiqIoiqIoSrWAbLfPP2d4aboUFobOrj1wIEXGjcuWpUsPj8MbMKBQTj65QGrUsJEJpkCZ5mxELZ5yNhaKPFdyc2+TYcPOkRNPbCk5ObHLcksUNPCW5JT17i1tLr5YLhkxQm5r1EiGp6TIPGf/X52NhM3Zzt8HWrSQg+eeKwdHjZLi1q35mqTu3m0WUEhft878HY7UAwckfelSE4BTFEVRFEVRlEgoLCmUDfs3yJytc2TWllmycs9KOVisw+wURVESnRUr0sxiCmS6eWHDhnQTpNu5M1Xaty+R888/KGeeuVcaNVrpfPqmsz3mbG85W3tJSblRGje+SU45pZ9ccEG6dOtWNYeoJ90cb5VBoszxFpD0dClp0ULSW7aUVrm50qtGDanpbCud3z8pKpKtzjWLu3eXtB//WNJ79ZJU516AudsYOpo5d6752xM5OVLUsaMU9+jh2xE7GDetc7yFR+d4C497viadYyc4Osdb8qBzvMUXt8xIZErKSmRf4T7ZeGCjbDu4TfYW7ZWs1CxJT003zxBvdI43b+gcb8dSVFoky3cvl+82fSdfrvtSJqybINM2TZNFOxbJrkO7pLC0UOpm15W01DRJCbFOf3We462y0Dne4ofO8eYdnePNG/Gc423SpCyZODFbdu3yFnhDbDRvzjDTYmncuNjxYXc6dX2GLFjwnuTnvyxNm+6XZs3Odn7eIj17DpSRI7PlkksOSv/+RY78iJ/+rMw53jTw5oGEDrwBwbdmzaRo4EDJHDBAurZtK307dJC9eXkyxbnuZOe6RbVrS45TWTBYCN4wp1vW9OmSsXCh7yThKWOFPOf8Rb16+fbEDg28eUMDb+HRwJs3NPCWPGjgLb4keuCNgNuOQztMkGLKpiny2drPTABj4c6Fkl+UL8VlxZKTniMZqYfbdLzQwJs3NPB2NATdZm+bLS8tfEleWPiCCbwt2LFAFm5fKLO3zpbJGyfL2n1rpX52fWmU20gy0px6FiT4poG3ikcDb/FDA2/e0cCbN+IZeJs7N0OmTcuS3bu9D5js3LlIunff59zTGpk0aaJ89tlrsmPHZOnXr5OcfvpPZcSIy2X48Npy2WUFcsoph6R581JHzvu+HCc08JbgJHzgzeJUorK6daWsUyep3b+/DD/9dGnWvLksX75cxo8fL6tWrTICnhWQsh3DOcvZnzlzpu/L4Slt0EAOnnGGlHTo4NsTOzTw5g0NvIVHA2/e0MBb8qCBt/iSyIG30rJSMzTvgxUfyFOznpI3l70ps7bOkvk75svMrTNl3JpxsmTXEqmTVUca5TQyAbh4Bd808OYNDbwdzcrdK+XBaQ/K+HXjZXfBbt/eHyDbjcDb1E1TpU+jPtI4p7HJ4gyEBt4qHg28xQ8NvHlHA2/eiGfgbdOmNJk6NUu2b/caGSuV7t23Ovc0Uz799BV5++23jQ1x8cUXyy9+cYeceGIn6datVDp2LJbatcviHnCzVGbgTed4q8JgoJx22mny1FNPyVVXXSVr1qyRBx98UJ555hlZuGeP7O3cWUodxeiFMudcJQ0bStGgQb49iqIoiqLEk52HdsqLC1+Up2Y/JYt2LTKBODdkw03bPE3+MPUP8vnaz2V/UXRBWkWJB9TXf8//t8zdPlcOFTOZdmA4jiHUf5/zd9mUv0nKjiwNpiiKoiQC/fsXSuPGJZKe7kU+F0pa2mZZt+5lee6538rnn38uQ4cOlYceekhuvPHGKrdaqVc08FYNIMPtZz/7mTz++OMyePBgGTNmjPzsl7+UV2fOlD39+vmOCk1pw4ZSOGSIlNar59ujKIqiKEo8+WDlB/L5ms8DZgq52Zq/VV5f8rp8v/V73x5FqVzIktqWv02+Wf+N7C3Y69sbmskbJsu6vevMIgyKoihK4lCvXpkMHkzwzUs23beSlvYjmTnzj8738uT++++XBx54QHrEYZ74ZEIDb9WIbt26yf/7f//PZL3Vq1dP/vLRR3LlmjUyMUwwraxmTSkYNkzyr7rKt0dRFEVRlHhCsG3GlhlmGJ4X5m2fJ4t3LJYDRdFPjVEVYLL+8WvHywsLXjDzijGH2J6CPb5PlYqCuQcnbpgoB4oPeM5g4zvfbfnOzGmoKIqiJBaXXZYvJ5xQIHl5gYJv7NvsbHc429VSv/5qM6T0z3/+s4wcOdIMP6/uaOCtGsF45vr168vpp59uAnBXX3edLEtLk5v375d7GzaU9c7nJb5jDampUty2rex3jtt/xx1S0qiR7wNFURRFUeIJgbT1+9ebyem9UFBSIIt3LZbVe1f79lQfCOwQqHxi5hNy7WfXyn2T75O/zf6bPD7rcbn767vlpi9ukv8u+K/sLfSWeaWUH97JjoM7zHDoSCBIWlSi8wgqiqIkGg0alMott+yXG244IO3bF0tqqu1U2elsLznbec6+N+Wcc4bKo48+LFdeebm0bt3aBN3iNf9sMqGLK3iAdPmkWFzBA1R6Jugn461d+/bSsUsX2eHc12dLl8q3zGrYu7c0HDRIUp3t4AUXSP7ll0vhiSdKSfPmZvGGeKGLK3hDF1cID3VcF1cIjy6ukDzo4grxxS0z4s2+wn1mRcfvt3wvS3ctNX/nZeZJVtqxPcGsBPntpm9l28Ftvj3haZHXQno17CUtarbw7Ykdibq4AvODbT+4Xe7/7n4Zu3qsrNizwgThyPxj21O4xwzFXblnpWw+sFn6Ne4XsLxjhS6ucBjeCyvvshLvoZLg87v5M6TpEOnbqK/Uzqrt2/MDurhCxaOLK8QPXVzBO7q4gjfiubgCOK9AatUqlXbtSmTAgELp0mWPs2+q7N79mNPWx0inTqnyi1/cIBdccL706NFN8vLyjNxOJCpzcQUNvHmgKgXeLDQCKk/z5s2lbbt20qBlS5m5bZtM37FDVjpGTdYJJ0iNESMkpUsXKavtGD+0tDiigTdvaOAtPBp484YG3pIHDbzFl4oIvLHowUerPpLXFr1m5m2btGGSWRRh+pbpMmfbHJOJ1apWK8lMy/R9Q0ygaNqWaSZo5JVOdTvJoCaDpFnNZr49sSNRA2+U3SuLX5G3lr0l2w5tC5hhxRBGjttycItZ+bV3w97mWeKBBt5+IDUlVT5d9ann4c8cf1XXq6Rb/W4Bg6MaeKt4NPAWPzTw5h0NvHkj3oE3ICRQo0aJ5Ocvldmz35aZM1926vFSOf/8oXLdddfICSccL82bN3V81sM2Q6KhgbcEpyoG3oDGgCBr1KiRtG/fXpq3aCF7nXuctnKlLNy6VQ44z127bl2pXbt23BuOBt68oYG38FBXNfAWHg28JQ8aeIsvbpkRaxhul1+Ub+YbG7N0jHy78VtZtXeVbD241Wwb9m8wGVrM40b2W48GPSQjzWmbzj+CRQTm1u71Nscb3zmpxUlyQosTpFZmLd/e2JGIgTeCbJTdn6b/STbnbw4p83kXrKzJ8Mez251tAjvxsG2qQ+CNQPKSXUtk2a5lsv7A4eHQBDTTU38YGUHZ1s6sLd9t/s68Gy9DpjvX7Sw/6vYjEzgmCOePBt4qHg28xQ8NvHlHA2/eqIjA244dO2TixIny9ttjZNasb6Vp05py8cWj5dxzz5W+ffuYOh0P3RorNPCW4KBwqmLgzWKdjg4dOkirVq1Mg1mxYoXMnz9fNm3aZD5nZVT2xwsNvHlDA2/hsfVZA2+h0cBb8qCBt/jilhmxpri0WD5d/an8a96/ZPnu5VJQeqyhR0CCoZKr962WJjWaSPva7U0Ao2ZGTRPcIPPNy1C9ZjWayXntz5MBjQdIWmrsh3YkYuCNTKqpm6fKG4vfMIG1cBCoyy/Ol8FNBkvTGk3jUk5VNfDG81B2E9dPlHGrx8m4NeNk0sZJMnPLTFm0c5FsPLDRDC+tn1Pf1F8CwQSR01LSzLBqhv/yeSA4lqGl1/e4XoY0GSI1MgLrFw28VTwaeIsfGnjzjgbevBHPwBu6f968efLxxx/Lhx9+KFu3bpWBAwfKhRdeKKeccopJ5EkGNPCW4KBwqnLgzYJB3bBhQ7P6KY1nz549MmfOHFm0aJGpnDTmOnXqmIoXazinBt7Co4G38GjgzRsaeEseNPAWX+IVeEP+7CzYaeYeI+hGBlswTGZccb5s3L9RTmt9muRm5Jphp5yDgMamA5tCTlJPttEZbc6Q09ucbgJK8SARA28Ec1jBlKwqr5BJ1bFOR5Nd6B7aGyuqYuCNgBllzXDp5xc+Lx+v/NjMVchCHmRwzt8x32xkceam55q5Bm32G78TXN5btFf2F+4/JvMtMzVT2tRqI2e1PUt+1OVH0iCngalngdDAW8Wjgbf4gS2lgTdvaODNG/EKvJGI880338iYMWNk2rRpZrHG8847Ty644ALp0aOHeT/JggbeEhwUTnUIvFkI7rRr1066dOliFMKyZctMI9u4caNp0FQ6fgYzjKJBA2/e0MBbeNxOdFVyfGKNBt6SBw28xRe3zIglhaWFMn/7fPnHnH94GmZHcIOFFE5qeZI0yW1iAhdkwHF/Ow7tkH1F+6Sw5Oj2SqYQgQompCdo0bNBz7hkcUEiBt4I5LBQBZtXMlIzZGCTgdKnUZ+kD7yRUWkWjzi41QTGDhYfNM/kHvIZCxha+vWGr+Wh7x6S5XuWB6zPBI7X7F0jGw5sMENG7TyD3E/Xel2lbnZdU/bZ6dmSl5Vn6m3zGs2lT8M+ZujvT3r8ROpn1w84xNSigbeKRwNv8UMDb97RwJs3Yhl4o91TN0nAIcvt1Vdflb1798rw4cPl6quvlhNPPNFMR5VsaOAtwaHiVafAm4XGRBS7c+fOpqFNmTJFJk+ebIQfn2FcYgRhiJcXDbx5QwNv4XE70RXh+CQrGnhLHjTwFl/cMiOWEKyww/G8DIMEjmtXu52ZXJ4sNgIV/N28ZnMpLimWUucfc5MxDLVOdh1pnddaRrYaKT/t9VMTdItHIMmSiIE3gptr9q2Rr9d/7dsTHspvdPvRJjhE+caaigi8kf3I8ORlu5eZeQO/XPulmQ+Q+QJtZiT1hyAswdnyQECYMn50xqOydPdS397AcG0WsaDun9LqFDPMFKiXlPfxzY83q+72aNRDhrUYJqe0OMUspjCs2TATkAtnT2rgreLRwFv80MCbdzTw5o1YBd7Q85s3bzaJN08//bTJdiMp54YbbpDRo0ebqal4H8lIZQbeUhxhqp5pGHBctmzZ4vsrcmrVqmUaAYZYskLgjaDbs88+K0uXLpU+ffrITTfdZIalEoSjApcHvk857dy507dHCQQNHmGan5/v26P4g2CsV6+eqUux6PGpquAcUlbRBHVor8kyl0Oyg4rG+IlGVVcF3VMR0A6YxxSZEUuTaNehXfLs/GflqdlPBZ3bKhC397ndZP+QEeSGhQEIgMzeNttkNuVl5smwpsOkUW6jIwGOeILMIDBSno7IWEPm1YLtC+TSTy41872FC3CSTdU0t6l8cP4H0iinUcjsqmhhCM7u3buN7RgPqEvr9603i3W8t+I9k2VGQBYIsmWnZcuw5sPktt63meG0BODKE3wjk+2rdV/JT8f/NORwZwvXapXXSt44+w1pmdcy4LVxDtEj+/bt8+3xBs43U6IoFQf+TzR1OS8vzwTdNKgUHALJTOETa91TFUFmUF7RdkRWF7BlkKvRBrzxm2izzPX+v//9T959912j+8lwu+iii6RBg+BTASQLdAqwEduIBOpf48aNfX9FR3KGKpUKBwfujDPOkH//+99y/fXXm7nffvrTn5q/165daxq4Kg1FURRFOQwBvTpZdQIGHkLBJPOBhouSEUTW0KWdLpUfd/uxXNjhwsMLBFRA0C1RIWOteV5zObnlyZ6G2JIpOKLVCGmY0zAuQbeKYOehnfLIjEdMUJf51WzQDQg8Hiw5aOa9u33C7TJ76+xjhidHCqvAztg6w1PQDbgHOzQ1koCzoiiKUnkQdNu+fbu8//778vOf/9zM5zZkyBAzxPTGG280nR7JHnSrbDTwpniGxkZP7s033yyvv/66DB48WF577TW5/fbbTVScxRgURVEURRGpkV5DhjcfHtFwxvSUdDm+2fEmQKR4o25WXbm7/93StlbbkHObkQnWo34PubPvnUkbdIMXF74oUzdNNRl+oWCuNVbTXbVnlW9PdDCPXLhr+UPAbV/hPu2QVRRFSQJIoPn222/lN7/5jTz44INmCDQ/n3jiCWnTpo3J9lLKT9LO8UZaLuOOicqyffLJJzJp0iRZuHChSV8ndZeU9FiA4VAd53gLBME3ypdU1uOOO06aNWtmyvzzzz+X5cuXm3JnHz39kcDxlJOmpIdG53gLD3VU53gLj87xFj0MI5sxY4bRPe+9957RP19//bWRhZQpcpC2Git0jrf44pYZsYTzMp/Yop2LZP3+9WEzhpgH64TmJ5iMNlY1Lc/wwFiyp2CPyXiavGmyzNk6R3bk7zCZfGTgJQIE0Rh2ywITBHs2H9gsBSU/zN1COTK89PwO58vP+//cDH+MZ+AtnnO8ke329OynzQIHXrLJthzYIkOaDTFDP6NdcIFFPRbsXCAztszw7QkP9XdEyxHSq0GvgGUd7XxNOsfb4alfZs+efUT/fPTRR0b/zJ8/32SsMP0Lsj9W6Bxv8YM2oHO8eUPnePNGNHO8rV692oxgYzqpXbt2mZVK77zzTunbt++RKSaqEsQx2HRxBY8sWbLErK5BoA1hxVxDjDmmEEmRRDG3bdvWCLNYoIG3Y6GMqXxMrtirVy9TRjNnzjTRct4BwbdIVjqhMmvgLTwaeAuP24mOh+NTVdDAW3Qw78Wnn34qEyZMMAEx9A/p97TNHTt2mLJp2bJlTMtHA2/xJW6BN+cfwY62tdsKq26y6mSwYAnHsYjC74f83gSGEmH4KJPkv7r4VbMq6/+W/0++Xve1mcifhQwmbZhkVlrtWLejCS5WNpRXvex6ZuJ+JvDvWKejdKjbQfo16iejOoySH3f/sZza6lRpkdci5it++hPPwBvDNz9Z/YkJwHmBbLXWtVpL+9rtzRBmC3Pjbdy/Ub7Z+I3M2jpLVu9bLbnpuZKTkXNM3WMIb35RvoxdPdYMIw0H9b5BdgP5Wd+fmVVKAzltGniLjjVr1sjYsWPliy++MB1A6B/mHELW4zBD8+bNzfQwsUIDb/GDNqCBN29o4M0bkQTeqHcE7//xj3+YZKaePXvKtddeK2eddZa0aNHCtOGqSGUG3pJucYUNGzaYoBvBt06dOpmxx3Zyf4Q7lYhKR+AnVhkHOC7VfXGFUBAE2rhxo0yfPt1kvrH4Au/m7LPPltNOO81TAJT3Rznp4gqh0cUVwoNg1MUVwoNzSFnp4gre2bRpk4wbN07mzZtnOnfI+iX7161/kHdNmzaNacePLq4QX2gH8VhcwcIcW99s+EZeX/K6GSJIAM4GMAhSEBAZ3GSwXNHlCpPxlpGWYfZXFmaOrsL98tjMx2TCugmybt86OVRydB0i2MZKqyc2P1HuGXCP1MqsFTDAUhlQ3rsKdpkFKIBhu5RxPFYwDUQ8F1dgmCmLdWw6sMm3JzyXd75cbuh5g5kfkLJZuHOhfLLqE5m7ba5sP7TdBOEoG+a9692wt5zd9mxzrF0hl2AxWZv3fnOvWdgjHHkZeSbb7YmTnggalMVOR27q4gre2bp1q4wfP16+//57E1w76aSTjK1j9Q9yHr+nSZMmRr/HCl1cIX4QSNbFFbyBzKC8dHGF0HhZXIH2jB375ptvGt+d74wcOVKOP/54M6y0vMGlRIeAIltlLK6QVBlvCKWvvvrKRGWpGEz237lzZ1NhcDAQXijkWKyy6YbrasZbcKziIDpOBhzPu3jxYtOYCZTyftg4Lhg4PnxPFXRoNOMtPJrx5g3NeIsM6hIZvVOmTDGODR0LXbt2NY6PW//wk7KNJZrxFl/ilfFmIWOIIFWbWm1MQIOsK/7uVLeTDGs2TEZ3GC1ntT1LBjYZaAIVlRl0g6KSIrNi5qtLXjWrZxKY8Ydhs3sK95h5xBhW2LV+1woLbIWD8ibYxnBYNu6vIjMI45nxtnDHQpm6eaoZUuuVPo36SP/G/U2ZTNk4RZ5f8Lx8vvZzWbxzsWw7uM1kz20/uF3W7lsrq/euNkG9utl1Dy/c4ZQl7YN6STYcw01ZXTcYBOu61esmN/W8SdrXae/beyya8RYZ1CUCbt98843RMeeee6507979KP3DyB+rf2IZBNeMt/hBG9CMN29EKzOqG9gylFGgxAPsQTpy33nnHXnllVfM9CjM1z569Gg5+eSTpXXr1qbdVnWIEbHpUNMw0INIRhWT+A8dOtRkVdEDRCWyE/tT4WKpcACFo4G38PCcZHq0a9fOGAO8k8mTJ8vKlSuNEUovsM2y8Yd9fF+VT2g08BYetxMdD8enqqCBt8hAntHxQ+//oEGDpEePHrJt2zaT7ctn1DUM6EDyrbxo4C2+uGVGvGB4I4EMgm0Mg+zRoIcJhhB4I9utVa3o5+CKJWQ3MYT0j9/90QRiisuC1x0y4wjCMGTx9Nanm3nWYm1/JSPxDLwxd91X676SXYcODysMR6rz77z255khtyv3rDRZl5+t+cxkXQaCRRTIcOTeCRA3zj3cu09AjXnymNdvd+Fu2Vuw96i6QbC4XlY9GdRkkFza+VKT8RaqPmvgLTLIYCHotnbtWunXr5/079/fTOuC/mGIKU621T+xboMaeIsfvC8NvHlDA2/eCBZ4Q05MnTrVZLkxXJ3jzjvvPBN069Onj0laqi76uzIDb0k11HTBggUmQovipZLQCNevX2+UAgEJens6dOhgxihj+PhXIIbnkYGFs8R3Bw4c6PskNFRegn7RVkgqN4qnOgVLMDrdcyFR9sOHDzeprMwJR6+cuzypzLwzTSEODYYMTVYVT3CoVwhG6lISibcKB5lJWUWqeID2GskcjlUBsngxWDCQmXAW5w8niHqGPqFjoX379iYgxxAbysgN38NJInBHuaN/vGRmU4fRP/yMVAdVR90TDZQr71P1j1NPiw7KpPWT5JpPrjlmeGkwmDz/hTNfkBGtRkiNzOo7/5YF/YPNEyjjoLwwBPjWL26VL9d86Wml0da1W8vjIx6XAU0GyH/n/lf+NedfnoapNqvRTG7pe4tc3+t6yUo/nAFBUJbrky3HvHArdq0wmXe0n4a5DaVLvS4yuOlgE3zLSc8x3wkGMhNbHlsxEvgOGV7VDRYve+utt8w8ogTesKGZ742AHGVi9Q9ZcHzmr3/Q8+gfpksAAnfYk15A/1CXI9U/BJTo+FH9ExzVPd7BZqVeRyozqhvUJ+xNq3/4HflBxzHBe2xQpuk688wzTScydmKkbTvZwfZGB0Ua8I6F75NUgbeJEyeaVXyoINahwMGhMWLkoFQI3px//vkyYMCAY3rFUB6LFi2SVatWGYXAqh1eoPIiFKOtmNU564BKzSSwb7/9tllxqVu3bmaIMBmLzFFhFT+Vmd8jbQTVDc14C4+VD9SlJBJvFQ5Kh7LSjDdvMMwU/YMDg96h3Phpe6vXrVtn9M8555xjjBl/5xAHCf2DAYSjRC8j7Tkc1GG+G43+iUb3MBk7QwhZyRJHmwwX5n5KhAn04wVly3uMV5ZSMkEm1H/n/Ff++O0fTV3wym+G/Uau7329NMhp4NtTfUH/ICfiEXiDV+a/Iv+Y9Q9ZtGNRyHfEYgnX9LhGbul/i5SllMnD3z4sbyx6w1Mdp038qMeP5JdDfmlWRPWHjLeF2xaaIaoM421Vu5W0rdvWXNMLOD7okUj1D7ITOVvdYOoW9A/Z1UzdgqxC/9i6hv5B3p9++unGvuYYN/hI6B/mx4ZRo0Z51uHon2hAv9EGqqPv4xX1fbxTHpu1OoEtQxlh+xFkmzNnjpmbmGm6SFA69dRT5aKLLir3XGXJDPoHXRJp4kEsfJ+kCrxRcT755BMztJSgDZMADhs2zDg4VC4yq7788ksz6fett95q5oGjYMuLrbzRwv3RCKpzlJ7yo7eOiWEJYmIYYCB06dLFDEtFoFJOurhCaOhJx5DBiFICg2CkTuniCqHBeaGsoulpRWlVt8UV0C8fffSRybJmjjd0D1m8ODhkIaB7OIZsg5/85CdGtsVC/6CiK2JxBRz4LflbzBxPTKTOsDT21c+pL30a9DErc7I6IkPOKnsOslhDO+A96gTXhwNvz81/Tp6c/WREgTdWsLy+uwbeIJ6LK8D+ov3mHX208iPTXllEwr3aKIGwOtl1ZECjAWbhC4Y2T9o4SZ6Z84xZldYrLPRxS+9bZHjz4b49sYOAEXok0qAOtmJ1XFyBaVs+/PBDkzjA85OxwuIKONLUNev/oNevvvpq6d27tynfWID9Hk1dJjBI0E2DSsHBRsBmUN0THmQG5aXZgaHBlqHNMuoMmYDfjZxFZpBwxIjBaDpyqxIEu9kqY3GF2E9GE0dsRcFIpuIwbNGu3kOQjQguf5NKzbxiGpxIHKioBEPvu+8+M9QUQfDII4+YZYxxZDV1WFGURAcdhP5hOA8rNrN6NsYgC8tcdtllpkOIeUfRP8lkHDJR/qo9q8yk63d/fbf835T/M6snvrr4VXlq1lNy24Tb5IHvHjATq+cX5R/l5CtVC+blYl6vSIKrHEtWZCLMUVcdYJGE63tcLzf1usnMEUhGGuVP0JN5BBnyeWGHC+WBYQ+YOQV5L6xmGkkgFVhUo7BUs0sSCXRQx44dzTAx9A7ZLfg9+D/4QXQCoX8idSgVRUl+SDZgOi0C9X/5y1/k1VdfNQkbt912m/zyl78006RU96BbZZNUgTcUDNFGKhGBHPc4WyoS0UtWOaWXh+Cb9rIkFrwj5jViPY+77rrLOLBPP/20+Xv27NkmUKo9PoqiJCLoH3QLHT3oH/+hPGRi4BAxvIbgW3kW5KlotuZvlUdmPCIvLXrJTKhf6vyzEGTLL86XL9d9KXdOvFPmbp9rJnhXqiY5aTkmmFMjvYan4BvHMJ/X0KZDTUBIqRgo64s6XiTPnPyMPDXiKflF/1/Iz/r8TH4/5Pfy+lmvm5+snGtXc62ZWTPsvGv+cLy+08QA/wYdY/UPWZVu+Iw53vicRReiHR6qKEryge9s53F89NFH5Ve/+pUsXbpULrnkEvnjH/9ohpYTO1Eqn6QKvKFoUD44NigZfwjsoHT4SXqzBnESE9LPL7zwQnnsscfkiiuuMEukMzTroYceMlki+t4URUk0CLSR3RZM/wD6hw4F5mBMpmHODFubtnla2MnaN+zfIH+f83dZu3etb49S1UhLTTNZUyyUwPx+4chIy5CTW55sJuPXjLeKh8AYq+P+qOuP5Loe18k57c6R+tlHB2WgW71u0iavjVkIwwsc1652O+lar6tvj1KZMBwR/YLuCTY3KJ1D6B/8H51mQ1GqDyQaMR0XgbZ//etfZgEWElsYadaq1bFzdCqVR1IF3lq2bGnmrCE4Q2+Ov2Lhb6K9/CQbLphzpFQ+BEd5nzfeeKP8/e9/l8GDB8u///1vM/6cefzinS2SsmePZE6aJLkvvSS5L74oWV9+KSm7vC3PryhK9YNhpOgVZBPDeAI5NmRa4/Sgp+gkSgaYHH3yxsmy85C3+TWnbJxi5pXSrLeqCwtp3NP/HulSt4uZ0y8YGakZ0qF2B/nlwF+ajCql8iDz0P4LRO3M2tKrYS/pUKeDb09oOtXpJD0b9JS8jDzfHqUyYTgpc9cyMoQFFgLNuUamNXN62kV/FEWpeHbvTpGJEzPlxRdzzcbv7IsHZLnNmjVLfvGLX8ivf/1rY3fiS99///3Ss2dPjYMkIGl/YJxfkkAFQrEQXCOjgAw4O8kqyobVepj8moyps88+2zhKsZrcujyBIBoCSlJX9jkaeuYoGyZpZ9w58yZNmTLFTAbJHBV2OFesJoiFFMdhrvHyy5L35JOS+/bbkjVpkmR9951kTZwo2RMmSNq2bVLcubOUJajRQk8n9VFXNQ0OQV0yk+gB0uzJ4CBPKStkZ6TQdqvbqqaUF0N40D/MSYkThIwCZDurlX788cemPFk1ivl2YiW7op0vzovumbB+gny6+lOzkqkXmA+uVa1W0r5Oe6mVefTKrcmKW2Yoh8uDTCoCL4dKDpmhyEzgbyG4Q1bVaa1Pk3sH3HtkHjHlMGQmISMSSf/wTpkDjve4ZNcS816DUTerrlzW+TKTPRevgCryFD0Sqf7Bpq9uugfQJbt27TL6B3+EDDjmGAXqGROp02lNYO7EE0+UTp2cNhkj/cP1oqnL6B86qNT3CQ5tgCCp6p7wRCszKoo9e1LkhRdqyt/+lifvvpsrkydnyXffZclXX2XL119ny44dadKxY5Hzvn1fKAe0xzVr1shrr70mzzzzjFnV+Pzzz5d77rnHLDyJjETmK4FBNrJFs6ppeYfsJlXgjUpEJgGTh+LkUNFYuYOfDFf84osvzGesljlgwABTOLGoeFRwDbzFB94PlZ8AG6sAduvWzTSEqVOnmqWPMSJYtYlMk3K9S+cdpuzbJ7UeeURy3n9fMhYvljSnrqQ679Vse/ZI2tatkrFqlaSvXCmFAwdKmfPenIv6TpAYaOAtPNQTDbyFRwNvkUFZkUlAtsGyZctk7dq1Rv9s2LBBZs6cadL86RgaMWKEDBo0qPwyy0U8A2+sdjhl05Sww0zdsEpi74a9pV52Pd+e5ITJ4zft3yRTNk+RhbsWyvIdyyU3PdfMbeV1SF5VhednRVsm6h/UZJB0rNtROtbrKH0a9ZFTWp4iV3e7Ws5se6bZT+ab8gOJGHiDnIwcaVazmdTNrmsyXclydS+UwjvvVr+bXNPtGjm33blmyHG82oEG3iIDXYJPgy/C3E043egfsqzJeEH/8DurbbN6IR1DsdI/GniLHxp4806iBt5oGvv2pcjDD9eSDz/MkSVLMmTnzjSn3aSabc+eVMc2TJOVK9MduzHdsQ8LHV8ueveSVYyJdzz33HMmWYVFVm666Saz4Erbtm1NUD7ZpjupaDTwFgEYNCgUlK9dPY4NhYOQx+mht4dsuFhku4EG3uIPDQBhwUamSNOmTWX16tXGoSXIigFBZhxlGRVO+dd49VXJHTNG0h1HOSVA4CrFOSZ13z5Jcz4n6FbUvTuRLt+niYEG3sJDXdHAW3g08BY56B86CSg7Vo6y+ofgGzLshBNOMPqHTLhY6R+IZ+BtwY4FMnXT1IgCb/0a9TPzSuHAJyOs8Lhg5wJ5ffHr8uaSN2X8uvHy7YZv5btN35m57lhgonZWbamTVefI5PTVEZ6dd9yiZgtpX7u99G/WXwY2Gyi96vUyc3+xkmZ1Lp9gJGrgjSBaraxa0jqvtQmoMu9b4xqNzVxuBNJZCXV0h9EyvPlwE3SL57vVwFvkYNfg/yDXyb5etWqVyXQj+QBdftxxxxn9g/2MPooVGniLHxp4806iBt4KClLk5ZdryJgxubJpU7pT34+NqJWUpMjevanO52lOuxDp0aPIeR7fhx7BliPI/sYbb8gHH3xgdAyjKy699FKzcCFxD+v/UEYaeAtOZQbeUhxhmnSeKZUPpwdlQ+QXoU6DRCERtCF4Q+HECq5Hz1K0kKVHI6CRKIGhAVBOO3cenmcIR5OVTr/66iuTzUjACaOCwCpDUiNyah3hk+qct96PfmQy3QIF3Y7CqTvF7drJjuefl5LWrbH0fB9UPjR4hCmZgEpgaPvIAuqSKp7g4BxSVtEEdWivBMKrI+gDMqvRP9QxguDoHwJy6B9+xjLohorevHlzVI6PF90zY+sMuWPCHWbeNnf2SzBSnX//N+z/ZFT7UQEncU90CLpN3TxVxiwdY+ar25K/5eisH+df05pN5bhmx8mlnS41QcZQ85xVJ5AZGPbl6YisDuAAYZsiKxIVhozvLdgrGw9sNG2COs4qqHmZeRUSTMU5RI9EuvomstZOMVMdoU4x5JSMa/QP8p1ytJ3W2D78HUvwf6Kpy2SI459pUCk42Aq8O95lErrjFQoyg/KKtiMyHuBiEEy76qp6smJFhlPffR8EgabZrl2RvPzyTmnWrAR30xMkFzENEz4xv7OC8cknn2xG9zGtlhtsUOSqBryDQ6cAG/M1RwL1z04xEy1JGXiraDTwFpoU57lSHccw1bc4QWnt2lLarFlE86T5B94sGBeTJ0+WCRMmmKwShM3IkSNl6NChnh3/lIICyZwyRerdcIOkeAxYlTnScNff/y4FI0ZIWTmj27FEA2/h0cCbNzTwlhzEO/C2v2i/3D7hdpm0YZLkF4eXK21qtZFHT3hUBjYemJTzes3dPleeX/C8fLTqI8kvCv68NTJqyAUdLjBDKskMUjTw5pVkCLxVNhp4Sx408BY/NPDmnUQMvOXnp8g332TKjTfWc+q6t7GjaWll8uyzO2X48EJHpwZ/59QHMrJIPsEHZlgpU5jg/5KE0rlzZ5OU4k+kgbeDB1Nk48Y0M0cdgcB69UqlceNSycqquvWxMgNvSTfUtDKg8utQ02MhoJWxYIFZHTT7888le+JEyXQERPqyZZK2fbvJLCutV+9wiD8MBAAoJ38FjZBhktjWrVubzJKFCxfK9OnTTeAJgWOzS3AGgpHinDPriy/MQgoMJ/VCivPOizt0kKIePaQsgYY16FDT8NhUax1qGhocGMqKwEyk0F6r63CfyiBaQ9OL7iHTpaS0RFbsWSG7CnZJaVnwYDXBKCZdP6nFSWYophsyaPYV7pO1+9fK5gObzWINmamZZv6vUPK5IiGz5/0V75st3CquzP+269Auk/3WvX53HVLpYGWG6p/QJOpQ00SCuoQeiVT/YO+p7qlYdKhp/KAN6FBTb0QrM+LJ/v2p8sUX2TJ5ciQrJqQ4fm2x9OhR7PgqgdsVz8g8juPHj5dXX33V+L5du3aVSy65xMzlhk+MLAwE/g/fD5V4QHNmiOysWZny9ddZ8tln2fLNN1kyY0amrFiRLjt2pDrfT3F87DLnOr4vVSHo9GHTOd4SFA28HUuK06jJIqvx/PNS47XXJOvbbyVjyRLJWLpUMmfPlsxp0yRt48bD2W+kwdJyQzhfVOZAgTegcTBnBUNM6elcv369TJo0yUxwjsLCyGULJoRMxtuMGWb1Uq+BNygcMECK+vbVwFuSoYE3b2jgLXmIZ+ANWKWUbDcCb8z1Vlx69PEEnZgL6sTmJ8pPevzETNBuJ10n4MZE7fN3zJfJGyfLZ2s+M3PG8ffuQ7uloKTALFaQlZZl6ltlsuHABhN0m75lum9PaPYX7jdzXfVo0KPKrOBaHjTw5g0NvIVHA2/Jgwbe4gdtQANv3kjEwBvZYt9/n2lWL/UKZtDAgYXSt2/RMYE37DWGkjPV0nvvvWdWLaUdnXfeefLjH/9YevXqZfRLKMIF3mjKhzP1suTf/64hb76ZK9OnZ8nSpRlmmzkz0wTgtm9Pk7p1Sx3/u7TKBd808JbgaODND6cxZyxaJLWdqpP53XeSGsApZPhp2po1kjl3rhT26ydlDA0I0XKpzMECbxaECUNNGdPOO2HVU3oDKFcaAsaYdQzcEGwjCJj95ZeS4vUdOOc4eO65Uty9u5Q5100UNPAWHg28eUMDb8lDvANvZL2R1VU7s/aRoFt2erbUzKhpVrZsX6e9nNHmDLmj7x0m6GaHmJIdt2H/Bvl41cfyzOxnZMyyMTJn2xxZtHORGdL55bovze/ZadnSKLeRyZirzODbzG0zzT2t27/Otyc0zP3Gyq2s3Nkqr5Vvb/VFA2/e0MBbeDTwljxo4C1+0AY08OaNRAy8oQo3bEiTCROynTbi2xkG5xFk1KiD0q1bkdNGfDsdGMnF9EqsWPrf//5X5s+fb/zdu+++2yyiwAgvnj8c4QJvhYVkumXIr35VWxYsyHR01bE2WX5+qlmFley3Pn2KpFGjqjVtT2UG3nSONw/guOgcbz+Q4ijhOnfeKdkTJphhnKEocwRlwQknyO7HHpPS+vVNQCsQNIBAc7wFA8N/8eLF8vjjj5tVXki7veKKK8wCDGTFHTXu3Rd4a3DeeWYILIHDkDj3WOoYdtvffVeKO3fm5nwfVD46x1t4EIw6x1t4cA4pK53jLbFBRcdzjjd/mPNt6a6lsmTXEjPckoDZoMaDTADKn20Ht8mLC1+UFxa8YLLlgsEiDLf2vlUu7nRxwPNUFGNXj5V/zP2HfL/le9+e8LDIws29bpYRLUf49lRfkBkE3srTERkJZFMeKj5kArxcN9GGLgcj1nO82bbvlgEVuQ9i/R3qEnOARaqjcb51jreKRed4ix8EknWON28QUKK8EmmON2LKq1enyXnnNTSrloZ7haiuvLxS+fDD7dK2bbHJR6Ft8UwzZ86Ut956y8zl1qpVK7nqqqvk/PPPN/Z2JISa4437I1B47711zBDTcPdbs2aZnHbaQXniid2hcmeSDjoF2HRxhQRFA28unIactmqVNDznnICZboEoc4TG9g8+kKJu3bCafHuPJtLAm4UA3Ntvvy3PPfecbNy40Sy8gLDq27evOac10BkaW/u++yTnww8lJcx9l2VmyqEzz5Q9Dz4opY4ASyQ08BYeDbx5QwNvyQEqOtLAG5laBCtwfNA9hQWFR4aGxgqu8caSN+Tf8/5tAnXh6FG/h9zW5zY5t925vj0VzzcbvpGnZj9lhsR6ZWSrkSZoOLjJYN+e6ktFBN6o5/xjiPLm/Zvlqw1fmbn2ctNzzQqznep2MpmY4eqzl/YSr2PQP3v27DkSrIj2OugvNs5jN5wp99/B9oXbgn0n3Ln43N4TP0MdH+pznBfmKho1apTvab2hgbeKRwNv8UMDb95JxMAb7N+fIvfdV1s++YSRNqE7hRhaetZZB+Whh/aYoBbtioUDX3/9dTO0lDpwjuNfX3/99WaKpWgIFXhjXrcZMzLk8svrO5+H78DChW7YsEQ+/nibNGlS6vgMvg+SHA28JTg0DA28HSbFacw5Y8ZI7T/+0QSzvLLnvvvk4OWXH15sIQDRBt6A4BvpuS+++KKMGzfONKbRo0c7guVyR1A0OXyQU83TNm2SurfeKhlz5ph53wJBkLC4Y0fZ+Z//SEnLlrQy3yeJgQbewqOBN29o4C05QEVHGnhjzrUpm6bI7pLdjpJPkY61OpqVOfMy83xHlJ89BXvk4ekPy+uLX5fisvBDichUuqnXTXJb79tieh+RwIIKD0972AQMS51/4SC4c3336+XOfndKnaw6vr3Vl1gH3qjTbDYYw3ao6JAs2bFEnp37rExdP1UKiwulrNSp+87/DOdfh1od5MzWZ8rgRoMlIyXDfMcGeEIFeviMn8E+D7SFOqd7v//1Mc6x9wJ9z725v8Pf/O5/TCACyYJg8iEW++0+3j3PZjf0h/tv9350hPt3/2ObNWsmp512muOEnmXO7RUNvFU8GniLH7QFDbx5I1EDb47Ylk2b0uTGG+vKwoUZjr8fOKCVmVkmXbsWybPP7pKmTZH/hfLRRx8Z33XFihUyZMgQufrqq2XQoEHGj402sztU4G3LllR57bVcefRR73PWkqH329/ulYsuOijZ2VWjjmrgLcFB4Wjg7TCpe/ZI7rPPSt7TT5tVS72y79Zb5cBPfiKlQZz18gTeAAFDA2LeNzLg5syZIx07djTBN3pVOb/zIiV9+XKzIET2Z59J2tatWJSHT+AIOLLbDp18shy46SYp6tSJmzr8WQKhgbfwYOBr4C08GnhLDlDRXgJvDMvbmr9V/jn3nzJpwyTZcWiHOK67cwIxc6wxT9t57c4zGWexCHwR2Hty1pPy9YavfXvCwzxxZI+RueQPQbEZW2fIlgNbzBxyZDbZ7KZYQRbgq4tflWfnPWtWcQ1H57qd5Zbet8gFHS4oV8agDagECqwE28++YPu97Au0P9g57Weh/mbDEWA/86LYffacNojkPj7c32zUa3fd5h0VlRSZwO7BYpfD7juEAC5zBVKnU5x/YL8f7Cd4/cwGl5CNNlhkfw+0L9DnzNnEs9q/gx3v5dzuLdQ+frqDXf7HBvqu3e/+rt3nPsbuYwPrEAb7CeGOYZ42bD73e/CCBt4qHg28xQ/algbevJGogTegeSxdmi7PPVdTvvgiyyxMYF8nIq9BgxIZObJAfvKT/WZF08WLF8g///lP47MSyLngggtkxIgR5nf0R3kIFXhjmOmzz9ZwNu92VY0aZXL77fvk+usPOH5D1aijGnhLcFA4Gng7TIpTSXNfeUVq/eUvEQXe9v7iF5J/9dVS2qCBb89hyDxL3bBBshYvFtZpQZyyGEMphpVTwSOFnniy37766iv59NNPjfChF4HVYAjEpTrGcJrjxKY5x2TMmydp69bRCKSkWTMp7NVLSlq3Nr8nYtANNPAWHpwDDbyFRwNvyQEqOlzgjQURVu5ZKQ9Oe1BmbZ0luwt2m0CcGxZLaFmzpZzZ5kwTTCpv8O2o+dK4Nf+Npuf3k7niftT5RzKw0UDTNotLimVn/k75eOXHMm/rPNmWv00KiwpNQCU3LVda1GghfRr0kd71e5vsJhu4CfbTf1+g/Zv2b5LvN38vi7YvMtlUAe/V2dKdf61rtpZOdTpJ3cy6x5zb/6f/Pvd+NuAd2s39t/v3QPuC/R5on/v3YJ8R/KDt25928//bvY+fdnJrzuH+zL259zlPLvkl+bK3cK+pj9kZ2dK4ZmPJzTgse9wbBu2Wg1tk9vbZ5qeJqRHncf90/V43t64MaDJAjm9x/JHv259s3Id7X7Cf/vv4nv8G4X53/40jjVzlvQf63P/3SD6L9O9gvwfa5/492N+xAicaPYKNFgkaeKt4NPAWP5A7GnjzRiIH3oA4F5lva9akybx5GSbIBc2bl0ivXkXSokWRZGZuk3fffdNkujEdAVm/bF27dpXatWsbHRQNNM+dO1PNMNLSUmy7g9Kp0yFp2bJUsrJ+qFfc34sv5spTT3m3/xgSe++9e+SKKw6aobJVAQ28JTgoHA28HYZAWcasWVLvqqsk1WPwp8ypqDtfeEEKhw49skKoOc+cOZI9bpxkLFggaTt2SKpTFUsc467EqdRF/frJwXPOkeK2bbG0zHe8wvvavn27zJ0716x6OnnyZDNWniENZ599tpn4ONU5JnX3bmG+N8zJ0tzcw/O5uRdlSEA08BYeFJcG3sKjgbfkABUdLvDGyqL/mf8feXnRyz9kCWFPrHE2Xi9fdTaCSU1zm8qwJsOkRc0WxwSH2Nz7An1u92/Yt0GW7Vwmuw7uOnx+CPXT2RiuyXXrZNYxz8PG5Plr964183iVlPqcO9/3slKzzMIMbKnOP/sdLxuBAmvEuoMHbAeKD8juwt3mJwtIHD7ohy0nI0ca5DQwK7ryO9lu9nz+5wq2372P39lscMe9BdoXbL/dxznt7/7HBTsfm/v74TaOA3s84PjwN7aM+3P70373UMkhmb5lukxYP0HW7F0jh0oP2z5pqWkm4NuvcT85v8P5ZoXcjLTDiyUwp9u4NePkH/P+IQeKDvzwPiDATwLJzL933+D7zDnttSPd3PdtTu37WR5ivbhCVUQDb8mDBt7iBzJZA2/eSPTAm4WclF27UuXAgcO6sUaNUue+d8usWdPknXfeMSOyOnToYOZyY9XS5s2bmyBQNBDsW7s2XT74IFtmzMh02mqaY6PR8VTq+EElZuXU0047JH37FplhosxHN3Filtx8M52J3nRd/fol8sorO825EjQnJWI08JbgoHA08ObDqS6pu3ZJ3euvl8zZs8PP8+ZU0sIePWTXv/99OJMMI7egQLK+/FJy33pLMmfMkNQdO8x5j+AYviVNm0rBsGGSf9VVUtS7t1kdNVIo79WrV8u3334rY8eOlR3OdRByBN/69Olj3kuyoYG38OBIaeAtPBp4Sw5Q0aECbwSOpm2eJj+f+HNZv3+9b6/DJmf7ztkc8eqGd147q7Z0qNPBBELcAQd3AALc++x++5Msu+V7lsumA86F2OXeAJvTtS8lNUU61+ss3Rt0l6z0LNlfvN8MLd2Qv+Go4wJtZEh1a9BNRrQaYQwf7oHnCLXZY+y9283uKyUbqzjfrMy6Yu8KKU0rldSyVDO8lZVca2XVksz0TBN0c58n1Dn9Pwv2vWC/B9rn9XteP7NbNHiZ443A78erPpb/Lf+fzNk2x2Rflh2JwDrVwinP5jWbywnNT5Bru18rHet0NEOLV+9dLc8veF6em//cUccHw3kK6d+4v/xu8O9kQOMBvr2JgQbewqOBt+RBA2/xQwNv3kmWwJsbpmVYtmyZfPbZZ8YXJcvtlFNOkRNOOEF69uxphtxHq48J8C1YkCEvvVRDJk3KMtlsbpeH09arVyp9+xaa+dlOPfWQmWdu5cp0ufXWuua74aocGW6DBhXIc8/tMoG7KG814UjqwBtClRU5WFWS5W8vvPBCM77YHwIgrNiB8L7pppvKVdkqGg28+eG8c1YHzfvrXyV93brDIfdAOBW0xHHO991zjxw877wj2W6Z330nNf7zH8meMEFSQijkMqeO5F9yiRy46iop7tzZtzcyqN4I6enTp8uXX34pU6dONZP6HnfccXLiiSdKu3btHEGU2FlubjTwFh6cTA28hacqBN6Qzdu2bZP/OPKE+2Hp9UD3tWnTJhkzZowJGNxyyy0mpT9Z9A8yLFTgjYUU3l3+rjww9QETTDoC/uxaZyNGwqO6tjrZdWRUh1HSt1FfUw7UAxuccf8M9js/uRYZSmPXjJVth7YdfQ043Nl7ZF+Tmk3kss6XyZntzjTBlwU7F8ifvv+TbD64+ajjjnzf9TdDFAc2GSh/PfGvkpd1OLsp0D2593uBDDsCQwT/snKzpOBAgbTMaym1MmtJWkoVWjs/RngJvE1cP9HMM/jd5u9MFlswyFL7cbcfyxVdrpBWea1k5taZZoXcD1d+6DsiPF3qdZHb+9wu57c/37cnMdDAW3iqQuANmUyH7n//+19j55PB0qJFC9+nP8Axr776qrFJbr75ZnP/XmVUIqCBt/ihgTfvJFPgjXe5ceNG43My9dHy5culdevWZh63k046KSYyYPnydEeu5JrFEvbvD34uAmbDhxfIjTful2HDCh2ZmyLvvZcjjzxSy2TmBXOT0tPLpH37Yrnrrn1y7rlVJH7hozIDb2l/cPD9HhU4tjg1d999t5kkcOTIkcbxcVcohC4Vj0shwJnwngfGgEsGaEDlWcWLZ0VpoYCqBM57K2nVSlKc52GV01Rn4/cjOJ8TZCvu1EkOOo5w/qWXmiAa+8l2y33zTTPElIUaQsEccqmOMipp00aKCLw5FT5SqGOUfxvnHIyhZ9JKgsCzZs0yQhEwDpIlEEyQkPrISq5KYHiPKGjkjhoywcGBoazoFIgU5DttprLh/eLg3nPPPTJp0iQTUCewjnK00OGB8fOrX/3KtP0rr7zS1I9k0T8QytDcnL9Zvlz3pczeNtu3xwcjF4hBNvdtzXxbU5FarWvJucPOlStOvEK6detmZGOXLl3M1tmRtZ0c2c2cmAyHYGvfvr3ppGjbtq2RpWxt27SVvMZ5sjVrq6xLXyfFtRwdUNs5v91IKGbLcwzmujlySrdT5MK+F0qv1r0krWaaLDi4QD7c9KGjK5w2Sp8MG3MK2437Z8sUKUl3nL4MkRPbniit67U2Mh1ZSB3Geed9s1EvI3mvBADJpmtas6l0atxJaqfWNpP2s185Fiszgukfhg2TsfbNhm9kf1Fo56iwpNAEjbvX7y6ta7WWLflbhPkCl+5e6jsiPAxBHtRkkHSt19W3JzEgQIncUf0THOoS7TVS/UM7TwTdY8E3uO+++2TChAnSt29fIxvd+ofnY2jZnXfeKUuWLJHLLrusXHM5VQY8YzR1GTmNj1hlfJ84QD3AL9HgZHiilRkVDfYabZ553BhttWvXLhk+fLhccsklcvLJJxufs7z2Jyp48uQsefnlGrJ1a2jfuLg4RfbuTTXZa0OGFJpAXMuWJeYc7CdoxzEWbo2VTHv0KJYLLjgoo0aRKef7sIqA3chGRmIkUP9IgCkP5Zb83Dg9PGeccYasW7fOZBaRSunGRn0RvqwwSc9QMjk9ih/OuyOQduDHP5YD110n+eedJwWDBkmR48CxFQwcKAfPPdd8tv+mm6SMIZ2+981CChkLF0ra9u3m73Ckr18v6YsXez4+GNQ3HHIWWbj11lulf//+Zg64559/3oy5X7BggSo+RUkycHCYv5HJacl8+/77703PsZutW7fKlClTTJbouY5conc5mZyecOAQHZkbLQKi+Y4/vRv2ltHtR8uwpsOkXnY9YfifG/5mrrThzYfL6A6jjwRI9hTukeW7lx+doRcChh4ySf+CHQv4Q0lQ1uxbIwt3LjRZhF5YvWe1LN61WHYV7DLz/zXMbXhMHQoGx9XMqGnmiVOUygC7kkQDEg7oAJoxY4bRN27QR3QK8TkZ2Q0aNDgqMKcoStWAIDOduwTb/vWvf8kXX3xh5MN1ji/805/+VPr16xeztr9jR6osWpRu5nfzgj1+3To6KA8PQb311v1y7bUH5OyzD8qAAYVmDje2IUMKZNSog2YV0yuvzBdWNVViR7kz3gAnBmfmww8/NM7N4MGDTRolSomKSDDupZdeMr2A9957b7nT9CoaHBvNeAtAZqYUd+1qFk0o6t5divjdefeHzjxTDl5yiVkgwT9MnjVtmmRNmGBWFvUETqVTl8ieK2lO2kb5oK4SKKZnkgDwqlWrTFB45cqVpn6yJXL2m2a8hYd3pxlv4akKGW/AM9CDOG7cONPpQ9smyG71DwH2Z5991hz7u9/9zgTqErV9ByNUxhsT2a/a48ixTVN9e8JDkGNU+1FmnrfywNxcrWq1MhlLkOr8Y1goQzXr5dST9rXby4iWI8xcXv0a9ZOstMMTCO88uNNMvj93+1zztxdy03PNXF52eGws4XxWZijBCZfxRqbbV+u/kp2Hjg5+B4OAatMaTc2QUYabbs/fbuoFdTocOek5pj4wfNnWq0RBM97CU1Uy3oAMCDLeWNSLeZsYUkY74f0zv9PTTz9tfIj7779fWrZsmXSBN814ix+0Ac1480aiZrzRNhgyv3DhQnnzzTfl3XffNfdIQtLVV18tw4YNM+84lixbli7jx2fLkiXe5z9nddIOHYqlU6diRz7RPsWstnrccQXSpUuxdO9O0K3QDCsl061nT1Zh9X25ipHUGW9AMOD44483Q1MIYhDMsA3DVkb29ejRwyglpWpR5ji9Rf37y6HzzjNb0aBBZl9AnEqeEuFcEQw5NTmxMYR5CC+++GL5zW9+I6effrosWrRIHnroIXn55ZdNXdWgjaIkByhCDBuGSM6cOdPMpWGVKQ4Dw3sWL15s9A+LqnB8VYLhdmSekf3jBYJljXMay8DGA317ygdBD4b7/X7I7+XJEU/Kz/v9XG7pfYv8ot8v5JmRz8hvB//W3F9m2g8WHCtSBsqQC0VGaobJiIrgK0oFw1DTSDMpWRyEhToIpHWp30UGNxls6mgomH+vXe12MqzZMDNXnKJUJoMcm5fh+vg66BobRCERYenSpWbYWffu3c3iXgQPFEVJfvARiXUwqo/sNoacf/rpp6at//a3vzXz2TNVRzwoKqLT3PeHR3C9CwqONaBq1To8BJUhpQTd+vQp0iy3OBIzD4TIIYEMenK++eYbs+ACoIS+++47k2551llnxbynWkkuCMiVEWaPgLLcXLPFGuoicxndcccdJujGPEYvvviimXydOqyTIytKcoDeGTVqlMlaYuUo0v1hxYoVZpgPGdl8XhX1D4GvtrXbmuGc4eYmI9DVMKehnNDiBBP4iiUE1riPCzpcIFd1vcoMLW1Rs0XAIArDT/s1/CEDLhw8V72semZIayTBunhSWlZq5ikj2MQiAgSPvKzGWZWpnV37qACrF2pk1DCBWOhRv4dZbKFtrbYm0BoIVuJl1dlTW50q57Q9x7dXUSoP9A/T6DB3G3Nd0/kDa9euNZlwZEDiH6n/oyhVAzI56dhlmqI//vGPZp5hgnD8ZCAhI//I+IwXzNcWaXAsK6tMatXSBecqm5gF3lAoKBZWc/r8889N1hDMnz/fZMGx4inz8CjVm8LevaWYIaMes07KHIOGhRWK27f37Yk9pAAPHTpUHnnkEdNLwZwcP/nJT+T//u//jAGlafKKkvgwf06TJk1k4sSJJssNyDb4+uuvzfBSVpyrqjBMjywzAl2hAlMsJECm2/U9rvftqRwIuLWp3UaGNhvq2xOautl15bjmx5mAXSJAT/e2g9vkvRXvmcUEXl70slnc4kBR9FNSVAUGNR5k3pHX4CiZaz3r95SWNVuav6kXBJAfP/FxExxOTzk6aMvx3et1l7v73y0/7fVTzXZTEoazzz7b+Dn4O/PmzTP78IPGjx9v5nW74IILNPCmKFUEVpp/4YUXzPxttPEf/ehH8tprr8no0aPNiKp407ZtsXTtWiRpad6Cb7jcTZuWSL9+Ok1RZROTOd4s9OoQ/WWCa4b98Pcnn3xighdMak3gLRkVD0a2zvEWI5yySNu0SdIdgyR1d/gJmIt79JBDTt0p7taN6K5vr0NpqaRu3SrZn30mmVOmSPqiRUaymCGuUaTyUy95T6QFU095V6QOs/HumDPKrERz8KCkO059lrM/c/p0SVu9Wkrr1zeruB51f3FC53gLD+9S53gLT1WZ482CviHDmgmumUenXr16pv3Onj3bBN1wjJLV8Qm3fD4ZYQSnGHq3/dB22bR/k8nAsjD3WptabeSKrlfILb1uOTyJfSWXBUFAAoXfbvpW9hcGfz7mdhvadKj8ov8vzNxx/uwt3Cszt840c4sR/GKlTOawY+iiV9wyIxSU6eq9q+XBaQ/Kn6b9ST5b+5mZW2/Kpiny8cqPZfLGySbrjTnvIs38SgbCzfFG5trafWtlzd41sq9on29vcPo37m/mGiRT0gbryGgjeMfcgGS0EaBlqDKBuJt732zmC2SeP+pForZnneMtPFVpjjdAfpBhjf4h0EZnD51AZFyje3DIk1X/6Bxv8YM2oHO8eaOi5nhjoNOWLakybly2TJmSJUuWMB8YK32WOXJ9v7ErSdQgyYiV4Ml4swG38szfmJ+fIgsXZpi5277/PkPWrk2T+vVLHX1S5sgO30E+cHNZjXTFinTZvDn8NVnF9PTTD8nw4QXHnKs6UplzvKU4wjSmlgHjm0m1ZIwzQQyyDWgsDzzwgBx33HG+o5ILAi9btmzx/RU5TOKPoMAQUxzDaf16qfHss5I7Zoyk7t3r23ssBLT23X67HHQEWqljyBgcg5+gXY2XXzYBt1RW0EWpO42h1GkMBOgOjholBSecEPXwVN43KyRiQDHnG6v1duvcWa5s1kxO3bxZ6ixbJqk4wo5BgTQurVNHCoYOlfyrr5bi1q0PS8Q4QYPHkGHuECUwCEaCLmQuUlZKYHAOKatwQZ1AoLCYPiDRwCBi3kYW8OnVq5fJPuD5Hn74YRkxYoTvqOQCFU3vajhVTcCHwNCW/C2ydu9ambF1huwt2eso+RRpm9dWutXrJs1rNjcBOjKHKhuzUmlRvszaOkv+Ne9fJoB1sPig2Q8EC7nfM9qeIZd2ulQ61e101H3vK9wn/1v+P/lszWcmGGa/S9ZUk9wmJlBDkKZ2Zu2wDi/tAKMZmRGsnJmLbN72efLw9Idl/vb55vr2Xi3ZadnSIq+FjGo3Sm7seaPUzCyfgZZoIDMoy1AdkbyLx2c+LmNXj5X9RcFlS6OcRvLrQb+W01qfZgKl/tj6TFC2pKzEXJdgG+833JDqyoaRHzpVRWgIVKFHmAc6EvAnWLwtEcHf+f3vf2/ukaFmzDmK/fjoo48m9Ygf/J9o6jKd1QTdNKgUHAI1TIURSvcoh0FmUF7R2KxeYN60ZcvS5JVXasi0aZmODE81QTjHPHB8rxJp2fI7x6d4Wdavn+D8XcN06LKAAokZ5Vk84cCBFPnyyyz58MMcWbw4w/xNVXDEo1M3SuS44wrlmmsOSIsWJWafZefOVOc72fLYY3myfXtwmy4vr1TOP/+g3HLLfmnVSnUS0CnAtjdEDCIQ1L/yLhAa04w3QCHSw0OqNdlvCJPhw4fLlVdeabJ1Yg2r2OFcvfLKKzJlyhRjGMZ6uW6EoWa8xY6yGjXMCqVlNWtK2vbtkuIYqCkuhWOGlzpO84Gf/EQOnX66lOLgO0Z3SmGhZM6ZI3mPPSbZX30l6Y5Bk+oYbanOuyEQlrZrl6Rt3CjpK1aYvnNWQo0mCGYj2ghTJmTPcq4937nut44RtcU5d8OtW6WZcz1zXef6PEP6mjWSvmyZlLRuLaUYhTGsf2404y08OGia8RYenAPKqqpkvAEOL6tok+XGRNcE0AcOHGiGAyCHYw0GoF21m3khuQb6B4cylngxNMkYIjBFVljj3MZmxdIhrYZI34Z9pXOdzia7jEBQogQtuN+MtAxpXKOx9GrQS4Y0HWJWSGUl1D6N+sh57c8z832d3PJkk0HmniuOoNeTs5+Ud5a9Iwt2LDBZfgR5GOq5p3CPbD24VVbtXSVLdi0x2VHMIxYq+OaWGcFYuWelvLDgBZmwboIcKA5sDxSXFZsMvD0Fe8xiFz0a9PB9UjWwMiOU/uG5GfpMxh/Zh3sL9h4VoGT4aL/G/czQ6JNanGQCwYHeja3PZC6SHUnQjXnfQr3HREEz3sJDXUKPVJWMNyB4j+/DqB/0z6ZNm4wNeeutt8Z8VUOgA5bgHkPeCPpRnujAWPtamvEWP3hnmvHmjWhlhhcKC1NMltnjj+c5bSlb1q+nUyDVqft0Tm+RXbtectrzv51tqXTtOkBuuOEaOeWUE6W548tyX9FCkO3VV3NNsG/mzCzZupXA4uHrcv0dO9Jk9ep0Wb48Q9q3L5Z69UqPuJfM2dakSakZQrpjR6pj76Y67fQH/ZiaWibt2pXIJZfkO9tBadOm2Nnn+7CaU5kZbzEPvCFAUDYog5UrVzovvZ1ceOGFxvmJNRh/DC364IMPzHBWlvJmsnzmWYil46OBtxjjVFyyxEratJHirl2luHNnKW3aVFKd3w85RsrBiy+WQ2StHXfcUUEsAlu5r70mOePGBc2UIziXumOHpDifkyVXXI4VZTBeyOrptHSpdHQMqb0bN8p3Tp2b43yGG9zC2az5xxBUhtBCcdu2JlsvHmjgLTxuJ1odn+BUxcAb+odgG4G3ZY68wChC/7DqaayhDaLj/ve//5lrofdY2Rv9E2vHJ9IeXobrEWxqXLux1EyvKY6JkZBZQgRXCKgxtLBlrZbSoXYHM6ywf+P+0q9RP+lYt6MJzPjf+5tL3zQb2VVkovnDwgdkSq3bt84Mf+xSr0vIoadumREIFlGYsWWGPLfgORPYC4W5ti/Ti+GSiTDklHvaXbDbDMldvHOxrNu/zpQpZUJd8YqXwBvnZeEOhjZ3rdfVvMNmNZuZQPCAxgPk0s6XynntzjPDhwO926qABt7CUxUDb9j6Oxz7c+7cucY3IRHhoosukhNPPNF3ROzAnyCb7u233zZzmaJ/2jq2Z+vWrWMe5NPAW/zQwJt34hl4I9PstddqyBdfZJuA12Got+Oc7Rln+8ipxw0cX/4SqV//Yunfv4f07Ru6Q88LY8fmyBtv5Mr8+RmOzjj2XDQ7hqBu3JiG62wCaXXrHh7Jw6VZYIFhpJ07F0vPnkWOz1oqXbqkSI8eBXLOOQdl9OiDMmJEgQm6xbg/OKmpzMBbXCyekSNHSosWLYyg7tatm0m5jgfr16832QYoBVakVJIIp8KXOHXk0IgRkn/55ZJ/001SfMcdsv+GGyT/0kul4PjjDw8v9QXdCKhlLFok2V9+aYJcobDHZk2YICnlHJKZ6lyrvWNAnbt9u9zu/H2Rs3HGfzvbn51tgrNZk4L74v7SneMdzeDbqyhKRUKGNR0+dHYQCDvekSXxgOGfrNjNkDKuo5QPhmm2zGtphpR2rNPRrL7qv7IlmVNku723/D3ZuH+jGYIYDI4lAMZw1E0HNoU8Nhxk1C3cuVC25m/17QkNw17JkFu0c5FvT+VQUloiG/ZvkNeXvC5/nv5neWr2U/KPOf+QZ+Y8I49+/6j8d8F/Zc62OSawGEt4b8zbdmrrU+XKLlfKDT1ukJt63WQW9bi408VmUY3aWbWrZNBNqd4MGTLEzPuE/iEIFq8pDkg0YAVvAn3MqR3LUT6KUp0oKEgxga+JE7Pk4EGCX3QssUDXX53tUWeb62wnO9utUlp6maxY0cex/Wr5jo0est2++CJLli5NF4a5hoLg22ef2WN9Ox0IxpEFd9xxBSaz7Sc/2S933FEiN910UK64Il9Gjjxkhpdq0C1xiIvVw3h1IvisMNe7d29p06aN75PYwRDWWbNmyYYNG6Rfv35mMm0lCXGkAQG2kp49pWzgQCnu3v3wAglIExep27aZBRTSHGfXC2TEkSGXtnKlb090pC9fLhlLl0rNffuEnM3rnO2nztbL2Qi6IZb/42wrnA1ZSNYbQT+GnyqKUvHUrl3b6B+yVZnnLR6dMgTbyGpgMu3+/fsbB0uJPwSS5u+YL8t3L5eCEm89lav3rJaFOxaGnG8sHLsP7Zb1+9ebYJ4XOI7hqATfKgvmR1uxZ4W8tPAl+ffcf8urS16VbzZ8I9O2TJNvN34r7y5/V/4z/z8m+MYCF7EOvgEBOIY992zQ0wx57lK3y+FFEZx/ilIVYV4zMh4Z8on+YRROrGFeovnz58six9YcMGCAyXQrb+aNolRXtm5NddoSixSYv5ztA2cj4PZfZ2Pl7GudjdSLU5ytgezZkypLl2bIqlXlC3YvW5ZuNoaWemHjxnRznwwr9YfmX7MmyU7FjkwolZ49i6VBg1INuCUgcQm8Mb8Bac99+vQxTkmsh92QZsr8caRyM5SIjDrt7anapDKP2vr1hxc08EJZmVk1lfneyoOZL45hrb40e6ZUPMfZfulslzsbuXePORuJyF8623bn/lKYe04Db4pSKTDM1CyI4su2ZrhLLEH/LFmyxMzlwySrZNSp/qkYCCaxsEFhqfcgUanzb+nupXKgMPrpIgikMVwzEsj4j/Q7sWRz/mb5ZNUn8sriV2T5nuXH3AvPRCYgx7yx5I1Kz85TlKoAvglTENhs61gP+2SYNx0+TOfDIlInnXSSGTKlgTdFiQ5WMN2wId/R2TOdv553tr8523RnO8PZ8PZ+7GztnO1wFAt3cNeuVFm1qnxRLYJuDGv1uZdhwf1duzZw4E1JHmLy9jAwWZlo1apVMmfOHHnnnXdM+jMp16xuGku41tq1a022G4pm6NChZjJrpYrD0jJskeDUlZTyzi3hfD/FL9jH4CcGlt3mbEyQyEDqj53tEWcb42xLDhyQfF3BVlEqDOZAW716tclCe++992Tjxo1mXtG+ffv6jogN6B+yrHF6mBuClboTdYW9qgpzuvEeIoGAHQG4aGFRika5jSLK1GL+tGY1mvn+qlhMZuD2+fLByg/M3G6hyC/Ol2mbp8m4NeMCzpenKEpo0D9r1qwxnTEffvih8YXQPYMGDfIdETuY4gD/h6y3E044odwr7ClKdYb5B7dvXy87dnzm/PWUsxF4I8vtLmd7yNmGONux88PiFpbfvUzxnEti4ZqlpRpkT2ZisrgCFZeAGyvrjBkzxmS8kWJ96aWXxjzwRoDv888/N0oOpUbgjUkpyUDA8WJoK8N+Ai2uQE8RyoqgIPPCkRLuFSbKZVK9aDYyLnAU2AJ9rluqyRihnHhHgT5Pd94XQzgzHMfaK2UtWkjRmWdKWbt2Ac/pZUvfvl0yp0yR1K3Hzu1DAK6Vs53pbLnONtvZmIZzU40aku3UwVrNm5shB9TFQOeOZrPZo0xYG+hz3Q5vTJROXSI4H+hz3VKPTFTLXDT+n4XbaK/U7USAtoDD8/LLLxv9w7xrZBugf8i6jiU4WF999ZWZzJpsbibNthlwLLBgp1YIlOWNnmQVbvQPeowJWr1mKUSrf+zk1lVF9xD32nJwi3y59ks5VOKtc4Ng2dkdzpa+jftKXlZewPNSn8lMCaZ/WFWToaoM1fRy3ay0LOnZsKfc0OsGyc3MDXjOeG4sADF+7Xj5aNVHJrMtHPlF+eYZhzUfJnVz6gY8Jxv1mjqr+if0hv6hvav+Cb6hf2h3keof7CnKN5Egy+3111+XN954w8y7xtQ3l1xyScwDb/gtkydPNh1M+FinnHKKKT/0DzqJLG+GnQbKsuM4/B/mhuMnC1RQnl5A/0RTl9X3Cb+F0z26/bChf6KRGcE27DDstrFj35GpU1+TfDOHK2OafutszM2IHRfYRmvTplTOOKPY+Rl93d62Ld2RF5lOm/TWDjEXhw8vliFDiqV+/eDtEflIGUGgz3U7rH/QJejpQJ8H2/hOeX2fFEcgRtZ1HACEMiuLEsPjdPT03HjjjSbjLZZp1lSkCRMmyPjx483kpeecc46ZR4FV7Lg+DtHVV19teoECDS/iOJwy5kZA6dx+O2O2w8MzEdyj0KOBF4WhyqYEBqVOOaF8AuIYHKmvvCIZv/512MUVoMxpVCVnninF//gHM0/69kaB4ySn33STpH32maQEuzcfS53tKUcxfOJsNRzjh9WsLrjgArPQSDb10am/KWTC0eSc5y1jn/PMRpqGw6k7KQUFkuZ8lwZbQl3EuY+yTlZ1EKpB65JiwIABq6AjgfYaSMZWBtw/WQYPPPCAcUxwSK677joTFIulg8Z1cHro+KFN07bJdmO+N/TPxx9/bPQP1w206hHzkk6bNs0MhaXs0T9e9WN+fr4pc7ZIqGq6h+GS2w5sk5NfPdnM3eZlKGfNjJry/iXvy4CmA0KuMBpOZszZMkcenPygfLL8k5ALNbBgQLs67eT6PtfLnYPu9O2tWGZsmiFPTn9SxiwiB9sbvRv1ll8N+5Wc3/l8355jKY/MqE5QlzDoY2BeV1msI0M5RUIi6R4Lsv+hhx4ynSoEv9ADp512Wkw7p2hz6I/PHFuUebQvu+wyk+2Gbnj//fflo48+Mit4n3zyyeZzfwi24f/MmDHD/H3zzTeb+VC9YFfcjFT/IC9oA+r7hEbt1dBQfVivrrQU/YMdVOK4P2VO/Tr8eTAQvxRrYaHjbzm/4y5lZREILnbawx7Tll588UVZsmSpc+7BsmfPTVJQcKrzzdAnzsgok/PPL5G//a1Y6tb17YwCR1zINdeky8SJaY4cDN+2cnPLnGsWObZnqfO7b2cAVP+EpzL1T0wCbxUFQ0z/+9//moc+99xzpUePHma/18BbtKDwtmzZ4vsrcmrVqmWyIghQKoHBQaSccE6DkTl1quT99a+SNWXKYYkaguK2beXAVVfJgZtu8u2Jnpr//KfkvvSSpK9Z49sTBKdB5g8ZIh/07y//mj/fDEcj4/P666+XU4YPl6xNmyR74kSz8EOZ45gXDh4sxe3aSRlL46MRAsFzOvWPOeMyp0+XHOccPPnB1q2lqF8/KSWoGE77VDMQpsx9Ql1Sgy84OAWUFVlckUJ7ZfGC6gSraL/yyivGQKbTxw5j9Rp4ixZUNMOLolHVVVX3/Gbyb+S9Fe+FHUaJkXRmmzPl/qH3S9MaTX17j4V2UNexoJEZwcqZxQemb5ku935zr6zdtzZg0I/sujpZdeS89ufJLwf80qzcWRkwdPSfc/9pho96pXPdznJL71vkoo6s3R0YZAZlSoBbCQ4dwsgFDVAGh04R9AhZJ5GAU1kdh/czfQIZ3cios88+28xfCl4Db+UB/yeausyoIhxbG7hTjoXgJO8rlO6pzlDtmE9t9uwMWbkyxymjVGncON+p/4WOHCg17k+geDCm//79KWYete+/zzSrgtapUyonnZTv1Mel8ve/Pylff/21sWOvvPJKR/9fIi+91FqmTct0ruE7SRDaty+Wa689YLby8uSTNeW112rIunWh/TiecfjwArn33r2O7Rk6SIstg1yNNKhUnSBGxEaHRCTQXss7vD9p0mVwoFEuDNVheCnLZyvVi6KePeWA49iWhKn0pbVrS8GIEXLwouAORCTkO+fhfKWOExsK7uvQtdfKcbfeKo888ojcddddRpn+9uc/l987xtDe886T2g8/LHlPPy21/vxnqX/ZZVLvxhsle9w4SXGMp2NwpH/qrl1S66GHpIFjUNV1zpPtfC/H2erefrvUv+QSyfvb38wiEoqixA/0z9ixY2Xr1q1m7rhYT6GgRMZtfW6T3g17S3Z68IzBtJQ0aZXXSu7qe5c0yCn/PLBky/Vv3F+eOfkZGdlqpGSmHp09R6Zbp7qd5Pa+t8td/e6SWlmh9UU8Yagrc8xFQnpquhluqihKYoH++fLLL03yQb9+/WI+d6miJCKsHvrMMzXlssvqyy231JU//zlH/vKXbLnnnroyenQDuf/+2iYo5x8oO3AgRT78MEeuv76eXHllfec7teSpp2rKH/+YJmee+bLz3Wvlq68myqhRo+SJJ54wgbeRI2s4Pw9Io0ahA8wE70499ZDz3dgEky+/PN8E1PLyQicJNG1aItddt1+6dNFgWrKTNBlv9Jg8+OCDZrUgsgkYomPTnumJIWuDY+jhpyeN+XdOP/10adKkiTmmPGjGW/zxkvFmAlF790rmtGlS49lnTQZciqsXroy00Y4dTcDt4LnnSknz5sEzySLBMXrSNmyQnPffl5x335X0ZcuOWnChLC1NCocOlf033CBFjlNOgK7E+Tx/xw5Z9v/bOw8wp6r0jX9JpjHDMDAMvffeQQSpoiCKBQUrFrCurm5x/+uubl/XXcuqrG1tK1YQFRBBFAHpvfc+9DbAMAxMT/I/75lcCSHlZiaBSfL+eM7D5CaZcnLuV97znXO++kqmjx0rU8+elQx17UH1+ntUw+6CGL1ONY7tDRpoQTHv9tvFadQPq9eiyq3qb34jCWvWiDUnp3Tqxw0nlpGlp+ufnfPcc1pw9Dr1E2Ow4s0crHgzD2z3yy+//NM2BfAx7v4HFUBohv/B3nJYaoS9fsoLXDQr3s4HSz13n9otH235SL7b850cOXvkp8MTUHVWJaGK9KvfTx7r9Jiu5PK3xBSYqXgDWOiPAwiyC7Jlf+5+WXZkmZwsOKm/f9v0ttI6vbXUSq6ll7dCiLtU4Pf7eMvH8uKqF00tx0WfDWwwUJ7v+7zfAyFY8WYOVrwFhhVv5sFBPm+++aaswKoH1W/wQYb/QYxj+B/kRni+Q4cOcvXVV0vTpjiJsfyw4i18sOLNO6dOWeUvf6kiCxYk6j3QPJdiotINYlWHDsXy0kuntDCFaxDdPvwwRSZMSJYDB2zq3sH74K8WqfaCatgnvKuyIQ/KM8+0lqFDU9V9E4f0Uv/MpUsT5P33U3Tlm91+7mdarU4teo0cmSfXXVegf16I0ktd7TZ5ciXVkmX3bpu6du7nYllrr15F8sgjZ6Rr1yL1uzoDpnmseAvMpax4C8nhChcDGCSUWsOxIKlGQgGjjgYRDskFjDuSQThlbHCNFoo9FvCzyxNo4sOF0+JN4BskPugnvw5aWRvsi2avXVuKunWTor59paR+fSlp1UqKevSQ/DvvlDzVIEQ5IArACocC/Fw17kqaNdPLQ4tVUl3SsKEUt2snhX36yJlHHpH84cOlpH17/Tq8Hn9PqkrSG339tXTavl1aKeu6Q32raaphhw3UXyB0TFRjwqJufOuZM1pEg3AIIDBWfustSZoxQ3+trbMHEP+sqr+symFDgIToF7K/OYJBQIrgE2OJgYxvkMCgr2A7gwXjG8F/rIDkBuIXfI2n/4GPwfJT+Aj4Hvighso+4JCfUC05LYs4CqLV90DUwjLONultpFedXtKmehtpmtZUV8ENbjRY7m9/v1zX9Dp9LZDoBtxthj8gUKGSDsJajeQa0rxqc+lco7N0rtlZC3w4+RSVZkZSfKnA35xblCvbs7dLVn6W66pvsAz36oZXy6AGg/wKhobN4H5E/oFNgNhN/+MbjCX4kWD9DxKfWPI9AOMI1dboM4i6vvwPnjP8D/IfvC4U4HuXZSzD/8B3MvfxDe4BxBUUJ8/nnXdSZNq0SnL0KA5TuNCfYjhCVDt2DPujiXTqVKzuBad8+20lmTgxWbZvx755GHdbVPuPam+olq3ao6o9rJ7rofo+XZo2dUqdOg7l1zBenVK3rl26dSuSPn2KpF49u7RuXSw9ehTJqFF5cvvteVoEy8goXeIaCvBzU1Od0rw5Dk0o0n9Hw4Yl0r59sfTrV6gFt5tuype2bUv032cmtEAsA7vKwgPfYNIHDZMawYD7tbxxfcRUvBmJj7dOys7Olnnz5unTVLH3DkqxofiiwVGVFyQurHgLL6Yq3txRwxaHDVizssSi+hZVZw71eWvhK5zikxoL1txcsZw6pcUuZ0KCOFSyrQ9KcLOIOAAi+ZNP9FJQNUAFmvoG1bDjziTVsB/nENWwGLalalYVQOXdeqvkPvWUroKL27lTqt99t9gOH/YqurmDyjfsaXfi88/176Isg+uZ2ASGkRVvgUHAjr5ixVtgMI6Q+HgLjjGzCP+zcOFCvfcOqq0hwGHjaiQe5QUumhVvvkEFWk5hjuQW5+o+So5LlvSkdFOCmwHuAzMVb5HE4bOHZfLOyfLmujcluxAJh3dS4lNkSKMh8rOOP5O21du6rnoHNgPCW3kmImMBVrwFBskhK97MAZsE/4P93DyBT4L/WbBggQwaNEhvhYCKDPgfs4f3BIIVb+GDFW/ngy7IybHIbbdlyLZtOHDPv9KEtKt2bbt88MFJadCgRP7xjyoydWolFdceUs8i45qs2h7VOql2u2rdVEPFkk3ZaYc89dRpueWWfHWvnOt7/A4FBRbJyrLqn2+zOVVO4ZCUlMAHOpQHCIi5uVb990NshBCIfezwfzCw4i0wiM3RuMebHxAY161bVx+V7dmwnAcJBl6TkZGhZ3qQFIZCdCMVFGVtjWWaqESzq8/ciaWW4bSKQH1/h3KS+Hn656qfj9/DcxrCduCAxG3bpvdfw02GrW57q/aQak+rhm2+p6j2rGpfqHbkzBmJ27VLN4tKauLXrTMlugGLMq5xBw9K/OrVWoQkhIQW+BZsW+DN/6C6wDgdDgk3Kt3gf0IhupHAxFvj9R5uTao00RVutVNqByW6RSuovrum8TXyQIcH9BJYz0o2q/pXv3J9Gd5suNzZ+k5pUa202poQUrGA2I1kz5v/Qb4D4QavQcINf4TXhkp0I+RiAqFr9eoEvUw0kOgGIJKhKm7dunhZtSpBdu8ulLNn56hnXlLtfdUwSXSvak+qNlQ1bKVQmieePGmVLVvi5PDh830j0rlKlZzqXrLrgxQaN7ZLlSrhFd1AXBxEM4f+efi59evbgxbdSMUntktjCAkT2J/NlpVV6hVcwGY3VO021X6l2nWq7VftHdXeUq9bcvKkFO3dK5aCAonLzDQluv1ESYnE79pVenY2IYSQmAZLYhtVaSS3t7xd73X3UPuH5OpGV0vfen31fm6j2ozSp5je2/Ze6VazmxYwCSGEkEsFCiu3bw9c6eYOUqU9e7A/2y45duxDlXa9qq4uU62Dar9QbbRqXVWLU+0chmgHAY6Qi0VUjDaUrLdp00auuuoqXf2GUkBCLimw6G6imztIb65Q7eeqPaIa5l9mqvZaVpZMWb1a9u7ZI86yLJEsy3sIIeUClW04ZRuH+aDajZXWpKIA8Q0VgDc1u0mftvpox0f1klIIbjgZFpVuWF7KCkFCIhMs123RosVPhymw0ppEOj5SJz9ky/bts2TJkvckK+tT9RhLLEeqBtHtBtX8n2rudJoX+QgpL1EhvGGju969e8u9994rrVu31o6IkEuJo3p13TyXoLqDVeJ3qPaUaqh+O3bqlLy7aJF8/NVXsgT7wqn3mvY/NpuUNG5cWqtMCLloYOKnZ8+eMmbMGGnfvj0TH1LhwDLTqolV5bLal0n/+v2ld53eUq9yPVa5ERLhJCQkSPfu3eW+++7Tp2nDHxESqaBupkmTEpXKBMp+8Dz2fMfu2Z/K+vUvSV7ecrFasYfbb1XDxj7Ys9S3zIH0DAclVK3KogVy8WB9JSFhAHu/FbdsKY7UVNcV7+AG7KjaL5OT5ak2baRZs2Yyc+lS+Ztq3yivsFs9F3DXNuWp7DVr6pNd9SEPhBBCCCGEEBIhQHC77LJifWCCb/ENFW048HCeai9IQsKL0qSJRe6++x7p1u33UqnSAHU98MmTVao49KmlOL2UkIsFhTdCwoAzOVlKOnSQ4q5dA1eh2WyS1KqV9BkzRv7417/KaPV/TmKiFuOet1hkjXoJzqTz6hrU8460NCkYOlScGRnqjuYtTQghhBBCCIkckMLgBNHBgwv0/6hKOweEOByWsFW1j1V7TOLj50unTsPkn/98Se6+e4QMG1ZVmjWz68o5fyAt69GjSNq2LdEHKRBysWCWTkiYKOrWTfJGjpSShg3F6Ut8U9ftdepIwXXXScHgwfo0xLvuukveeecdGTxkiHxRpYrcpTwRdi04oBqOTvjJRajrqKgr6tpVzjz2mO+fUR4cyvEVFuoDH/C/3vk0+A0YCCGEEEIIIREIQn+kAIWFFikosOj/w7W19MMPn5Xu3YskLc3hqidA6QFKELAj9q/FYnlOkpLqStOm78nYsU9LixaNVDoVJ9ddly9DhhRIrVq+xbf4eKc0alQid9yRJx068EA6cnGx/UXh+pr4wKmszdmzUNnLBvb8sStrVVKC8ljiDauyrOin/Px815UoID5e7I0aSXG7dhJ3+LDYDh4Ui5uXciqvUNy5s5z5xS8k/6abxFm5tDQafZFWtapcefXV0qlJE1m1dq1MOHNGNqhxWFM930C1OPWakjp1JP/WW+X0008H3E+uTKjxit85ado0SVyyROK2bRNnUpI4q1QJXMV3CcGx+tjnBGMJ9y7xDg4BQF8VFQVczHwBGKMpKSmuRyTcnFH3f1mg7zGHu80gvjFsRjFPz/ZLcnKySkwL6H/8gLEEPxKs/8HhafQ9FxfkP2UZy/A/DhXz0v/4BvdAkoqrI8H3FBVZZNeuOJkxI0mWLEmUnTvj9P5olSs7A1aYBQuq0K64okgLewcP2iQ3d5O6+oJq/1StUNLSfiHXXfcPGTu2hqhU6Kefn5Ag0r59sdSsaZdDh2xy/LhVjd1zuRGWr/brVyh/+tNp6dmzSPV99NloxDKwq7j3iHcg0qIVoqAkCHC/4lyB8mBRxpSRQQCQuBw9ivXkZaNKlSr6JkAgRryDGwD9dPLkSdeVKEHdXhaVpFhOnRLbvn2SuHixWFQSjaWoqIizN2smjvT00r3ZvAhnRWrMHM/Kki8+/VS+njRJio4fl2EtW8pt118vzYcMEUetWuJEEKqMQaiwqLEat3GjVH7/fUlYulQseXmlJ6aqnwHhrbhTJ8m7804p7NNH/x0VDRjGdNWnGEt0PL5Bcoi+Kouog/sV1Zkk/MBFHzlypEyJD32POXAfVKtWTdsMhkS+gc2A8FaeichYoHr16nJK+XzEjsQ7SA7hR3Jzc11XzAHBrkaNGq5H5GKA/KcsYzk1NVWLbpzQ8A2E5KpVq1Zo35Ofb5ElSxLkk09SZO3aeP3Y4bAov+lUPgF7shXJ6NFnpVOnYklMDN3fgPD9wIFTMm7cJJk6dbLk5JyQ1q37y5Aho+Tqq5tJ7dqV1BhzIjU5D3QjKvJOnLDKjh1xP/3OqJ6DmFe/vl197VT2R+VnIa5XqAggloFdpeDtG0wKoJ0+fdp1xRy4X2upvLs8UHgzAYW38BO1wpuBus20AAeRAwEMRKyUFHFiesbTa3gA8Sj7xAnZtHmzTJkyRVYvWSK1MjJk2C23yPXDh2unHSqwnDRx/nyp/PrrEr91q1iQYLmbCOWlnCpgLmnSRM6OGiX5I0ZUOPGNwps5KLxFBnDRFN7CC4U3c1B4MweFt8BQeIscKLyFj4ouvEGwmjKlknz4YYqudsNjj5RAUlKc0rJlsTzyyBkZNKgwJFVkiN3nzZsn48ePl/XrN+iD50aMuFUuv7yfJCamqNgmXtkP14t9gPAfy2Hz8kqXxKIqLjXVod8XjYKbAYW3wFxK4Y1LTU0AY8ilpuEFiQ/6KWodNKy8umEhWmnBDWKVSeuPRCdZvaemutlxXHyNOnVk5759Mn/hQtm+fbtedtGgQQP9uvKSsHatJH/ySWllno/PAgKiVSUV1jNn9BLXkubNXc9UDNAPXGoaGC41jRy41DS8uNsM4hsuNTUHl5oGhktNIwcuNQ0fuAcq8lLT+fMTZfz40ko3iFjewBJUVJcVFFj1CaGoKCsriFcOHDggb775pkyYMEFycnLk2muHyh133C59+lyhvndtZQPsqt9cb/ADUiJlZnRVHsRBLF+F+Ibr0QyXmgYGkz5ol2KpaejWpxFCwgqMaatWreTGG2+UBx98UPr37y+bNm2SsWPHyuuvv66dVXlm2HGAQvyGDaXLSwMEwxDf4jdulIQlS0qXohJCCCGEEEIiHlSKLVuWIOvXx0txsX+1CuLbihUJWqDDMs9ggbCbnZ0tX3/9tfz1r3+Vb7/9Vle5PfTQQ3LHHXfoooNQru4h5FJB4Y2QCALVBhkZGdK7d2+555579AmoaWlp8sUXX8jLL78s33//vXZeZZmdtB46JHFbt4rtxAnXFf9Yc3MlbudOidu1y3WFEEIIIYQQEslkZtpkx454yckxJxWcPGmVbdvi5cCB4E5aQEXlypUrdZXbBx98oLfWGDFihIwZM0aGDBmiV/SgQpaQaIDCGyERSEJCgjRt2lRuueUWeeCBB+Sqq66SjRs3aqf18ccfy/r16yUvyEo027FjYsNehmZFO/U6LDm1HTjgukAIIYQQQgiJZHAqaHY2TgV1XQgAXpeVZZUjR8xJC1iCnJmZqavc3nvvPZkzZ440adJEHn74YbnvvvukU6dOetk+IdEEhTdCIhjsdXLZZZfJE088IaNHj9ab2eIAhnHjxsmsWbOCW34Kr2nWwxrg9dxHgBBCCCGEkKgAJ5cGG97j9U5n4KWmOExi6dKl8sknn+i93I4fPy7XX3+9zmVuuOEGvawU+2kREm1wVBMS4cA5wUlhH4Tf/va3cuWVV8rWrVv1DNLnn3+uq9/MnNziUN/DUa2a+Z1H1euclSuLnadbEkIIiWGwvUN+Sb4cPHNQdmfvlgO5B+RM8RlxODkxRQiJPDIy7FKliiOYlEDlIg5JT/c92Y9N/3ft2iXTp0+Xt99+W+bOnav3cnvsscd0a17BDmsjJNTwVFMTIKDiqabhBeJRVJ9qGiKwxBTj0depctj/7fLLL9fHHe/Dyafz5+uTT9G32AsOBzT4mkXCaatYNpqwenXAwxUATmgt7NVL8m+5BYPcdfXSw1NNzcFTTSMHnmoaXniqqTl4qumFQFg7W3JW9p3eJ+uOr5Nv93wrSw4tkXXH1kleUZ5+PsGWoBv6jpTCU00jB55qGj5wD1TUU01TU52yeXO8bN0arz7DwLYrJcUh11xTIIMGFapcxXXRBcYP9p/GljhYkYPDE3CqpLGXW4cOHfS97Y+y2oxYg6eaBuZSnmpK4c0EFN7CDwYzhbfABBLeAJwXZo2wBBWvX758uZ5Vwoal2KQUQavXjUrh1FT/x+3fL3EHD2Lgu57wgvq8Slq3loJhw6S4SxfXxYoBhTdzUHiLHCi8hRcKb+aIduFN+1ZHsRTYC6TIUSR2p11sFpv+m73hVP9OF52WBQcXyAsrX5D/rv+vLD+yXFYdWSUrjqyQ7/Z8J2uz1kpSXJLUrVxXkuOSfX6vWIPCW+RA4S184B6oqMKb+vjk9Gmr7N1rk2PHbIFSAunatUiGDSuQVq3Ofd5GvoKlpV999ZW8+uqrsnPnTr0y5+c//7kMHjxYb5FjBgpv5qDwFhgKbxUcGA4Kb+EFg5nCW2DMCG8GMA7dunWTLp07y8njx2Xq1Kl63zdsVtqyZUsdwHomAY6aNcWpPoeEtWvF6ivZV++xZ2RI3ogRknfbbfilXE94AKPvbvgvUsLhnkSXJViMFSi8RQ4U3sKLu80gvolm4Q2VaTmFOVoo+2HfD7Ly6Eo5dPaQpCelS6W4Svrvxj938orzZPru6fL35X+X7dnbtRDnDh4fzTsqq46tkjhLnLTLaCeJtopTHX4pofAWOVB4Cx+4By628IawHB+n0ZRp80mDBnb1u1lly5Y4ycvzvloG769Txy73339WrrqqUN3bpdcxZgoKCvR2N7/5zW9k8uSvpVGjxvL73z8jd9xxu/re9bVdNQuFN3NQeAsMhbcKDoW38IPBTOEtMMEIb8Cqxm2dI0ekT16edExLk42HD8ukmTP1pqbYV6F69era+PyE+tresKEUt21besrpwYNigWd24VRBb3HHjnL25z/XS0ydVap49drWEyckcf583eI3bBCLcr4O9fPVh+x6RfhwT6IpvPmGwlvkQOEtvLjbDOKbaBXecotyZfy28fKP5f+QcZvHycJDC2XZ4WXy4/4f5asdX8n2U9ulbfW2Ujmhslgt55LPBYcWyAebP5Adp3a4rninoKRAThWdkioJVaRd9Xauq7ENhbfIgcJb+MA9cDGFt5wci6xalSBz5iTKmjUJcuKEVapVcyj/53qBBxDRWrQokYYN7XL0KCrfcMrpuZjfZnNKz55F8tvf5sqgQQXq3nQqHwFxzyF79+6VN954Q5577jk5ffqM9O37pLRr9zsVk3TSY6NKFafPeXtvUHgzB4W3wFxK4U3l1MxMA4HE5ejRo65HwVOlShV9E0D5J97BDYB+Qjky8Q1ueBjTvLw81xXvWFSinjRjhlSaOlXitm8X5dUlX43BvWoMTlLj+b/JyZKYni433HST3HrrrcqpNtQBrUaZBIsyRtasLLEpx5mwdKmufnOq9xR17iz25s31gQp4rKxQ6XuA+r2s6vOr/M47kjB/vtjU+y2uBM2pAouSpk0l/9prJX/4cHGaLC0vCzCM6epvw1ii4/ENKh/RV2URdXC/1uShGhcFuGgsEy+Lq6bvMQfug2rVqmmbwZDIN7AZEN7KMxFZ0cBS0VdXv6r3Zjt69qheYuoOhDYsEYVg9rfef5NW1VpJvDVezhaflfc3vi//WfsffahCIFDpdmuLW+WZns9IakL4/F+kgOQQfiQ3N9d1xRxIvmvUqOF6RC4GyH+QBwULlhBCdOOEhm8Qd+NwtHD7ntOnLTJxYrJ8912S7NsXp2KCUvEsPt4ptWvbZeDAQnnggbOSlnbhYQoIo/PzLVp027kzTgt2eXkWLbL17FkojRvb1T3pkKSkUtEtS8X+WF0zfvx4ycw8rH5GX8nO/qUkJDRXX6fpv7lSJYe0bl0iw4fny1VXlQp2gYDNwHvLOhEZKyCWgV2l4O0bCL9oZg4edAfjD3uolwdWvJkAxpAVb+EFiQ/6iQ7aP2Yq3iC6pbz3nqR89pkkbNwotuxsseblSaJKwNOVB22lXtNLvf9QYaEs2LlTVm3YoN8HIQWJlfacKiBGNZujdm0padVKirt2LRXdWrQQR0YGBnXp6wzU+MbBDGl/+pMkKYeLfeKsyqBZ1OeJZlVOABV08bt2aUGuCPvC4XuEAVa8mYMVb5EDK97CCyvezBGNFW+fbf1MJu+aLPtz90uJ88L7BMtFIcYdzz+u939rnd5aqiZW1VVw3+/9XjYe3+h6pX+wX1yVxCrSomoLqVe5nutq7MKKt8iBFW/hA/dAuCveILq9+GIVmTKlkmzfHi/Z2VYtpKGdOWOV48etkpkZJ1u2xEv37kUqDygV0AzwNSrT0tKcUreuQ9q0KZauXYulS5ciadbMLunpDnU/ixQWFsiSJUvk3XfflWnTpsvJk5j4e0Jyc+9XPqON+rqyFBTYtGiXm2uVw4dtsmNHnLpukbZtiwNWv7HizRyseAvMpax4o/BmAgpv4QeDmcJbYMwIb8lTpkjyxIm60s3zdFLUp2GuvaFqbdX3SUtPl02nT8vyzZtl//79OgCAAAeDpL0tBDhlZFChhv+1d3X3yC6sx49L5Q8/1D/bmpMjFi8G36LGP57DMlTlGaS4c2fXM6GFwps5KLxFDhTewguFN3NEm/B2uvC0vLb2Ndl8YrMW1fwB4exY3jG5rPZlUi+1nuzO2a2XpGaeznS9IjDVK1WX9hnttfjmDqru1mWtkw3HN0hmTqb+XVLiU3RlXbRC4S1yoPAWPnAPhFN4w8f2yScp8uWXyXLgQJyy3RfG7w4HqpitcuiQDSG/tG1bovzhhZ83Qn+kAJUrO/WJp/gfr8f0BA5M+Pzzz3VDhWTduv3Uz35EDh++St3j9dVrsKLm/J+N3+XUKavk5FilalWnroDzB4U3c1B4C8ylFN6875RICIlIUO2WOHOmxO3erYUuX2BiqbNKyO9WAdXPr7xSOrRqJatXr5a33npLOelPJDPTfDKhoipd7Zb0zTdiwRJYfwEaKuMOHpSkadPEgiUmFMYIIYRcAjac2CB7T+/Vp5iaAcLbxhMbJbsgWy9BxYmnwWDFP9ceccZhDhO3T5R/Lv+nvLL6FXlz3Zvy+rrX9QmpY9eMlbkH5ppaxkoIIZ4gvEa1Gyrdjh61Ivz2CV6L6rfJkyvJkSP+X+sOlup9o2L/119/XWbMmKG3eRk58i7p0WO0ZGUNkKKi6q5XegfiG6reZs9OlLNnLxQFCYk2IqriDbOsx44d08r6li1bZOPGjbJp0yb9GGvKMSODPW0wIxtKWPEWfqAis+ItMIEq3uLXrdPVbjaTexKmFhRIvauvlnoDBkhSjRqyb98+LcAdOnRI/xxUv+Fn+gNVbImLFkny5MmmhDQIgtj7rah7d7HXrYsP3/VMaGDFmzlY8RYcuOeOHz8uu3btOs//7NixQ8/wYnYRe9qgb0INK97CCyvezBFtFW/zDszTVWtnis3fX43TGuv93nBQwpaTyg6YXGqKE1HxvuuaXCfVk6pLVn6WfLzlY5mwbYI+pAEVdIfPHtYnqeJrnJKKryHWNU1rGnXVb6x4Cw7YcE//g7Z9+3a9ByjsPCox0D+hhhVv4QP3QLgq3iBqrV4dryveUNFmhtOnrXoJKQ5TUB+fT/CZ4rTSSZMmyZQpU3SMcvnll8stt9wiLVv2l82bG8ns2clmUgL9e2Kvuc6di6VOHd9VWqx4Mwcr3gLDpaYmgRiwcOFCWbZsmU52Dhw4IAcPHtTVOXA+cEroSJzUGErnQ+Et/GAwU3gLTCDhLXHePElasEDvr2YK9b0cjRtL1f79pZlymnXq1NEOdMOGDbJu3Tq9KTv2fUtLK90Q1Rs4hCFpzhxJWLXKdcUEyoEWt2ghJR07IpJ2XQwNFN7MQeEtOCCuLV68WO9hAn9j+J89e/bItm3b9KQQ7hHM+KJvQwmFt/BC4c0c0Sa8YXnnsiPLghLeOmR0kG61uul92iCUoWour8T/YUegWmI16d+gvwxtPFS//rs938lr617zubccqvAgvB05e0QaVmkojas0dj0THVB4Cw74F+Q+8EFbt27V/gcN/geP8TzuTWysHmiyNFgovIUP3APhEt4KCy0ya1aSypuTtLhlBnzMzZqVSLt2JXo5qSf4LBEL/fjjjzJx4kRZtGiRNGrUSG644Qa58cYbpXXr1ur5FJkzJ0k2bTIfB+FwhZYtS/QyV19QeDMHhbfAcKmpSU6cOKFveBip9u3by8CBA2XIkCHSu3dv7WyQEH355ZdaoKOhJ7GIRSXZ2nMGgX6PMtCoFu3Xr5889thjMnLkSB28jRs3Tm+UOm/ePB3Yeb2v8PPwPYJBvcffUlhCKho4dQz3AO6Ltm3byoABA+Saa66RPn366MpQJEWY/UXVaLQIE4REMxC0kmxJrkeBQdVanZQ6ev+1pLgk6VSzk/Su21ufWOqPBFuCdKqhXlun9LUQ2z7d+qmcLDipD2/wRZG9SB/i8Pm2z6XQHlyCQKKLU6dO6fwHiR/EDcRq8D/9+/eXevXq6ZUKX3/9tezevZvCBPmJsoTZdrvlgjQCwiuWlWKc4bTS1157Tfbu3atz8F//+tdadMPEPcRf6D3Baj5lSSMIiUQiquIN6m3Dhg11otO9e3dp1qyZNG7cWFq2bKkVd8z6oPqtdu3aUr9+fT3bEgpY8RZ+EEyw4i0wgSrerMeOSeLChWJVQZoplJMsGDBAitX95ExL004TAlybNm20uA1HC0F76dKl+jPCTDOaUfmgv0VhocTt2aOXm5rFkZoq+TfdJCXNm+PDd10NDfi9WPEWGOMzZMWbOeB/4Fcw0XPZZZed53+aq3GM5T8IRFFxjddhDIYKVryFF3ebQXwTbRVvOJ107v65cjT/qD48IRDpielyT9t7pE16G7FZbXrJKEQ4VKbhgAQIZe5AqEuNT9WvH9lypAxqOEgLaCuOrtDLTP2JbgbF9mIpKCmQgQ0GSnqldP09owFWvAUH/A+EjV69euklffA58D8tWrTQE0Goukb1W9WqVbUQF8o+YsVb+MA9EK6KNwhox45ZdfUZTg41A8L6YcPypUOHYn26KUBVEApaFixYIJ9++qmeiMf4+9nPfiYjRozQObf7ihicWorTU9esMV95WaeOXYYOLZAmTXzbYVa8mYMVb4FhxZtJ6tatq5McVLcZST8wlvd07dpVX8fpjLwxSSxS1K2b2JUTdCoHZQaHCs6KO3YUR82ariulGFU9f/rTn+QPf/iDXmr63//+V1555RXtfLGs20i+HOp+LFL3nsOsMVL3qyMjQ4pU8IivCYkEEFwiyYGw5u5/4IiR7PTo0UM7cgSoFHAIqfhAeIOghSo249ADX8RZ4/RS0SZpTXQFG0D1Wr96/eTpHk/LNY2u0ctBMypl/NQapjbU3//XXX8tNzS9QSrFVZLswmx9eqkZoQ9AnDtTckaWH12uD2QgsQmqquF/atSocZ7/wdfYW7Sbiv0g4Bw+fLhchQIkekhIcErv3kUqP3aYDrVTUx3SvXuRVKni0MINJt+xlxtWvrz00kt6fN19993y6quv6qp/bxOMtWs7pF07CHfm7BX2d6tb1673liMk2oko4S0QxoyMezUOIbGEMz1divr0EUetWqVTV/7AzFGvXmJv2lScPqpDMWM5ePBgef/992XUqFG6qvSPf/yjvP322/pQEwjcEPnsDRtKYf/++nv6Rf1ODvU7FiqH7ahePfDvSEiEYPgfiG8Q4wghFZ+7Wt8lfer2kfSkdK+nlKLCDAcbNK/aXB5o/4AW09yBCNelZhd5oe8L8tm1n8lTPZ6S/+v1f/r/cUPGyasDXtXiG0Q3UOIokbziwHvCuQPbcraIYgrxDf0P8QTDoEYNhwwaVKiFtEDhdlycU7+2Xj27em3pYR7Yvgkx/7Rp03Sl/7///W+9HQ0m433l2ZUqOaVFixL1+iIzKYH+eb16FUnVqsFXVRISaUSFddZBydmzsnz5cv11q1at9MwPIbHI2XvukcLLL9fVbP4oqVtXzjz8sJQ0beq64hs42V/+8pd6XwfMrGKPB+zrAKecl5enq+zOPPGElDRo4Fd8c6IEuksXOfPII64rhEQ28Dk4hARLslEFiiUYsbgUipBIJC0xTX7f4/fySMdH9Omh7pVvEN0gmA1uNFjeHvS2PpXU1+miqIhrkNpAbm95u/y8+8/lrjZ3SYtqLS7Y/w2vq5wQ3FIV/E6pCamuR4ScD/wO8h9UWjdV8Ry2CyEEQNh64olcad++WBITfQtbcXEijRvbVVyfqyvksGftk08+KS+88IKuavvzn/8s//znP6Vdu3aud/indesSGTPmrNSu7b+yFxV2ffsWyu23BzcZQUikYlFJQ8RLzFlZWVqNnz17ti7Ffvzxxy9YjgqMU4FwBDcSoyeeeML1jH/QRXBoZZ1FwgwUSna53to3+KzQT9Gyd0y4MPZRwL5NPlHjzHrwoFg/+USsEyaIZedOsRhjT/WzMylJHAMHiuO3vxV7hw6Ynir1zibA55OdnS0zZsyQT9T3R9Ub9hx59NFH5Yru3cWmHtuef16sP/wgFpysapgXde84GjYUxy23iOP++8XRqJFfga68YKksl5v7x9RY8gHuV1RDEpGcnBz55ptvZPr06dr/PPLIIz9tMuwODmeA/1m7dq3ue/gfsxNEELfL4n/oe8yDSnn6H/+Ux2ZUZLCEM78kX46dPSbrj62XjVkb9d5qtSrXkr4N+kq91Hpa+MK+bmb2WMNYwr5W3sLrs8Vn5YfMH2TU16PE7gjcj/h5Tas1lem3TdeHQfiqMok0YM/Qgt3/i77nfOAbDP+DPbDHjBmj937z9BdYMgj/s3LlSv0YMRsmVM1gbJ0Q7Nij/wkM+jTcuQ+6PzPTKm+/bZMpUyxy8KCKx8+lBCpfdso11zjkN78pUbnxIXn99VfVeJqmf6/bb79dhg8frvdRR7xidgzA9J09a5HVq63y739b5ccfrepvPPdeqxVFMk4ZNcoht91mVzGTU11zPekDjGn8/GjzP6HGn/8hpVxK/xPxwhtKYbHR4/fff6/3OcBmj3A6MBiewLBhk2o4KgSQ2LPHDHAa+DllBSIfPtxgN/GLJfB5YMNCJLHEN8nJyXo8osLGL3BMKtG37t8vts2bJX77dtwAenlnEQ5SUE7UWbcuFKpSzxsEMBn4nHbs2CHfffedzJw5U8+IXXXVVTJ61CjJKCoS2759Er96tdiOHdP7uKGqrqR9e3GgIq5GDX0tXMAwYs8tnAJGx+MbBFFwPLCHwYL7FXudxToYY9jzcOrUqbo/IbpBfIPw6wl8APwPqrMxRuF/PJMjb2AMY3KpLMCmQoCmCO0ffA6oEoFdo83wjbGfT7TuYYh91/KL8/VSUOythuq21MRUn1VuvoD/yc3N9ZogQuTbdnKbPDX/KVl2ZJnrqm9QkXdN42vk3wP+HfTvUZFB8oI4Pdj9yPAe7OlMRI+xxYsX65UH8Dn333+/3pvX24QOxiL8j3FQj+eG+P5A/lMW8Yy5T2AM34NYIpxAX0AYsW+fVTZsiJM9e+KUr8M4wN5qxSqey5V1676TCRM+1iez4wCPm266STp37qwLWSDmBAu+P1KVQ4cssnevRVasSJDsbBykh4q4YmnTpkTq13eq728uJShPzBpLQFCHXQ1WVIolYC/Rgj24LBS5T0QLb6hgW7hwocyfP18HhLfeeqt06NDBq+hWHuCwcIx3WYFRReITUCyJYfCZoZ9QFUJ8g0QaAZBpx6MMr1UZFosK0DDFhb3csA+c04swECwY07gvVq1apQW4devW6cNPRo4cKQN69ZIq6mfjxFMIe0783qmp+KBd7w4fcMwIzDGWONPqG4i46KtgHQ/A/YrNnmOZEydO6OWls2bN0s74jjvu0P4HztzsrLAZ4KKPHDlSJkGIvsccuA+QXMBmUHjzDWwGxjY3b/cPAnMk0r4qM3KLcmXugbnypyV/kqy8LC3yeSPJliRda3XVhzdgH7loAjE7/AjEo2CAAIADBmIdTBLgtHmsPsA4g/+BSIJ+DaX/AYjzfI1lf6AYAsk/DxvyDWIHCPUXy/dAizl92qqr0Up/XJ4cPrxJJk36XFdEIse45ZZbpGfPnrqIBTY/FBQWWtTfiBNJ4W8hDjkkJcVpSnAzwNhGf5UlZo0lEMvArlJ48w0mftBQCRwMGH+1sId6ObD9ReH6OqJAIoJKAyQ+MBRQ5pH0lEWVDwSMYXkCTXy4cFq8CXyDxAf9RAftHyT1GI+my9JVv2JpqTMtTZzKuUMAC8rT+QEGCIl9gwYNdBk6ZlnWrFkjq1evloPq/qxSr56kNmwoNpWEYG837W0vAgg64aAxlphE+wa2En1Vlmoo3K+xvI8ZKtAWLVqkfRDsFpZidOnSRX8d6qQHlDXQpO8xh7vNIL4xbAaX5PoHySrEbl/+B5VrNZNrSq3kWvqU0+yC7PNOOcXy0pqVaupDGe5uc7d0r9VdL3ONJjCW4EeC9T+IO2J9D02INBDdfvzxR/14xIgR0rVr17CIbgD5T1liKfgfTH7S//gG9wAquS6W70EYjsMPKlcukVOnMmXWrCkyYcKnsm3bNrniiivkrrvu0qeV1lPxOz6/UIE599RUpz5AIS3Nqb538ClBWW1GrAE7gD5i4YFvMOmDFmw1LsYfNKfyEJHC26FDh3TCs2LFCj2jcs011+ikB6JEOKDwFn4wmNFPTHz8E7TwFmYQ5OF3wgwANpXH3lbGXiJYiorkA4Ic7tNwBITecE+iKbz5hsJb2cCkD5b3IPGBzRo6dKj06NEjbP4HUHgLL+42g/iGwps5Aglv6ENUszWt2lTvH4dDHWok15B6KfX06am96/aWYU2GydAmQ7Xo5nlAQzRA4a1sYNIHvgcTP+C6667T1UkQbzCuwgGFt/CBe+BiCm8Awi1imIkTJ+pcGj8fxSvG0lLcX/i9KhoU3sxB4S0wl1J4i7ilphDdsLQUVTVI6AcNGqRnesKZ9CBx4VLT8IIbgEtNAxP0UtOLDH63rVu3yg8//KDvUzzG/Tlw4EBp3769LqkPNzCMXGoaGC41DR6Ibkh4MOmDYBX+B0lPOP0PXDSXmoYX3AdcahoYLjU1R6Clpp7gwIXM05lyuvC0PsG0dkptqZNSJyoFNwMkh/AjXGpqHmyvA9ENDTYL/qd3795a4AonXGoaPiAkX6ylpogFtm/frsU2bNOE5cooWjHiGNyTFRn8fugvLjX1D5eaBgY2E41LTQMAw4TSahgMJNRQ5nF0NkQIBDlGQ5KBDkUHhQIYQ1a8hRcEEegnOmj/VLSKN0+QlCEo7tixo2RkZOh7FiI5qt/wOyNxgxgQqnvTG/gdjOoVJtG+YcVbcOA0X/geHOaDWbJOnTpJq1atLvA/GHeh9D+AFW/hxd1mEN+w4s0cgSrePEmwJeilpw1SG0j91PpSNbGqxFnDvx/qpYQVb8EBkQRb68ydO1cn1dhap127dtpmefof9C1EzVDBirfwgXvgYlS8YfIO4+eLL77Q1W6Iw4cNG6b3Rke8jjFT0SmrzYg1EMugj1h44BvYRzRWvAUAy9dweg9OXMH68/r163t1LljudvXVV4esuoYVb+EHnyMr3gJT0SvePMG9is1/UQGHYBHVb3D2rVu3DtupmDCMrHgLDCveggMC8ldffSU7d+7UJ8JhX0Nv/gezYVdeeWXIqjLgolnxFl5wH7DiLTCseDNHsBVvsQiSQ9hPVryZY/369TJ58mTZvHmz/vubNGniVSyBX+7bt6/OkUIFK97CB4TkcFW84ftBWNi1a5cuWsEhaPg8sJcb4vBwHEYYTljxZg5WvAUGkwJorHgLAJaZ4lhrVP3gj0fwh8Hl2WBI2rRpE7JZMRgvVryFFyQ+6Cc6aP9U9Io3T7AcHJWpzZo10xVDWKYHAR33KJITOFJ89kjmQoV79QqTaN8gaEdflWX2EJ9ZrFUdHD58WPsfjF00X/4Hvgmn+0L0ChWseAsv7jaD+MawGax480+wFW+xSFmrV2BfY7HiDeIX9ndDnyEO9OV/8DziLSTfoQI/qyxjGf6HFW/+wecVjoo39DnGCw48Gzt2rN76BcUq999/v4wcOVKfWIqfHUmU1WbEGohl0EcsPPCNEcez4q2Cwoq38IMbgBVvgYm0ijd3UAEA5/+///1PMjMz9VK9xx9/XIsU+LsQUIcCGEZWvAWGFW+RAVw0K97CC+4DVrwFhhVv5mDFW2CQHMKPQCwKBiTfsbrH26WCFW/hA3FvKCveEPNCTMBqEywrHT9+vP4ccFrpLbfcoleEwYZHIrAZ6C9WvPmHFW+BwaQA2qWoeIssuZsQErEguLj++uvlzTfflLvvvluWL18uo0aNknfffVdXEzFJIYQQQgghJDgg3EHw//bbb+VnP/uZjBs3Ti677DL56KOP5JFHHpG6detGrOhGSLRA4Y0QctGA08f+WAgCJkyYoIOCDz74QD+eNm2a3kCYEEIIIYQQEhgs/8c2Ln/4wx/kz3/+s64MffHFF+W1117TS4/xmBBy6aHwRgi5qGBZF/Zoadu2rTz//PPy1FNP6Wq3f/3rX/Lss8/KihUrWCJNCCGEEEKIH/bs2SP/+c9/tOi2ZcsWfVLpq6++KoMHDw7pNi6EkPJD4Y0QctFB5Rs2CEbpO5af4owXnAS5du1a+cc//iHvvPOO7N+/3/VqQgghhBBCCMBem5MmTZK//vWvMnXqVF3Z9utf/1oeeOABvXdyLB5CQkhFh8IbIeSSgo1Au3btqk9bGjNmjKSrx5O/+kpe/Mtf5PuxY6Vk3jyxcAkqIYQQQgiJYbCX2+LFa+Xvf39R/vvfd2TPnrPSt+9IGT36URkwYICe0GaVGyEVE9tfUGpC/AIjV55TvHByBpbScfmcb7D8EP3E04/8gyoxjEfs5xBNIEhIr1RJmh05Iq1Wr5aETZtky+7dsmLXLsnatk1qbdggtbOyxFGnjjjV68TbBrHq/rKeOCHx6rVJe/ZIyd694kR/qXGlBpjrRcQAe36g8rAsR7Mby4XJxaGsp3jR95gD9wFOTKP/8Y9hM6LN/4QanP6Kk4RDcUphtIKxBD8SrP9BrEDfc3FB/lOWsQz/g1M26X8uBCY0K8sqGzcmSGZmouzdW6J8kFP1mdNnuFpSYpc9e07IO+9Mlq+/Hi/z5m2RQ4d6Kh9/p7LL16nv2UrdV0lSq5ZD4uJcb4oiymozYg3EMugj3HvEOzhRGw0nAAcDxh+Wb5cHCm8moPAWfii8mSNahTeLSlKSfvhB0idNkmbr1kmr3FxJV/fMCfX/ogMHZO/mzVKSmSm1zpyRhEaNRFm+c2Kauq/i9u7V70+aPl3/H794sdhWrpS4bdvElpUlThWoO1JTKcC5QeEtcqDwFl4ovJmDwps5KLwFhsJb5EDhLXTAdO7eHSczZybJ9OlJMmtWkixZEi8rV9pkx444OX7cKqmpTjXGzwlw6PvTp1UsvGiFfPbZFzJx4jeya1dlKSy8ST03StmaXnLgQE3ZuTNBjhyxqXtEpEkTe9SJbxTezEHhLTAU3io4FN7CD4U3c0Sr8FicNAYAAF3PSURBVJawYoVUfvddSYRgdvq0VFXXWqnWQjW4jnXqb1508qQUbN0qccqppDZqJAlVqmjRLX7LFkmeOFGSJ0yQpLlzJW73brHs2SNxmZmSsG6dxO3YIRZ1/zqqV9ftp2gmxqHwFjlQeAsvFN7MQeHNHBTeAkPhLXKg8BYaYDY3bEiQiRMryeefJ8uCBUlahNuzxyKZmXGydm287NwZr2yHRWrUcEi1ag51fxSo5zLl++9nyoQJk9X/G9W1Xuq7jVbtFtUaqlZ6Yml+vkUOHrTpSrqGDe3SqJFdX48WKLyZg8JbYCi8VXAovIUfCm/miEbhzaIMX+W33pLERYvE6iYwIJSoo1oP1WqphqMWZqvXHty1SxxpaZJcvbqkZmVJ6pdfSvL48WI7cgQ3q3qVG+qxNTtbi2+YBrQ3biyOatVcT8Y2FN4iBwpv4YXCmzkovJmDwltgKLxFDhTeQgNEtk8/TZavvkqWY8dsXsJVi5w8aZVt2+KVP7KrcX5Udu5cIVOmTJGJE2fIli0p6jW3qlc+qVon1ZLwtvOw2y2Sm2uVwkKLXHllYVRVvVF4MweFt8BcSuGNpR+EkEuK9cABiV+3TqynTrmunAM7uVVRbbhqb6o2SrWDR4/Km+++Kx9/9JFs/PRTOTtzplhOn1bP+Maqnk+aNUsSFi5EZOK6SgghhBBCSPiA9vjjj4kyd26iFsb8kZOTL9On75XXX/9G3njjDZk9e5HExV2unvmHahDdaqrm+3ucPm2VdeviZf9+pviEVDR4VxJCLikJq1eLFaeW+plRhaGqrdqfVHtJtU4FBTL988/lXx99JJMzM+WAuhZo3gL7wMVv2iTWkyddVwghhBBCCAkf2Lttw4Z4OXDAXwkaKpROqDZPdu36u8yf/7b6OkFuueUXcsUVz6kQGeKbl4PFPEAoDXFvxYoE1xVCSEWBwhsh5JKC/dcsJqvQEHL0VW1snz7yf6rlZ2TIn9Xj36i2UrUC1XzKdw6HFt/itm51XSCEEEIIISR8bN4M0c2GMNQHWL5/SLUXVHtMtZXSvv1t8sADL8kNN4wQuz245W34OXl5TPEJqWjwriSEXFKcqanixDFMQZBctarc1bGjvNuggdynHi9Q7U7VnlMtRzVfWIqKxMp9nAghhBBCyEUgLw/76fqqVsOeZVNUG6raG6phZ+MPpVKlpyU5uYnEx5eechoMVpXdV67MPb4IqWhQeCOEXFKKevYsPfDAEriEHkCkK+7USRzNmknzpCT5rbr2nmrdVMM+cNeq9rVqqH7zxJmQII5KlVyPCCGEEEIICR/JyU5R4acH2CBlrWqYPkaVG1Ly/6j2omo9JTExQVSIKzVrOqRLl2Kx2cyJbwil09IccsUVPISAkIoGhTdCyCXFXru2FHXvLo70dNcV/0B0szdvLsUdO4o0bCjpVqv0V9f/phqWneL84V+r9kvV1qv2095v6nUlDRpISYsWrguEEEIIIYSEj9ati6Vu3RJdiVa6Icoe1SCyjVFtoWo4Ouwd1W5Wrb56XaI0aWKXpk1LpFIlpzRrVqLFNzNUreqQHj2KpHZtHiRGSEWDwhsh5NISFyf5I0dKUdeu4gxQjWbPyJC8u+6SkmbNxFGzphS3bSv2Bg0kRT3XWrXbVPu3alepNls1iG+ohtunWjFEt3btxKG+ByGEEEIIIeGmRg2HtG9fInXrHlePsCbjd6p9pFot1Z5X7eeqdVWtqmo2ady4RNq0KZFq1RxarGvUyC733ntWfR//YlpSklM6diyWO+/MQ2hNCKlgUHgjhFxySlq1krNjxkj+9deLvU6dC5adOuPjdaXbmV/+UgoHDBBHWpoW7Ip695bCQYPEkZoqiDFwyPoA1X6hGg5dh4H7ULW/q8hlaocOkqUaoxFCCCGEEHIxsFhKJCNjqVStinP5X1YN08HDVXtGtRtUa6pavGoiVao4ZMiQArnssqKfwtXUVIf061coTz6ZK126FEli4vnLThEy16pll2uvzZcHHzyjRTtCSMXD9heF62viA6fTKWfPYgFb2UhMTBS73S4lJTSEvrBarbqf8rnxvV8SEhL0eCwuNldyHjHYbOKoU0dXr5U0aiT2evV0RRu+Lu7QQfKvvVYKhg2TwquvLl2SWlqvL44qVfRji4o6rNnZYs3NFavqnxrquVaq1VfXCzIyZJXqt3UqgjkZHy/JlStL9erV9ZiLZeJVX6DfioqC3wcEfZeSgjpDcjE4c+aM66vgoO8xB+6DSpUq0f8EwLAZUed/QkxycrIUFBRoX028g7EEPxKs/7GpWIG+5+KC/KcsYxn+x+FwxLz/OXTokMycOVN++GGi5OSsVfFnAxXL36n69WbVrx3VK0o3f0NIikq3G27Il5tuypfmzY2lqaXCGqrZsPS0Xj2HNGlSoqvo6ta169ddcUWhXHddgVx7bYF07Vp8gTAXDZTVZsQaiGXQR7j3iHfiVD6IVlj402ZEpsD4q6xyyPJgUcaUkUEAkLgcPXrU9Sh4qlSpom8CBGLEO7gB0E8nT550XSHewA0PY5qXl+e6En1YlCG0qvvNpoIVdfOJU/3NWFqK/72iksC4PXskceFCidu4UeIOHJB41UfFykCW1K8v25o0kVnqe85Wzx0/flxatmwpV155pfTo0UNq1kSNXGyC5BBOpCyiDu7XWO67iwlc9JEjR8qU+ND3mAP3QbVq1bT/YUjkG9gMCG/lmYiMBTCxc+rUKR07Eu8gOYQfyc3NdV0xB5LvGjUwtUYuFsh/yjKWU1NTtegWqxMa8Ltr1qyRefPmyeLFi7UQedllvaRJk6uVr+kqW7akyMGDccrnxCkfVCyNGpVI+/bF0rdvkTRoUKLuD9c38sKZMxbJzIyT06ctmLeWOnXsUru2IyoFNwPYDAjvZZ2IjBUQy8CucsLVN7gX0U6fPu26Yg6Mv1q1sDy87FB4MwGFt/BD4c0csSC8lRnlZKwnTkjC9u2SqoLz3OJiKWrZUhwqCSpU9/C6devku+++kxUrVmjjedVVV6kAp6+0adNGVxLGGhTeIgMKb+GHwps5KLyZg8JbYCi8RQ4U3oIDf/OBAwd0rPnNN99o/92qVSsZOnSoXH755ZKeno75YsnKssru3YkqHk1R78lVsWix3tMNQhq5EApv5qDwFhgKb0ECB5CTkyPZ2dnaoONPQOKMJAMOGc48lFB4Cz8U3sxB4S0wSKIR2GAseZZao+JtwYIF8vXXX0tmZqaufhsxYoR06NBBC0mhth0VGQpvZQP+AEENxhf8D8YYkkF3/wNxIlTAv1F4Cy8U3sxB4c0cFN4CQ+EteDCekCgi90EMCFvl7nvwdTig8GYOxAL4fLZu3aqXlmKiNyMjQ6655hq57rrrpEGDBtrXuINEvmrVqvQ9JqDwZg4Kb4Gh8BYEMP5YL4+ZhLVr1/6UXGPPh6ZNm8qgQYOkcePGIa1gwc+k8BZeKLyZg8JbYPwJbwD38759++Srr76SadOm6STy9ttvlyFDhmjbYQhS0Q6Ft+AxfMHKlStl9erVWsjFNQSETZo00UuYmzVrph16qMQ3uGgKb+GFwps5KLyZg8JbYCi8BQfGEvwAch8sXzxx4oSOb9CPyH3ge/A/cp9QTvwACm+BgY89fPiwLFu2TD799FPdZ927d5cHH3xQr6pISkpyvfJ8KLyZh8KbOSi8BeZSCm8Rd7jCsWPHZPLkyXrNPDoNlSpwNtggD0vJ0GDkkHCEKnmGMSxPoInfE06LN4Fv8Fmhn2KtJD1YovZwhRCCoBMO2qiG9cRIsrt16yZdu3aVHTt2yHczZmghHwFQNWU7klQ/W5WBVd/M9a7oAwkM+grCTLCgD2Nxg2skO1g6MmvWLO2A4X9atGihbTvGz4YNG7TwhnGE50NFWQNN+h5zuNsM4hvDZtD/+AcCJRJxJtK+wViCHwnW/8CuxqLvwSQPKvXnzJmj+w6+p3nz5vpehO9Zv369ruAPte8ByH/KMpbhfyAORrP/KSlxSG7uGf0ZvPfee/Lhhx8rX5IsTzzxuPziF7+Q+vXra4HZF7gHIMrR9wSmrDYj1kAsgz7yVnhASsE9iXYpDleIOOHt22+/leXLl+vkBlUqgwcP1g6oY8eO2jkg8UHAA4cUKudM4S38YDBTeAsMhbfABBLeDGB069SuLTcMGybpavzNnz9fvp40SU4q+1JPvT+jbl2xqDGpvqHrHdEFhbfgmT17tixatEgvGbntttv0ni3t27fXIi78zqZNm3Q1KqrfMPkTKii8hRcKb+ag8GYOCm+BofAWHFi6uGTJEmnUqJH2PVi+iNynS5cu2m5t3LhR+x7kRuVNDD2h8OYdh8MpO3celrfe+lRefPFl2bFjj1x22XD561//Kf3791BjPPDWJbgHKLyZg8KbOSi8BeZSCm8RtZ4K+xrs3LlTD6h27drpSgMDlDRfe+212tCjDBuv5aAjhPhEBYO2ffsk43e/k0ffflumHTsmo1RCuWDDBvnVM8/IuNtvl1Pvvy+WIJfCkOgE+4ru2rVLB8jYKBmV1QYInK+//nrthzD5YyxBJYQQQsoDli0j90GSCL/TunVr1zOlSTb2D4MYiao3YwkqCS/HjxfJ3/72ndxzz2/ks88+UPEBij/+J/Pn/1vGjGkrTz+dJocP21Qc4HoDIYQoIkp4w75MWI+L9bVoUCsNoEKmpaXpZacQ5g4ePMgZBEKId4qLJX7zZqn6q19JpW+/leTsbGmhgtU/qadeKimRpmfPynvbtsn//fe/Muu556RYBbMktsEpZUiAsL9Q3bp19eyrAaqA4H+wRyAEN+xDWp4qaUIIIQTs379fT/zA99SpU8dr7oMqa1SWIfeh7wkvy5dvkief/KN88cVzytcXSWHh78XpfFm1/ir/rCxHjsTL119XkieeqCq7dsVhjpcQQjQRJbxlZWXp8n3sYYDKAk9Qgl67dm3tiFBxEGwJISEkNohTgWzKxx9Lwtq1YsEyPqdTEMrWVm2Ian9T7YHiYsk+elRe+PZbee5vf9MnVZHYBZUEWMqDJaRIdDyB+IYJIfghvBa+ihBCCCkPyGdQSIDcx9sWBsh54HvwP31PeMBSW4if77zzjjz77B9k8eLlcurUteJwIFq8S7WmqiXjpeqayOnTVlm1KkHGjUuRI0dCu+ceISRyiahTTadOnar3OcAGosOGDdPVbe6g0u2LL76Q77//Xp/wg6Wn7ifvoVphy5YtkpmZqZcG3Xzzza5n/IOybeyxg8SqLHCfncAgYOAeb4HhHm+Bcd+vyat5U3bCNmeOJD7+uNh8nFaM1QGHVVuu2rfq+y1SwW7dbt30ckLYDQgvGLORDPd4C47vvvtON2yWfMMNN2g/5A7G2pdffqlf07NnT738p169eq5nRZ8yBf+DJUPoP4wjM6dv4/tyj7fwgvsAMQH35fJPeWxGLAH/g4lfLvnzDaq2YAeDHUuY2MAeerEE9raGX0FVG3If9212AGy84Xv69Omjcx9UxrmDSaPNmzfL9u3b9eMbb7zRtA8P9uRZA/g33AOR7n/gf7G/3meffaYPUdi/v6UatzepZ/qq1li1SniZV+rUscu77xZIr14OZT9dF90wch/6nsDQ/5gDsQz6iP7HN/A/8CVl2eOtvLlPRAlvU6ZMkR9++EHvcYCkBk7IHQy0SZMmyYwZM6R///76Ne7HvsLxYAkQKudwA+OoZzNg8EK0KysIwuAYaSx8gxsA/VTWBDNWgEHFLctqTt/AMGLzS4wlb47HduSIJKgAqtJzz+lKN39gwQbC1Fmq36c1aCAnVYCEwBa2pVOnTtoAW1TAZFN2xXb4sJ7qdFStKiVNm4qzggtTCPYQxJRldhz3q7eqr2gGyQ8mdbC5NQRYz+QH9yVO3Mbr4FuQIEGkM0A/YxkQTuZGv+M17kuGfIHviz1LywISVIj0FOr9YwRTsBkRFBJddMpjM2IF9A/8D+JNxH3EOxBl4EeCnWyFzQzlwTWRAE7SRtEBDo2DX8EBCu5gnBm5T69evXR8gu0Q3EHMiPzniIp/AE50x/1sBuQ/ZUniIyn3OXvWIpmZccrXWpU/EJU72qVGjXzVX7u13583b57y34dUvw6RlSuHqdf3UO+qqpr/ggxlDuTvf8+XESMK1fe7sA/pe8yD8Yr+YoGGf+B/0Ef0P76BBoQGPx0Moch9Ikp4g/OBAUTC4835wLh//vnnWpy76qqr9Kk/7hVvZQWD96iPyhgzIEjA78Zg1TdGMHXy5EnXFeINGFQEQMEai1gCjjk9PV2PJW/BYty2bZLy3nuS8tlnriv+gYE8Ub26/KDsCarfli1bpkX/vldcIYPU9eYqkE3ZsUOsykZYILypcVyibFRxhw5SqF6jBThEXxUMiDLoq7KI3bhfQ2FbIwkkPkhskNCg4g0HLLgDVzpx4kT9OiQ/qDrwTH7KAr4vkqWyuGr6HnPgPqhWrZq2GREUEl10YDMgLHEPKf9UV34BYgUTH99AlIEfCbaaCskS9jqLJeB3UM3ma9IH48zwPf369dOnbWPbnVCB/KcsYxlbAqHaraIKJTD1+fkWWbQoUTZsiJMdO+LVfQvhzaHG2AF1H8+X48d/kC1bNuqTzAcMGChZWdfJuHEt5MSJwNXqBqNHn5H778dp5xdW/iGRxxJi+p7AwGagv1ig4R/EMrCrXOngG4i4aDg3IBgw/twLuspCRK2VghGH04UR95ZIwGihE/E/BAq8lhBCLiCIAAeSWTVloAe3ayePP/64Psq/QDn+Lz77TD76z39k6ZtvSq4KehPnzpXE+fOl0vTpUvm//5XKb7whlSZNEiuqlcowW0wqFpiVhk+B7/GVSCDYgdhrvJYQQggpD4Y/CZT70PeYByEg9mGbPLmSvPlmZXnrrVT55ptKMn9+kcydu16+/HKCvP32ZzJ1aqZKtq+SMWMelTvvvFOqVq0nFkvgSnV3HA5LMCEnISSKiSjhDRUWULwxM+BNpcRyGpRSw/ngtWbLqAkhsYMTVYOYsQiiCs2ZlCTSqJFeOvjwww/LrwYOlB7KBi3evl1eV/ZovIqqNqrX6TpE9bVFBcgJq1dL6ssvazHOwgqRiAdVFkhqUMnibesBVAQcPnxYzzJmZGRoX0UIIYSUB+QzqDbFlgPefA98DnwPch/4KWxJQvyTl4dKtwR56aVUWbkyQT12qNAtUz0zXbVX1NeTVKum2mNitT4tcXG9dGV0w4Z2lVsGMXGrwkzs85aSwslXQkiECW9Ieo0lZAcOHDhvuYMhuuHYbSyvwcaidD6EEE8cGRl6GSj2YjODMyFB7PXqSVHnzvqx1W6Xwdu2yb+U/XlMXxF5V7UXVZurGg5l0CGW0ym2rCxJGTdObAcPsuotwoFPgaCGk83gf9yXO0B0g//BdYhzeG2sbQBOCCEk9GDLAmP5smfuY/ge5D6G7+Gkj39QfXb0qE3eey9Fjh2zqdAMhRxrVXtbtRdU26naDar9XeWWd8vOnTXkgw9S1Nci3boVaSEtPt6c+FatmkM6dSrW/xNCSEQJbxDUcLAClpHidLj169frJAjVb9i0GnsgwAn16NFDr3HG7AQhhLjjTEzUhx8U9u0rzkCb2ysbYldBb2H//uKEUAcxTdmahBUrJCM3Vx5UL/m3ateqtky1p1SDCLdHNWMxYvzq1RK3a5c+hIFELtjqACeZYmPVbdu2yZo1a3QiBP+DPXCmTZumlwF16dJFVx3Q/xBCCCkvyH2wpyh80NatW/XJmkbug0o3HOiDvTy7deumBTr6Hv8UFFhk926rrFyJfsL+3d+q9rhq2PcXe7f+S7Xfq9ZGNexpaZEVKxJUnomN1Z0ycGCB1KzpQHjol7i40tc2alQiJg4wJ4TEALa/KFxfRwQouUbF24YNG7QD2rdvn/5/zpw5+qjsevXqyahRo3RlAjYBDgXYP6E8mwljySsEQW506BsECuiniroJa0UBJ4FhPPKUQt/gvseML8YS+sobThXIoooNAppNBbB6CtQTNSYd1apJwaBBcubRR3GkrK5aq6SC3KQffxRLXp7e/w1HDOBQ+baq4QTUiarNV62hathaP059b/yskpYtxel5Go76fhZlFyzKPuBgBr0uIUR2KxDYBwZ9VZYTx3C/YnY91oCghn3c4H8w+QP/s3PnTn2gz7p16/SG1rfffruuUAhl8lPWzYTpe8zhbjOIbwybQf/jH1S7QoT35X9I6ViCjQzW/2Bz61j1PRDb3HOf7du3y6xZs2Tjxo260g17kGHj71ALb8h/yjKW4X+w/PVi+R+EUCUlFuXzLOpriw6lvIVTWVkWmT5dZNmy/erRM6q9rBq2JoLY9kvVOqh2/qQsurRBA7u0bVsi7duXKL8fJ4cO2dT4vXD/NvzMhASnNGtWIn/8Y64+VMHXR4LPCquz6HsCU1abEWsglkEf4d4j3sHBPmg47TkYMP5Q/FUeIk54gyHHaaaY1Tl+/Lh2PHv37tXXr7jiChkzZowW3ULpeCi8hR98XugnOh//UHgLjBnhTUXv4lCBLE4dxWmktgMHtPhl4FTjsaR5c8kbPVrOPvywOKtVK31CObKEJUskcfny8yrYsJVxU9UGqlZfte9V+1C1faohhKvUpo3Yu3TRQp4B3h+3c6ckzZghCUuXStyOHfp5fQqq+v3CDYW34IGNwom2SG4wAbRDfWa7d+/W/YGTTEer8QLRDclhKKHwFl4ovJmDwps5KLwFhsJbcECcge9B8QFyH/iePXv26OSxd+/e2vfAL4Xa94BIEN4wjPbts8m33ybJ4sWJKjeMUwkyDtpzqj5yvcjFgQPH5csvJ6rc8efq0WrV7lftFdX6q4ak+kK1Tg1XvWS0a9diNf6cctllReqaU4tvOTkQ30rfA9GtcmWHDB5cKM8/f0qaNi254Oe7g3uAwps5KLyZg8JbYC6l8GZRxjTiIgP8yugsNBh0PIazgSiBAYeOCSVIXLCUqKygTBw3gbfTiEgpuAHQT0hmiW9ww8OY5uXpbfyJF3D/G3tBBnQ8yn5Yc3JKl48uXSpWFdAiwipu21aK27QRhwpyndiry7ApyhYkf/aZVHnxRbGeOFF6zQ1Id5Dod6iG3UK+Uq2OavcNGSKDn3xSMtq1Kz14YdEiSR4/XhLWrdOPIejhZzhUQlHUs6ecVUF0iXotlsWGCySH6KuyiDq4X5EAxCLwN4Y9N/wP+hH+x+jTUILvf+TIEf1/sND3mAOfGbangM0oSz/HChjfEN7KMxEZCxj7cSF2JN5BrA4/ggriYEDyjeqvWMSb7wln7mOA/KcsYxlLY/F7hlNUKiy0yJo18fLhhymycmW8io1VHFUaTil75ZSuXYvkrrvytFBWUpIrS1Wc98EHH8mSJZvUe7Gs9GnVuqiGSVHfClmVKg556qnTcscd+YLDFfAzsAQVe8Rt3Bgn27fHI5yUWrXs+mfVreuQtDSH+nxc38AH+PyqVq1K32MCjHH0V1knImMFxDKwq7j3iHcwKYDm7aBOf2D8YYKjPESk8HaxofAWfii8mYPCW2AQfJoW3gyKi8UKZ45KDpVYQmxzKievozd3EOju3CnV77lH4vbv14+9gfk4HLKAfd/eUO2gGtvt+vSR24YPl/4HD0rNSZNK933D5+j+PdTPdqjPuKRNG728tbBfv7CJbxTeIgO4aApv4YXCmzkovJmDwltgKLxFDhVVeMNebT/8kCjvvltZtm2L10KYRzilq9OaNy+UXr2WSWHheFm0aK6y9/HSosVNMm3anSpGbKxeiYP4LqxyM8D3qVnTLhMmnNDLR93FNHRLfr5FN/xsVMalpjrU2Ha9IAAU3sxD4c0cFN4CcymFt/BMjxBCSCShoiUs80SFG5ag6uWenqIbgDDWsKEUd+2qBTJfYB9d7PE2VLVnO3WS6wcPlj0HDsjLY8fKm+PGyeYtW8SJ5NUz0FKPrcphxq9bJ5W+/FLiN2xwPUEIIYQQQsDq1fEyeXKybNgQL2fOXLjXGh6fOXNENm/+QL766jlZsmShdOjQQX7729/IPfeMlC5dsEEIToD1LboBo3KuUSP7BWEhRDgsZ61RwyE4cAGnl5oV3QghsQeFN0IICQJUoOXdcYeUtGolzgTfR1WhMiSlenVpf889cscDD8jDd98tDVXUNnPvXvlHcbF8rF5zrPSlF2ApLNRLXyHA8TRUQgghhJBSUGG2enWCPm0UBxxcCNYdzFTtWfX8+5KVZZV69e6SUaMekn79+kqHDjXkvvvyJCPjQjHNHRyS0Lx5sdx9d55eYorqN0IIKSsU3gghJEiKuneXs/fdJ4X9+4sjPb10LYIbzqQkKe7QQc488ogUDhok9du1k+tatZLH09JkmNMp2B0Oe8BhO1+cgOptq3LbiRMSt22bWA8dcl05H8uZMxK/caM+7CFh+XKx7dunBTtCCCGEkEgDItqBAzZZvjxBFi9OkPXrvVez4TXbtsVJdrZnGovtRXaqhk0+/q3aKtV6qvc/JgkJd0pqaid9mAGq2AYOLJRHHz0jnToVSaVK54tq+BrVa1dcUSijR5+Vnj25oT8hpPxE3KmmlwKsu+eppuEFe+ygn3iyj394qmlg3E8oDNueGXFxYm/SRBy1aumlqY7q1bUAZ69XT0pat5bCAQOkYNgwyb/xxtITUdX4Tlm/XpovXChtjxyRDPUtIL5hD7hNqkEuS1ctVTX3MBLfH/u92Rs0cF1w6KWoiQsWSNLMmZL0/feSuGiRJKxeLXHbt4vt2DEdMeqf6b4RiReMEwqxB1iw4H6NxZPlLhU81TS8uNsM4hvDZtD/+Ad74WFfRe7Z5JuynlCIPXboey4uF+NUUwhuW7fGy48/Jsr33yfJnDmJsnx5ohbe9u7FXoDYu9fxU9XZpk3xMm9ekn6uFAhu2CN6jmofqTZFteqq3aTaKNV6SPXqKdK6dYk0bWrX3yMpySlt2pSo6059KAKEtho17NKggV2fYDpoUKEMG1YgV15ZqIW5cIB7gKeamqOsNiPWQCyDPjK9x3UMgv1F0XiqaQWFhyuEHx6uYA4erhAYGMagD1coBziV1LZ/vz4ZFTvtYq+4kpYtxZkKGe0cSd9+K5XfeEMS1q7VFW44+RShIRZDYMnp9aoNUQ3na6WpBgGuYNAgXTVX1Lt3qeh24oQkffedJH/+ucRv3nx+hZuKJO21aukDGfJvvlmfjupvKSwPV4gM4KJ5uEJ4wX3AwxUCw8MVzMHDFQLDwxUih3AfrlBcbJEVK+Jl0qRkmTcvUfk7G8Kdn4iPd0rbtsVy6635cs01Bfqgg/nzE+WttyrLwoU4fAr2aLtq81TDWfI5qvVR7Q7VEFGVJso4bfSxx3LlqqsuTLZzcy2yc2ecnDhhVf5ApG5du97TLVyCmwEPVzAPD1cwBw9XCAwmBdB4uAIhhEQYOP0UQlvhwIFSeNVVUtyt2wWiG7Dj0AbMlKjENV49bqvaE6r9SbXOqn2p2nOqTVYNoly+ep1DBWRoQFe6zZ8vqf/+tySsWXPhslIVtNmOHJFK33wjKe++qyvgCCGEEEIqKjt2xMn//pciX39dSQ4dOl90AxDm1q1LkFdeqawr4nJySqvf0tIQAx1UbZZqr7kaJht/qRqiKYhvpaIbKtyqVHFI9ereJ2NTU53SpUuxFuVQ4YbKuHCLboSQ2IPCGyGEXARwGENJ48b6cAYDhIQDVXtLtV+rhrkXrP1/VbXFNpscbdhQirDMVEWitsxMSfnoI7FlZalnfYMKPFTVJY8fr34oZ7wIIYQQUvFAiPLll5Vk5coEyctz22TNC8eP2+TTT5Nl+/Y4qVHjlFSvvkGs1v+pZxA1LVftBtXeVW20apiwPPf9sKy0WbMSadGCMREh5NJB4Y0QQi4CTiz7695dSlq0wNo219XS0BBLSx9T7TPVhqo2w2KRX1WqJB8WFcn+kyel6NQpidu5U+LXrFHPBsaq3pOwYoVYy7FEnhBCCCEkXBw7ZtWiG0Q1M6xfb1UtV+bPnyO7dj0jcXFvqHCqnnrmBdVwmEJT1c4X8BButW5dLJ07F0vlyqxiI4RcOii8EULIRaJg6FDJVw37wHmjuWqofnslNVWqWizy0gcfyFNPPSWLvvxSLKtWicXsPitOp1hPnZLExYtdFwghhBBCKg7LliXofdXMbW/mFLt9p4wd+1f54x+fkcOHD0v79r+S9PQP1HPXquY9pa1e3S433JAvgwZxr1NCyKWFwhshhFwknCkpknf33XL6mWekqHNncdrOn+XF4+LeveXysWPlpSlT5PEnnpBjx47J7197TX73/fd67zfT2O1i4Sa0hBBCCKmA4LRSu93/EtNScKAYNuG4RfLzv5MbbxwmY8e+LO+/f6s895xVevYsFJvtfPUOj7t1K5I///m0jByZL8nJrHYjhFxaeKqpCXiqafjhqabm4KmmgbnYp5oGjfqdLGfPik3ZFNvOnXo/NuzLBlGusGdPsTduLI6aNaUkPl5O5+bKxo0bZeqkSbJg2jSpqz73e9W3wA4m2CnOX7hqr1dPTj/5pOTfdpvryvnwVNPIAC6ap5qGF55qag6eamoOnmoaGJ5qGjmE81RT7O/2yiupsmdPnOuKJ/BdS1V7XrV1qnWUoUNvk/vv7yzdulVT4yFBfX+L+h1tkplpkxUrEpR9skhKilO6di2SZs3sUqtW6emkbjt8VBh4qql5eKqpOXiqaWB4qikhhMQKKvrDqaclTZtKUd++knfvvXL2wQcl7557pBjCW8OG+qRUm0pK4EC7d+8ujzzwgPzyvvskRSW92MUEwttC1XyGs+p1DvUzirt2dV0ghBBCCKk4dO5cJGlpDn3q6PkUq7ZNtb+rhlNKd6v2MxU+/UV69hwkrVrVkoSEBP0+VLI1blwivXoVyT335MlDD53V/19xRZG+DhGuIopuhJDYg6aIEEIuBRDgUlLEXqeO2OvXF3vt2uJMStKimTuY5WvSsqUMGzhQ/q9NG7lFXVul2jOqvaLadtUQorrjqFJFijt10iIeIYQQQkhFo0EDh3TsWCxVq7qvTjis2njVnlJtsmqtVXtOtfukVauO0rp1iqThRCo3EDahqq1OHbvUr2/X/0OQo+BGCKlI0CQRQkgFxxofL1VatJDut94qD1arJr9X13A8w0TVnlVtimpHVAPOxEQpbtdO8ocP118TQgghhFQ0EhOd+uADiG9JSVhCOE+1l1V7V7Xjqt2t2pOqXS9Vq9aTm28ukRYtSsRje1xCCIkIKLwRQkgE4EhPF/s110itu++W21u0kF/Hx8sQdR0Vb++42pK0NMnu3Vvy7rhDinr0UFcIIYQQQiomXboUyuWXr5eaNT9Uj8aqNl+1Fqr9QrWHxGbrLs2bW+Wuu/Jk6NACqVGDeycSQiITCm+EEBIJ2Gz6wISzDzwghap1HzFCft67t4zp3FlSmzeXr6tWlbFJSfJVgwayvX17cbDajRBCCCEVFBxCsmLFAjl69B1JS/tAunU7LgMHXqv+/7l07nyD9OpVWUaMyJf77z+jW8OGrHYjhEQuPNXUBDzVNPzwVFNz8FTTwFT4U01DhCUnR+I3bxb1h8qGrCz5Zts2mb9xo8Cg9+nTR6666ipp1aqVHjPe4KmmkQFcNE81DS881dQcPNXUHDzVNDA81TRyCMeppriemZkpS5culalTp+px0KFDBxW3DJM6dS5XP7OKFBdb9MEL7dsXK1/m9HIAQ+TDU03Nw1NNzcFTTQNzKU81pfBmAgpv4YfCmzkovAUmVoQ3TxCMLFmyRCZNmiSbN29WwWsdueOOO6Rbt25Su3ZtfY9plDO2qMQ5WX2JvjqrHuMEVPWC0udNQOHt4gEXTeEtvFB4MweFN3NQeAsMhbfIIVjhrbgY8YhVfVaV1ftUvGHJ1yeLolIN3wf3xs6dO2X8+PGyfPlyHasMHz5cBg0apL+OJSi8mYfCmzkovAXmUgpvtr8oXF8TH8AYlifQxIcLZ8ObwDdIfNBP3mbGyDlwfDrGYzEiG+IVJIZw0BhLsRTIYGw0a9ZMunbtqhNkBLTfffedHD9+XBo2bCiV1P2VoOxY3L59krhwoSTOnSu2lStFDhxANqObU30PdTO6vqNvcL+mpKS4HpFwU9ZAk77HHO42g/gGogf6iv7HP7C/ELuZSPsGYwl+BBMDwYDEh77n4oL8x8xYhjaXnW2V3bvjZM6cRJk/P1FWr7apGASTdU5xOAolK2u/jkuee+45XfE2ePBgefLJJ6Vv376S5nlUaQyAeyApKYm+xwRltRmxBmIZ9FEsFR4ECyZ90AoLC11XzIHx52sVkVkiquINgwhJBH5l9wGFjkD7qaIjxOBnsuItvOCzY8VbYFjxFhjYgliseHMHQsuuXbvknXfeka+//loyMjLkF2PGyI07dkiDuXMl4cgRsRh9oxJpu+qvwiFDJPcXvxB73broxNLnfID7NdYq3jCW3JsBhAgkg+HyP/B3rHgLL7AZrHgLDCvezMGKt8Cw4i04AvkfNHwdDsxUvGFu5/Bhm7z4YqrMnp0kOTlWZUtLn7Na7VK37ilp3Xq+sh1jZd26FXobjN/97nfSvXt3LTzFKvjcWPFmDla8mYMVb4G5lBVvESO8wehv27ZNNm7cqEuUkYgg+EOVR/369fVyqgEDBoTFgFN4Cz8U3sxB4S0wFN5KgWnHOFm2bJn869lnJXPfPrlS2aFfqz7ppZ47z1KqgB3VbsUqGM5+7z2x164ND+N68kJiTXiDD4Dfgf/ZsWOHSjAOa/+Dfqhbt6506dJF76kH/xPq5AefI4W38ELhzRwU3sxB4S0wFN7Mg3GE6jD4n+3bt8uhQ4e0+AC7hW0kDP+D+DAc4lsg4Q35/d69cfLAA9Vkz544vTfbOTOKLzap3+td9ft+pu6NJLnrrnvk4Yfv0fYEiWwsQ+HNPBTezEHhLTCXUniLmKWmJ06ckA8//FDWrFmj/3AsnUJDxx04cOAnh4TNOXEtlM4HxrA8gSZ+Hzgt3gS+QQCBfmK5tX+41DQwuPfhoGNtqakn6AckKfWUkxi+erWkqsB9flGRTFXPZalWV7UMvE41gAo4a06ObkU9eohT9aEvcL/G0nIfBMXYjwYiJmjQoIE0btxYJw4HDx7U/getbdu2euyFOvnhUtPw4m4ziG9gT9BX9D/+4VLTwJR12Rji/1hbagoR96uvvpIFCxZoe45iA/gfHF6ASSDD/7Ro0UKLb+jXUIL8x99YPnrUJi+/nCpLliRp0e0cx1X7SLXnVFulvseV6nP/lzRpMliuuSYh5L9nJII+4FJTc5TVZsQaiGXQR7FceBAITPqgXYqlphEjvGEQIXnAaX0DBw7UMzzt2rWTjh07agFu//79snfvXn1jNmnSRP8fKii8hR8MZgpvgaHwFhgKb+ewqL8/QQXt9caOlQ7Z2dJZPYboNlc1SEhYHNlWNSP8tSg7ZT10SAoGDxZHejpuTNcz54P7NZaSH8P/XHbZZXoDaOyjB//Tvn17va8e/A8qEnB/NmrUSNuyUELhLbxQeDMHhTdzUHgLDIU38xj+B3nP1VdfrVf4GP6ndevW2v/s2bNHJ5KYFML4CyX+hDeYgm3b4uXVV1PV69xFN0QYz6v2uWqojn9YtfvV39FS2dnKcv31BZKUFJ0nlQYD7gEKb+ag8GYOCm+BuZTCW8RMN+AP7d27t3Tu3FkLbVjmhH2LcAIOqgwuv/xyHeisW7eOQSEhhCgsyvkmLFsm8cePS227Xfqra0+r9pBqDVVD+HKeE1DBte3kSUlYtUqsQS4Bimbgf3r27KkTHghrKDU3/A/2qsHG0Ah0NmzYwGWdhBBCQgaERvieHj166Eo3w/9gmSmq3FCMAGEMp5lf7GXg2MttzZp4fajC+SSohgmo4ao9o9rNqjWRkpIkOXbMJsuWxauv1SVCCIkhIkZ4g9KNfZu87aGDWX0IcXA8gUqiCSEkZlCRbdzevdgkRj/EPHh71e5Q7Weq9VXtgglniG8HD2Ka3XWBYGYM+2ZgJtHT/6DKzdjzAXvqcZaREEJIqID/wT5gqGTz9D94DhNAuA7/gwrni0l+vkUfqnBh2tVEtftVwzRfL9Wqq1YKaiP27YtTvjLGy90IITFHRJ1q6ovs7Gz54YcfZMqUKfqEnIceeshrKSA2G0Q5NvbkgViHWSIzIJEyNuDzdHpm4HKfwBjl1jw0wD9camoOzBBjLMW8CK9sXsL//idJ//ynWIKoxCp48kkpevBBceKQBS/gfsX+MqTUr8yePVs+++wzXZEwZswYvbm6J5gUgv/BsiD035VXXqmTpkBgDOfk5Oivg/U/sKnwO/Q9/kG/Iqm92NUikQb8D+BSH/9gLHGrA/8Yy8bKstSHvuccGGc//vijfPrpp3rp6b333qsP/PEEldjYDgFb8oD+/fvriSQzwP9gLHvzP/v2WeSddxLl9dfNb6+QluaU3/2uQPnKIpUfuS7GKOhTfA7MfQJTVpsRaxhbHXAS2DeIvdGCXaGC+xWHlpWHiKl484XhTFavXq2TbSw5NYJDT+A4DAGsLIlIsEmPAd5X1vcS4g7HUmDYP26oQKWkZUt4GdcFE6jAxt60KTaKcF0gvoAAsW/fPlm+fLkOniG8+Utm3P1PMEk57/uLA/uYhAqOpfDAfj0HJmBRSLB48WItSmDvUV+iJPwNEvFQ+x9st9e4cQnCBtMkJDilVasSscX2gaYao285rkko4XgKD6Ho1wpT8YZT4zw3kMYmqtjHwNdG1Uh6du/eLTNnzpS1a9fqja/vuecenfiEctAhWcJx2mUF6ih+V+794xsoz+gnjAPiG1RyInji7JhvMCOGZekYSzE/46P+fqvqh+q33y5xO3eKJVClpLKbJfXqycmPPpKS5s1hhF1PnA/uVyzvjxZwapznseLwITVq1ND+x5s/QdID0Q3+Z+nSpXoPHviftLS0kPofuOgjR44ElSgZ0PeYAzYDS4lhMypISFQhMZa6sTLQP6h4hU252Mv+IgnE6fAjqBgOBghMsMvRBHwPxosn+Du9ba8DIJ4dOnRI+x9UvMH/3HXXXfo9sGehBPmPr7Gsfg3ZsCFeHn44XQ4eDKykQXTr0KFYPv74hPJPPFwBeS6WEdP3BAY2A/1V1sOmYgXEMrCrsBHEO4jr0Tzj/kBg/Blby5SVClPxhk2pp06del6DQzlx4oRXY2QkPfPnz9fHaHfo0EFuvPHGkItuhBASsagA3KGccP4NN4gDyx/9BeTKbjoqV5aCm24SBxyLD9EtGtm6desF/mfGjBmSlZXlVbw1Kg0WLFggq1atkjZt2siIESO00EX/QwghxCw7d+68wP988803cvjwYa/JM67hOfgfVLvhgJ+bb75ZC76hFt0CgWL6+vXtct11+RLolFL8arVrO+Taawv0clO6SkJIrFFhhDeo/dh7wL0dOHBAz9R7Cm9wOtgnB/vqGEnPyJEjf9pglBBCiAubTfLuvVcK+/UTe+3a4oyPdz1xDqeKniHMFfXqJWfGjBFHOfcwiDRQbeDpfzCxg71EvPkfVBqgymDRokX6VLk777xT76tzsZMeQgghkQ2qLjz9D5q3fQLhf1ABDdENPginnKLSumHDhrqC8FKQnu6Q0aPPyuWXF0q1ag6vc3aodKtb1y4DBhTIHXewYpYQEptE3OEKKHdGQjR9+nS9vLRjx4660sDbZqKhgktNww+XmpqDS00Dw6Wm3rHm5EjyRx9JkrKdcfv3i8U1k+5UUbK9Zk0pHDxYzvzsZ+KoWlVXv/kj2paamgXjCRNC33//vSxbtkxatmypRbf69eu7XhF64KK51DS8cKmpObjU1BxcahoYLjUNHvgfVLqh6GDevHladMNhChDdwom/paYGCLWys63y2muV1e+XJCdOWNV7SuOI+HinNGpUIjfckC+3356nq91IKVxqah4uNTUHl5oG5lIuNY044Q2zQF988YVemtqzZ09dXl3bx8l7oYLCW/ih8GYOCm+BofDmH4tKCBPWrJFKmZmCsDivTh0pVrbUofrMLLEqvEF0mzx5sqxcuVI6deqkkojbwzrpA+CiKbyFFwpv5qDwZg4Kb4Gh8BY8EN2mTZsmCxcu1MtLUekWzkkfAzPCmzvHj1tlyZIEycqCvbBLs2b50rlzsfJHtK2eUHgzD4U3c1B4Cwz3eDMJDlIYP3683o+nX79+ctNNN8Vk8kcIIWXFmZYmRX36SNH990vxgw9K0aBBeh844h9j0mfdunV60gfbG4R70ocQQggxJn1Qad25c2d9kEK4J33KCpaeDhlSKA89VCyjRxdJr17FkppKUYkQQiKm4g2HLLz//vuyadMmfdJp27Zt9Z5uUB896d+/vz4JKFSw4i38sOLNHKx4Cwwr3syB6hX0VVlmD2Ot4i07O1s+/vhjWb16tZ6dhv+pV6+e7gdPrrjiCn2fhgq4aFa8hRdWvJmDFW/mYMVbYFjxZh6MpYkTJ8qSJUu0b4H/8bWn22WXXaZtWSgJtuLNIDU1VVfdYK864h1WvJmHFW/mYMVbYLjU1ASodnvzzTf1/m64+Qyn7Y1nn31WG7JQQeEt/OCzpPAWGApvgaHwZg4Kb+ZBtdu7774r27dv15M66Dtf/ufpp58OaSUCXDSFt/BC4c0cFN7MQeEtMBTezIPD5D788EO9xU5CQoK+D9EP3vjVr34lzZo1cz0KDRTewgeFN/NQeDMHhbfAUHgzAQYRjtw2Y8C7d++unVOooPAWfii8mYPCW2AovJmDwpt50EeY/DHTV1gGhL4NFXDRFN7CC4U3c1B4MweFt8BQeDMP7rc9e/ZITk6O64pv2rdvr+1+KKHwFj4ovJmHwps5KLwFhsJbBYfCW/ih8GYOCm+BofBmDgpvkQFcNIW38ELhzRwU3sxB4S0wFN4iBwpv4YPCm3kovJmDwltgLqXwFlGHKxBCCCGEEEIIIYQQEilQeCOEEEIIIYQQQgghJAxQeCOEEEIIIYQQQgghJAxQeCOEEEIIIYQQQgghJAxQeCOEEEIIIYQQQgghJAxQeCOEEEIIIYQQQgghJAxQeCOEEEIIIYQQQgghJAxYnArX18QPdrvd9VXwWCwW/T+72j9Wq1UcDofrEfEGx5I5OJYCU96xZLPZXF+RcFNW/0N7YR7ajMBwPJmDYykw5RlL9D0XF/qf8EJ7YQ6OJ3NwPAUGYwmtLP1UXv9D4Y0QQgghhBBCCCGEkDDApaaEEEIIIYQQQgghhIQBCm+EEEIIIYQQQgghhIQBCm+EEEIIIYQQQgghhIQBCm+EEEIIIYQQQgghhIQBCm+EEEIIIYQQQgghhIQBCm+EEEIIIYQQQgghhIQBCm+EEEIIIYQQQgghhIQBCm+EEEIIIYQQQgghhIQBCm+EEEIIIYQQQgghhIQBCm+EEEIIIYQQQgghhIQBCm8XgW+++UbWr1/vekS8cfz4cXnnnXdcj4gv5syZI0uXLnU9It7Iz8+XsWPHytmzZ11XiDeWLVsms2fPdj0i0ciUKVNk8+bNrkfEF7m5ufLaa69JYWGh6wrxxqJFi2TevHmuR8QbDodD3nrrLTl58qTrCvHG2rVr5dtvv3U9ItHIjBkzZM2aNa5HxBunTp2SN998U0pKSlxXiC9WrlwpM2fOdD0ivvjf//4nhw8fdj0i3tiyZYtMnjzZ9ejiQuHtIgDDCjGA+AZO59ixY65HxBenT5/WSSLxDRKfI0eO6P+JbyBMYjyR6CU7O1vy8vJcj4gv7Ha7HD16lDYjAGfOnKHNCIDT6dSxDMYU8Q3sEmJjEr3k5ORwAjQAyH3ge0hgMJYwpoh/UMhSXFzsekS8AU0G8fGlgMIbIYQQQgghhBBCCCFhgMLbRaBu3bqSlpbmekS8kZCQIM2aNXM9Ir6oVauWZGRkuB4Rb9hsNmnZsqXExcW5rhBvpKen6/FEopd69erR95ggPj5eWrRooW0H8Q18T82aNV2PiDcsFos0b95cxzTEN1WrVpU6deq4HpFoBJ9vtWrVXI+IN2An4HtgN4h/ELPWrl3b9Yj4okmTJlKpUiXXI+KNKlWq6Pj4UmD7i8L1NQkTycnJ2mAkJia6rhBPkPAgEEMjvklKStKBDI2qbxDAQGyoXr26WK2cW/AF7BHGUkpKiusKiTboe8wBO2HYDCZAvjFsBsYV8U1qaqq+7yjk+gaCA+K9ypUru66QaANxKuwF4lbiHcP3wF7Q9/gHNoMxa2BgUzGeWHzgG0y2wv/AV19sLE5sSEEIIYQQQgghhBBCCAkpLAchhBBCCCGEEEIIISQMUHgjhBBCCCGEEEIIISQMcKlpOXE4HPrY3qKiIn0sNI6QxzWs28da9EB7fOD1OFYd78f7sMYfa4+xJwLWs8fCmn/0G46JLiwsdF25EOwVgXX9sbhnF8YFjj5G/2C8YExg7T7228E4ifV9IQoKCuTMmTO6n7yB/sFGmtG+zxXuI8MOGbYI4O/GPga+xolhwzDGjCPIYbdgf3DfcZ+iiovx2eFzx+eNzx3XYCexf0WgPT7wWtjeWPY/6DfYD3/+B/2BfVNi1f/AxqJ/ML4wJmATYFdgH2JhjPgD/ZKbm6v7yRvoH4ydaN+XFWMDtgjN8D9ILwLdO3gN7A/8D96Hx3itEd9wn6KKC8a8+2eOhmv4/LBvGXyJP/BaI/9xj23xuePzj3bbQt8TGE//A4z8h/5H9L1z+vRpv/4HuXO078uKewl9AVuErw1fgnGC+8dXHoPX4D2wQ+7+x8h/wuF/KLyVkxMnTsiWLVtk8+bNcuDAATl06JAOwpD0PPvss1KjRg3XKy8EH/Lhw4flm2++ka1bt0pOTo42sjjds1+/ftKxY8eY2MR4//79Mn78eFm5cqXPm2PgwIFy6623xtzhC7g9jx8/LrNmzZI1a9bor2EU6tevLz179pQ+ffpcks0hKxI//vijfPrpp/q+8xacwOk8+OCDur+imczMTFm/fr3+H7bo2LFjevxcfvnl8sADD2gH5Ameh9Net26d7sd9+/Zpu4SNWbt16yb9+/fXpzJTfKuYnDp1SvufjRs3/uR/4EdgJ//whz9Iw4YNXa+8EAQnWVlZ2v9s2rRJfy8EGzgRC3ala9euMbGJMe6TTz75RJYuXepznPfq1UtGjRql74tYAvbh5MmT2jasWrVKjh49qgN52IQePXrIgAED9KRGLINx8/7772s76s3/IIbD2EEME80gjoMf2bVrlxw8eFCOHDmiExr43TFjxngdJxhfEB5gvxDj7N27V78Hk9adO3fWcXCjRo3ofyooGPPbtm3TcQf8Dz53+B981k8++aS0bt3a9coLwWcP2ztjxgzZsGGDtjMQ6uCzevfuLZdddplOmKMZ5H+IXZcvX+5zjPft21fuuOMOfU/EGhgj2dnZsnDhQt1H6C+A0/gRn1511VUxf2o7bO4bb7yh7ztv/gfi0YgRI+Taa691XYlOEPuuXbv2J/+DsYLJHNiRe++916sWg/GF10C/+f7777X/gXgH+wX9Bf4Hekyo/Q9PNS0n+JB/+OEHbRRQOYAPDIEEBLQrr7zSZ+KC4GLHjh3y8ssvy/bt23Vw0a5dO32T7N69W99MULCbNm0a9TN+cN4IvCAqDRo0SNq2bSutWrU6r7Vp00Yf/RtoBi2agFFAYvz666/LihUrdDKNvsnIyNBBLYwM/m/fvr1OmGOVPXv2aMOJEwmR3HiOHTQEgNHuoBcvXqyDWAhvEM+Q8GGWECItRBRvdgQTB7Nnz5YJEyZoB9SlSxd9tD2CYATT6Fs4rJo1a7reQSoSCBTgf5YsWfLThA/+h/9B0OBrzGN8QGR9/vnn9aQPbCv8DxIdXIdtwXjAWIh2mwu/jbGOwA1CUocOHS6wH/A/DRo0iCn/A2Af3n77bW1bEMvA/yDpgV/CRBDGCgSSWPY/EBwwfnCvIX7xHDvwPWjRLtpi4nTatGk6JkZ8C1sCGwL/A7/ibeIHYv+8efPko48+0nbL8D+ICTEZAF8GwaFOnTqud5CKBBJc+B8II/gsEYMh/4E9gHiGWNUbmPRB7PrSSy9p0Q3xBWwL7iHcT/A/EBJw30SzzUVf4e/HhAZiV8TynvYjFnMfA8Sh48aN0zYCfz/6ApM+uL569WqdQ0OAw3OxWvmGsYNJMcT7V1999QXjBw33ka97MVqAD/7666/1mEDeY2gxuHcQo3jTYuBzFi1aJO+9954WeBH7tWzZUle/IaeEL8P7EPuFEgpv5QRKKAwBKkOuv/56rZJidjiQ8Iab5csvv9SzhHjfLbfcooMOGBFUMCEJwGsQvPirWogGDOENA3/06NG6H2BgjYAVDX0cC6Xn7kB4/eyzz3QAioqLm2++WQcz6B/0B4RKCCOY5YBxjVXQB6j6ady4sdx1113njRs0BPII3r3NBkUTCHbx915zzTVaQIDtgPPwJbxBfEHwgmQJAS+qAmHHEPx1795djy84HrwPyXasV1ZWROB/8NmgQu2GG27Q1SUQUjEW/AlvsLUQW3fu3ClDhw7V/gefOcYJ7hUkRfBBCOZwX0UzhvCGGVLMjKIfPP0Pgjf49FgL7j///HPdN/A5w4cP19UXCGIRk2AMwT4A9FesJj4QCpA8Qxy67777zhs3aPA/ECRiwf80b95c+x8IkLAjmED2JbzB/yC2mTRpkn7ukUce0X7L8D+ICzG+MAFZu3ZtrxVz5NKCMY2JOcSlN910k/785s6dq22BP+ENiS2qjFF0gDwJsS18F8YJvh8q4XBfYVyg4iRaMYQ3TGTAdsD/0vecY8qUKXqCB30C/4Px1alTJz0mIMxCZIGIi/wnVqtioROgj+BjsLLFfeygwf/gnor2/oH4ikKlwYMHy5AhQ7SYD0HSl/CGcYPxgzgYPProo1r8hvgG/4PlzcYkEvxPKFfbRXckcBFAcAGFFA0JkJkPB6WMSGogFuD9cDwYJEhskSihNBI3CxIBvAYffCwAx4JEDzeIZ4tF0Q3VBpj5g0FBUIIEGMEnGmYHsdQHjhvGBWMqlsHYgEDkbeygRXvVKICDQdUSxgmcMO4lfyC4NQIXOBs4aYwtCHawRxBuUKWBiihUtpCKBz4v+AoEnggOzFTVwJ9AWMNkB94PsRWigeF/kPzAviAZQFIQK/4HoOLcm/2ItcTHWOID0Q1/NwJRiCqG/0G8g8QawemyZcv0DDPeE8vEuv9B/AvRDEvVIbjg7/YH4hsILxg78D9GxRPsEBLFK664Qn9PTA5gFQipeCBWgF2AMGL4n0ACMwRXxB6IbRGj4HNGRYnhf1C8AHEF9geviRX/48v3xFruY4AKSsQoiE8hnCDGMfwPBBbEpxgbqFiCkBvr/gf3nbfxgxYL1ZLwGfA/EGXxNWyTP2BfsEweE6/wP3gv9BvYIfgvbNGDnAq+B68LJRTeyglUZBjGYEpdIZag0g0GBU7L01nB+WCWEIYYyQ8qT2IB9AeWFmBZJZbuoloHJcW4HmsgOIHajrGCZcgQQtyX8yBggVHA2MH4gJAby44HfztmyCEUYM8diJGohENQHyvABkEgMJvkwbZgqQgcDRJp2DED2DJcg4CHGTU0X5u3kkuH4X9gG8z6Hyz/MvaygGiHIMN9NhSBLWwLAjaMESRJsQBsCPoFS+bgf1CNA9sKWxxr4F6H/8FSDIwFCCDu9gGxCaquEeBCQIEdiWX7gLEDX41EEcu+MYYQsONeixWC9T+I7RAHYyxh0sfT/xgJFGwQJqHpfyoeZfE/iMkQ50MsgYCCz9h9zCAegc1BHgT7i0miaAdjG/Gq4XuQ+8CuxmLuY4Axgqo2CLqYGIRtMcCYg//Bc7Aj8D+x6KcN4H8wCQb/g/wH4wj+O5YESdiQYPwPxhbuOdguTPq4T67ifxQwYHxBoAt1fEPh7RKAYAyJLAYIBDZPhwURDk4HCRDU2FgR3pAIYtkb1mmjxPiLL77Q5ehz5szR/RVLwImg1B43u6fTARgzEN+QNKPfEJjGioH1BvoLVVlYvo3xM3nyZH1gBxoS6FhKgMwCoRJOBYkPHIwnEF5ghzAG8Vr2YXSAAA3JDPwMlgx6LkHAdfgezP7hM0fiGwtgnGODXcP/wJZg42vsYYSJjVgCfQH/A7sK2wAb4Q78D65hQgivQf/EcpKIvx0+GGNm6tSpevxgCQv8D5ZbIo4j5wNRF+KCkUR7gvgG/gfA/yCJJJEP4lXYC9gQ5D+e1Ti4jmoVrAaCr4qF2B82FPvzuuc+8D04cAR2JRbBGEFFG3wMYlF3MEaQE8E3GbY3lirzPYG/xgSpe/4D/4OtirCdDCaFyPnAJyO2hfAGO+QJ4hv4H4w1+J9Q+nAKb5cAGAh8iEh4kODgg/UERgXNeG00Ywx8lHainNhY6oSZLyyFQzKEcuJYqbwAMKRQ5CGmoR88k2OAgAUBivtrYxHcQ8bSW8ycY/xgthyBOjYFN04NRhBHzoGZZwgrxjjyBHYJyQ+eR9+x/6IDBPlIevH5GoGFJ0iG8dkbr41mMAGGyQ0snYT9wLIWY9kbqpYgvC1YsCAmKi8M4EvgU+BbYBs8k2OAfjP8D5YFxar/QR9g3GCLECN+wUoG2Fcsw8VkIid/LgQCDHw0xhFiHE9gl5D8ID6E72H/RQcQSgyfgtjNfbWPAT5z+B+8FklvtAK7iuo+7OEM22H4HvQLlljPnDlTH1wRa4UHAJ87Pn9fSyWRExl2A6+FH4pFcJ9g7CB/xioV+B+sZEDfYeUP/A+WbHPi4nygraBPjIlmT+B/oMEgFjZ8Vaig8OYHCF4QfjwbgkwM6rICA4GEBngzKACDAYbF/bWRCPoJDsSzDyGiGTMUMJ4QTW688Ua9gabRsFk4kiG8DgIKymhjKbg3+geBqbfkGNcMQS6Sx0h5QdUONnTG5r7G2MHXOLQE5cLYRwYJUCwGL/7AvYlm2Bpv4Dqehx0qj80jwYNk09NuomFpRXnud9hQvB/2A/7Hm23BZ45mvDaSgXjm2YcQ0RBMAQSu2MMM/sfdhsD/4NAK9A+WD2IDY/qfc+AangN4bawKb6jWwmbOGDto2Cje8D8Q4DD+sPwn1qomA2H4FPdx5An9z6UD9tHTbqKVd/k97IRhW/z5H3z2kex/8LtjuZ9n/yEONXwPRCXD98DnwHa4+x6Me/geVM3Gmn01fIphAzyh/ykFFYE4UMCIXYwxBP8DIQ6V6/A/WNZPzmFoK2b9TyjtEIU3P0AcwrIBzwZjWp69o/BB4wMFvoIJfNBo7q+NRGAQUXHk2Yfuyy+Q+EChx15mcES4CfA/glbjeH44K2xwGEt7drmPEW9OBdeM8RPJY6S8YI8QVBzgf8xQIJjDMgVUIOCUGlSu4JASOCByDjgUNIwj2BpvYHwZdshb8EPCBwQ2T7uJBiG5PNWH7j4FwYQ32xIt/gd/GyqmPfvQffkFbAb8D0R6TALBfsD/YP8hHHyEA0uwJA42JJaqPo1g1Iz/wWsxVmIR7LOKKhUkQKjQQl9gmTYSapzCB7+Eexb7yZBzuPsUYxx5Ytghw1eRiweq0jztJhrsYHmqD834H1wz/I+vpLiigzH97bffXtB/mMAxch/YC8P3oHLWyH2wYgO+B3YFy+FiccUGxgg+f4wD+h/fIL9BjIJ9WA3/g2uofEP+g2p+TP6gAIacw90O+fI/uB6OOJiezA/odBhIz+bLWZgFgT3EJnygcG7evhdmRCAyGa+NVPC3eetD/G34+wOBYBbr+NEP6Cssf4kFEGQiCcQNj/7yZhgwDhEAub+WnA8EOZQRI3GO9iVzwYLlHP6Ws+PeRbCHcYZyazRy8fDlf8o7u4sAAsG9P/+DnwEbbbw2kvHWhxjXZvwPDhdB4Ip7BUIdqt1jAfgSJILwLVhiARvgCcYnnsNr6X+8g4oDiHAYN7ESu5jF8D8YW7gnPTH8D2yR8Vpy8YB99LSbaMhNzNhOX8CmwLYA2FRv3wufOT77SPc/sI+e/Wc298H+zbGY+xi4+x+MB0+M+AgYryXng8lDjCOMHeznTM6B+wpCJcaRtz3w4H9g68LhfzhS/YCKqz/96U8XtJ49e5bLGeADxM2AgANLXjwTHzzGmnU0DAzMqEYq+P3/8Ic/XNCHw4YNM/V3oS9gUA212bOvohX8vVjCgmTGvTTdAP0A0Q2CEmY4MNtBLsR9JixWxo5ZkCxjZgwBrrcN9BEgGvs84bWRLsBEGg0aNLjAbqL17dtXfx5lBQIqJjTwuXrbFB/3iRHoG74qUsG9/5vf/OaCPsRyDDN/l7v/wdflSTgjCfQb/A/+btgG2Ah30Be4hmVneA3ESSY+F4K+Qb+gv9DIOeBPUJkOP+NtGwjEPMY+T/Q/Fx9UanraTTSsQkHcUFaQxEJQwv2ATfE9RX1ch6ACoQCvxe8RiSD2fOqppy7oPywrxYROINAPsB34PiBWfI8BfArEEeQ43vbXgn3AqjT0EfIfo5/IOeB/4Mvpfy4E2gTuQwhr3vbvxXX4H/wPYbc8MbcnjJQuAfgAsS8VAgosn0QA635TQFDBQEDiA3EKTiqawd/uy6nAASO4h+FF5Z+3TRCjETgRCL8IPFAmjLHgniDD6RhHrRvjKRYTH2PseHMquI4jyTGGMG4iuXI0HEB4QHADkQXL5z3vQSyNQvCL1yH4ZWIdHeA+wNIWgGVDsK3u9w/8ERJhLHVFtQ7GSDTjz/+gb2BnYUMQqKE/YgEE7FgCBeHVsAPu/gfBKBIiHLOPoBTbROA9sYY//4Nre/fu1cE7fLRR5UNKQWyLQ7Vwj2EprucEAE4pxxiDOIeJglgcX9EIbAoqcfB54nNH/OFufyHEQlCB3YXA5+3EwWjBn+8xch/D95RH7IxEMEYQq2BvMtgBd4EW/gfxCZ7Da5D/QKSLNQL5H2yvg2pr+J9YyZ3NgvsJ4wb2BnGwp/9B38EOod+gwYTS/zCTugSg4gAn2cCw4IOdO3fueTPKOIEEAwHJLvY3i2aDAgEJQT2MqCd4bs6cObJ+/Xqd8CC4jxXxBDc5ZnGwxwMCUxwO4F6VhIAeG2bCIXft2jVmlwEiqYFThvH0BOMK+wtCnISIiQoOcg4IKugXCP3Yd8R9DzwENrBLmJHGcinceyQ6gJiPzx6fK+4dnNjpXmqPExg3bNigE17sHYLXRysY57AT6AdP8BxOlFu5cqUOvpo0aRIzVTeYJUf8gaX68MPoA9gCAwhu6BtMEOFgJCTTRmVxLIH7BsmxL//z3XffaQEJQjcqWMk5IKbBBiGhxp6LSKKNBBL3Hk6yR5yD/a7QSHQAm4FEFrEtJpRxcJr7En4UI2A8QCzo2LFj1Pofw/f4yn3mz5+v4zIIBLAfsVbxiQlf5L8QltAP7ocDGHkzwGme6JtY9D8QZdEXnhXpAPfWrFmz9KQ6xGtjspWUgmo3xDfwOTj9Fb7GEN/gk5YvX66LXpD74HWhxKJ+6IVSKTENAi+IZDhxEyCJhUFAIAqDAGEEQBxp06bNT04ENwre89Zbb+kPGcdIQxiAEYbjwQ3Vr18/XZYczUo1hBM4Xmw6isQGwRhmhtGvGPQI8AH6wuzy1GgBtyaC9tdff12LbhBJYDzhlI3TkWAQHnjggZjqF3cgEsC5YMkc+gYCLQI7JNJ4DvcTnM6IESP0PRbNIjbuFdgU9AWCOiTK2JQXIguCXIi5sEc4LcuYRcZrcWQ9+hCJNjZkhbgNm4b7D+/FsjxcZ8VBxQOiPPwFJmsAPndMVmCcQxBB8gI6dOigmyHQw4ag2uDVV1/V/gcCG4QBBGu4jv/hv0aOHBnVM+3wMxCVJkyY8JP/QZ+hX1HphWAfgT/6AieFRfKy27KAv/+dd97R/8O+YrIQ/YGNmmFv0GePPvpozPWLAfww7CfGCvoHYjViPPgf2FCIchAZcOIcDvuJZhEbE1wQ7DGBA5uChBCTpvAhRuyLuBhbtWAcAbwGvmf69Ok6hsGBFPA/6Ff4HyRHiIHRd1xKVvFAvoPEfsWKFa4rIrNnz9YiCGIG3A8AcSoe4/MHGB+4Z1555RWd6+B5VJ/ga/gfxG14/V133fXT94g2UOmHCfWvvvrqPN+DPjByH9haxGs4oTIWbSz6YNy4cdrfIGZFDoSxhTEHoQQ5869+9SttJ2JxRQZW9MD/IAaETYUNhZ01dATYV8T11113nd6iJJr9D3Jk+B9DQIPvhYAP/wv7gtwH8W+3bt20oAvQTz/++KO+B5E74jnoLbj/MMbwtdF3ofQ/FN7KCQIsBA6Y2QToTgTtMA74oA0VHskr9kYwKrbwOjgt3BxIlBDYQowzZoOQNEGsi3aDYvQBjAf6Ek4HySP6zSghRj9AOIBRiTXjigAFRgCzX0ZZPvoG4wKJdO/evbXzidVlgBCOELzglFyIuLiHYHRxH0EwgKCAYB7jyBDBoxU4HdihzZs3a/uCfkAlBvrCEFzQJ2PGjNEzycBIkCA+IHiGI8L70FdwTgj6UG0Q7X0XqWDGHLZhypQpriuls6CwEUhyDLtw7bXX6mbMmmN8YGwgoEWihGAFfgtjBQkAbC58ULQvMTb6AKfPufsfgDGPYB8JYPv27XXiE4v+Bwkyqtsg4sPGAiTD8MkISNFHsep/MPmFmXEE+BCrDf+DSQrYWgT88D9IrKO9Wh/jA/4Hvhhg7Bj+BwkfbBISmTvvvFOLb8BIkFBxgAp+3IO4BtuFpc6Ib+CHor3vIhWjYm3ixImuK6WTQcDd/+B0RUxcGBNBAHYWAisKFRDjwvbi9fA5mCTFGMGqj2i1LbAV+Ptxz+AeQL8Zvgfj3d33xKqwBBuC3BhjDBPpRmUk7AhsK06NRmwfq/4H4wZxO5rhf9Bn8D/oI1QUw/8gho/2ikkIZTNmzNC+BMCPGJqK4X9gf6DFYNwYr0EMjYpKxDiG/0G+BCGzV69eetIo1NtEUHgrJ6gcwIeFG8AfcCAwnu5VI+h6vB/vxcw7jC6eh9FFYIsPO9oNCmZ0IL4h4cdNgj7ANdwkqNqAsYASjT7BtVgEfYL+QdKD8WIk1QjsMU5i1ekA9AfESKNv4HRwX6FP0EdwPuinWNj/Af1g2BJfwAkhoHMPgOFo8B6MMdyLuP/gqNB3GF+xuow5EjBsA8RTfyCZQfOsWsT7MVOIsYN7B/cNBCd87hgjseB/4HeMsY8+wP1g+B/4HfifWF3KAtAnCE4R2ENIQT/AJhj+x3NMxRK4fwz/g75x9z/oI8P/RHOlgQGEE8OW+AL+BxVwuKcMcL/hvYijDf+De8/wP/DjpGJi2AZvm5O7g0lzbxvg4/5BzIIxg69hW+B/MD5w30Sz//H0Pfj7PXMf9EEs+x6AMWacCo3+Aob/wbiKdf+D2N3wzZ7+BzEc+ikWYngI1/A/xuSgNzBWUNiEcWOAe87d/8Af4f5D38H/hKPogMIbIYQQQgghhBBCCCFhIHZLZQghhBBCCCGEEEIICSMU3gghhBBCCCGEEEIICQMU3gghhBBCCCGEEEIICQMU3gghhBBCCCGEEEIICQMU3gghhBBCCCGEEEIICQMU3gghhBBCCCGEEEIICQMU3gghhBBCCCGEEEIICQMU3gghhBBCCCGEEEIICQMU3gghhBBCCCGEEEIICQMU3gghhBBCCCGEEEIICQMU3gghhBBCCCGEEEIICQO2vyhcXxNCKgi5ubny3nvvyQcffCAOh0Nq164tSUlJrmdF9uzZI59//rlMmDBBzp49K23atHE9QwghhJSdoqIi7X/GjRsneXl5UqtWLUlOTnY9K3Lw4EH58ssv5aOPPpKcnBxp166dWCwW17OEEEJI2YHvQf5z6tQpqVGjhlSuXNn1jMixY8dk0qRJ2kedPHlSWrVqJXFxca5nCanYsOKNkAoIkpjExESZMmWKjB07VtavXy8FBQX6uezsbJk9e7a8/fbbsnjxYklJSdHXCSGEkFAAvzJ9+nR5/fXXZeXKlVqAAxDa5s2bJ2+++ab8+OOP5yVEhBBCSHmpVKmS/PDDD/LGG2/IkiVLdIEBQFEC8h74pZkzZ2r/w0kfEkmw4o2QCkh8fLw0b95cz+zMmjVL7Ha7tGjRQqpUqSILFy7UM0HHjx+X0aNHy8iRI8Vms7neSQghhJQdq9Wq/Q18DMQ1TPo0a9ZM0tPTZfny5fK///1PV13D/4waNYr+hxBCSMiAv0G12/z58+X06dPSuHFjqVmzpqxbt05Xum3cuFH7H7SEhATXuwip+FB4I6QCYlS8IflBtRtmeKpWrSr5+fnyxRdfyKpVq2TYsGHys5/9TItxhBBCSCiA/8HkD5KfrVu36ooDVCBgAghV2EiGBg8eLL/85S8lLS3N9S5CCCGk/MD/NGnSRDIzM3X+A5+ECZ5vv/1WZsyYIQMGDJDf/e53Oi8iJJKwOBWurwkhFZBvvvlG/va3vwluVYhxWVlZ0qVLF/ntb38r3bp1c72KEEIICS3fffedPPfcc3qJD5afogquZcuW8vTTT8vll1/uehUhhBASWubMmSMvvPCCHDp0SE/ynDhxQurWrSuoGerTp4/rVYREDtzjjZAKDirbrrnmGjly5MhPlW/Dhw+n6EYIISSsDBkyRK699lq9t9uiRYv0IT8333wzRTdCCCFhZeDAgdr/FBYW6m12UIAA/0PRjUQqFN4IqeDA0eDUuIyMDF1ujRNMO3fu7HqWEEIICQ/wPzg1DvvrwP9g79EePXq4niWEEELCA/wPfA6q3OB/GjVqJFdccYW+TkgkQuGNkArO/v375a233pK9e/fqpaY4yefzzz+X4uJi1ysIIYSQ0HPw4EG9mfW2bdt0tduCBQtk3LhxUlRU5HoFIYQQEnoOHz4sH330kaxZs0bvM4oTtv/73/8y/yERCw9XIKQCg+QGG1ijxPr+++/XJdfY423Tpk16v51OnTq5XkkIIYSEDvgf7OU2e/ZsufXWW+WWW27RJ83hwB9MAnG7A0IIIeEA4tqzzz4r06ZN07nPnXfeqQ+YW716ta5+43YHJBKh8EZIBaWkpERee+01GT9+vPTs2VMLb1dffbXe6wB7vWGzUWxyXa9ePdc7CCGEkNCAyoLPPvtMb3UA/zN06FB9Hf4Hp81hCWqDBg30NUIIISRUfPDBB/LJJ59I48aNZfTo0XL99dfrqmvsNbplyxbtf/AcIZEEhTdCKiAQ15YsWSJ//etf9bHa//d//ye9e/eWatWqSY0aNfRG1z/++KOcPHlS73eA6jdCCCGkvNjtdlm+fLmuNsAE0OOPP643uU5PT9d7jRYUFMisWbP0gT/9+vWTypUru95JCCGElI8VK1bo00xPnz4tDz74oJ70qV69uvZBAFvu7NmzR6688kpJTk7WFXCERAIU3gipYCDRQTXBH/7wB9m8ebM8+eSTct111/3kcKpUqSKpqal67x3M/MDh9OrVS6xWbtlICCGk7EB0QzX1M888I+vWrZOHH35Ybrrppp8OV4DIlpaWJseOHdOTP3h93759xWazub4DIYQQEjwOh0MXFPzxj3/U4tuoUaNk5MiRUqdOHe1/UGSAAgS8BuIbihSQ/yQkJFB8IxEBhTdCKhg4rQfiGxzQoEGD9L46tWrV+klYQ4IDx9OkSRNp1qyZtGjRQi85pfBGCCGkvEBMw/46AwYMkJtvvlnq16//k7CG/yG8NW3aVDf4ntatW9P/EEIIKTfwP6iqxmqe4cOH6+Wkhv+Bn0HhgeF/kP+0bdtWrwwiJBKwqCSfZ/ISQgghhBBCCCGEEBJiOEVJCCGEEEIIIYQQQkgYoPBGCCGEEEIIIYQQQkgYoPBGCCGEEEIIIYQQQkgYoPBGCCGEEEIIIYQQQkgYoPBGCCGEEEIIIYQQQkgYoPBGCCGEEEIIIYQQQkgYoPBGCCGEEEIIIYQQQkgYoPBGCCGEEEIIIYQQQkgYoPBGCCGEEEIIIYQQQkgYoPBGCCGEEEIIIYQQQkgYoPBGCCGEEEIIIYQQQkgYoPBGCCGEEEIIIYQQQkgYoPBGCCGEEEIIIYQQQkgYoPBGCCGEEEIIIYQQQkgYoPBGCCGEEEIIIYQQQkgYoPBGCCGEEEIIIYQQQkgYoPBGCCGEEEIIIYQQQkgYoPBGCCGEEEIIIYQQQkgYoPBGCCGEEEIIIYQQQkgYoPBGCCGEEEIIIYQQQkgYoPBGCCGEEEIIIYQQQkjIEfl/4Gj3tQffBU8AAAAASUVORK5CYII=)\n",
        "\n",
        "Each of these plots shows one of three different forms of correlation:\n",
        "\n",
        "1. Negative correlation (red dots): In the plot on the left, the y values tend to decrease as the x values increase. This shows strong negative correlation, which occurs when large values of one feature correspond to small values of the other, and vice versa.\n",
        "\n",
        "2. Weak or no correlation (green dots): The plot in the middle shows no obvious trend. This is a form of weak correlation, which occurs when an association between two features is not obvious or is hardly observable.\n",
        "\n",
        "3. Positive correlation (blue dots): In the plot on the right, the y values tend to increase as the x values increase. This illustrates strong positive correlation, which occurs when large values of one feature correspond to large values of the other, and vice versa.\n",
        "\n"
      ],
      "metadata": {
        "id": "1OQB2kiW4a5F"
      }
    },
    {
      "cell_type": "markdown",
      "source": [
        "##Linear Correlation\n",
        "Linear correlation measures the proximity of the mathematical relationship between variables or dataset features to a linear function. If the relationship between the two features is closer to some linear function, then their linear correlation is stronger and the absolute value of the correlation coefficient is higher"
      ],
      "metadata": {
        "id": "unLBx-B856sn"
      }
    },
    {
      "cell_type": "markdown",
      "source": [
        "### The Pearson (product-moment) correlation coefficient\n",
        "is a measure of the linear relationship between two features. It’s the ratio of the covariance of x and y to the product of their standard deviations. It’s often denoted with the letter r and called Pearson’s r. You can express this value mathematically with this equation:\n",
        "![image.png](data:image/png;base64,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)"
      ],
      "metadata": {
        "id": "6l9r8Ezt6Nhw"
      }
    },
    {
      "cell_type": "code",
      "source": [
        "x = np.arange(10, 20)\n",
        "y = np.array([2,1,4,5,8,12,18,96,48])"
      ],
      "metadata": {
        "colab": {
          "base_uri": "https://localhost:8080/",
          "height": 162
        },
        "id": "8JKWdmFH3dQn",
        "outputId": "0f6fff36-5eac-4834-9bb1-d4b3fd71671d"
      },
      "execution_count": 1,
      "outputs": [
        {
          "output_type": "error",
          "ename": "NameError",
          "evalue": "name 'np' is not defined",
          "traceback": [
            "\u001b[0;31m---------------------------------------------------------------------------\u001b[0m",
            "\u001b[0;31mNameError\u001b[0m                                 Traceback (most recent call last)",
            "\u001b[0;32m<ipython-input-1-58adc6c1e5ec>\u001b[0m in \u001b[0;36m<cell line: 1>\u001b[0;34m()\u001b[0m\n\u001b[0;32m----> 1\u001b[0;31m \u001b[0mx\u001b[0m \u001b[0;34m=\u001b[0m \u001b[0mnp\u001b[0m\u001b[0;34m.\u001b[0m\u001b[0marange\u001b[0m\u001b[0;34m(\u001b[0m\u001b[0;36m10\u001b[0m\u001b[0;34m,\u001b[0m \u001b[0;36m20\u001b[0m\u001b[0;34m)\u001b[0m\u001b[0;34m\u001b[0m\u001b[0;34m\u001b[0m\u001b[0m\n\u001b[0m\u001b[1;32m      2\u001b[0m \u001b[0my\u001b[0m \u001b[0;34m=\u001b[0m \u001b[0mnp\u001b[0m\u001b[0;34m.\u001b[0m\u001b[0marray\u001b[0m\u001b[0;34m(\u001b[0m\u001b[0;34m[\u001b[0m\u001b[0;36m2\u001b[0m\u001b[0;34m,\u001b[0m\u001b[0;36m1\u001b[0m\u001b[0;34m,\u001b[0m\u001b[0;36m4\u001b[0m\u001b[0;34m,\u001b[0m\u001b[0;36m5\u001b[0m\u001b[0;34m,\u001b[0m\u001b[0;36m8\u001b[0m\u001b[0;34m,\u001b[0m\u001b[0;36m12\u001b[0m\u001b[0;34m,\u001b[0m\u001b[0;36m18\u001b[0m\u001b[0;34m,\u001b[0m\u001b[0;36m96\u001b[0m\u001b[0;34m,\u001b[0m\u001b[0;36m48\u001b[0m\u001b[0;34m]\u001b[0m\u001b[0;34m)\u001b[0m\u001b[0;34m\u001b[0m\u001b[0;34m\u001b[0m\u001b[0m\n",
            "\u001b[0;31mNameError\u001b[0m: name 'np' is not defined"
          ]
        }
      ]
    },
    {
      "cell_type": "code",
      "source": [
        "r = np.corrcoef(x, y)\n",
        "#r[0, 1]\n",
        "#r[1, 0]"
      ],
      "metadata": {
        "id": "tFoUGUHt48r7"
      },
      "execution_count": null,
      "outputs": []
    },
    {
      "cell_type": "markdown",
      "source": [
        "The values on the main diagonal of the correlation matrix (upper left and lower right) are equal to 1. The upper left value corresponds to the correlation coefficient for x and x, while the lower right value is the correlation coefficient for y and y. They are always equal to 1.\n",
        "\n",
        "However, what you usually need are the lower left and upper right values of the correlation matrix. These values are equal and both represent the Pearson correlation coefficient for x and y. In this case, it’s approximately 0.76."
      ],
      "metadata": {
        "id": "LUSRihp95P3o"
      }
    },
    {
      "cell_type": "code",
      "source": [
        "import scipy.stats\n",
        "scipy.stats.pearsonr(x, y)    # Pearson's r"
      ],
      "metadata": {
        "id": "XUDhRgZh5Rok"
      },
      "execution_count": null,
      "outputs": []
    },
    {
      "cell_type": "code",
      "source": [
        "x.corr(y)                     # Pearson's r"
      ],
      "metadata": {
        "id": "22jNhmdi5fkw"
      },
      "execution_count": null,
      "outputs": []
    },
    {
      "cell_type": "code",
      "source": [],
      "metadata": {
        "id": "I90vOw7E5xOl"
      },
      "execution_count": null,
      "outputs": []
    },
    {
      "cell_type": "markdown",
      "source": [
        "# Introduction to skLearn Linear regression\n",
        "##Scikit-learn is an open source data analysis library, and the gold standard for Machine Learning (ML) in the Python ecosystem. Key concepts and features include:\n",
        "\n",
        "Algorithmic decision-making methods, including:\n",
        "\n",
        "\n",
        "*   Classification: identifying and categorizing data based on patterns.\n",
        "*   Regression: predicting or projecting data values based on the average mean of existing and planned data.\n",
        "*   Clustering: automatic grouping of similar data into datasets.\n",
        "\n",
        "Algorithms that support predictive analysis ranging from simple linear regression to neural network pattern recognition.\n",
        "\n",
        "Interoperability with NumPy, pandas, and matplotlib libraries.\n",
        "ML is a technology that enables computers to learn from input data and to build/train a predictive model without explicit programming. ML is a subset of Artificial Intelligence (AI).\n",
        "\n"
      ],
      "metadata": {
        "id": "VPSn6TaIL7Zj"
      }
    },
    {
      "cell_type": "markdown",
      "source": [
        "## Why Use SKLearn Liberary?\n",
        "### scikit-learn is both well-documented and easy to learn/use. As a high-level library, it lets you define a predictive data model in just a few lines of code, and then use that model to fit your data. It’s versatile and integrates well with other Python libraries, such as matplotlib for plotting, numpy for array vectorization, and pandas for dataframes."
      ],
      "metadata": {
        "id": "Btz79zxZZAvp"
      }
    },
    {
      "cell_type": "markdown",
      "source": [
        "# Linear Regression\n",
        " Linear Regression is a machine learning algorithm based on supervised learning. It performs a regression task. Regression models a target prediction value based on independent variables. It is mostly used for finding out the relationship between variables and forecasting."
      ],
      "metadata": {
        "id": "V1kTQNedNsSX"
      }
    },
    {
      "cell_type": "markdown",
      "source": [
        "## Simple Linear regression Algorithm Example\n",
        "It uses the slope-intercept form of a straight line, where:\n",
        "\n",
        "- m and b are variables that the algorithm uses to learn or create the most\n",
        "accurate predictive slope\n",
        "- x represents input data\n",
        "- y represents the prediction"
      ],
      "metadata": {
        "id": "jqwXjoLXZtG9"
      }
    },
    {
      "cell_type": "markdown",
      "source": [
        "### Step 2: Reading the dataset"
      ],
      "metadata": {
        "id": "Gj3w7TZETyP9"
      }
    },
    {
      "cell_type": "markdown",
      "source": [
        "Linear Regression [link text](https://www.geeksforgeeks.org/python-linear-regression-using-sklearn/)"
      ],
      "metadata": {
        "id": "Yyneltnr2_XQ"
      }
    },
    {
      "cell_type": "code",
      "source": [
        "from google.colab import files\n",
        "uploaded = files.upload()"
      ],
      "metadata": {
        "colab": {
          "base_uri": "https://localhost:8080/",
          "height": 73
        },
        "id": "hh9h3UZ-Nznf",
        "outputId": "0c02c4f7-0967-4e94-9665-3c923d15a493"
      },
      "execution_count": null,
      "outputs": [
        {
          "output_type": "display_data",
          "data": {
            "text/plain": [
              "<IPython.core.display.HTML object>"
            ],
            "text/html": [
              "\n",
              "     <input type=\"file\" id=\"files-bb3c6a4a-a47f-4761-b423-eddc440b0ee9\" name=\"files[]\" multiple disabled\n",
              "        style=\"border:none\" />\n",
              "     <output id=\"result-bb3c6a4a-a47f-4761-b423-eddc440b0ee9\">\n",
              "      Upload widget is only available when the cell has been executed in the\n",
              "      current browser session. Please rerun this cell to enable.\n",
              "      </output>\n",
              "      <script>// Copyright 2017 Google LLC\n",
              "//\n",
              "// Licensed under the Apache License, Version 2.0 (the \"License\");\n",
              "// you may not use this file except in compliance with the License.\n",
              "// You may obtain a copy of the License at\n",
              "//\n",
              "//      http://www.apache.org/licenses/LICENSE-2.0\n",
              "//\n",
              "// Unless required by applicable law or agreed to in writing, software\n",
              "// distributed under the License is distributed on an \"AS IS\" BASIS,\n",
              "// WITHOUT WARRANTIES OR CONDITIONS OF ANY KIND, either express or implied.\n",
              "// See the License for the specific language governing permissions and\n",
              "// limitations under the License.\n",
              "\n",
              "/**\n",
              " * @fileoverview Helpers for google.colab Python module.\n",
              " */\n",
              "(function(scope) {\n",
              "function span(text, styleAttributes = {}) {\n",
              "  const element = document.createElement('span');\n",
              "  element.textContent = text;\n",
              "  for (const key of Object.keys(styleAttributes)) {\n",
              "    element.style[key] = styleAttributes[key];\n",
              "  }\n",
              "  return element;\n",
              "}\n",
              "\n",
              "// Max number of bytes which will be uploaded at a time.\n",
              "const MAX_PAYLOAD_SIZE = 100 * 1024;\n",
              "\n",
              "function _uploadFiles(inputId, outputId) {\n",
              "  const steps = uploadFilesStep(inputId, outputId);\n",
              "  const outputElement = document.getElementById(outputId);\n",
              "  // Cache steps on the outputElement to make it available for the next call\n",
              "  // to uploadFilesContinue from Python.\n",
              "  outputElement.steps = steps;\n",
              "\n",
              "  return _uploadFilesContinue(outputId);\n",
              "}\n",
              "\n",
              "// This is roughly an async generator (not supported in the browser yet),\n",
              "// where there are multiple asynchronous steps and the Python side is going\n",
              "// to poll for completion of each step.\n",
              "// This uses a Promise to block the python side on completion of each step,\n",
              "// then passes the result of the previous step as the input to the next step.\n",
              "function _uploadFilesContinue(outputId) {\n",
              "  const outputElement = document.getElementById(outputId);\n",
              "  const steps = outputElement.steps;\n",
              "\n",
              "  const next = steps.next(outputElement.lastPromiseValue);\n",
              "  return Promise.resolve(next.value.promise).then((value) => {\n",
              "    // Cache the last promise value to make it available to the next\n",
              "    // step of the generator.\n",
              "    outputElement.lastPromiseValue = value;\n",
              "    return next.value.response;\n",
              "  });\n",
              "}\n",
              "\n",
              "/**\n",
              " * Generator function which is called between each async step of the upload\n",
              " * process.\n",
              " * @param {string} inputId Element ID of the input file picker element.\n",
              " * @param {string} outputId Element ID of the output display.\n",
              " * @return {!Iterable<!Object>} Iterable of next steps.\n",
              " */\n",
              "function* uploadFilesStep(inputId, outputId) {\n",
              "  const inputElement = document.getElementById(inputId);\n",
              "  inputElement.disabled = false;\n",
              "\n",
              "  const outputElement = document.getElementById(outputId);\n",
              "  outputElement.innerHTML = '';\n",
              "\n",
              "  const pickedPromise = new Promise((resolve) => {\n",
              "    inputElement.addEventListener('change', (e) => {\n",
              "      resolve(e.target.files);\n",
              "    });\n",
              "  });\n",
              "\n",
              "  const cancel = document.createElement('button');\n",
              "  inputElement.parentElement.appendChild(cancel);\n",
              "  cancel.textContent = 'Cancel upload';\n",
              "  const cancelPromise = new Promise((resolve) => {\n",
              "    cancel.onclick = () => {\n",
              "      resolve(null);\n",
              "    };\n",
              "  });\n",
              "\n",
              "  // Wait for the user to pick the files.\n",
              "  const files = yield {\n",
              "    promise: Promise.race([pickedPromise, cancelPromise]),\n",
              "    response: {\n",
              "      action: 'starting',\n",
              "    }\n",
              "  };\n",
              "\n",
              "  cancel.remove();\n",
              "\n",
              "  // Disable the input element since further picks are not allowed.\n",
              "  inputElement.disabled = true;\n",
              "\n",
              "  if (!files) {\n",
              "    return {\n",
              "      response: {\n",
              "        action: 'complete',\n",
              "      }\n",
              "    };\n",
              "  }\n",
              "\n",
              "  for (const file of files) {\n",
              "    const li = document.createElement('li');\n",
              "    li.append(span(file.name, {fontWeight: 'bold'}));\n",
              "    li.append(span(\n",
              "        `(${file.type || 'n/a'}) - ${file.size} bytes, ` +\n",
              "        `last modified: ${\n",
              "            file.lastModifiedDate ? file.lastModifiedDate.toLocaleDateString() :\n",
              "                                    'n/a'} - `));\n",
              "    const percent = span('0% done');\n",
              "    li.appendChild(percent);\n",
              "\n",
              "    outputElement.appendChild(li);\n",
              "\n",
              "    const fileDataPromise = new Promise((resolve) => {\n",
              "      const reader = new FileReader();\n",
              "      reader.onload = (e) => {\n",
              "        resolve(e.target.result);\n",
              "      };\n",
              "      reader.readAsArrayBuffer(file);\n",
              "    });\n",
              "    // Wait for the data to be ready.\n",
              "    let fileData = yield {\n",
              "      promise: fileDataPromise,\n",
              "      response: {\n",
              "        action: 'continue',\n",
              "      }\n",
              "    };\n",
              "\n",
              "    // Use a chunked sending to avoid message size limits. See b/62115660.\n",
              "    let position = 0;\n",
              "    do {\n",
              "      const length = Math.min(fileData.byteLength - position, MAX_PAYLOAD_SIZE);\n",
              "      const chunk = new Uint8Array(fileData, position, length);\n",
              "      position += length;\n",
              "\n",
              "      const base64 = btoa(String.fromCharCode.apply(null, chunk));\n",
              "      yield {\n",
              "        response: {\n",
              "          action: 'append',\n",
              "          file: file.name,\n",
              "          data: base64,\n",
              "        },\n",
              "      };\n",
              "\n",
              "      let percentDone = fileData.byteLength === 0 ?\n",
              "          100 :\n",
              "          Math.round((position / fileData.byteLength) * 100);\n",
              "      percent.textContent = `${percentDone}% done`;\n",
              "\n",
              "    } while (position < fileData.byteLength);\n",
              "  }\n",
              "\n",
              "  // All done.\n",
              "  yield {\n",
              "    response: {\n",
              "      action: 'complete',\n",
              "    }\n",
              "  };\n",
              "}\n",
              "\n",
              "scope.google = scope.google || {};\n",
              "scope.google.colab = scope.google.colab || {};\n",
              "scope.google.colab._files = {\n",
              "  _uploadFiles,\n",
              "  _uploadFilesContinue,\n",
              "};\n",
              "})(self);\n",
              "</script> "
            ]
          },
          "metadata": {}
        },
        {
          "output_type": "stream",
          "name": "stdout",
          "text": [
            "Saving bottle.csv to bottle.csv\n"
          ]
        }
      ]
    },
    {
      "cell_type": "code",
      "source": [
        "data = pd.read_csv('bottle.csv', on_bad_lines='skip')\n",
        "data.head(5)"
      ],
      "metadata": {
        "colab": {
          "base_uri": "https://localhost:8080/",
          "height": 802
        },
        "id": "MG8iDY5pR1BZ",
        "outputId": "6001f143-4a6e-4d25-847b-5572ae9679c0"
      },
      "execution_count": null,
      "outputs": [
        {
          "output_type": "stream",
          "name": "stderr",
          "text": [
            "/usr/local/lib/python3.9/dist-packages/IPython/core/interactiveshell.py:3326: DtypeWarning: Columns (47,73) have mixed types.Specify dtype option on import or set low_memory=False.\n",
            "  exec(code_obj, self.user_global_ns, self.user_ns)\n"
          ]
        },
        {
          "output_type": "execute_result",
          "data": {
            "text/plain": [
              "   Cst_Cnt  Btl_Cnt       Sta_ID                                Depth_ID  \\\n",
              "0        1        1  054.0 056.0  19-4903CR-HY-060-0930-05400560-0000A-3   \n",
              "1        1        2  054.0 056.0  19-4903CR-HY-060-0930-05400560-0008A-3   \n",
              "2        1        3  054.0 056.0  19-4903CR-HY-060-0930-05400560-0010A-7   \n",
              "3        1        4  054.0 056.0  19-4903CR-HY-060-0930-05400560-0019A-3   \n",
              "4        1        5  054.0 056.0  19-4903CR-HY-060-0930-05400560-0020A-7   \n",
              "\n",
              "   Depthm  T_degC  Salnty  O2ml_L  STheta  O2Sat  ...  R_PHAEO  R_PRES  \\\n",
              "0       0   10.50  33.440     NaN  25.649    NaN  ...      NaN       0   \n",
              "1       8   10.46  33.440     NaN  25.656    NaN  ...      NaN       8   \n",
              "2      10   10.46  33.437     NaN  25.654    NaN  ...      NaN      10   \n",
              "3      19   10.45  33.420     NaN  25.643    NaN  ...      NaN      19   \n",
              "4      20   10.45  33.421     NaN  25.643    NaN  ...      NaN      20   \n",
              "\n",
              "   R_SAMP  DIC1  DIC2  TA1  TA2  pH2  pH1  DIC Quality Comment  \n",
              "0     NaN   NaN   NaN  NaN  NaN  NaN  NaN                  NaN  \n",
              "1     NaN   NaN   NaN  NaN  NaN  NaN  NaN                  NaN  \n",
              "2     NaN   NaN   NaN  NaN  NaN  NaN  NaN                  NaN  \n",
              "3     NaN   NaN   NaN  NaN  NaN  NaN  NaN                  NaN  \n",
              "4     NaN   NaN   NaN  NaN  NaN  NaN  NaN                  NaN  \n",
              "\n",
              "[5 rows x 74 columns]"
            ],
            "text/html": [
              "\n",
              "  <div id=\"df-58c21f2b-b604-496e-83f5-68a7fd175bb5\">\n",
              "    <div class=\"colab-df-container\">\n",
              "      <div>\n",
              "<style scoped>\n",
              "    .dataframe tbody tr th:only-of-type {\n",
              "        vertical-align: middle;\n",
              "    }\n",
              "\n",
              "    .dataframe tbody tr th {\n",
              "        vertical-align: top;\n",
              "    }\n",
              "\n",
              "    .dataframe thead th {\n",
              "        text-align: right;\n",
              "    }\n",
              "</style>\n",
              "<table border=\"1\" class=\"dataframe\">\n",
              "  <thead>\n",
              "    <tr style=\"text-align: right;\">\n",
              "      <th></th>\n",
              "      <th>Cst_Cnt</th>\n",
              "      <th>Btl_Cnt</th>\n",
              "      <th>Sta_ID</th>\n",
              "      <th>Depth_ID</th>\n",
              "      <th>Depthm</th>\n",
              "      <th>T_degC</th>\n",
              "      <th>Salnty</th>\n",
              "      <th>O2ml_L</th>\n",
              "      <th>STheta</th>\n",
              "      <th>O2Sat</th>\n",
              "      <th>...</th>\n",
              "      <th>R_PHAEO</th>\n",
              "      <th>R_PRES</th>\n",
              "      <th>R_SAMP</th>\n",
              "      <th>DIC1</th>\n",
              "      <th>DIC2</th>\n",
              "      <th>TA1</th>\n",
              "      <th>TA2</th>\n",
              "      <th>pH2</th>\n",
              "      <th>pH1</th>\n",
              "      <th>DIC Quality Comment</th>\n",
              "    </tr>\n",
              "  </thead>\n",
              "  <tbody>\n",
              "    <tr>\n",
              "      <th>0</th>\n",
              "      <td>1</td>\n",
              "      <td>1</td>\n",
              "      <td>054.0 056.0</td>\n",
              "      <td>19-4903CR-HY-060-0930-05400560-0000A-3</td>\n",
              "      <td>0</td>\n",
              "      <td>10.50</td>\n",
              "      <td>33.440</td>\n",
              "      <td>NaN</td>\n",
              "      <td>25.649</td>\n",
              "      <td>NaN</td>\n",
              "      <td>...</td>\n",
              "      <td>NaN</td>\n",
              "      <td>0</td>\n",
              "      <td>NaN</td>\n",
              "      <td>NaN</td>\n",
              "      <td>NaN</td>\n",
              "      <td>NaN</td>\n",
              "      <td>NaN</td>\n",
              "      <td>NaN</td>\n",
              "      <td>NaN</td>\n",
              "      <td>NaN</td>\n",
              "    </tr>\n",
              "    <tr>\n",
              "      <th>1</th>\n",
              "      <td>1</td>\n",
              "      <td>2</td>\n",
              "      <td>054.0 056.0</td>\n",
              "      <td>19-4903CR-HY-060-0930-05400560-0008A-3</td>\n",
              "      <td>8</td>\n",
              "      <td>10.46</td>\n",
              "      <td>33.440</td>\n",
              "      <td>NaN</td>\n",
              "      <td>25.656</td>\n",
              "      <td>NaN</td>\n",
              "      <td>...</td>\n",
              "      <td>NaN</td>\n",
              "      <td>8</td>\n",
              "      <td>NaN</td>\n",
              "      <td>NaN</td>\n",
              "      <td>NaN</td>\n",
              "      <td>NaN</td>\n",
              "      <td>NaN</td>\n",
              "      <td>NaN</td>\n",
              "      <td>NaN</td>\n",
              "      <td>NaN</td>\n",
              "    </tr>\n",
              "    <tr>\n",
              "      <th>2</th>\n",
              "      <td>1</td>\n",
              "      <td>3</td>\n",
              "      <td>054.0 056.0</td>\n",
              "      <td>19-4903CR-HY-060-0930-05400560-0010A-7</td>\n",
              "      <td>10</td>\n",
              "      <td>10.46</td>\n",
              "      <td>33.437</td>\n",
              "      <td>NaN</td>\n",
              "      <td>25.654</td>\n",
              "      <td>NaN</td>\n",
              "      <td>...</td>\n",
              "      <td>NaN</td>\n",
              "      <td>10</td>\n",
              "      <td>NaN</td>\n",
              "      <td>NaN</td>\n",
              "      <td>NaN</td>\n",
              "      <td>NaN</td>\n",
              "      <td>NaN</td>\n",
              "      <td>NaN</td>\n",
              "      <td>NaN</td>\n",
              "      <td>NaN</td>\n",
              "    </tr>\n",
              "    <tr>\n",
              "      <th>3</th>\n",
              "      <td>1</td>\n",
              "      <td>4</td>\n",
              "      <td>054.0 056.0</td>\n",
              "      <td>19-4903CR-HY-060-0930-05400560-0019A-3</td>\n",
              "      <td>19</td>\n",
              "      <td>10.45</td>\n",
              "      <td>33.420</td>\n",
              "      <td>NaN</td>\n",
              "      <td>25.643</td>\n",
              "      <td>NaN</td>\n",
              "      <td>...</td>\n",
              "      <td>NaN</td>\n",
              "      <td>19</td>\n",
              "      <td>NaN</td>\n",
              "      <td>NaN</td>\n",
              "      <td>NaN</td>\n",
              "      <td>NaN</td>\n",
              "      <td>NaN</td>\n",
              "      <td>NaN</td>\n",
              "      <td>NaN</td>\n",
              "      <td>NaN</td>\n",
              "    </tr>\n",
              "    <tr>\n",
              "      <th>4</th>\n",
              "      <td>1</td>\n",
              "      <td>5</td>\n",
              "      <td>054.0 056.0</td>\n",
              "      <td>19-4903CR-HY-060-0930-05400560-0020A-7</td>\n",
              "      <td>20</td>\n",
              "      <td>10.45</td>\n",
              "      <td>33.421</td>\n",
              "      <td>NaN</td>\n",
              "      <td>25.643</td>\n",
              "      <td>NaN</td>\n",
              "      <td>...</td>\n",
              "      <td>NaN</td>\n",
              "      <td>20</td>\n",
              "      <td>NaN</td>\n",
              "      <td>NaN</td>\n",
              "      <td>NaN</td>\n",
              "      <td>NaN</td>\n",
              "      <td>NaN</td>\n",
              "      <td>NaN</td>\n",
              "      <td>NaN</td>\n",
              "      <td>NaN</td>\n",
              "    </tr>\n",
              "  </tbody>\n",
              "</table>\n",
              "<p>5 rows × 74 columns</p>\n",
              "</div>\n",
              "      <button class=\"colab-df-convert\" onclick=\"convertToInteractive('df-58c21f2b-b604-496e-83f5-68a7fd175bb5')\"\n",
              "              title=\"Convert this dataframe to an interactive table.\"\n",
              "              style=\"display:none;\">\n",
              "        \n",
              "  <svg xmlns=\"http://www.w3.org/2000/svg\" height=\"24px\"viewBox=\"0 0 24 24\"\n",
              "       width=\"24px\">\n",
              "    <path d=\"M0 0h24v24H0V0z\" fill=\"none\"/>\n",
              "    <path d=\"M18.56 5.44l.94 2.06.94-2.06 2.06-.94-2.06-.94-.94-2.06-.94 2.06-2.06.94zm-11 1L8.5 8.5l.94-2.06 2.06-.94-2.06-.94L8.5 2.5l-.94 2.06-2.06.94zm10 10l.94 2.06.94-2.06 2.06-.94-2.06-.94-.94-2.06-.94 2.06-2.06.94z\"/><path d=\"M17.41 7.96l-1.37-1.37c-.4-.4-.92-.59-1.43-.59-.52 0-1.04.2-1.43.59L10.3 9.45l-7.72 7.72c-.78.78-.78 2.05 0 2.83L4 21.41c.39.39.9.59 1.41.59.51 0 1.02-.2 1.41-.59l7.78-7.78 2.81-2.81c.8-.78.8-2.07 0-2.86zM5.41 20L4 18.59l7.72-7.72 1.47 1.35L5.41 20z\"/>\n",
              "  </svg>\n",
              "      </button>\n",
              "      \n",
              "  <style>\n",
              "    .colab-df-container {\n",
              "      display:flex;\n",
              "      flex-wrap:wrap;\n",
              "      gap: 12px;\n",
              "    }\n",
              "\n",
              "    .colab-df-convert {\n",
              "      background-color: #E8F0FE;\n",
              "      border: none;\n",
              "      border-radius: 50%;\n",
              "      cursor: pointer;\n",
              "      display: none;\n",
              "      fill: #1967D2;\n",
              "      height: 32px;\n",
              "      padding: 0 0 0 0;\n",
              "      width: 32px;\n",
              "    }\n",
              "\n",
              "    .colab-df-convert:hover {\n",
              "      background-color: #E2EBFA;\n",
              "      box-shadow: 0px 1px 2px rgba(60, 64, 67, 0.3), 0px 1px 3px 1px rgba(60, 64, 67, 0.15);\n",
              "      fill: #174EA6;\n",
              "    }\n",
              "\n",
              "    [theme=dark] .colab-df-convert {\n",
              "      background-color: #3B4455;\n",
              "      fill: #D2E3FC;\n",
              "    }\n",
              "\n",
              "    [theme=dark] .colab-df-convert:hover {\n",
              "      background-color: #434B5C;\n",
              "      box-shadow: 0px 1px 3px 1px rgba(0, 0, 0, 0.15);\n",
              "      filter: drop-shadow(0px 1px 2px rgba(0, 0, 0, 0.3));\n",
              "      fill: #FFFFFF;\n",
              "    }\n",
              "  </style>\n",
              "\n",
              "      <script>\n",
              "        const buttonEl =\n",
              "          document.querySelector('#df-58c21f2b-b604-496e-83f5-68a7fd175bb5 button.colab-df-convert');\n",
              "        buttonEl.style.display =\n",
              "          google.colab.kernel.accessAllowed ? 'block' : 'none';\n",
              "\n",
              "        async function convertToInteractive(key) {\n",
              "          const element = document.querySelector('#df-58c21f2b-b604-496e-83f5-68a7fd175bb5');\n",
              "          const dataTable =\n",
              "            await google.colab.kernel.invokeFunction('convertToInteractive',\n",
              "                                                     [key], {});\n",
              "          if (!dataTable) return;\n",
              "\n",
              "          const docLinkHtml = 'Like what you see? Visit the ' +\n",
              "            '<a target=\"_blank\" href=https://colab.research.google.com/notebooks/data_table.ipynb>data table notebook</a>'\n",
              "            + ' to learn more about interactive tables.';\n",
              "          element.innerHTML = '';\n",
              "          dataTable['output_type'] = 'display_data';\n",
              "          await google.colab.output.renderOutput(dataTable, element);\n",
              "          const docLink = document.createElement('div');\n",
              "          docLink.innerHTML = docLinkHtml;\n",
              "          element.appendChild(docLink);\n",
              "        }\n",
              "      </script>\n",
              "    </div>\n",
              "  </div>\n",
              "  "
            ]
          },
          "metadata": {},
          "execution_count": 11
        }
      ]
    },
    {
      "cell_type": "code",
      "source": [
        "df_binary = data[['Salnty', 'T_degC']]\n",
        "\n",
        "# Taking only the selected two attributes from the dataset\n",
        "df_binary.columns = ['Sal', 'Temp']\n",
        "#display the first 5 rows\n",
        "df_binary.head()"
      ],
      "metadata": {
        "colab": {
          "base_uri": "https://localhost:8080/",
          "height": 206
        },
        "id": "P3UEdC2MSMLW",
        "outputId": "621e40fc-aa8e-4cd3-dcc2-bfd4ec796fb7"
      },
      "execution_count": null,
      "outputs": [
        {
          "output_type": "execute_result",
          "data": {
            "text/plain": [
              "      Sal   Temp\n",
              "0  33.440  10.50\n",
              "1  33.440  10.46\n",
              "2  33.437  10.46\n",
              "3  33.420  10.45\n",
              "4  33.421  10.45"
            ],
            "text/html": [
              "\n",
              "  <div id=\"df-d3056940-63fa-48e8-a29c-855e318efa2b\">\n",
              "    <div class=\"colab-df-container\">\n",
              "      <div>\n",
              "<style scoped>\n",
              "    .dataframe tbody tr th:only-of-type {\n",
              "        vertical-align: middle;\n",
              "    }\n",
              "\n",
              "    .dataframe tbody tr th {\n",
              "        vertical-align: top;\n",
              "    }\n",
              "\n",
              "    .dataframe thead th {\n",
              "        text-align: right;\n",
              "    }\n",
              "</style>\n",
              "<table border=\"1\" class=\"dataframe\">\n",
              "  <thead>\n",
              "    <tr style=\"text-align: right;\">\n",
              "      <th></th>\n",
              "      <th>Sal</th>\n",
              "      <th>Temp</th>\n",
              "    </tr>\n",
              "  </thead>\n",
              "  <tbody>\n",
              "    <tr>\n",
              "      <th>0</th>\n",
              "      <td>33.440</td>\n",
              "      <td>10.50</td>\n",
              "    </tr>\n",
              "    <tr>\n",
              "      <th>1</th>\n",
              "      <td>33.440</td>\n",
              "      <td>10.46</td>\n",
              "    </tr>\n",
              "    <tr>\n",
              "      <th>2</th>\n",
              "      <td>33.437</td>\n",
              "      <td>10.46</td>\n",
              "    </tr>\n",
              "    <tr>\n",
              "      <th>3</th>\n",
              "      <td>33.420</td>\n",
              "      <td>10.45</td>\n",
              "    </tr>\n",
              "    <tr>\n",
              "      <th>4</th>\n",
              "      <td>33.421</td>\n",
              "      <td>10.45</td>\n",
              "    </tr>\n",
              "  </tbody>\n",
              "</table>\n",
              "</div>\n",
              "      <button class=\"colab-df-convert\" onclick=\"convertToInteractive('df-d3056940-63fa-48e8-a29c-855e318efa2b')\"\n",
              "              title=\"Convert this dataframe to an interactive table.\"\n",
              "              style=\"display:none;\">\n",
              "        \n",
              "  <svg xmlns=\"http://www.w3.org/2000/svg\" height=\"24px\"viewBox=\"0 0 24 24\"\n",
              "       width=\"24px\">\n",
              "    <path d=\"M0 0h24v24H0V0z\" fill=\"none\"/>\n",
              "    <path d=\"M18.56 5.44l.94 2.06.94-2.06 2.06-.94-2.06-.94-.94-2.06-.94 2.06-2.06.94zm-11 1L8.5 8.5l.94-2.06 2.06-.94-2.06-.94L8.5 2.5l-.94 2.06-2.06.94zm10 10l.94 2.06.94-2.06 2.06-.94-2.06-.94-.94-2.06-.94 2.06-2.06.94z\"/><path d=\"M17.41 7.96l-1.37-1.37c-.4-.4-.92-.59-1.43-.59-.52 0-1.04.2-1.43.59L10.3 9.45l-7.72 7.72c-.78.78-.78 2.05 0 2.83L4 21.41c.39.39.9.59 1.41.59.51 0 1.02-.2 1.41-.59l7.78-7.78 2.81-2.81c.8-.78.8-2.07 0-2.86zM5.41 20L4 18.59l7.72-7.72 1.47 1.35L5.41 20z\"/>\n",
              "  </svg>\n",
              "      </button>\n",
              "      \n",
              "  <style>\n",
              "    .colab-df-container {\n",
              "      display:flex;\n",
              "      flex-wrap:wrap;\n",
              "      gap: 12px;\n",
              "    }\n",
              "\n",
              "    .colab-df-convert {\n",
              "      background-color: #E8F0FE;\n",
              "      border: none;\n",
              "      border-radius: 50%;\n",
              "      cursor: pointer;\n",
              "      display: none;\n",
              "      fill: #1967D2;\n",
              "      height: 32px;\n",
              "      padding: 0 0 0 0;\n",
              "      width: 32px;\n",
              "    }\n",
              "\n",
              "    .colab-df-convert:hover {\n",
              "      background-color: #E2EBFA;\n",
              "      box-shadow: 0px 1px 2px rgba(60, 64, 67, 0.3), 0px 1px 3px 1px rgba(60, 64, 67, 0.15);\n",
              "      fill: #174EA6;\n",
              "    }\n",
              "\n",
              "    [theme=dark] .colab-df-convert {\n",
              "      background-color: #3B4455;\n",
              "      fill: #D2E3FC;\n",
              "    }\n",
              "\n",
              "    [theme=dark] .colab-df-convert:hover {\n",
              "      background-color: #434B5C;\n",
              "      box-shadow: 0px 1px 3px 1px rgba(0, 0, 0, 0.15);\n",
              "      filter: drop-shadow(0px 1px 2px rgba(0, 0, 0, 0.3));\n",
              "      fill: #FFFFFF;\n",
              "    }\n",
              "  </style>\n",
              "\n",
              "      <script>\n",
              "        const buttonEl =\n",
              "          document.querySelector('#df-d3056940-63fa-48e8-a29c-855e318efa2b button.colab-df-convert');\n",
              "        buttonEl.style.display =\n",
              "          google.colab.kernel.accessAllowed ? 'block' : 'none';\n",
              "\n",
              "        async function convertToInteractive(key) {\n",
              "          const element = document.querySelector('#df-d3056940-63fa-48e8-a29c-855e318efa2b');\n",
              "          const dataTable =\n",
              "            await google.colab.kernel.invokeFunction('convertToInteractive',\n",
              "                                                     [key], {});\n",
              "          if (!dataTable) return;\n",
              "\n",
              "          const docLinkHtml = 'Like what you see? Visit the ' +\n",
              "            '<a target=\"_blank\" href=https://colab.research.google.com/notebooks/data_table.ipynb>data table notebook</a>'\n",
              "            + ' to learn more about interactive tables.';\n",
              "          element.innerHTML = '';\n",
              "          dataTable['output_type'] = 'display_data';\n",
              "          await google.colab.output.renderOutput(dataTable, element);\n",
              "          const docLink = document.createElement('div');\n",
              "          docLink.innerHTML = docLinkHtml;\n",
              "          element.appendChild(docLink);\n",
              "        }\n",
              "      </script>\n",
              "    </div>\n",
              "  </div>\n",
              "  "
            ]
          },
          "metadata": {},
          "execution_count": 12
        }
      ]
    },
    {
      "cell_type": "markdown",
      "source": [
        "### Step 3: Exploring the data scatter"
      ],
      "metadata": {
        "id": "gK-ci1pHT4Wo"
      }
    },
    {
      "cell_type": "code",
      "source": [
        "#plotting the Scatter plot to check relationship between Sal and Temp\n",
        "sns.lmplot(x =\"Sal\", y =\"Temp\", data = df_binary, order = 2, ci = None)\n"
      ],
      "metadata": {
        "colab": {
          "base_uri": "https://localhost:8080/",
          "height": 386
        },
        "id": "NHfbXUdmSk00",
        "outputId": "d80805a8-0d34-4600-bc56-f4c65b42f191"
      },
      "execution_count": null,
      "outputs": [
        {
          "output_type": "execute_result",
          "data": {
            "text/plain": [
              "<seaborn.axisgrid.FacetGrid at 0x7fbb6695bf10>"
            ]
          },
          "metadata": {},
          "execution_count": 13
        },
        {
          "output_type": "display_data",
          "data": {
            "text/plain": [
              "<Figure size 360x360 with 1 Axes>"
            ],
            "image/png": "[encoded data removed]"
          },
          "metadata": {
            "needs_background": "light"
          }
        }
      ]
    },
    {
      "cell_type": "markdown",
      "source": [
        "### Step 4: Data cleaning\n",
        "\n"
      ],
      "metadata": {
        "id": "Cev9sFw7T7__"
      }
    },
    {
      "cell_type": "code",
      "source": [
        "# Eliminating NaN or missing input numbers\n",
        "#Fill NA/NaN values by propagating the last valid observation to next valid.\n",
        "\n",
        "df_binary.fillna(method ='ffill', inplace = True)\n"
      ],
      "metadata": {
        "colab": {
          "base_uri": "https://localhost:8080/"
        },
        "id": "c04j8zg3Snav",
        "outputId": "0ad70176-658e-45a8-849c-b9b999f3688e"
      },
      "execution_count": null,
      "outputs": [
        {
          "output_type": "stream",
          "name": "stderr",
          "text": [
            "/usr/local/lib/python3.9/dist-packages/pandas/core/frame.py:5176: SettingWithCopyWarning: \n",
            "A value is trying to be set on a copy of a slice from a DataFrame\n",
            "\n",
            "See the caveats in the documentation: https://pandas.pydata.org/pandas-docs/stable/user_guide/indexing.html#returning-a-view-versus-a-copy\n",
            "  return super().fillna(\n"
          ]
        }
      ]
    },
    {
      "cell_type": "markdown",
      "source": [
        "###   Step 5: Training our model\n",
        "\n"
      ],
      "metadata": {
        "id": "5wF8h3HyT_M4"
      }
    },
    {
      "cell_type": "code",
      "source": [
        "X = np.array(df_binary['Sal']).reshape(-1, 1)\n",
        "y = np.array(df_binary['Temp']).reshape(-1, 1)\n",
        "\n",
        "# Separating the data into independent and dependent variables\n",
        "# Converting each dataframe into a numpy array\n",
        "# since each dataframe contains only one column\n",
        "df_binary.dropna(inplace = True)\n",
        "\n",
        "# Dropping any rows with Nan values\n",
        "X_train, X_test, y_train, y_test = train_test_split(X, y, test_size = 0.25)\n",
        "\n",
        "# Splitting the data into training and testing data\n",
        "regr = LinearRegression()\n",
        "\n",
        "regr.fit(X_train, y_train)\n",
        "print(regr.score(X_test, y_test))\n"
      ],
      "metadata": {
        "colab": {
          "base_uri": "https://localhost:8080/"
        },
        "id": "_6NX_XUOSpEz",
        "outputId": "05f04ee3-e9b1-46ab-a225-b8ef361ec730"
      },
      "execution_count": null,
      "outputs": [
        {
          "output_type": "stream",
          "name": "stdout",
          "text": [
            "0.20268633660302982\n"
          ]
        },
        {
          "output_type": "stream",
          "name": "stderr",
          "text": [
            "/usr/local/lib/python3.9/dist-packages/pandas/util/_decorators.py:311: SettingWithCopyWarning: \n",
            "A value is trying to be set on a copy of a slice from a DataFrame\n",
            "\n",
            "See the caveats in the documentation: https://pandas.pydata.org/pandas-docs/stable/user_guide/indexing.html#returning-a-view-versus-a-copy\n",
            "  return func(*args, **kwargs)\n"
          ]
        }
      ]
    },
    {
      "cell_type": "markdown",
      "source": [
        "### Step 6: Exploring our results\n",
        "\n"
      ],
      "metadata": {
        "id": "WRgTYFIUSw6B"
      }
    },
    {
      "cell_type": "code",
      "source": [
        "y_pred = regr.predict(X_test)\n",
        "plt.scatter(X_test, y_test, color ='b')\n",
        "plt.plot(X_test, y_pred, color ='k')\n",
        "\n",
        "plt.show()\n",
        "# Data scatter of predicted values\n"
      ],
      "metadata": {
        "colab": {
          "base_uri": "https://localhost:8080/",
          "height": 265
        },
        "id": "QB3EoyTxSz1X",
        "outputId": "e70f6b43-49c4-4008-8b00-fb1bb353a0ee"
      },
      "execution_count": null,
      "outputs": [
        {
          "output_type": "display_data",
          "data": {
            "text/plain": [
              "<Figure size 432x288 with 1 Axes>"
            ],
            "image/png": "[encoded data removed]"
          },
          "metadata": {
            "needs_background": "light"
          }
        }
      ]
    },
    {
      "cell_type": "markdown",
      "source": [
        "The low accuracy score of our model suggests that our regressive model has not fit very well with the existing data. This suggests that our data is not suitable for linear regression. But sometimes, a dataset may accept a linear regressor if we consider only a part of it. Let us check for that possibility.   \n"
      ],
      "metadata": {
        "id": "-ODsz9K9S6n-"
      }
    },
    {
      "cell_type": "markdown",
      "source": [
        "### Step 7: Working with a smaller dataset"
      ],
      "metadata": {
        "id": "N5WdvYRXUGHM"
      }
    },
    {
      "cell_type": "code",
      "source": [
        "# working with a smaller dataset\n",
        "df_binary500 = df_binary[:][:500]"
      ],
      "metadata": {
        "id": "cdL7QYbFsfbt"
      },
      "execution_count": null,
      "outputs": []
    },
    {
      "cell_type": "markdown",
      "source": [
        "### lmplot\n",
        "Plots the data and regression model fits across a FacetGrid.\n",
        "\n",
        "This function combines regplot() and FacetGrid. It is intended as a convenient interface to fit regression models across conditional subsets of a dataset.\n",
        "\n"
      ],
      "metadata": {
        "id": "i6a5Lw89sgWQ"
      }
    },
    {
      "cell_type": "code",
      "source": [
        "# Selecting the 1st 500 rows of the data\n",
        "sns.lmplot(x =\"Sal\", y =\"Temp\", data = df_binary500,\n",
        "                               order = 2, ci = None)"
      ],
      "metadata": {
        "colab": {
          "base_uri": "https://localhost:8080/",
          "height": 386
        },
        "id": "AljJeo4YSuiU",
        "outputId": "e5c57c49-cc1f-4edd-c96b-17ed2381d4d8"
      },
      "execution_count": null,
      "outputs": [
        {
          "output_type": "execute_result",
          "data": {
            "text/plain": [
              "<seaborn.axisgrid.FacetGrid at 0x7fbb4ae17820>"
            ]
          },
          "metadata": {},
          "execution_count": 17
        },
        {
          "output_type": "display_data",
          "data": {
            "text/plain": [
              "<Figure size 360x360 with 1 Axes>"
            ],
            "image/png": "[encoded data removed]"
          },
          "metadata": {
            "needs_background": "light"
          }
        }
      ]
    },
    {
      "cell_type": "markdown",
      "source": [
        "We can already see that the first 500 rows follow a linear model. Continuing with the same steps as before.\n",
        "\n"
      ],
      "metadata": {
        "id": "-sSNhugCTI33"
      }
    },
    {
      "cell_type": "code",
      "source": [
        "df_binary500.fillna(method ='ffill', inplace = True)\n",
        "\n",
        "X = np.array(df_binary500['Sal']).reshape(-1, 1)\n",
        "y = np.array(df_binary500['Temp']).reshape(-1, 1)\n",
        "\n",
        "df_binary500.dropna(inplace = True)\n",
        "X_train, X_test, y_train, y_test = train_test_split(X, y, test_size = 0.25)\n",
        "\n",
        "regr = LinearRegression()\n",
        "regr.fit(X_train, y_train)\n",
        "print(regr.score(X_test, y_test))\n"
      ],
      "metadata": {
        "colab": {
          "base_uri": "https://localhost:8080/"
        },
        "id": "LFLxlsrFS05R",
        "outputId": "5962192b-6f27-4175-943e-e903b1fa228a"
      },
      "execution_count": null,
      "outputs": [
        {
          "output_type": "stream",
          "name": "stdout",
          "text": [
            "0.8372166537355276\n"
          ]
        }
      ]
    },
    {
      "cell_type": "code",
      "source": [
        "# exploring results again\n",
        "y_pred = regr.predict(X_test)\n",
        "plt.scatter(X_test, y_test, color ='b')\n",
        "plt.plot(X_test, y_pred, color ='k')\n",
        "\n",
        "plt.show()"
      ],
      "metadata": {
        "colab": {
          "base_uri": "https://localhost:8080/",
          "height": 265
        },
        "id": "vm_8j3v0TJUf",
        "outputId": "8b5f7127-18d3-42f9-a584-ae1ad2d6d7d4"
      },
      "execution_count": null,
      "outputs": [
        {
          "output_type": "display_data",
          "data": {
            "text/plain": [
              "<Figure size 432x288 with 1 Axes>"
            ],
            "image/png": "[encoded data removed]"
          },
          "metadata": {
            "needs_background": "light"
          }
        }
      ]
    },
    {
      "cell_type": "markdown",
      "source": [
        "### Step 8: Evaluation Metrics For Regression\n",
        "\n",
        "At last, we check the performance of the Linear Regression model with help of evaluation metrics. For Regression algorithms we widely use mean_absolute_error, and mean_squared_error metrics to check the model performance.\n"
      ],
      "metadata": {
        "id": "YFi-KyPETTk5"
      }
    },
    {
      "cell_type": "markdown",
      "source": [
        "\n",
        "\n",
        "1.   Mean Absolute Error (MAE):\n",
        "MAE measures the average absolute difference between the predicted values and the true values.\n",
        "It gives an idea of how wrong the predictions are on average.\n",
        "MAE is not sensitive to outliers because it considers absolute differences.\n",
        "\n",
        "2. Mean Squared Error (MSE):\n",
        "MSE measures the average squared difference between the predicted values and the true values.\n",
        "Squaring the differences penalizes larger errors more heavily, making MSE sensitive to outliers.\n",
        "MSE is commonly used in optimization algorithms because of its differentiability properties.\n",
        "\n",
        "3. Root Mean Squared Error (RMSE):\n",
        "RMSE is the square root of the MSE.\n",
        "It's essentially the square root of the average of squared differences between predicted and true values.\n",
        "RMSE is in the same unit as the dependent variable, making it interpretable in the context of the problem.\n",
        "\n",
        "\n",
        "Comparing these three metrics:\n",
        "\n",
        "- MAE, being the simplest, gives a straightforward average of absolute errors.\n",
        "- MSE and RMSE give more weight to larger errors due to squaring, making them sensitive to outliers.\n",
        "- RMSE, being the square root of MSE, gives an interpretable measure in the same units as the dependent variable."
      ],
      "metadata": {
        "id": "80TkAOGntCUT"
      }
    },
    {
      "cell_type": "code",
      "source": [
        "from sklearn.metrics import mean_absolute_error,mean_squared_error\n",
        "\n",
        "mae = mean_absolute_error(y_true=y_test,y_pred=y_pred)\n",
        "#squared True returns MSE value, False returns RMSE value.\n",
        "mse = mean_squared_error(y_true=y_test,y_pred=y_pred) #default=True\n",
        "rmse = mean_squared_error(y_true=y_test,y_pred=y_pred,squared=False)\n",
        "\n",
        "print(\"MAE:\",mae)\n",
        "print(\"MSE:\",mse)\n",
        "print(\"RMSE:\",rmse)\n"
      ],
      "metadata": {
        "colab": {
          "base_uri": "https://localhost:8080/"
        },
        "id": "QaaQf58hTZUH",
        "outputId": "8af2f6c7-3494-455b-d13f-43c1e3791648"
      },
      "execution_count": null,
      "outputs": [
        {
          "output_type": "stream",
          "name": "stdout",
          "text": [
            "MAE: 0.9293046793849914\n",
            "MSE: 1.3498751053737306\n",
            "RMSE: 1.1618412565293637\n"
          ]
        }
      ]
    }
  ]
}