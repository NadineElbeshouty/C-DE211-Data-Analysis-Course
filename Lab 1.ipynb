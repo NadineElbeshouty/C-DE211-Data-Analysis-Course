{
 "cells": [
  {
   "cell_type": "markdown",
   "id": "438dc8aa",
   "metadata": {},
   "source": [
    "# Taking input() and print() output"
   ]
  },
  {
   "cell_type": "code",
   "execution_count": 2,
   "id": "552a79c8",
   "metadata": {},
   "outputs": [
    {
     "name": "stdout",
     "output_type": "stream",
     "text": [
      "What's your name?mai ismail\n",
      "Hello mai ismail\n"
     ]
    }
   ],
   "source": [
    "name = input(\"What's your name?\")\n",
    "print(\"Hello \" + name)"
   ]
  },
  {
   "cell_type": "markdown",
   "id": "6293c1ad",
   "metadata": {},
   "source": [
    "# Arithmetic Operations"
   ]
  },
  {
   "cell_type": "code",
   "execution_count": 92,
   "id": "6a0de5fb",
   "metadata": {},
   "outputs": [
    {
     "name": "stdout",
     "output_type": "stream",
     "text": [
      "7\n",
      "1\n",
      "12\n",
      "64\n",
      "5.0\n",
      "1\n",
      "1.5\n"
     ]
    }
   ],
   "source": [
    "print(4+3)\n",
    "\n",
    "print(4-3)\n",
    "\n",
    "print(4*3)\n",
    "\n",
    "print(4**3)\n",
    "\n",
    "print(10/2)\n",
    "\n",
    "print(7//4)\n",
    "\n",
    "print(7.5%3)"
   ]
  },
  {
   "cell_type": "markdown",
   "id": "d589cbcd",
   "metadata": {},
   "source": [
    "# Condition: if elif else"
   ]
  },
  {
   "cell_type": "code",
   "execution_count": 85,
   "id": "998a02fd",
   "metadata": {},
   "outputs": [
    {
     "name": "stdout",
     "output_type": "stream",
     "text": [
      "Zero\n",
      "This statement is always executed\n"
     ]
    }
   ],
   "source": [
    "number = 0\n",
    "\n",
    "if number > 0:\n",
    "    print('Positive number')\n",
    "\n",
    "elif number <0:\n",
    "    print('Negative number')\n",
    "\n",
    "else:\n",
    "    print('Zero')\n",
    "\n",
    "print('This statement is always executed')"
   ]
  },
  {
   "cell_type": "markdown",
   "id": "09a7dadd",
   "metadata": {},
   "source": [
    "# Lists"
   ]
  },
  {
   "cell_type": "code",
   "execution_count": 61,
   "id": "8702ab60",
   "metadata": {},
   "outputs": [
    {
     "name": "stdout",
     "output_type": "stream",
     "text": [
      "['Learn python', 'Python for all', 'Intro to python']\n"
     ]
    }
   ],
   "source": [
    "programming_books = [\"Learn python\", \"Python for all\",  \"Intro to python\"]\n",
    "print (programming_books)"
   ]
  },
  {
   "cell_type": "code",
   "execution_count": 62,
   "id": "e14a8563",
   "metadata": {},
   "outputs": [
    {
     "name": "stdout",
     "output_type": "stream",
     "text": [
      "['ABC', 3.2, False]\n"
     ]
    }
   ],
   "source": [
    "# List can have different values\n",
    "lst = [\"ABC\", 3.2, False]\n",
    "print(lst)"
   ]
  },
  {
   "cell_type": "code",
   "execution_count": 94,
   "id": "ae061065",
   "metadata": {},
   "outputs": [
    {
     "name": "stdout",
     "output_type": "stream",
     "text": [
      "[2, 10, 7, 5, 0, 9]\n",
      "[2, 10, 9, 5, 0, 9]\n"
     ]
    }
   ],
   "source": [
    "numbers = [2, 10, 7, 5, 0, 9] \n",
    "print(numbers)\n",
    "numbers[2] = numbers[2]+2\n",
    "print(numbers)"
   ]
  },
  {
   "cell_type": "code",
   "execution_count": 63,
   "id": "77bd7535",
   "metadata": {},
   "outputs": [
    {
     "name": "stdout",
     "output_type": "stream",
     "text": [
      "Yes, we sell it!\n"
     ]
    }
   ],
   "source": [
    "# Check if value in list or not:\n",
    "\n",
    "if \"Learn python\" in programming_books:\n",
    "    print (\"Yes, we sell it!\")\n",
    "else:\n",
    "    print (\"Sorry, we don't sell that book\")"
   ]
  },
  {
   "cell_type": "code",
   "execution_count": 64,
   "id": "9c2fb727",
   "metadata": {},
   "outputs": [
    {
     "name": "stdout",
     "output_type": "stream",
     "text": [
      "['Learn python', 'Python for all', 'Intro to python', 'Think Python']\n"
     ]
    }
   ],
   "source": [
    "# adding new value to the end of the list\n",
    "\n",
    "programming_books.append(\"Think Python\")\n",
    "print (programming_books)"
   ]
  },
  {
   "cell_type": "code",
   "execution_count": 65,
   "id": "f22f0c1f",
   "metadata": {},
   "outputs": [],
   "source": [
    "# Student Note:\n",
    "#################\n",
    "# What if we want to add value already exists in the list, what will happen??????? THINK then ANSWER \n",
    "# Try to add \"Think Python\" again"
   ]
  },
  {
   "cell_type": "code",
   "execution_count": null,
   "id": "716c37e8",
   "metadata": {},
   "outputs": [],
   "source": []
  },
  {
   "cell_type": "code",
   "execution_count": 66,
   "id": "41b20f69",
   "metadata": {},
   "outputs": [
    {
     "name": "stdout",
     "output_type": "stream",
     "text": [
      "['Python for all', 'Intro to python', 'Think Python']\n"
     ]
    }
   ],
   "source": [
    "# Removing value from the list \n",
    "\n",
    "programming_books.remove(\"Learn python\")\n",
    "print (programming_books)"
   ]
  },
  {
   "cell_type": "code",
   "execution_count": 67,
   "id": "2d7b7862",
   "metadata": {},
   "outputs": [],
   "source": [
    "# Student Note:\n",
    "#################\n",
    "# What if we want to remove value not exists in the list, what will happen??????? THINK then ANSWER \n",
    "# Try to remove \"Learn python\" again"
   ]
  },
  {
   "cell_type": "code",
   "execution_count": null,
   "id": "1a41fa5c",
   "metadata": {},
   "outputs": [],
   "source": []
  },
  {
   "cell_type": "code",
   "execution_count": 68,
   "id": "0f507555",
   "metadata": {},
   "outputs": [
    {
     "name": "stdout",
     "output_type": "stream",
     "text": [
      "1\n"
     ]
    }
   ],
   "source": [
    "# Look at the position of a value in the list\n",
    "book_index = programming_books.index(\"Intro to python\")\n",
    "print(book_index)"
   ]
  },
  {
   "cell_type": "code",
   "execution_count": 69,
   "id": "0abc672c",
   "metadata": {},
   "outputs": [],
   "source": [
    "# Student Note:\n",
    "#################\n",
    "# What if we want to get position of value that exists in the list more than once, what will happen??????? THINK then ANSWER "
   ]
  },
  {
   "cell_type": "code",
   "execution_count": null,
   "id": "7d5da146",
   "metadata": {},
   "outputs": [],
   "source": []
  },
  {
   "cell_type": "code",
   "execution_count": 70,
   "id": "d7041d3a",
   "metadata": {},
   "outputs": [
    {
     "name": "stdout",
     "output_type": "stream",
     "text": [
      "['Python for all', 'Think Python']\n"
     ]
    }
   ],
   "source": [
    "# Remove value from the list with its position\n",
    "programming_books.pop(book_index)\n",
    "print (programming_books)\n"
   ]
  },
  {
   "cell_type": "code",
   "execution_count": 71,
   "id": "78fe2087",
   "metadata": {},
   "outputs": [
    {
     "name": "stdout",
     "output_type": "stream",
     "text": [
      "['Python for all', 'Think Python', 'Python Book']\n"
     ]
    }
   ],
   "source": [
    "# add value to the list in specific position\n",
    "programming_books.insert(2,\"Python Book\")\n",
    "print (programming_books)"
   ]
  },
  {
   "cell_type": "code",
   "execution_count": 72,
   "id": "22c10932",
   "metadata": {},
   "outputs": [
    {
     "name": "stdout",
     "output_type": "stream",
     "text": [
      "Think Python\n"
     ]
    }
   ],
   "source": [
    "# Slicing\n",
    "print (programming_books[1])"
   ]
  },
  {
   "cell_type": "code",
   "execution_count": 73,
   "id": "4eb67a9d",
   "metadata": {},
   "outputs": [
    {
     "name": "stdout",
     "output_type": "stream",
     "text": [
      "['Think Python']\n"
     ]
    }
   ],
   "source": [
    "print (programming_books[1:2])"
   ]
  },
  {
   "cell_type": "code",
   "execution_count": 74,
   "id": "27dc560a",
   "metadata": {},
   "outputs": [
    {
     "name": "stdout",
     "output_type": "stream",
     "text": [
      "['Think Python', 'Python Book']\n"
     ]
    }
   ],
   "source": [
    "print (programming_books[1:])"
   ]
  },
  {
   "cell_type": "code",
   "execution_count": 75,
   "id": "86c6d69e",
   "metadata": {},
   "outputs": [
    {
     "name": "stdout",
     "output_type": "stream",
     "text": [
      "['Python for all', 'Think Python']\n"
     ]
    }
   ],
   "source": [
    "print (programming_books[:2])"
   ]
  },
  {
   "cell_type": "code",
   "execution_count": 76,
   "id": "b7f2b77e",
   "metadata": {},
   "outputs": [
    {
     "name": "stdout",
     "output_type": "stream",
     "text": [
      "Python Book\n"
     ]
    }
   ],
   "source": [
    "print (programming_books[-1])"
   ]
  },
  {
   "cell_type": "code",
   "execution_count": 77,
   "id": "00649d20",
   "metadata": {},
   "outputs": [
    {
     "name": "stdout",
     "output_type": "stream",
     "text": [
      "['Python for all', 'Think Python']\n"
     ]
    }
   ],
   "source": [
    "print (programming_books[:-1])"
   ]
  },
  {
   "cell_type": "code",
   "execution_count": 78,
   "id": "2683377e",
   "metadata": {},
   "outputs": [
    {
     "name": "stdout",
     "output_type": "stream",
     "text": [
      "['Python Book', 'Think Python']\n"
     ]
    }
   ],
   "source": [
    "print (programming_books[2:0:-1])"
   ]
  },
  {
   "cell_type": "code",
   "execution_count": 79,
   "id": "54252c8a",
   "metadata": {},
   "outputs": [],
   "source": [
    "# Student Note:\n",
    "#################\n",
    "# What will happen if we write: \n",
    "# print (programming_books[::-1])"
   ]
  },
  {
   "cell_type": "code",
   "execution_count": 80,
   "id": "34efb83c",
   "metadata": {},
   "outputs": [
    {
     "name": "stdout",
     "output_type": "stream",
     "text": [
      "['Python for all', 'Think Python', 'python for Everyone']\n"
     ]
    }
   ],
   "source": [
    "programming_books[2] = \"python for Everyone\"\n",
    "print (programming_books)"
   ]
  },
  {
   "cell_type": "code",
   "execution_count": 81,
   "id": "3a445ec1",
   "metadata": {},
   "outputs": [
    {
     "name": "stdout",
     "output_type": "stream",
     "text": [
      "['Python for all', 'Think Python', 'python for Everyone', 'python Cookbook']\n"
     ]
    }
   ],
   "source": [
    "programming_books = programming_books + [\"python Cookbook\"]\n",
    "print (programming_books)"
   ]
  },
  {
   "cell_type": "code",
   "execution_count": 82,
   "id": "7430dd87",
   "metadata": {},
   "outputs": [
    {
     "name": "stdout",
     "output_type": "stream",
     "text": [
      "['Python for all', 'Think Python', 'python Cookbook']\n"
     ]
    }
   ],
   "source": [
    "del programming_books[2]\n",
    "print (programming_books)"
   ]
  },
  {
   "cell_type": "markdown",
   "id": "3056d75e",
   "metadata": {},
   "source": [
    "# for ... in range() "
   ]
  },
  {
   "cell_type": "code",
   "execution_count": 84,
   "id": "66b45d22",
   "metadata": {},
   "outputs": [
    {
     "name": "stdout",
     "output_type": "stream",
     "text": [
      "Python for all\n",
      "Think Python\n",
      "python Cookbook\n"
     ]
    }
   ],
   "source": [
    "for index in range (0,len(programming_books)):\n",
    "    print(programming_books[index])"
   ]
  },
  {
   "cell_type": "code",
   "execution_count": 86,
   "id": "e01d727b",
   "metadata": {},
   "outputs": [
    {
     "name": "stdout",
     "output_type": "stream",
     "text": [
      "Python for all\n",
      "python Cookbook\n"
     ]
    }
   ],
   "source": [
    "# Print all books except \"'Think Python'\"\n",
    "for index in range (0,len(programming_books)):\n",
    "    if programming_books[index] == 'Think Python':\n",
    "        continue\n",
    "    else:\n",
    "        print(programming_books[index])"
   ]
  },
  {
   "cell_type": "markdown",
   "id": "53b7a18a",
   "metadata": {},
   "source": [
    "# Dictionary"
   ]
  },
  {
   "cell_type": "code",
   "execution_count": 97,
   "id": "28a5adb5",
   "metadata": {},
   "outputs": [
    {
     "name": "stdout",
     "output_type": "stream",
     "text": [
      "{'brand': 'Ford', 'electric': False, 'year': 1964, 'colors': ['red', 'white', 'blue']}\n"
     ]
    }
   ],
   "source": [
    "my_dict = {\n",
    "  \"brand\": \"Ford\",\n",
    "  \"electric\": False,\n",
    "  \"year\": 1964,\n",
    "  \"colors\": [\"red\", \"white\", \"blue\"]\n",
    "}\n",
    "print(my_dict)"
   ]
  },
  {
   "cell_type": "code",
   "execution_count": 98,
   "id": "9cfcd301",
   "metadata": {},
   "outputs": [
    {
     "name": "stdout",
     "output_type": "stream",
     "text": [
      "[{'name': 'China', 'capital': 'Bejing'}, {'name': 'France', 'capital': 'Paris'}]\n"
     ]
    }
   ],
   "source": [
    "# List of dictionaries\n",
    "countries = [{\"name\": \"China\", \"capital\": \"Bejing\"},\n",
    "             {\"name\": \"France\", \"capital\": \"Paris\"},]\n",
    "print (countries)"
   ]
  },
  {
   "cell_type": "code",
   "execution_count": 99,
   "id": "e73a3ce8",
   "metadata": {},
   "outputs": [
    {
     "name": "stdout",
     "output_type": "stream",
     "text": [
      "[{'name': 'China', 'capital': 'Bejing'}, {'name': 'France', 'capital': 'Paris'}, {'name': 'Brazil', 'capital': 'Brasilia'}]\n"
     ]
    }
   ],
   "source": [
    "countries.append({\"name\": \"Brazil\", \"capital\": \"Brasilia\"})\n",
    "print (countries)"
   ]
  },
  {
   "cell_type": "code",
   "execution_count": 100,
   "id": "1460b0ee",
   "metadata": {},
   "outputs": [
    {
     "name": "stdout",
     "output_type": "stream",
     "text": [
      "{'name': 'China', 'capital': 'Bejing'}\n",
      "{'name': 'France', 'capital': 'Paris'}\n",
      "{'name': 'Brazil', 'capital': 'Brasilia'}\n"
     ]
    }
   ],
   "source": [
    "for country in countries:\n",
    "    print (country)"
   ]
  },
  {
   "cell_type": "code",
   "execution_count": 101,
   "id": "898ebedf",
   "metadata": {},
   "outputs": [
    {
     "name": "stdout",
     "output_type": "stream",
     "text": [
      "China\n",
      "France\n",
      "Brazil\n"
     ]
    }
   ],
   "source": [
    "for country in countries:\n",
    "    print (country[\"name\"])"
   ]
  },
  {
   "cell_type": "code",
   "execution_count": null,
   "id": "624bd80e",
   "metadata": {},
   "outputs": [],
   "source": []
  },
  {
   "cell_type": "markdown",
   "id": "866df179",
   "metadata": {},
   "source": [
    "# Functions"
   ]
  },
  {
   "cell_type": "code",
   "execution_count": null,
   "id": "24fcfe5d",
   "metadata": {},
   "outputs": [],
   "source": [
    "def fun_name(par):\n",
    "    '''Function Body'''\n",
    "    return                  # if needed"
   ]
  },
  {
   "cell_type": "code",
   "execution_count": null,
   "id": "aa6f9a14",
   "metadata": {},
   "outputs": [],
   "source": []
  }
 ],
 "metadata": {
  "kernelspec": {
   "display_name": "Python 3 (ipykernel)",
   "language": "python",
   "name": "python3"
  },
  "language_info": {
   "codemirror_mode": {
    "name": "ipython",
    "version": 3
   },
   "file_extension": ".py",
   "mimetype": "text/x-python",
   "name": "python",
   "nbconvert_exporter": "python",
   "pygments_lexer": "ipython3",
   "version": "3.9.7"
  }
 },
 "nbformat": 4,
 "nbformat_minor": 5
}
